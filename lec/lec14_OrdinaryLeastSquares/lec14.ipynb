{
 "cells": [
  {
   "cell_type": "markdown",
   "metadata": {},
   "source": [
    "# Lecture 14 – Data 100, Fall 2021\n",
    "\n",
    "**by Suraj Rampure**"
   ]
  },
  {
   "cell_type": "code",
   "execution_count": 1,
   "metadata": {},
   "outputs": [],
   "source": [
    "import pandas as pd\n",
    "import numpy as np\n",
    "import matplotlib.pyplot as plt\n",
    "import sklearn.linear_model as lm\n",
    "\n",
    "import plotly.express as px\n",
    "import plotly.graph_objects as go\n",
    "\n",
    "import seaborn as sns"
   ]
  },
  {
   "cell_type": "code",
   "execution_count": 2,
   "metadata": {},
   "outputs": [],
   "source": [
    "nba = pd.read_csv('nba18-19.csv')"
   ]
  },
  {
   "cell_type": "code",
   "execution_count": 3,
   "metadata": {
    "scrolled": true
   },
   "outputs": [
    {
     "data": {
      "text/html": [
       "<div>\n",
       "<style scoped>\n",
       "    .dataframe tbody tr th:only-of-type {\n",
       "        vertical-align: middle;\n",
       "    }\n",
       "\n",
       "    .dataframe tbody tr th {\n",
       "        vertical-align: top;\n",
       "    }\n",
       "\n",
       "    .dataframe thead th {\n",
       "        text-align: right;\n",
       "    }\n",
       "</style>\n",
       "<table border=\"1\" class=\"dataframe\">\n",
       "  <thead>\n",
       "    <tr style=\"text-align: right;\">\n",
       "      <th></th>\n",
       "      <th>Rk</th>\n",
       "      <th>Player</th>\n",
       "      <th>Pos</th>\n",
       "      <th>Age</th>\n",
       "      <th>Tm</th>\n",
       "      <th>G</th>\n",
       "      <th>GS</th>\n",
       "      <th>MP</th>\n",
       "      <th>FG</th>\n",
       "      <th>FGA</th>\n",
       "      <th>...</th>\n",
       "      <th>FT%</th>\n",
       "      <th>ORB</th>\n",
       "      <th>DRB</th>\n",
       "      <th>TRB</th>\n",
       "      <th>AST</th>\n",
       "      <th>STL</th>\n",
       "      <th>BLK</th>\n",
       "      <th>TOV</th>\n",
       "      <th>PF</th>\n",
       "      <th>PTS</th>\n",
       "    </tr>\n",
       "  </thead>\n",
       "  <tbody>\n",
       "    <tr>\n",
       "      <th>0</th>\n",
       "      <td>1</td>\n",
       "      <td>Álex Abrines\\abrinal01</td>\n",
       "      <td>SG</td>\n",
       "      <td>25</td>\n",
       "      <td>OKC</td>\n",
       "      <td>31</td>\n",
       "      <td>2</td>\n",
       "      <td>19.0</td>\n",
       "      <td>1.8</td>\n",
       "      <td>5.1</td>\n",
       "      <td>...</td>\n",
       "      <td>0.923</td>\n",
       "      <td>0.2</td>\n",
       "      <td>1.4</td>\n",
       "      <td>1.5</td>\n",
       "      <td>0.6</td>\n",
       "      <td>0.5</td>\n",
       "      <td>0.2</td>\n",
       "      <td>0.5</td>\n",
       "      <td>1.7</td>\n",
       "      <td>5.3</td>\n",
       "    </tr>\n",
       "    <tr>\n",
       "      <th>1</th>\n",
       "      <td>2</td>\n",
       "      <td>Quincy Acy\\acyqu01</td>\n",
       "      <td>PF</td>\n",
       "      <td>28</td>\n",
       "      <td>PHO</td>\n",
       "      <td>10</td>\n",
       "      <td>0</td>\n",
       "      <td>12.3</td>\n",
       "      <td>0.4</td>\n",
       "      <td>1.8</td>\n",
       "      <td>...</td>\n",
       "      <td>0.700</td>\n",
       "      <td>0.3</td>\n",
       "      <td>2.2</td>\n",
       "      <td>2.5</td>\n",
       "      <td>0.8</td>\n",
       "      <td>0.1</td>\n",
       "      <td>0.4</td>\n",
       "      <td>0.4</td>\n",
       "      <td>2.4</td>\n",
       "      <td>1.7</td>\n",
       "    </tr>\n",
       "    <tr>\n",
       "      <th>2</th>\n",
       "      <td>3</td>\n",
       "      <td>Jaylen Adams\\adamsja01</td>\n",
       "      <td>PG</td>\n",
       "      <td>22</td>\n",
       "      <td>ATL</td>\n",
       "      <td>34</td>\n",
       "      <td>1</td>\n",
       "      <td>12.6</td>\n",
       "      <td>1.1</td>\n",
       "      <td>3.2</td>\n",
       "      <td>...</td>\n",
       "      <td>0.778</td>\n",
       "      <td>0.3</td>\n",
       "      <td>1.4</td>\n",
       "      <td>1.8</td>\n",
       "      <td>1.9</td>\n",
       "      <td>0.4</td>\n",
       "      <td>0.1</td>\n",
       "      <td>0.8</td>\n",
       "      <td>1.3</td>\n",
       "      <td>3.2</td>\n",
       "    </tr>\n",
       "    <tr>\n",
       "      <th>3</th>\n",
       "      <td>4</td>\n",
       "      <td>Steven Adams\\adamsst01</td>\n",
       "      <td>C</td>\n",
       "      <td>25</td>\n",
       "      <td>OKC</td>\n",
       "      <td>80</td>\n",
       "      <td>80</td>\n",
       "      <td>33.4</td>\n",
       "      <td>6.0</td>\n",
       "      <td>10.1</td>\n",
       "      <td>...</td>\n",
       "      <td>0.500</td>\n",
       "      <td>4.9</td>\n",
       "      <td>4.6</td>\n",
       "      <td>9.5</td>\n",
       "      <td>1.6</td>\n",
       "      <td>1.5</td>\n",
       "      <td>1.0</td>\n",
       "      <td>1.7</td>\n",
       "      <td>2.6</td>\n",
       "      <td>13.9</td>\n",
       "    </tr>\n",
       "    <tr>\n",
       "      <th>4</th>\n",
       "      <td>5</td>\n",
       "      <td>Bam Adebayo\\adebaba01</td>\n",
       "      <td>C</td>\n",
       "      <td>21</td>\n",
       "      <td>MIA</td>\n",
       "      <td>82</td>\n",
       "      <td>28</td>\n",
       "      <td>23.3</td>\n",
       "      <td>3.4</td>\n",
       "      <td>5.9</td>\n",
       "      <td>...</td>\n",
       "      <td>0.735</td>\n",
       "      <td>2.0</td>\n",
       "      <td>5.3</td>\n",
       "      <td>7.3</td>\n",
       "      <td>2.2</td>\n",
       "      <td>0.9</td>\n",
       "      <td>0.8</td>\n",
       "      <td>1.5</td>\n",
       "      <td>2.5</td>\n",
       "      <td>8.9</td>\n",
       "    </tr>\n",
       "    <tr>\n",
       "      <th>...</th>\n",
       "      <td>...</td>\n",
       "      <td>...</td>\n",
       "      <td>...</td>\n",
       "      <td>...</td>\n",
       "      <td>...</td>\n",
       "      <td>...</td>\n",
       "      <td>...</td>\n",
       "      <td>...</td>\n",
       "      <td>...</td>\n",
       "      <td>...</td>\n",
       "      <td>...</td>\n",
       "      <td>...</td>\n",
       "      <td>...</td>\n",
       "      <td>...</td>\n",
       "      <td>...</td>\n",
       "      <td>...</td>\n",
       "      <td>...</td>\n",
       "      <td>...</td>\n",
       "      <td>...</td>\n",
       "      <td>...</td>\n",
       "      <td>...</td>\n",
       "    </tr>\n",
       "    <tr>\n",
       "      <th>703</th>\n",
       "      <td>528</td>\n",
       "      <td>Tyler Zeller\\zellety01</td>\n",
       "      <td>C</td>\n",
       "      <td>29</td>\n",
       "      <td>MEM</td>\n",
       "      <td>4</td>\n",
       "      <td>1</td>\n",
       "      <td>20.5</td>\n",
       "      <td>4.0</td>\n",
       "      <td>7.0</td>\n",
       "      <td>...</td>\n",
       "      <td>0.778</td>\n",
       "      <td>2.3</td>\n",
       "      <td>2.3</td>\n",
       "      <td>4.5</td>\n",
       "      <td>0.8</td>\n",
       "      <td>0.3</td>\n",
       "      <td>0.8</td>\n",
       "      <td>1.0</td>\n",
       "      <td>4.0</td>\n",
       "      <td>11.5</td>\n",
       "    </tr>\n",
       "    <tr>\n",
       "      <th>704</th>\n",
       "      <td>529</td>\n",
       "      <td>Ante Žižić\\zizican01</td>\n",
       "      <td>C</td>\n",
       "      <td>22</td>\n",
       "      <td>CLE</td>\n",
       "      <td>59</td>\n",
       "      <td>25</td>\n",
       "      <td>18.3</td>\n",
       "      <td>3.1</td>\n",
       "      <td>5.6</td>\n",
       "      <td>...</td>\n",
       "      <td>0.705</td>\n",
       "      <td>1.8</td>\n",
       "      <td>3.6</td>\n",
       "      <td>5.4</td>\n",
       "      <td>0.9</td>\n",
       "      <td>0.2</td>\n",
       "      <td>0.4</td>\n",
       "      <td>1.0</td>\n",
       "      <td>1.9</td>\n",
       "      <td>7.8</td>\n",
       "    </tr>\n",
       "    <tr>\n",
       "      <th>705</th>\n",
       "      <td>530</td>\n",
       "      <td>Ivica Zubac\\zubaciv01</td>\n",
       "      <td>C</td>\n",
       "      <td>21</td>\n",
       "      <td>TOT</td>\n",
       "      <td>59</td>\n",
       "      <td>37</td>\n",
       "      <td>17.6</td>\n",
       "      <td>3.6</td>\n",
       "      <td>6.4</td>\n",
       "      <td>...</td>\n",
       "      <td>0.802</td>\n",
       "      <td>1.9</td>\n",
       "      <td>4.2</td>\n",
       "      <td>6.1</td>\n",
       "      <td>1.1</td>\n",
       "      <td>0.2</td>\n",
       "      <td>0.9</td>\n",
       "      <td>1.2</td>\n",
       "      <td>2.3</td>\n",
       "      <td>8.9</td>\n",
       "    </tr>\n",
       "    <tr>\n",
       "      <th>706</th>\n",
       "      <td>530</td>\n",
       "      <td>Ivica Zubac\\zubaciv01</td>\n",
       "      <td>C</td>\n",
       "      <td>21</td>\n",
       "      <td>LAL</td>\n",
       "      <td>33</td>\n",
       "      <td>12</td>\n",
       "      <td>15.6</td>\n",
       "      <td>3.4</td>\n",
       "      <td>5.8</td>\n",
       "      <td>...</td>\n",
       "      <td>0.864</td>\n",
       "      <td>1.6</td>\n",
       "      <td>3.3</td>\n",
       "      <td>4.9</td>\n",
       "      <td>0.8</td>\n",
       "      <td>0.1</td>\n",
       "      <td>0.8</td>\n",
       "      <td>1.0</td>\n",
       "      <td>2.2</td>\n",
       "      <td>8.5</td>\n",
       "    </tr>\n",
       "    <tr>\n",
       "      <th>707</th>\n",
       "      <td>530</td>\n",
       "      <td>Ivica Zubac\\zubaciv01</td>\n",
       "      <td>C</td>\n",
       "      <td>21</td>\n",
       "      <td>LAC</td>\n",
       "      <td>26</td>\n",
       "      <td>25</td>\n",
       "      <td>20.2</td>\n",
       "      <td>3.8</td>\n",
       "      <td>7.2</td>\n",
       "      <td>...</td>\n",
       "      <td>0.733</td>\n",
       "      <td>2.3</td>\n",
       "      <td>5.3</td>\n",
       "      <td>7.7</td>\n",
       "      <td>1.5</td>\n",
       "      <td>0.4</td>\n",
       "      <td>0.9</td>\n",
       "      <td>1.4</td>\n",
       "      <td>2.5</td>\n",
       "      <td>9.4</td>\n",
       "    </tr>\n",
       "  </tbody>\n",
       "</table>\n",
       "<p>708 rows × 30 columns</p>\n",
       "</div>"
      ],
      "text/plain": [
       "      Rk                  Player Pos  Age   Tm   G  GS    MP   FG   FGA  ...  \\\n",
       "0      1  Álex Abrines\\abrinal01  SG   25  OKC  31   2  19.0  1.8   5.1  ...   \n",
       "1      2      Quincy Acy\\acyqu01  PF   28  PHO  10   0  12.3  0.4   1.8  ...   \n",
       "2      3  Jaylen Adams\\adamsja01  PG   22  ATL  34   1  12.6  1.1   3.2  ...   \n",
       "3      4  Steven Adams\\adamsst01   C   25  OKC  80  80  33.4  6.0  10.1  ...   \n",
       "4      5   Bam Adebayo\\adebaba01   C   21  MIA  82  28  23.3  3.4   5.9  ...   \n",
       "..   ...                     ...  ..  ...  ...  ..  ..   ...  ...   ...  ...   \n",
       "703  528  Tyler Zeller\\zellety01   C   29  MEM   4   1  20.5  4.0   7.0  ...   \n",
       "704  529    Ante Žižić\\zizican01   C   22  CLE  59  25  18.3  3.1   5.6  ...   \n",
       "705  530   Ivica Zubac\\zubaciv01   C   21  TOT  59  37  17.6  3.6   6.4  ...   \n",
       "706  530   Ivica Zubac\\zubaciv01   C   21  LAL  33  12  15.6  3.4   5.8  ...   \n",
       "707  530   Ivica Zubac\\zubaciv01   C   21  LAC  26  25  20.2  3.8   7.2  ...   \n",
       "\n",
       "       FT%  ORB  DRB  TRB  AST  STL  BLK  TOV   PF   PTS  \n",
       "0    0.923  0.2  1.4  1.5  0.6  0.5  0.2  0.5  1.7   5.3  \n",
       "1    0.700  0.3  2.2  2.5  0.8  0.1  0.4  0.4  2.4   1.7  \n",
       "2    0.778  0.3  1.4  1.8  1.9  0.4  0.1  0.8  1.3   3.2  \n",
       "3    0.500  4.9  4.6  9.5  1.6  1.5  1.0  1.7  2.6  13.9  \n",
       "4    0.735  2.0  5.3  7.3  2.2  0.9  0.8  1.5  2.5   8.9  \n",
       "..     ...  ...  ...  ...  ...  ...  ...  ...  ...   ...  \n",
       "703  0.778  2.3  2.3  4.5  0.8  0.3  0.8  1.0  4.0  11.5  \n",
       "704  0.705  1.8  3.6  5.4  0.9  0.2  0.4  1.0  1.9   7.8  \n",
       "705  0.802  1.9  4.2  6.1  1.1  0.2  0.9  1.2  2.3   8.9  \n",
       "706  0.864  1.6  3.3  4.9  0.8  0.1  0.8  1.0  2.2   8.5  \n",
       "707  0.733  2.3  5.3  7.7  1.5  0.4  0.9  1.4  2.5   9.4  \n",
       "\n",
       "[708 rows x 30 columns]"
      ]
     },
     "execution_count": 3,
     "metadata": {},
     "output_type": "execute_result"
    }
   ],
   "source": [
    "nba"
   ]
  },
  {
   "cell_type": "markdown",
   "metadata": {},
   "source": [
    "## Recap from Lecture 12"
   ]
  },
  {
   "cell_type": "markdown",
   "metadata": {},
   "source": [
    "In the last lecture, we used this magical package `sklearn` to determine the optimal value of $\\hat{\\theta}$ for a linear model that uses `AST` and `3PA` to predict `PTS`. (The usage of `sklearn` will be covered in the next lecture.)\n",
    "\n",
    "Note: We didn't actually cover this part in the video, but it was in the notebook."
   ]
  },
  {
   "cell_type": "code",
   "execution_count": 4,
   "metadata": {},
   "outputs": [],
   "source": [
    "model = lm.LinearRegression(fit_intercept = True)\n",
    "\n",
    "model.fit(nba[['AST', '3PA']], nba['PTS']);"
   ]
  },
  {
   "cell_type": "markdown",
   "metadata": {},
   "source": [
    "We then looked at the values of the coefficients:"
   ]
  },
  {
   "cell_type": "code",
   "execution_count": 5,
   "metadata": {},
   "outputs": [
    {
     "data": {
      "text/plain": [
       "array([1.64065507, 1.25758096])"
      ]
     },
     "execution_count": 5,
     "metadata": {},
     "output_type": "execute_result"
    }
   ],
   "source": [
    "model.coef_"
   ]
  },
  {
   "cell_type": "code",
   "execution_count": 6,
   "metadata": {},
   "outputs": [
    {
     "data": {
      "text/plain": [
       "2.156347047514834"
      ]
     },
     "execution_count": 6,
     "metadata": {},
     "output_type": "execute_result"
    }
   ],
   "source": [
    "model.intercept_"
   ]
  },
  {
   "cell_type": "markdown",
   "metadata": {},
   "source": [
    "This meant our model was of the form\n",
    "\n",
    "$$\\text{predicted PTS} = 2.1563 + 1.6407 \\cdot \\text{AST} + 1.2576 \\cdot \\text{3PA}$$"
   ]
  },
  {
   "cell_type": "markdown",
   "metadata": {},
   "source": [
    "## Using `np.linalg.inv` to solve for optimal $\\hat{\\theta}$"
   ]
  },
  {
   "cell_type": "markdown",
   "metadata": {},
   "source": [
    "We will now use what we know about the solution to the normal equations to determine $\\hat{\\theta}$ on our own, by hand. We know that for the ordinary least squares model,\n",
    "\n",
    "$$\\hat{\\theta} = (\\mathbb{X}^T\\mathbb{X})^{-1} \\mathbb{X}^T\\mathbb{Y}$$"
   ]
  },
  {
   "cell_type": "code",
   "execution_count": 7,
   "metadata": {},
   "outputs": [],
   "source": [
    "X = nba[['AST', '3PA']]\n",
    "y = nba['PTS']"
   ]
  },
  {
   "cell_type": "code",
   "execution_count": 8,
   "metadata": {},
   "outputs": [
    {
     "data": {
      "text/plain": [
       "(708, 2)"
      ]
     },
     "execution_count": 8,
     "metadata": {},
     "output_type": "execute_result"
    }
   ],
   "source": [
    "X.shape"
   ]
  },
  {
   "cell_type": "markdown",
   "metadata": {},
   "source": [
    "Here, our design matrix $\\mathbb{X}$ only has two columns. But, in order to incorporate the intercept term (i.e. $\\theta_0$), we need to include a column that contains all 1s. This is referred to as the \"intercept\" or \"bias\" column. (`sklearn` handled this for us, because we set `fit_intercept = True`. This is actually the default behavior in `sklearn`.)"
   ]
  },
  {
   "cell_type": "code",
   "execution_count": 9,
   "metadata": {},
   "outputs": [
    {
     "name": "stderr",
     "output_type": "stream",
     "text": [
      "C:\\Users\\koiso\\anaconda3\\lib\\site-packages\\pandas\\core\\indexing.py:1597: SettingWithCopyWarning: \n",
      "A value is trying to be set on a copy of a slice from a DataFrame.\n",
      "Try using .loc[row_indexer,col_indexer] = value instead\n",
      "\n",
      "See the caveats in the documentation: https://pandas.pydata.org/pandas-docs/stable/user_guide/indexing.html#returning-a-view-versus-a-copy\n",
      "  self.obj[key] = value\n",
      "C:\\Users\\koiso\\anaconda3\\lib\\site-packages\\pandas\\core\\indexing.py:1720: SettingWithCopyWarning: \n",
      "A value is trying to be set on a copy of a slice from a DataFrame.\n",
      "Try using .loc[row_indexer,col_indexer] = value instead\n",
      "\n",
      "See the caveats in the documentation: https://pandas.pydata.org/pandas-docs/stable/user_guide/indexing.html#returning-a-view-versus-a-copy\n",
      "  self._setitem_single_column(loc, value, pi)\n"
     ]
    }
   ],
   "source": [
    "X.loc[:, 'bias'] = 1\n",
    "\n",
    "# This line reorders our columns so that column i corresponds to theta_i.\n",
    "# By default, newly added columns to go to the end of a DataFrame.\n",
    "# This is not at all necessary; it just makes our resulting theta vector follow a nice order.\n",
    "X = X[['bias', 'AST', '3PA']]"
   ]
  },
  {
   "cell_type": "code",
   "execution_count": 10,
   "metadata": {},
   "outputs": [
    {
     "data": {
      "text/html": [
       "<div>\n",
       "<style scoped>\n",
       "    .dataframe tbody tr th:only-of-type {\n",
       "        vertical-align: middle;\n",
       "    }\n",
       "\n",
       "    .dataframe tbody tr th {\n",
       "        vertical-align: top;\n",
       "    }\n",
       "\n",
       "    .dataframe thead th {\n",
       "        text-align: right;\n",
       "    }\n",
       "</style>\n",
       "<table border=\"1\" class=\"dataframe\">\n",
       "  <thead>\n",
       "    <tr style=\"text-align: right;\">\n",
       "      <th></th>\n",
       "      <th>bias</th>\n",
       "      <th>AST</th>\n",
       "      <th>3PA</th>\n",
       "    </tr>\n",
       "  </thead>\n",
       "  <tbody>\n",
       "    <tr>\n",
       "      <th>0</th>\n",
       "      <td>1</td>\n",
       "      <td>0.6</td>\n",
       "      <td>4.1</td>\n",
       "    </tr>\n",
       "    <tr>\n",
       "      <th>1</th>\n",
       "      <td>1</td>\n",
       "      <td>0.8</td>\n",
       "      <td>1.5</td>\n",
       "    </tr>\n",
       "    <tr>\n",
       "      <th>2</th>\n",
       "      <td>1</td>\n",
       "      <td>1.9</td>\n",
       "      <td>2.2</td>\n",
       "    </tr>\n",
       "    <tr>\n",
       "      <th>3</th>\n",
       "      <td>1</td>\n",
       "      <td>1.6</td>\n",
       "      <td>0.0</td>\n",
       "    </tr>\n",
       "    <tr>\n",
       "      <th>4</th>\n",
       "      <td>1</td>\n",
       "      <td>2.2</td>\n",
       "      <td>0.2</td>\n",
       "    </tr>\n",
       "    <tr>\n",
       "      <th>...</th>\n",
       "      <td>...</td>\n",
       "      <td>...</td>\n",
       "      <td>...</td>\n",
       "    </tr>\n",
       "    <tr>\n",
       "      <th>703</th>\n",
       "      <td>1</td>\n",
       "      <td>0.8</td>\n",
       "      <td>0.0</td>\n",
       "    </tr>\n",
       "    <tr>\n",
       "      <th>704</th>\n",
       "      <td>1</td>\n",
       "      <td>0.9</td>\n",
       "      <td>0.0</td>\n",
       "    </tr>\n",
       "    <tr>\n",
       "      <th>705</th>\n",
       "      <td>1</td>\n",
       "      <td>1.1</td>\n",
       "      <td>0.0</td>\n",
       "    </tr>\n",
       "    <tr>\n",
       "      <th>706</th>\n",
       "      <td>1</td>\n",
       "      <td>0.8</td>\n",
       "      <td>0.0</td>\n",
       "    </tr>\n",
       "    <tr>\n",
       "      <th>707</th>\n",
       "      <td>1</td>\n",
       "      <td>1.5</td>\n",
       "      <td>0.0</td>\n",
       "    </tr>\n",
       "  </tbody>\n",
       "</table>\n",
       "<p>708 rows × 3 columns</p>\n",
       "</div>"
      ],
      "text/plain": [
       "     bias  AST  3PA\n",
       "0       1  0.6  4.1\n",
       "1       1  0.8  1.5\n",
       "2       1  1.9  2.2\n",
       "3       1  1.6  0.0\n",
       "4       1  2.2  0.2\n",
       "..    ...  ...  ...\n",
       "703     1  0.8  0.0\n",
       "704     1  0.9  0.0\n",
       "705     1  1.1  0.0\n",
       "706     1  0.8  0.0\n",
       "707     1  1.5  0.0\n",
       "\n",
       "[708 rows x 3 columns]"
      ]
     },
     "execution_count": 10,
     "metadata": {},
     "output_type": "execute_result"
    }
   ],
   "source": [
    "X"
   ]
  },
  {
   "cell_type": "code",
   "execution_count": 11,
   "metadata": {},
   "outputs": [],
   "source": [
    "def least_squares(X, y):\n",
    "    return np.linalg.inv(X.T @ X) @ X.T @ y"
   ]
  },
  {
   "cell_type": "code",
   "execution_count": 12,
   "metadata": {},
   "outputs": [],
   "source": [
    "theta = least_squares(X, y)"
   ]
  },
  {
   "cell_type": "code",
   "execution_count": 13,
   "metadata": {},
   "outputs": [
    {
     "data": {
      "text/plain": [
       "0    2.156347\n",
       "1    1.640655\n",
       "2    1.257581\n",
       "dtype: float64"
      ]
     },
     "execution_count": 13,
     "metadata": {},
     "output_type": "execute_result"
    }
   ],
   "source": [
    "theta"
   ]
  },
  {
   "cell_type": "markdown",
   "metadata": {},
   "source": [
    "Here, `theta[0] = 2.156`. Since the first column of `X` is the intercept column, this means that $\\theta_0 = 2.1563$. Similarly, we have $\\theta_1 = 1.6407$ and $\\theta_2 = 1.2576$. These are the exact same coefficients that `sklearn` found for us!"
   ]
  },
  {
   "cell_type": "markdown",
   "metadata": {},
   "source": [
    "## Residual plots"
   ]
  },
  {
   "cell_type": "markdown",
   "metadata": {},
   "source": [
    "For the simple linear case, let's revisit Anscombe's quartet."
   ]
  },
  {
   "cell_type": "code",
   "execution_count": 14,
   "metadata": {},
   "outputs": [],
   "source": [
    "ans = sns.load_dataset('anscombe')"
   ]
  },
  {
   "cell_type": "code",
   "execution_count": 15,
   "metadata": {},
   "outputs": [],
   "source": [
    "ans1 = ans[ans['dataset'] == 'I']\n",
    "ans2 = ans[ans['dataset'] == 'II']"
   ]
  },
  {
   "cell_type": "markdown",
   "metadata": {},
   "source": [
    "Dataset 1 appears to have a linear trend between $x$ and $y$:"
   ]
  },
  {
   "cell_type": "code",
   "execution_count": 16,
   "metadata": {},
   "outputs": [
    {
     "data": {
      "image/png": "[encoded data removed]",
      "text/plain": [
       "<Figure size 432x288 with 1 Axes>"
      ]
     },
     "metadata": {
      "needs_background": "light"
     },
     "output_type": "display_data"
    }
   ],
   "source": [
    "plt.scatter(ans1['x'], ans1['y']);"
   ]
  },
  {
   "cell_type": "markdown",
   "metadata": {},
   "source": [
    "While dataset 2 does not:"
   ]
  },
  {
   "cell_type": "code",
   "execution_count": 17,
   "metadata": {},
   "outputs": [
    {
     "data": {
      "image/png": "[encoded data removed]",
      "text/plain": [
       "<Figure size 432x288 with 1 Axes>"
      ]
     },
     "metadata": {
      "needs_background": "light"
     },
     "output_type": "display_data"
    }
   ],
   "source": [
    "plt.scatter(ans2['x'], ans2['y']);"
   ]
  },
  {
   "cell_type": "markdown",
   "metadata": {},
   "source": [
    "Let's fit simple linear regression models to both datasets, and look at residual plots of residual vs. $x$."
   ]
  },
  {
   "cell_type": "code",
   "execution_count": 18,
   "metadata": {},
   "outputs": [],
   "source": [
    "slr_ans_1 = lm.LinearRegression()\n",
    "slr_ans_1.fit(ans1[['x']], ans1['y'])\n",
    "y_pred_ans_1 = slr_ans_1.predict(ans1[['x']])\n",
    "residual_ans_1 = ans1['y'] - y_pred_ans_1"
   ]
  },
  {
   "cell_type": "code",
   "execution_count": 19,
   "metadata": {},
   "outputs": [
    {
     "data": {
      "image/png": "[encoded data removed]",
      "text/plain": [
       "<Figure size 432x288 with 1 Axes>"
      ]
     },
     "metadata": {
      "needs_background": "light"
     },
     "output_type": "display_data"
    }
   ],
   "source": [
    "plt.scatter(ans1['x'], residual_ans_1, color = 'red');\n",
    "plt.plot([4, 14], [0, 0], color = 'black')\n",
    "plt.xlabel(r'$x$')\n",
    "plt.ylabel('residual');\n",
    "plt.title(r'Residual vs. $x$ for dataset 1');"
   ]
  },
  {
   "cell_type": "markdown",
   "metadata": {},
   "source": [
    "For dataset 1, it appears that the residuals are generally equally spread out, and that there is no trend. This indicates that our linear model was a good fit here. (It is also true that the \"positive\" and \"negative\" residuals cancel out, but this is true even when our fit isn't good.)"
   ]
  },
  {
   "cell_type": "code",
   "execution_count": 20,
   "metadata": {},
   "outputs": [],
   "source": [
    "slr_ans_2 = lm.LinearRegression()\n",
    "slr_ans_2.fit(ans2[['x']], ans2['y'])\n",
    "y_pred_ans_2 = slr_ans_2.predict(ans2[['x']])\n",
    "residual_ans_2 = ans2['y'] - y_pred_ans_2"
   ]
  },
  {
   "cell_type": "code",
   "execution_count": 21,
   "metadata": {},
   "outputs": [
    {
     "data": {
      "image/png": "[encoded data removed]",
      "text/plain": [
       "<Figure size 432x288 with 1 Axes>"
      ]
     },
     "metadata": {
      "needs_background": "light"
     },
     "output_type": "display_data"
    }
   ],
   "source": [
    "plt.scatter(ans2['x'], residual_ans_2, color = 'red');\n",
    "plt.plot([4, 14], [0, 0], color = 'black')\n",
    "plt.xlabel(r'$x$')\n",
    "plt.ylabel('residual');\n",
    "plt.title(r'Residual vs. $x$ for dataset 2');"
   ]
  },
  {
   "cell_type": "markdown",
   "metadata": {},
   "source": [
    "The fit does not appear to be as good here. While the positive and negative residuals cancel out, there is a clear trend – the underlying data has a quadratic relationship, and the residuals reflect that. We'd likely need to increase the complexity of our model here.\n",
    "\n",
    "As mentioned above, the residuals in both sum to zero, but this is true of any linear model with an intercept term, as discussed in lecture."
   ]
  },
  {
   "cell_type": "code",
   "execution_count": 22,
   "metadata": {},
   "outputs": [
    {
     "data": {
      "text/plain": [
       "-1.7763568394002505e-14"
      ]
     },
     "execution_count": 22,
     "metadata": {},
     "output_type": "execute_result"
    }
   ],
   "source": [
    "residual_ans_1.sum()"
   ]
  },
  {
   "cell_type": "code",
   "execution_count": 23,
   "metadata": {},
   "outputs": [
    {
     "data": {
      "text/plain": [
       "1.021405182655144e-14"
      ]
     },
     "execution_count": 23,
     "metadata": {},
     "output_type": "execute_result"
    }
   ],
   "source": [
    "residual_ans_2.sum()"
   ]
  },
  {
   "cell_type": "markdown",
   "metadata": {},
   "source": [
    "For the multiple linear regression case, let's go back to the `nba` data. Let's once again use `AST` and `3PA` to predict `PTS`."
   ]
  },
  {
   "cell_type": "code",
   "execution_count": 24,
   "metadata": {},
   "outputs": [],
   "source": [
    "nba_model = lm.LinearRegression()\n",
    "nba_model.fit(nba[['AST', '3PA']], nba['PTS'])\n",
    "pts_pred = nba_model.predict(nba[['AST', '3PA']])\n",
    "residual_nba = nba['PTS'] - pts_pred"
   ]
  },
  {
   "cell_type": "code",
   "execution_count": 25,
   "metadata": {},
   "outputs": [
    {
     "data": {
      "application/vnd.plotly.v1+json": {
       "config": {
        "plotlyServerURL": "https://plot.ly"
       },
       "data": [
        {
         "marker": {
          "color": "red",
          "size": 8
         },
         "mode": "markers",
         "name": "residuals vs. fitted values",
         "type": "scatter",
         "x": [
          8.296822016546399,
          5.355242539485442,
          8.040269785668375,
          4.78139515745241,
          6.017304390279245,
          4.157640717729585,
          4.387485184155448,
          6.722709691421804,
          5.798295786440571,
          6.574516086415678,
          5.20781271851094,
          11.10837114256108,
          8.69073198984336,
          4.988804114672268,
          8.084377020048759,
          5.481000635285564,
          6.853503826499708,
          3.2390266360577593,
          2.6485435681281295,
          15.357438635313041,
          2.156347047514834,
          11.025192713078091,
          7.077548469616163,
          10.965977360864361,
          16.149530837153122,
          14.235687851667514,
          17.06814491882495,
          15.630626552087666,
          5.235284266994729,
          6.476229539099344,
          5.683373553227639,
          4.928824978426912,
          5.131197896368986,
          4.23425553987154,
          4.22341967728435,
          17.1780311127601,
          5.355242539485442,
          15.619790689500473,
          11.785541111188227,
          12.211958672246759,
          11.058464084871286,
          12.69911915358227,
          5.278627717343488,
          12.60083260626594,
          11.5456245662068,
          5.470164772698373,
          11.588968016555558,
          20.36029091883411,
          10.413037919974084,
          4.677308786826668,
          11.233365454329576,
          3.961067623096918,
          8.898904731094845,
          6.8918112375706855,
          6.990097784887019,
          9.822554852044453,
          12.918127757420944,
          3.4688711024836225,
          3.140740088741425,
          9.423608839469708,
          5.316935128414465,
          17.216338523831077,
          4.737287923072024,
          15.056015386023006,
          11.474045783342628,
          3.797002116225819,
          6.39961471695739,
          3.8078379788130086,
          21.48707774175742,
          3.95526779978751,
          10.99848494862593,
          9.83919053794105,
          15.258388303965084,
          2.6485435681281295,
          6.049811978040813,
          6.968426059712639,
          5.759988375369593,
          10.380530332212512,
          7.269085524971049,
          6.897611060880093,
          5.743352689472996,
          12.185250907794597,
          6.39961471695739,
          6.022340429557025,
          5.759988375369593,
          9.106313688314703,
          5.344406676898252,
          7.597216538713246,
          6.2521848959828885,
          10.550395662393019,
          6.049811978040813,
          13.234659124544326,
          14.683777137900424,
          10.500488604703225,
          9.981584319637768,
          10.019891730708746,
          10.069035004366913,
          8.70736767573996,
          7.269085524971049,
          11.315780099780937,
          4.097661581484228,
          3.6546083345291,
          12.491710196362416,
          14.87027815397753,
          12.11443590896205,
          9.396137290985921,
          7.438950855151555,
          10.954377714245545,
          10.774440305509476,
          12.349316414665694,
          9.981584319637768,
          5.1037263478852,
          4.4532641437102125,
          10.074071043644695,
          8.379236661997762,
          9.242907646702013,
          5.989832841795456,
          8.018598060493995,
          5.798295786440571,
          10.895162362031815,
          9.757539676521315,
          4.813902745213979,
          6.0939192124211985,
          4.80306688262679,
          2.949203033386539,
          3.3048055956125237,
          3.6329366093547204,
          3.140740088741425,
          8.679896127256171,
          9.587674346340808,
          6.700274182215799,
          3.797002116225819,
          4.0210467593422745,
          5.114562210472389,
          3.94443193720032,
          5.781660100543973,
          6.208077661602504,
          9.057170414656536,
          13.010614481427872,
          8.70736767573996,
          5.6450661421566615,
          15.2699879505839,
          6.082319565802383,
          20.327783331072542,
          9.587674346340808,
          8.176863744055687,
          12.086964360478262,
          12.337716768046878,
          11.380795275304077,
          13.04312206918944,
          11.506553371104197,
          6.940954511228852,
          12.086964360478262,
          4.6281655131685016,
          4.6664729242394785,
          5.054583074227033,
          13.119736891331396,
          4.726452060484835,
          7.908711866558845,
          25.40145061342615,
          7.755482222274936,
          11.824612306290831,
          3.2664981845415464,
          3.4688711024836225,
          2.156347047514834,
          8.729039400914338,
          5.431857361627396,
          5.557615457427517,
          5.431857361627396,
          2.156347047514834,
          11.786304895219853,
          7.22574207462229,
          13.197115497504974,
          5.984033018486048,
          13.08295704832367,
          4.584058278788117,
          3.102432677670448,
          3.277334047128736,
          4.51324327995557,
          16.494297536791915,
          7.859568592900679,
          20.92910226158936,
          7.646359812371412,
          4.901353429943123,
          10.806947893271044,
          11.020156673800308,
          5.1037263478852,
          15.816363784133141,
          5.082054622710819,
          7.722974634513367,
          14.641197471583293,
          18.12411674291571,
          3.6820798830128876,
          4.67150896351726,
          5.984033018486048,
          5.491836497872753,
          6.148098525357147,
          13.256330849718704,
          11.922135069575539,
          14.426461122990773,
          13.382852729550454,
          6.700274182215799,
          7.077548469616163,
          5.984033018486048,
          2.6485435681281295,
          4.097661581484228,
          4.792231020039599,
          4.830538431110577,
          3.4139280055160475,
          9.992420182224958,
          8.308421663165216,
          3.8569812524711757,
          2.9875104444575165,
          4.310870362013494,
          5.382714087969229,
          3.2664981845415464,
          7.045040881854594,
          8.70156785243055,
          7.914511689868253,
          8.023634099771776,
          11.889627481813967,
          15.105158659681173,
          17.780113827308544,
          3.0749611291866605,
          11.184985964703035,
          11.38735888264511,
          10.41380170400571,
          7.055876744441784,
          5.907418196344095,
          8.122684431119737,
          13.338745495170066,
          9.997456221502741,
          7.6246880871970335,
          13.776762702847414,
          15.14926589406156,
          11.070063731490102,
          5.4484930475239945,
          5.77662406126619,
          4.562386553613736,
          9.817518812766671,
          21.207326217641764,
          4.7539236089686225,
          4.743087746381433,
          9.708396402863148,
          5.437657184936804,
          4.135968992555206,
          13.760127016950818,
          16.34030410847638,
          4.4532641437102125,
          9.691760716966549,
          8.450051660830308,
          8.450051660830308,
          8.685695950565579,
          3.036653718115683,
          11.572332330658963,
          16.620819416623664,
          10.522160329877607,
          6.864339689086898,
          6.525372812757511,
          7.290757250145428,
          10.391366194799701,
          19.81895112456265,
          5.634230279569472,
          9.401937114295329,
          15.274260205830053,
          15.766456726443351,
          14.579690767274684,
          31.061328708463236,
          6.640295045970443,
          5.689173376537047,
          8.756510949398125,
          11.047628222284096,
          12.507582098227385,
          12.786569838311415,
          12.496746235640195,
          13.202151536782758,
          6.339635580712033,
          3.4139280055160475,
          6.706074005525207,
          6.263020758570079,
          6.782688827667161,
          9.609346071515187,
          3.228190773470569,
          3.993575210858487,
          11.758833346736065,
          6.563680223828489,
          6.738581593286777,
          4.677308786826668,
          7.887040141384466,
          3.3048055956125237,
          16.19287428750188,
          4.070190033000442,
          3.2664981845415464,
          9.199564196353254,
          9.516859347508262,
          8.99719127841118,
          7.181634840241904,
          8.089413059326542,
          21.580328249795972,
          12.277737631801521,
          14.694613000487614,
          9.986620358915552,
          2.156347047514834,
          5.7874599238533815,
          3.6329366093547204,
          9.25954333259861,
          9.71343244214093,
          8.187699606642877,
          12.819841210104613,
          9.581874523031399,
          2.8126090749992283,
          12.824877249382393,
          4.923025155117504,
          19.65412183365992,
          4.852210156284957,
          7.181634840241904,
          10.047363279192535,
          6.487065401686534,
          18.92780859137461,
          3.1624118139158046,
          9.341957978049972,
          21.651143248628518,
          8.362600976101163,
          5.470164772698373,
          4.726452060484835,
          7.482294305500314,
          6.97926192229983,
          9.451080387953496,
          7.897876003971656,
          8.187699606642877,
          7.5697449902294585,
          16.21530979670789,
          23.19351177002317,
          2.6485435681281295,
          6.235549210086291,
          3.277334047128736,
          6.940954511228852,
          7.558909127642269,
          2.446170650186054,
          5.131197896368986,
          3.4139280055160475,
          3.4139280055160475,
          3.4139280055160475,
          9.653453305895571,
          8.439215798243119,
          9.068006277243725,
          7.170798977654715,
          12.69911915358227,
          12.042857126097875,
          14.454696455506188,
          5.655902004743851,
          5.53014390894373,
          5.907418196344095,
          18.40890430630915,
          4.125133129968016,
          5.027111525743245,
          5.076254799401411,
          7.903675827281064,
          3.4139280055160475,
          12.420895197529866,
          5.9298537055501,
          5.437657184936804,
          7.078312253647789,
          11.195821827290224,
          8.061941510842754,
          5.5742511433241155,
          5.902382157066312,
          5.082054622710819,
          10.517124290599824,
          4.677308786826668,
          2.156347047514834,
          7.69550308602958,
          9.25954333259861,
          6.864339689086898,
          10.457145154354468,
          10.123214317302864,
          7.733810497100557,
          9.406973153573112,
          10.413037919974084,
          8.236842880301042,
          10.916070303174568,
          3.6329366093547204,
          7.11585588068714,
          13.803470467299576,
          3.7312231566710548,
          3.982739348271297,
          3.392256280341668,
          11.047628222284096,
          15.952957742520454,
          6.448757990615556,
          3.441399553999835,
          5.973197155898859,
          5.924053882240692,
          6.060647840628003,
          5.453529086801776,
          11.365687157470731,
          7.230778113900072,
          13.858413564267149,
          6.3887788543702,
          3.0258178555284934,
          13.459467551692406,
          23.537514685630338,
          10.386330155521922,
          11.168350278806436,
          8.783982497881912,
          5.109526171194608,
          3.4139280055160475,
          4.743087746381433,
          12.047893165375658,
          4.6281655131685016,
          14.19158061728713,
          25.233112851308896,
          3.8569812524711757,
          5.054583074227033,
          5.869110785273117,
          3.742059019258244,
          7.493130168087505,
          2.9875104444575165,
          8.351765113513974,
          3.8461453898839864,
          10.298879470792777,
          10.752768580335093,
          3.277334047128736,
          5.3935499505564195,
          6.312164032228245,
          3.93359607461313,
          6.322999894815435,
          5.743352689472996,
          6.902647100157875,
          3.8844528009549633,
          3.2664981845415464,
          5.120362033781797,
          12.501782274917979,
          4.5732224162009265,
          7.903675827281064,
          2.7851375265154408,
          13.223823261957136,
          13.475339453557378,
          12.545889509298362,
          13.262130673028114,
          4.863046018872146,
          3.4139280055160475,
          5.054583074227033,
          4.939660841014101,
          4.928824978426912,
          15.126830384855555,
          8.489122855932912,
          7.028405195957997,
          3.556321787212766,
          9.221235921527633,
          4.824738607801169,
          5.2511561688597,
          5.595922868498494,
          6.689438319628609,
          4.928824978426912,
          9.795847087592293,
          2.9383671707993493,
          17.008165782579592,
          8.083613236017133,
          7.41651534594555,
          10.374730508903106,
          12.266901769214332,
          4.96133256618848,
          13.240458947853735,
          8.330093388339595,
          6.39961471695739,
          12.802441740176388,
          13.015650520705652,
          12.250266083317737,
          17.472890754709102,
          4.9671323894978885,
          10.440509468457869,
          3.2664981845415464,
          2.9383671707993493,
          2.9766745818703266,
          6.307127992950464,
          9.423608839469708,
          3.720387294083865,
          2.156347047514834,
          4.174276403626183,
          4.80306688262679,
          11.15675063218762,
          8.85479749671446,
          10.391366194799701,
          6.612823497486655,
          11.583931977277778,
          2.6485435681281295,
          3.102432677670448,
          13.082193264292044,
          16.948186646334236,
          3.867817115058366,
          9.155456961972869,
          9.57103866044421,
          7.744646359687747,
          6.273856621157268,
          6.235549210086291,
          5.924053882240692,
          4.660673100930071,
          9.292814704391807,
          11.578132153968369,
          8.270114252094238,
          5.404385813143609,
          5.601722691807903,
          3.140740088741425,
          8.335129427617376,
          10.145649826508867,
          5.114562210472389,
          4.070190033000442,
          11.3424878642331,
          7.909475650590473,
          5.847439060098738,
          7.25824966238386,
          4.50240741736838,
          4.824738607801169,
          3.4305636914126447,
          9.237871607424232,
          7.772117908171534,
          18.233239152819237,
          10.13985000319946,
          12.58419692036934,
          10.287279824173961,
          9.089678002418104,
          11.32081613905872,
          4.4149567326392365,
          9.866662086424839,
          9.412772976882518,
          10.610374798638375,
          9.358593663946571,
          9.724268304728119,
          5.743352689472996,
          4.677308786826668,
          23.280962454752313,
          9.227035744837043,
          8.975519553236799,
          9.94327690856679,
          17.769277964721354,
          5.169505307439964,
          7.39484362077117,
          7.20407034944791,
          3.6329366093547204,
          4.125133129968016,
          3.3539488692706905,
          11.386595098613483,
          10.845255304342022,
          13.251294810440925,
          9.232071784114822,
          8.439215798243119,
          10.024927769986528,
          6.629459183383253,
          8.13855633298471,
          4.852210156284957,
          2.156347047514834,
          4.338341910497282,
          8.330093388339595,
          10.637846347122164,
          16.6467633970442,
          3.151575951328615,
          6.700274182215799,
          16.805792864637514,
          3.5396861013161685,
          11.17338631808422,
          10.090706729541292,
          11.8404842081558,
          4.010210896755084,
          5.540979771530919,
          4.4474643204008055,
          5.278627717343488,
          3.140740088741425,
          19.180088567006475,
          12.858148621175587,
          13.748527370332003,
          12.321844866181905,
          16.817392511256333,
          23.450064000901193,
          7.1657629383769335,
          5.9457256074150715,
          8.198535469230066,
          9.811718989457262,
          12.228594358143354,
          9.2703791951858,
          12.874784307072186,
          14.667905236035452,
          7.493130168087505,
          6.738581593286777,
          9.002227317688961,
          4.988804114672268,
          7.509765853984102,
          6.476229539099344,
          8.215171155126663,
          11.605603702452157,
          10.905234440587378,
          9.620181934102376,
          13.475339453557378,
          10.642882386399947,
          11.802176797084826,
          8.488359071901286,
          10.637846347122164,
          3.4139280055160475,
          14.91514917238954,
          8.319257525752406,
          8.445015621552525,
          7.5264015398807,
          2.156347047514834,
          5.191177032614343,
          14.12656544176399,
          14.936057113532293,
          14.1157295791768,
          16.04620825055901,
          11.080899594077291,
          9.675125031069951,
          4.939660841014101,
          4.80306688262679,
          4.370849498258851,
          7.378207934874573,
          8.340929250926784,
          7.154163291758117,
          3.0641252665994707,
          2.156347047514834,
          3.0641252665994707,
          7.318228798629216,
          7.646359812371412,
          7.97449082611361,
          6.738581593286777,
          2.156347047514834,
          9.248707470011421,
          4.321706224600684,
          3.3539488692706905,
          3.189883362399592,
          5.169505307439964,
          10.506288428012635,
          18.753671005947943,
          8.85479749671446,
          9.860862263115429,
          7.094184155512761,
          7.865368416210087,
          5.142033758956176,
          3.3048055956125237,
          2.9766745818703266,
          3.797002116225819,
          5.054583074227033,
          9.800883126870072,
          4.283398813529707,
          5.278627717343488,
          15.77729258903054,
          5.437657184936804,
          2.9000597597283724,
          7.454822757016527,
          13.519446687937762,
          4.409156909329828,
          7.914511689868253,
          10.035763632573719,
          9.435208486088525,
          8.051105648255565,
          2.9766745818703266,
          2.156347047514834,
          5.710845101711426,
          5.054583074227033,
          6.897611060880093,
          2.6102361570571526,
          15.816363784133141,
          7.788753594068132,
          12.037821086820095,
          13.574389784905339,
          5.404385813143609,
          15.0502155627136,
          23.028682479120445,
          3.982739348271297,
          23.095225222706834,
          3.6820798830128876,
          12.76993415241482,
          6.164734211253745,
          9.899169674186407,
          5.1037263478852,
          4.3600136356716614,
          3.7312231566710548,
          26.753809647529167,
          11.195821827290224,
          3.036653718115683,
          3.720387294083865,
          12.29437331769812,
          3.392256280341668,
          4.852210156284957,
          3.102432677670448,
          9.385301428398732,
          15.920450154758885,
          10.538796015774203,
          2.484478061257031,
          5.617594593672875,
          7.230778113900072,
          14.1157295791768,
          4.321706224600684,
          2.9875104444575165,
          6.738581593286777,
          10.337186881863754,
          8.029433923081186,
          14.624561785686694,
          3.6929157456000774,
          5.491836497872753,
          8.52163044369448,
          22.991138852081093,
          6.104755075008388,
          3.556321787212766,
          3.6054650608709333,
          3.4688711024836225,
          3.6329366093547204,
          3.961067623096918,
          3.4688711024836225,
          4.617329650581311
         ],
         "y": [
          -2.996822016546399,
          -3.6552425394854415,
          -4.840269785668375,
          9.11860484254759,
          2.8826956097207557,
          -2.4576407177295847,
          -3.387485184155448,
          14.577290308578196,
          -2.0982957864405707,
          -0.9745160864156786,
          5.69218728148906,
          -1.208371142561079,
          0.7092680101566398,
          -1.288804114672268,
          -0.08437702004875902,
          -2.9810006352855636,
          -3.1535038264997075,
          -2.539026636057759,
          -2.6485435681281295,
          12.342561364686958,
          -1.156347047514834,
          2.374807286921909,
          -0.07754846961616302,
          -4.265977360864361,
          -3.6495308371531223,
          -4.3356878516675135,
          -2.968144918824949,
          -3.9306265520876664,
          11.064715733005272,
          0.823770460900656,
          9.216626446772361,
          -4.028824978426911,
          -3.8311978963689866,
          -4.23425553987154,
          -2.3234196772843503,
          -7.2780311127600985,
          0.8447574605145585,
          -4.719790689500472,
          4.614458888811772,
          5.4880413277532405,
          3.241535915128715,
          -1.19911915358227,
          -0.2786277173434879,
          -3.3008326062659386,
          -5.445624566206801,
          0.12983522730162633,
          0.011031983444441451,
          5.239709081165891,
          0.886962080025917,
          2.322691213173332,
          -0.7333654543295758,
          -0.6610676230969181,
          -0.4989047310948447,
          -1.8918112375706855,
          -4.190097784887019,
          -1.822554852044453,
          -5.318127757420944,
          1.3311288975163773,
          1.2592599112585754,
          0.1763911605302919,
          1.983064871585535,
          -1.3163385238310763,
          -0.5372879230720242,
          -0.9560153860230063,
          6.525954216657372,
          -0.2970021162258192,
          -1.6996147169573899,
          -2.9078379788130087,
          5.11292225824258,
          -0.6552677997875103,
          -1.098484948625929,
          -1.639190537941051,
          0.8416116960349171,
          3.0514564318718707,
          -1.1498119780408125,
          0.6315739402873604,
          -1.6599883753695934,
          -2.0805303322125113,
          0.23091447502895068,
          -3.3976110608800933,
          -1.7433526894729958,
          3.414749092205403,
          1.10038528304261,
          0.5776595704429743,
          -1.4599883753695932,
          3.893686311685297,
          -3.2444066768982522,
          -1.1972165387132456,
          -1.4521848959828887,
          -1.250395662393018,
          4.450188021959187,
          -1.934659124544325,
          -2.583777137900425,
          -1.2004886047032244,
          0.9184156803622319,
          1.7801082692912544,
          -0.36903500436691417,
          0.09263232426004109,
          1.130914475028951,
          0.2842199002190622,
          -2.397661581484228,
          -1.0546083345291,
          6.208289803637584,
          6.4297218460224705,
          6.0855640910379485,
          -1.0961372909859204,
          -5.138950855151555,
          0.44562228575445495,
          -4.774440305509476,
          -4.849316414665694,
          -5.281584319637768,
          -3.6037263478851997,
          12.146735856289789,
          1.0259289563553047,
          -3.9792366619977617,
          -1.8429076467020131,
          4.310167158204544,
          -3.2185980604939948,
          -1.498295786440571,
          -5.495162362031815,
          -0.5575396765213156,
          1.4860972547860207,
          5.806080787578802,
          -2.3030668826267897,
          -2.149203033386539,
          -0.20480559561252365,
          0.06706339064527977,
          -0.040740088741424874,
          -2.679896127256171,
          -2.887674346340808,
          -2.4002741822157994,
          -1.7970021162258192,
          -3.1210467593422746,
          -0.914562210472389,
          -2.14443193720032,
          -0.08166010054397255,
          -3.308077661602504,
          -2.3571704146565358,
          3.7893855185721286,
          10.79263232426004,
          0.9549338578433382,
          -4.069987950583901,
          -1.1823195658023824,
          0.7722166689274594,
          -2.687674346340808,
          -1.276863744055687,
          4.213035639521738,
          0.9622832319531227,
          -0.0807952753040766,
          1.4568779308105597,
          -1.9065533711041969,
          -1.2409545112288516,
          -4.186964360478262,
          -0.4281655131685014,
          -0.8664729242394786,
          0.9454169257729674,
          -1.2197368913313955,
          -1.726452060484835,
          -0.008711866558845038,
          1.8985493865738512,
          -1.5554822222749358,
          14.075387693709168,
          0.7335018154584536,
          2.3311288975163773,
          -2.156347047514834,
          2.0709605990856623,
          0.6681426383726032,
          0.7423845425724824,
          0.6681426383726032,
          -0.6563470475148341,
          -5.886304895219853,
          -5.52574207462229,
          -5.897115497504974,
          1.1159669815139512,
          8.117042951676328,
          -0.3840582787881166,
          2.897567322329552,
          0.42266595287126396,
          1.8867567200444304,
          0.30570246320808536,
          -2.9595685929006788,
          0.270897738410639,
          -1.446359812371412,
          -1.6013534299431234,
          -1.0069478932710432,
          -0.32015667380030877,
          -1.9037263478851996,
          -2.116363784133142,
          12.217945377289182,
          -2.8229746345133666,
          -3.3411974715832926,
          7.87588325708429,
          -1.9820798830128876,
          -3.17150896351726,
          0.015966981513951595,
          0.508163502127247,
          -0.14809852535714718,
          -2.9563308497187037,
          -3.5221350695755387,
          -2.426461122990773,
          14.117147270449546,
          -0.0002741822157990015,
          0.32245153038383734,
          -0.6840330184860486,
          -0.8485435681281295,
          -2.7976615814842285,
          -3.9922310200395996,
          -3.9305384311105773,
          -3.4139280055160475,
          0.20757981777504142,
          -1.4084216631652158,
          6.543018747528825,
          2.112489555542483,
          8.589129637986506,
          6.4172859120307715,
          0.7335018154584536,
          -2.745040881854594,
          -1.8015678524305496,
          -2.014511689868253,
          -0.5236340997717761,
          -0.08962748181396663,
          -0.005158659681173461,
          -0.4801138273085428,
          -1.5749611291866605,
          -5.884985964703035,
          -6.38735888264511,
          -4.11380170400571,
          -3.355876744441784,
          -2.3074181963440945,
          0.07731556888026248,
          6.461254504829935,
          -1.5974562215027408,
          -1.1246880871970335,
          -0.17676270284741413,
          0.5507341059384387,
          -1.970063731490102,
          -1.5484930475239946,
          -1.5766240612661901,
          -3.2623865536137364,
          3.882481187233328,
          6.792673782358236,
          6.046076391031378,
          2.256912253618567,
          1.091603597136853,
          10.462342815063195,
          -2.735968992555206,
          2.2398729830491817,
          -0.14030410847638208,
          0.5467358562897875,
          -4.9917607169665486,
          -3.150051660830308,
          5.149948339169692,
          -4.485695950565579,
          -3.036653718115683,
          -1.272332330658962,
          -9.220819416623664,
          -1.3221603298776081,
          2.5356603109131024,
          3.2746271872424897,
          1.4092427498545712,
          1.9086338052002993,
          4.681048875437352,
          -2.634230279569472,
          -5.401937114295329,
          2.825739794169948,
          3.33354327355665,
          0.920309232725316,
          5.038671291536765,
          1.0597049540295576,
          10.910826623462954,
          -2.456510949398125,
          1.8523717777159039,
          1.1924179017726146,
          7.213430161688585,
          8.403253764359803,
          4.997848463217242,
          -3.1396355807120324,
          -1.4139280055160475,
          -2.4060740055252072,
          -4.763020758570079,
          -0.28268882766716086,
          -1.8093460715151872,
          -1.3281907734705691,
          -1.493575210858487,
          -0.25883334673606484,
          -0.9636802238284892,
          -0.9385815932867771,
          2.622691213173332,
          0.912959858615535,
          0.6951944043874763,
          4.507125712498119,
          -2.270190033000442,
          0.3335018154584537,
          -1.5995641963532545,
          1.2831406524917384,
          -2.1971912784111796,
          -2.8816348402419045,
          -2.189413059326542,
          -0.3803282497959728,
          -1.7777376318015214,
          -3.0946130004876142,
          -0.4866203589155518,
          -2.156347047514834,
          3.112540076146619,
          4.567063390645279,
          1.9404566674013886,
          2.48656755785907,
          1.412300393357123,
          0.7801587898953866,
          -0.18187452303139828,
          9.987390925000772,
          -3.1248772493823935,
          -1.9230251551175037,
          -2.6541218336599215,
          0.3477898437150433,
          7.818365159758096,
          -4.3473632791925345,
          0.3129345983134657,
          -6.827808591374611,
          -3.1624118139158046,
          8.958042021950028,
          2.1488567513714827,
          1.2373990238988366,
          -0.4701647726983733,
          -1.0264520604848348,
          0.6177056944996853,
          6.820738077700171,
          2.048919612046504,
          -0.6978760039716558,
          -1.4876996066428765,
          0.6302550097705408,
          -0.8153097967078882,
          4.206488229976827,
          -0.3485435681281297,
          -1.535549210086291,
          -1.7773340471287362,
          -1.7409545112288516,
          -1.2589091276422693,
          -1.546170650186054,
          -1.2311978963689865,
          -0.11392800551604765,
          0.08607199448395253,
          -1.4139280055160475,
          -1.8534533058955711,
          -1.5392157982431183,
          -1.5680062772437253,
          -1.8707989776547151,
          -1.7991191535822697,
          -1.2428571260978742,
          -3.354696455506188,
          -2.255902004743851,
          -1.8301439089437297,
          -3.1074181963440948,
          1.6910956936908512,
          1.2748668700319845,
          1.972888474256755,
          0.023745200598588312,
          -3.403675827281064,
          -2.4139280055160475,
          -5.520895197529866,
          5.0701462944499,
          5.562342815063196,
          3.821687746352211,
          -4.695821827290224,
          0.5380584891572457,
          8.125748856675884,
          8.097617842933687,
          8.01794537728918,
          -0.8171242905998248,
          2.0226912131733323,
          -2.156347047514834,
          -0.8955030860295805,
          -2.459543332598611,
          -3.864339689086898,
          -1.9571451543544676,
          2.676785682697137,
          -1.9338104971005574,
          -2.4069731535731123,
          -1.813037919974084,
          -1.4368428803010422,
          -1.816070303174568,
          0.06706339064527977,
          1.38414411931286,
          4.8965295327004235,
          -0.7312231566710548,
          -1.1827393482712973,
          0.007743719658332093,
          4.252371777715904,
          7.747042257479546,
          1.1512420093844433,
          0.4586004460001649,
          -1.973197155898859,
          -1.2240538822406917,
          -2.460647840628003,
          -0.5535290868017757,
          2.9343128425292697,
          3.8692218860999272,
          12.741586435732852,
          -0.4887788543701994,
          0.7741821444715065,
          0.24053244830759368,
          2.2624853143696626,
          -0.786330155521922,
          -0.46835027880643665,
          -1.7839824978819117,
          -1.1095261711946076,
          -3.4139280055160475,
          1.5569122536185667,
          0.45210683462434176,
          4.8718344868314984,
          2.80841938271287,
          -11.033112851308896,
          -1.4569812524711758,
          -3.0545830742270326,
          -1.2691107852731172,
          -2.042059019258244,
          -0.6931301680875048,
          -2.0875104444575165,
          0.14823488648602634,
          -1.3461453898839864,
          -2.7988794707927767,
          -2.852768580335093,
          -0.9773340471287364,
          -1.7935499505564194,
          -3.312164032228245,
          0.16640392538686966,
          -1.3229998948154353,
          -1.0433526894729956,
          -1.4026471001578749,
          3.4155471990450366,
          3.433501815458454,
          3.0796379662182023,
          6.198217725082021,
          -1.8732224162009263,
          -2.8036758272810642,
          -1.7851375265154408,
          -1.023823261957137,
          -0.37533945355737863,
          -5.545889509298362,
          -2.3621306730281137,
          0.13695398112785373,
          0.5860719944839525,
          -2.4545830742270325,
          -3.239660841014101,
          -2.2288249784269114,
          5.873169615144445,
          -2.089122855932912,
          0.2715948040420031,
          8.443678212787233,
          -1.6212359215276333,
          -0.12473860780116919,
          -1.3511561688597005,
          0.30407713150150606,
          -0.28943831962860855,
          -1.0288249784269117,
          -4.795847087592293,
          -1.1383671707993492,
          1.2918342174204085,
          -1.6836132360171323,
          -1.91651534594555,
          -1.0747305089031052,
          -4.066901769214333,
          -1.4613325661884797,
          -3.340458947853735,
          4.269906611660405,
          -1.9996147169573897,
          2.3975582598236116,
          3.6843494792943474,
          -0.6502660833177369,
          6.327109245290899,
          -3.8671323894978884,
          -1.5405094684578682,
          2.0335018154584534,
          1.8616328292006505,
          0.02332541812967337,
          7.392872007049536,
          2.4763911605302926,
          -2.320387294083865,
          -2.156347047514834,
          -2.374276403626183,
          -2.3030668826267897,
          2.74324936781238,
          0.545202503285541,
          1.1086338052002986,
          -0.1128234974866551,
          -1.183931977277778,
          -0.6485435681281295,
          1.4975673223295516,
          1.7178067357079563,
          1.2518133536657636,
          -1.767817115058366,
          -2.1554569619728685,
          -2.171038660444209,
          -1.8446463596877463,
          -3.073856621157268,
          -2.9355492100862914,
          -3.924053882240692,
          -0.6606731009300706,
          0.10718529560819334,
          -2.1781321539683685,
          -2.9701142520942385,
          -1.4043858131436089,
          1.4982773081920966,
          1.7592599112585754,
          -1.0351294276173766,
          -4.445649826508867,
          -2.714562210472389,
          -1.9701900330004416,
          -6.8424878642330995,
          7.690524349409527,
          0.652560939901262,
          -2.0582496623838598,
          -1.0024074173683797,
          -1.5247386078011695,
          4.769436308587355,
          -3.537871607424232,
          -0.07211790817153396,
          0.5667608471807632,
          -0.1398500031994594,
          0.41580307963065977,
          4.912720175826038,
          3.8103219975818963,
          5.579183860941278,
          -0.5149567326392366,
          4.633337913575161,
          4.887227023117482,
          4.389625201361625,
          0.14140633605342856,
          -2.2242683047281187,
          -2.1433526894729957,
          -2.9773087868266677,
          -7.680962454752313,
          -2.9270357448370428,
          -3.2755195532367987,
          -1.7432769085667914,
          -7.1692779647213545,
          -1.469505307439964,
          -2.8948436207711703,
          0.5959296505520895,
          0.76706339064528,
          1.3748668700319842,
          -1.5539488692706904,
          2.513404901386517,
          1.754744695657978,
          4.248705189559075,
          4.967928215885177,
          5.660784201756881,
          4.275072230013473,
          3.9705408166167464,
          0.46144366701529016,
          0.24778984371504276,
          -0.15634704751483408,
          1.461658089502718,
          -2.830093388339595,
          10.762153652877835,
          1.4532366029558013,
          -1.9515759513286148,
          -1.7002741822157992,
          -0.20579286463751245,
          -2.1396861013161685,
          -3.0733863180842196,
          -2.890706729541292,
          -3.140484208155801,
          2.689789103244916,
          -2.2409797715309194,
          -0.24746432040080535,
          -1.878627717343488,
          4.159259911258575,
          -9.980088567006476,
          5.141851378824413,
          1.351472629667997,
          -3.3218448661819053,
          -4.117392511256334,
          -2.3500640009011917,
          6.934237061623066,
          -0.8457256074150719,
          11.801464530769934,
          0.7882810105427378,
          -1.1285943581433546,
          1.2296208048141999,
          -3.974784307072186,
          0.8320947639645482,
          -1.6931301680875048,
          -1.9385815932867771,
          -1.202227317688961,
          -1.1888041146722683,
          -0.6097658539841015,
          -1.0762295390993435,
          -0.2151711551266633,
          5.094396297547842,
          -1.8052344405873786,
          -1.3201819341023757,
          -2.575339453557378,
          -3.142882386399947,
          -2.9021767970848256,
          -3.888359071901286,
          6.262153652877835,
          -0.41392800551604747,
          1.9848508276104582,
          -1.8192575257524055,
          -1.5450156215525244,
          -2.0264015398807,
          -2.156347047514834,
          -1.3911770326143431,
          -5.22656544176399,
          -1.3360571135322932,
          -1.2157295791768004,
          -1.346208250559009,
          -2.1808995940772906,
          -2.9751250310699513,
          -1.6396608410141011,
          -1.1030668826267895,
          -2.1708494982588507,
          -3.378207934874573,
          -1.640929250926784,
          -1.1541632917581168,
          0.8358747334005292,
          -2.156347047514834,
          1.1358747334005295,
          -1.4182287986292152,
          -1.746359812371412,
          -1.8744908261136102,
          -1.238581593286777,
          -0.15634704751483408,
          -2.048707470011421,
          -1.4217062246006837,
          -1.3539488692706905,
          -1.2898833623995922,
          -2.469505307439964,
          5.1937115719873646,
          -6.653671005947944,
          -1.0547974967144595,
          -0.46086226311542866,
          -2.394184155512761,
          -4.665368416210087,
          -2.9420337589561756,
          -0.004805595612523916,
          1.5233254181296734,
          -2.797002116225819,
          0.6454169257729676,
          -1.7008831268700728,
          -1.983398813529707,
          -0.7786277173434879,
          5.722707410969459,
          5.462342815063196,
          -1.9000597597283724,
          -2.454822757016527,
          10.880553312062236,
          -1.7091569093298276,
          2.985488310131747,
          -2.735763632573719,
          -2.6352084860885254,
          5.248894351744436,
          -0.6766745818703268,
          -2.156347047514834,
          9.889154898288574,
          7.745416925772968,
          13.002388939119905,
          -1.2102361570571527,
          -4.8163637841331415,
          0.6112464059318681,
          8.762178913179905,
          1.425610215094661,
          -0.6043858131436091,
          -3.0502155627136,
          2.571317520879557,
          -1.382739348271297,
          -2.3952252227068342,
          -0.18207988301288758,
          0.7300658475851804,
          -2.2647342112537454,
          8.100830325813593,
          -2.9037263478851996,
          -1.7600136356716614,
          -2.1312231566710547,
          -3.853809647529168,
          -1.295821827290224,
          -3.036653718115683,
          8.579612705916135,
          5.805626682301881,
          0.20774371965833227,
          -2.252210156284957,
          3.397567322329552,
          -3.285301428398732,
          4.0795498452411145,
          -0.43879601577420324,
          0.01552193874296881,
          -0.317594593672875,
          -1.4307781139000726,
          -1.515729579176801,
          3.8782937753993156,
          -0.18751044445751663,
          10.16141840671322,
          -1.6371868818637552,
          -1.1294339230811854,
          -2.424561785686695,
          -1.3929157456000776,
          -3.191836497872753,
          4.078369556305519,
          -3.8911388520810917,
          3.9952449249916118,
          4.1436782127872345,
          -3.6054650608709333,
          8.031128897516378,
          4.167063390645279,
          4.938932376903082,
          5.0311288975163775,
          4.782670349418689
         ]
        },
        {
         "marker": {
          "color": "black"
         },
         "name": "residuals = 0",
         "type": "scatter",
         "x": [
          0,
          35
         ],
         "y": [
          0,
          0
         ]
        }
       ],
       "layout": {
        "height": 400,
        "margin": {
         "b": 0,
         "l": 0,
         "r": 0,
         "t": 0
        },
        "template": {
         "data": {
          "bar": [
           {
            "error_x": {
             "color": "#2a3f5f"
            },
            "error_y": {
             "color": "#2a3f5f"
            },
            "marker": {
             "line": {
              "color": "#E5ECF6",
              "width": 0.5
             },
             "pattern": {
              "fillmode": "overlay",
              "size": 10,
              "solidity": 0.2
             }
            },
            "type": "bar"
           }
          ],
          "barpolar": [
           {
            "marker": {
             "line": {
              "color": "#E5ECF6",
              "width": 0.5
             },
             "pattern": {
              "fillmode": "overlay",
              "size": 10,
              "solidity": 0.2
             }
            },
            "type": "barpolar"
           }
          ],
          "carpet": [
           {
            "aaxis": {
             "endlinecolor": "#2a3f5f",
             "gridcolor": "white",
             "linecolor": "white",
             "minorgridcolor": "white",
             "startlinecolor": "#2a3f5f"
            },
            "baxis": {
             "endlinecolor": "#2a3f5f",
             "gridcolor": "white",
             "linecolor": "white",
             "minorgridcolor": "white",
             "startlinecolor": "#2a3f5f"
            },
            "type": "carpet"
           }
          ],
          "choropleth": [
           {
            "colorbar": {
             "outlinewidth": 0,
             "ticks": ""
            },
            "type": "choropleth"
           }
          ],
          "contour": [
           {
            "colorbar": {
             "outlinewidth": 0,
             "ticks": ""
            },
            "colorscale": [
             [
              0,
              "#0d0887"
             ],
             [
              0.1111111111111111,
              "#46039f"
             ],
             [
              0.2222222222222222,
              "#7201a8"
             ],
             [
              0.3333333333333333,
              "#9c179e"
             ],
             [
              0.4444444444444444,
              "#bd3786"
             ],
             [
              0.5555555555555556,
              "#d8576b"
             ],
             [
              0.6666666666666666,
              "#ed7953"
             ],
             [
              0.7777777777777778,
              "#fb9f3a"
             ],
             [
              0.8888888888888888,
              "#fdca26"
             ],
             [
              1,
              "#f0f921"
             ]
            ],
            "type": "contour"
           }
          ],
          "contourcarpet": [
           {
            "colorbar": {
             "outlinewidth": 0,
             "ticks": ""
            },
            "type": "contourcarpet"
           }
          ],
          "heatmap": [
           {
            "colorbar": {
             "outlinewidth": 0,
             "ticks": ""
            },
            "colorscale": [
             [
              0,
              "#0d0887"
             ],
             [
              0.1111111111111111,
              "#46039f"
             ],
             [
              0.2222222222222222,
              "#7201a8"
             ],
             [
              0.3333333333333333,
              "#9c179e"
             ],
             [
              0.4444444444444444,
              "#bd3786"
             ],
             [
              0.5555555555555556,
              "#d8576b"
             ],
             [
              0.6666666666666666,
              "#ed7953"
             ],
             [
              0.7777777777777778,
              "#fb9f3a"
             ],
             [
              0.8888888888888888,
              "#fdca26"
             ],
             [
              1,
              "#f0f921"
             ]
            ],
            "type": "heatmap"
           }
          ],
          "heatmapgl": [
           {
            "colorbar": {
             "outlinewidth": 0,
             "ticks": ""
            },
            "colorscale": [
             [
              0,
              "#0d0887"
             ],
             [
              0.1111111111111111,
              "#46039f"
             ],
             [
              0.2222222222222222,
              "#7201a8"
             ],
             [
              0.3333333333333333,
              "#9c179e"
             ],
             [
              0.4444444444444444,
              "#bd3786"
             ],
             [
              0.5555555555555556,
              "#d8576b"
             ],
             [
              0.6666666666666666,
              "#ed7953"
             ],
             [
              0.7777777777777778,
              "#fb9f3a"
             ],
             [
              0.8888888888888888,
              "#fdca26"
             ],
             [
              1,
              "#f0f921"
             ]
            ],
            "type": "heatmapgl"
           }
          ],
          "histogram": [
           {
            "marker": {
             "pattern": {
              "fillmode": "overlay",
              "size": 10,
              "solidity": 0.2
             }
            },
            "type": "histogram"
           }
          ],
          "histogram2d": [
           {
            "colorbar": {
             "outlinewidth": 0,
             "ticks": ""
            },
            "colorscale": [
             [
              0,
              "#0d0887"
             ],
             [
              0.1111111111111111,
              "#46039f"
             ],
             [
              0.2222222222222222,
              "#7201a8"
             ],
             [
              0.3333333333333333,
              "#9c179e"
             ],
             [
              0.4444444444444444,
              "#bd3786"
             ],
             [
              0.5555555555555556,
              "#d8576b"
             ],
             [
              0.6666666666666666,
              "#ed7953"
             ],
             [
              0.7777777777777778,
              "#fb9f3a"
             ],
             [
              0.8888888888888888,
              "#fdca26"
             ],
             [
              1,
              "#f0f921"
             ]
            ],
            "type": "histogram2d"
           }
          ],
          "histogram2dcontour": [
           {
            "colorbar": {
             "outlinewidth": 0,
             "ticks": ""
            },
            "colorscale": [
             [
              0,
              "#0d0887"
             ],
             [
              0.1111111111111111,
              "#46039f"
             ],
             [
              0.2222222222222222,
              "#7201a8"
             ],
             [
              0.3333333333333333,
              "#9c179e"
             ],
             [
              0.4444444444444444,
              "#bd3786"
             ],
             [
              0.5555555555555556,
              "#d8576b"
             ],
             [
              0.6666666666666666,
              "#ed7953"
             ],
             [
              0.7777777777777778,
              "#fb9f3a"
             ],
             [
              0.8888888888888888,
              "#fdca26"
             ],
             [
              1,
              "#f0f921"
             ]
            ],
            "type": "histogram2dcontour"
           }
          ],
          "mesh3d": [
           {
            "colorbar": {
             "outlinewidth": 0,
             "ticks": ""
            },
            "type": "mesh3d"
           }
          ],
          "parcoords": [
           {
            "line": {
             "colorbar": {
              "outlinewidth": 0,
              "ticks": ""
             }
            },
            "type": "parcoords"
           }
          ],
          "pie": [
           {
            "automargin": true,
            "type": "pie"
           }
          ],
          "scatter": [
           {
            "marker": {
             "colorbar": {
              "outlinewidth": 0,
              "ticks": ""
             }
            },
            "type": "scatter"
           }
          ],
          "scatter3d": [
           {
            "line": {
             "colorbar": {
              "outlinewidth": 0,
              "ticks": ""
             }
            },
            "marker": {
             "colorbar": {
              "outlinewidth": 0,
              "ticks": ""
             }
            },
            "type": "scatter3d"
           }
          ],
          "scattercarpet": [
           {
            "marker": {
             "colorbar": {
              "outlinewidth": 0,
              "ticks": ""
             }
            },
            "type": "scattercarpet"
           }
          ],
          "scattergeo": [
           {
            "marker": {
             "colorbar": {
              "outlinewidth": 0,
              "ticks": ""
             }
            },
            "type": "scattergeo"
           }
          ],
          "scattergl": [
           {
            "marker": {
             "colorbar": {
              "outlinewidth": 0,
              "ticks": ""
             }
            },
            "type": "scattergl"
           }
          ],
          "scattermapbox": [
           {
            "marker": {
             "colorbar": {
              "outlinewidth": 0,
              "ticks": ""
             }
            },
            "type": "scattermapbox"
           }
          ],
          "scatterpolar": [
           {
            "marker": {
             "colorbar": {
              "outlinewidth": 0,
              "ticks": ""
             }
            },
            "type": "scatterpolar"
           }
          ],
          "scatterpolargl": [
           {
            "marker": {
             "colorbar": {
              "outlinewidth": 0,
              "ticks": ""
             }
            },
            "type": "scatterpolargl"
           }
          ],
          "scatterternary": [
           {
            "marker": {
             "colorbar": {
              "outlinewidth": 0,
              "ticks": ""
             }
            },
            "type": "scatterternary"
           }
          ],
          "surface": [
           {
            "colorbar": {
             "outlinewidth": 0,
             "ticks": ""
            },
            "colorscale": [
             [
              0,
              "#0d0887"
             ],
             [
              0.1111111111111111,
              "#46039f"
             ],
             [
              0.2222222222222222,
              "#7201a8"
             ],
             [
              0.3333333333333333,
              "#9c179e"
             ],
             [
              0.4444444444444444,
              "#bd3786"
             ],
             [
              0.5555555555555556,
              "#d8576b"
             ],
             [
              0.6666666666666666,
              "#ed7953"
             ],
             [
              0.7777777777777778,
              "#fb9f3a"
             ],
             [
              0.8888888888888888,
              "#fdca26"
             ],
             [
              1,
              "#f0f921"
             ]
            ],
            "type": "surface"
           }
          ],
          "table": [
           {
            "cells": {
             "fill": {
              "color": "#EBF0F8"
             },
             "line": {
              "color": "white"
             }
            },
            "header": {
             "fill": {
              "color": "#C8D4E3"
             },
             "line": {
              "color": "white"
             }
            },
            "type": "table"
           }
          ]
         },
         "layout": {
          "annotationdefaults": {
           "arrowcolor": "#2a3f5f",
           "arrowhead": 0,
           "arrowwidth": 1
          },
          "autotypenumbers": "strict",
          "coloraxis": {
           "colorbar": {
            "outlinewidth": 0,
            "ticks": ""
           }
          },
          "colorscale": {
           "diverging": [
            [
             0,
             "#8e0152"
            ],
            [
             0.1,
             "#c51b7d"
            ],
            [
             0.2,
             "#de77ae"
            ],
            [
             0.3,
             "#f1b6da"
            ],
            [
             0.4,
             "#fde0ef"
            ],
            [
             0.5,
             "#f7f7f7"
            ],
            [
             0.6,
             "#e6f5d0"
            ],
            [
             0.7,
             "#b8e186"
            ],
            [
             0.8,
             "#7fbc41"
            ],
            [
             0.9,
             "#4d9221"
            ],
            [
             1,
             "#276419"
            ]
           ],
           "sequential": [
            [
             0,
             "#0d0887"
            ],
            [
             0.1111111111111111,
             "#46039f"
            ],
            [
             0.2222222222222222,
             "#7201a8"
            ],
            [
             0.3333333333333333,
             "#9c179e"
            ],
            [
             0.4444444444444444,
             "#bd3786"
            ],
            [
             0.5555555555555556,
             "#d8576b"
            ],
            [
             0.6666666666666666,
             "#ed7953"
            ],
            [
             0.7777777777777778,
             "#fb9f3a"
            ],
            [
             0.8888888888888888,
             "#fdca26"
            ],
            [
             1,
             "#f0f921"
            ]
           ],
           "sequentialminus": [
            [
             0,
             "#0d0887"
            ],
            [
             0.1111111111111111,
             "#46039f"
            ],
            [
             0.2222222222222222,
             "#7201a8"
            ],
            [
             0.3333333333333333,
             "#9c179e"
            ],
            [
             0.4444444444444444,
             "#bd3786"
            ],
            [
             0.5555555555555556,
             "#d8576b"
            ],
            [
             0.6666666666666666,
             "#ed7953"
            ],
            [
             0.7777777777777778,
             "#fb9f3a"
            ],
            [
             0.8888888888888888,
             "#fdca26"
            ],
            [
             1,
             "#f0f921"
            ]
           ]
          },
          "colorway": [
           "#636efa",
           "#EF553B",
           "#00cc96",
           "#ab63fa",
           "#FFA15A",
           "#19d3f3",
           "#FF6692",
           "#B6E880",
           "#FF97FF",
           "#FECB52"
          ],
          "font": {
           "color": "#2a3f5f"
          },
          "geo": {
           "bgcolor": "white",
           "lakecolor": "white",
           "landcolor": "#E5ECF6",
           "showlakes": true,
           "showland": true,
           "subunitcolor": "white"
          },
          "hoverlabel": {
           "align": "left"
          },
          "hovermode": "closest",
          "mapbox": {
           "style": "light"
          },
          "paper_bgcolor": "white",
          "plot_bgcolor": "#E5ECF6",
          "polar": {
           "angularaxis": {
            "gridcolor": "white",
            "linecolor": "white",
            "ticks": ""
           },
           "bgcolor": "#E5ECF6",
           "radialaxis": {
            "gridcolor": "white",
            "linecolor": "white",
            "ticks": ""
           }
          },
          "scene": {
           "xaxis": {
            "backgroundcolor": "#E5ECF6",
            "gridcolor": "white",
            "gridwidth": 2,
            "linecolor": "white",
            "showbackground": true,
            "ticks": "",
            "zerolinecolor": "white"
           },
           "yaxis": {
            "backgroundcolor": "#E5ECF6",
            "gridcolor": "white",
            "gridwidth": 2,
            "linecolor": "white",
            "showbackground": true,
            "ticks": "",
            "zerolinecolor": "white"
           },
           "zaxis": {
            "backgroundcolor": "#E5ECF6",
            "gridcolor": "white",
            "gridwidth": 2,
            "linecolor": "white",
            "showbackground": true,
            "ticks": "",
            "zerolinecolor": "white"
           }
          },
          "shapedefaults": {
           "line": {
            "color": "#2a3f5f"
           }
          },
          "ternary": {
           "aaxis": {
            "gridcolor": "white",
            "linecolor": "white",
            "ticks": ""
           },
           "baxis": {
            "gridcolor": "white",
            "linecolor": "white",
            "ticks": ""
           },
           "bgcolor": "#E5ECF6",
           "caxis": {
            "gridcolor": "white",
            "linecolor": "white",
            "ticks": ""
           }
          },
          "title": {
           "x": 0.05
          },
          "xaxis": {
           "automargin": true,
           "gridcolor": "white",
           "linecolor": "white",
           "ticks": "",
           "title": {
            "standoff": 15
           },
           "zerolinecolor": "white",
           "zerolinewidth": 2
          },
          "yaxis": {
           "automargin": true,
           "gridcolor": "white",
           "linecolor": "white",
           "ticks": "",
           "title": {
            "standoff": 15
           },
           "zerolinecolor": "white",
           "zerolinewidth": 2
          }
         }
        },
        "xaxis": {
         "title": {
          "text": "Fitted Values"
         }
        },
        "yaxis": {
         "title": {
          "text": "Residuals"
         }
        }
       }
      }
     },
     "metadata": {},
     "output_type": "display_data"
    }
   ],
   "source": [
    "fig = go.Figure()\n",
    "\n",
    "data_scatter = go.Scatter(x = pts_pred, y = residual_nba,\n",
    "                         mode = 'markers',\n",
    "                         marker = dict(color = 'red', size = 8), name = 'residuals vs. fitted values')\n",
    "\n",
    "fig.add_trace(data_scatter)\n",
    "fig.add_trace(go.Scatter(x = [0, 35], y = [0, 0], name = 'residuals = 0', marker = dict(color = 'black')))\n",
    "fig.update_layout(margin=dict(l=0, r=0, t=0, b=0), \n",
    "                  height=400,\n",
    "                 xaxis_title=r\"Fitted Values\",\n",
    "                 yaxis_title=\"Residuals\")\n",
    "\n",
    "fig"
   ]
  },
  {
   "cell_type": "markdown",
   "metadata": {},
   "source": [
    "There isn't a clear pattern, but there seems to be uneven spread."
   ]
  }
 ],
 "metadata": {
  "kernelspec": {
   "display_name": "Python 3",
   "language": "python",
   "name": "python3"
  },
  "language_info": {
   "codemirror_mode": {
    "name": "ipython",
    "version": 3
   },
   "file_extension": ".py",
   "mimetype": "text/x-python",
   "name": "python",
   "nbconvert_exporter": "python",
   "pygments_lexer": "ipython3",
   "version": "3.8.6"
  }
 },
 "nbformat": 4,
 "nbformat_minor": 2
}
