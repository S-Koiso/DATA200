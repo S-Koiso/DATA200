{
 "cells": [
  {
   "cell_type": "markdown",
   "metadata": {},
   "source": [
    "# Lecture 16, Part 2 – Data 100, Fall 2020\n",
    "\n",
    "**by Joseph Gonzalez (Spring 2020)**\n",
    "\n",
    "**Note:** scikit-learn's `Pipeline` functionality is explored at length in this notebook. **IT IS NOT IN SCOPE FOR FALL 2020.** Instead, focus on the bigger picture, of how we are using regularization in practice."
   ]
  },
  {
   "cell_type": "markdown",
   "metadata": {},
   "source": [
    "## Regularization\n",
    "\n",
    "In this notebook we explore the use of regularization techniques to address overfitting.  "
   ]
  },
  {
   "cell_type": "markdown",
   "metadata": {},
   "source": [
    "## Imports\n",
    "\n",
    "As with other notebooks we will use the same set of standard imports."
   ]
  },
  {
   "cell_type": "code",
   "execution_count": 3,
   "metadata": {},
   "outputs": [],
   "source": [
    "import numpy as np\n",
    "import pandas as pd"
   ]
  },
  {
   "cell_type": "code",
   "execution_count": 4,
   "metadata": {},
   "outputs": [
    {
     "data": {
      "text/html": [
       "        <script type=\"text/javascript\">\n",
       "        window.PlotlyConfig = {MathJaxConfig: 'local'};\n",
       "        if (window.MathJax) {MathJax.Hub.Config({SVG: {font: \"STIX-Web\"}});}\n",
       "        if (typeof require !== 'undefined') {\n",
       "        require.undef(\"plotly\");\n",
       "        requirejs.config({\n",
       "            paths: {\n",
       "                'plotly': ['https://cdn.plot.ly/plotly-2.6.3.min']\n",
       "            }\n",
       "        });\n",
       "        require(['plotly'], function(Plotly) {\n",
       "            window._Plotly = Plotly;\n",
       "        });\n",
       "        }\n",
       "        </script>\n",
       "        "
      ]
     },
     "metadata": {},
     "output_type": "display_data"
    }
   ],
   "source": [
    "import plotly.offline as py\n",
    "import plotly.express as px\n",
    "import plotly.graph_objects as go\n",
    "from plotly.subplots import make_subplots\n",
    "import plotly.figure_factory as ff\n",
    "import cufflinks as cf\n",
    "cf.set_config_file(offline=True, sharing=False, theme='ggplot');"
   ]
  },
  {
   "cell_type": "code",
   "execution_count": 5,
   "metadata": {},
   "outputs": [],
   "source": [
    "from sklearn.model_selection import train_test_split\n",
    "from sklearn.pipeline import Pipeline\n",
    "from sklearn.compose import ColumnTransformer\n",
    "from sklearn.preprocessing import FunctionTransformer\n",
    "from sklearn.impute import SimpleImputer\n",
    "from sklearn.linear_model import LinearRegression\n",
    "from sklearn.model_selection import cross_val_score"
   ]
  },
  {
   "cell_type": "markdown",
   "metadata": {},
   "source": [
    "## The Data\n",
    "\n",
    "For this notebook, we will use the seaborn `mpg` dataset which describes the fuel mileage (measured in miles per gallon or mpg) of various cars along with characteristics of those cars.  Our goal will be to build a model that can predict the fuel mileage of a car based on the characteristics of that car."
   ]
  },
  {
   "cell_type": "code",
   "execution_count": 6,
   "metadata": {},
   "outputs": [
    {
     "data": {
      "text/html": [
       "<div>\n",
       "<style scoped>\n",
       "    .dataframe tbody tr th:only-of-type {\n",
       "        vertical-align: middle;\n",
       "    }\n",
       "\n",
       "    .dataframe tbody tr th {\n",
       "        vertical-align: top;\n",
       "    }\n",
       "\n",
       "    .dataframe thead th {\n",
       "        text-align: right;\n",
       "    }\n",
       "</style>\n",
       "<table border=\"1\" class=\"dataframe\">\n",
       "  <thead>\n",
       "    <tr style=\"text-align: right;\">\n",
       "      <th></th>\n",
       "      <th>mpg</th>\n",
       "      <th>cylinders</th>\n",
       "      <th>displacement</th>\n",
       "      <th>horsepower</th>\n",
       "      <th>weight</th>\n",
       "      <th>acceleration</th>\n",
       "      <th>model_year</th>\n",
       "      <th>origin</th>\n",
       "      <th>name</th>\n",
       "    </tr>\n",
       "  </thead>\n",
       "  <tbody>\n",
       "    <tr>\n",
       "      <th>0</th>\n",
       "      <td>18.0</td>\n",
       "      <td>8</td>\n",
       "      <td>307.0</td>\n",
       "      <td>130.0</td>\n",
       "      <td>3504</td>\n",
       "      <td>12.0</td>\n",
       "      <td>70</td>\n",
       "      <td>usa</td>\n",
       "      <td>chevrolet chevelle malibu</td>\n",
       "    </tr>\n",
       "    <tr>\n",
       "      <th>1</th>\n",
       "      <td>15.0</td>\n",
       "      <td>8</td>\n",
       "      <td>350.0</td>\n",
       "      <td>165.0</td>\n",
       "      <td>3693</td>\n",
       "      <td>11.5</td>\n",
       "      <td>70</td>\n",
       "      <td>usa</td>\n",
       "      <td>buick skylark 320</td>\n",
       "    </tr>\n",
       "    <tr>\n",
       "      <th>2</th>\n",
       "      <td>18.0</td>\n",
       "      <td>8</td>\n",
       "      <td>318.0</td>\n",
       "      <td>150.0</td>\n",
       "      <td>3436</td>\n",
       "      <td>11.0</td>\n",
       "      <td>70</td>\n",
       "      <td>usa</td>\n",
       "      <td>plymouth satellite</td>\n",
       "    </tr>\n",
       "    <tr>\n",
       "      <th>3</th>\n",
       "      <td>16.0</td>\n",
       "      <td>8</td>\n",
       "      <td>304.0</td>\n",
       "      <td>150.0</td>\n",
       "      <td>3433</td>\n",
       "      <td>12.0</td>\n",
       "      <td>70</td>\n",
       "      <td>usa</td>\n",
       "      <td>amc rebel sst</td>\n",
       "    </tr>\n",
       "    <tr>\n",
       "      <th>4</th>\n",
       "      <td>17.0</td>\n",
       "      <td>8</td>\n",
       "      <td>302.0</td>\n",
       "      <td>140.0</td>\n",
       "      <td>3449</td>\n",
       "      <td>10.5</td>\n",
       "      <td>70</td>\n",
       "      <td>usa</td>\n",
       "      <td>ford torino</td>\n",
       "    </tr>\n",
       "    <tr>\n",
       "      <th>...</th>\n",
       "      <td>...</td>\n",
       "      <td>...</td>\n",
       "      <td>...</td>\n",
       "      <td>...</td>\n",
       "      <td>...</td>\n",
       "      <td>...</td>\n",
       "      <td>...</td>\n",
       "      <td>...</td>\n",
       "      <td>...</td>\n",
       "    </tr>\n",
       "    <tr>\n",
       "      <th>393</th>\n",
       "      <td>27.0</td>\n",
       "      <td>4</td>\n",
       "      <td>140.0</td>\n",
       "      <td>86.0</td>\n",
       "      <td>2790</td>\n",
       "      <td>15.6</td>\n",
       "      <td>82</td>\n",
       "      <td>usa</td>\n",
       "      <td>ford mustang gl</td>\n",
       "    </tr>\n",
       "    <tr>\n",
       "      <th>394</th>\n",
       "      <td>44.0</td>\n",
       "      <td>4</td>\n",
       "      <td>97.0</td>\n",
       "      <td>52.0</td>\n",
       "      <td>2130</td>\n",
       "      <td>24.6</td>\n",
       "      <td>82</td>\n",
       "      <td>europe</td>\n",
       "      <td>vw pickup</td>\n",
       "    </tr>\n",
       "    <tr>\n",
       "      <th>395</th>\n",
       "      <td>32.0</td>\n",
       "      <td>4</td>\n",
       "      <td>135.0</td>\n",
       "      <td>84.0</td>\n",
       "      <td>2295</td>\n",
       "      <td>11.6</td>\n",
       "      <td>82</td>\n",
       "      <td>usa</td>\n",
       "      <td>dodge rampage</td>\n",
       "    </tr>\n",
       "    <tr>\n",
       "      <th>396</th>\n",
       "      <td>28.0</td>\n",
       "      <td>4</td>\n",
       "      <td>120.0</td>\n",
       "      <td>79.0</td>\n",
       "      <td>2625</td>\n",
       "      <td>18.6</td>\n",
       "      <td>82</td>\n",
       "      <td>usa</td>\n",
       "      <td>ford ranger</td>\n",
       "    </tr>\n",
       "    <tr>\n",
       "      <th>397</th>\n",
       "      <td>31.0</td>\n",
       "      <td>4</td>\n",
       "      <td>119.0</td>\n",
       "      <td>82.0</td>\n",
       "      <td>2720</td>\n",
       "      <td>19.4</td>\n",
       "      <td>82</td>\n",
       "      <td>usa</td>\n",
       "      <td>chevy s-10</td>\n",
       "    </tr>\n",
       "  </tbody>\n",
       "</table>\n",
       "<p>398 rows × 9 columns</p>\n",
       "</div>"
      ],
      "text/plain": [
       "      mpg  cylinders  displacement  horsepower  weight  acceleration  \\\n",
       "0    18.0          8         307.0       130.0    3504          12.0   \n",
       "1    15.0          8         350.0       165.0    3693          11.5   \n",
       "2    18.0          8         318.0       150.0    3436          11.0   \n",
       "3    16.0          8         304.0       150.0    3433          12.0   \n",
       "4    17.0          8         302.0       140.0    3449          10.5   \n",
       "..    ...        ...           ...         ...     ...           ...   \n",
       "393  27.0          4         140.0        86.0    2790          15.6   \n",
       "394  44.0          4          97.0        52.0    2130          24.6   \n",
       "395  32.0          4         135.0        84.0    2295          11.6   \n",
       "396  28.0          4         120.0        79.0    2625          18.6   \n",
       "397  31.0          4         119.0        82.0    2720          19.4   \n",
       "\n",
       "     model_year  origin                       name  \n",
       "0            70     usa  chevrolet chevelle malibu  \n",
       "1            70     usa          buick skylark 320  \n",
       "2            70     usa         plymouth satellite  \n",
       "3            70     usa              amc rebel sst  \n",
       "4            70     usa                ford torino  \n",
       "..          ...     ...                        ...  \n",
       "393          82     usa            ford mustang gl  \n",
       "394          82  europe                  vw pickup  \n",
       "395          82     usa              dodge rampage  \n",
       "396          82     usa                ford ranger  \n",
       "397          82     usa                 chevy s-10  \n",
       "\n",
       "[398 rows x 9 columns]"
      ]
     },
     "execution_count": 6,
     "metadata": {},
     "output_type": "execute_result"
    }
   ],
   "source": [
    "from seaborn import load_dataset\n",
    "data = load_dataset(\"mpg\")\n",
    "data"
   ]
  },
  {
   "cell_type": "markdown",
   "metadata": {},
   "source": [
    "The first thing we will want to do with this data is construct a train/test split."
   ]
  },
  {
   "cell_type": "code",
   "execution_count": 7,
   "metadata": {},
   "outputs": [],
   "source": [
    "tr, te = train_test_split(data, test_size=0.25, random_state=83)"
   ]
  },
  {
   "cell_type": "markdown",
   "metadata": {},
   "source": [
    "<br/><br/><br/>\n",
    "\n",
    "---\n",
    "\n",
    "## Building a Few Basic Models\n",
    "\n",
    "The following code uses scikit-learn `Pipeline`s which are not in scope for the fall. Again, treat `Pipeline`s as a black-box that specify the features that our models use."
   ]
  },
  {
   "cell_type": "code",
   "execution_count": 8,
   "metadata": {},
   "outputs": [],
   "source": [
    "models = {}"
   ]
  },
  {
   "cell_type": "code",
   "execution_count": 9,
   "metadata": {},
   "outputs": [],
   "source": [
    "quantitative_features = [\"cylinders\", \"displacement\", \"horsepower\", \"weight\", \"acceleration\", \"model_year\"]"
   ]
  },
  {
   "cell_type": "code",
   "execution_count": 10,
   "metadata": {},
   "outputs": [],
   "source": [
    "for i in range(len(quantitative_features)):\n",
    "    # The features to include in the ith model\n",
    "    features = quantitative_features[:(i+1)]\n",
    "    # The name we are giving to the ith model\n",
    "    name = \",\".join([name[0] for name in features])\n",
    "    # The pipeline for the ith model\n",
    "    model = Pipeline([\n",
    "        (\"SelectColumns\", ColumnTransformer([\n",
    "            (\"keep\", \"passthrough\", features),\n",
    "        ])),\n",
    "        (\"Imputation\", SimpleImputer()),\n",
    "        (\"LinearModel\", LinearRegression())\n",
    "    ])\n",
    "    # Fit the pipeline\n",
    "    model.fit(tr, tr['mpg']);\n",
    "    # Saving the ith model\n",
    "    models[name] = model"
   ]
  },
  {
   "cell_type": "markdown",
   "metadata": {},
   "source": [
    "We have defined and trained (fit) 5 models:"
   ]
  },
  {
   "cell_type": "code",
   "execution_count": 11,
   "metadata": {},
   "outputs": [
    {
     "data": {
      "text/plain": [
       "dict_keys(['c', 'c,d', 'c,d,h', 'c,d,h,w', 'c,d,h,w,a', 'c,d,h,w,a,m'])"
      ]
     },
     "execution_count": 11,
     "metadata": {},
     "output_type": "execute_result"
    }
   ],
   "source": [
    "models.keys()"
   ]
  },
  {
   "cell_type": "markdown",
   "metadata": {},
   "source": [
    "<br/><br/><br/>\n",
    "\n",
    "\n",
    "---\n",
    "\n",
    "## `cross_val_score`\n",
    "\n",
    "Before we proceed, we'll look at how to use `cross_val_score`, a method built-in to `sklearn.model_selection`, to give us the CV RMSE of our models."
   ]
  },
  {
   "cell_type": "code",
   "execution_count": 12,
   "metadata": {},
   "outputs": [],
   "source": [
    "from sklearn.model_selection import cross_val_score"
   ]
  },
  {
   "cell_type": "markdown",
   "metadata": {},
   "source": [
    "The `cross_val_score` function takes a score function which it cross validates.  That score function must take three arguments, the model, X, and y.  We implement an Root Mean Squared Error (RMSE) score function:"
   ]
  },
  {
   "cell_type": "code",
   "execution_count": 13,
   "metadata": {},
   "outputs": [],
   "source": [
    "def rmse_score(model, X, y):\n",
    "    return np.sqrt(np.mean((y - model.predict(X))**2))"
   ]
  },
  {
   "cell_type": "markdown",
   "metadata": {},
   "source": [
    "We can then use `cross_val_score` to **estimate the test RMSE** for the model that only uses the number of cylinders `c`:"
   ]
  },
  {
   "cell_type": "code",
   "execution_count": 14,
   "metadata": {},
   "outputs": [
    {
     "data": {
      "text/plain": [
       "array([5.34219804, 4.31960704, 4.17949277, 4.89156037, 5.65044712])"
      ]
     },
     "execution_count": 14,
     "metadata": {},
     "output_type": "execute_result"
    }
   ],
   "source": [
    "cross_val_score(models['c'], tr, tr['mpg'], scoring=rmse_score, cv=5)"
   ]
  },
  {
   "cell_type": "markdown",
   "metadata": {},
   "source": [
    "Taking the mean we get the average cross validation (CV) RMSE:"
   ]
  },
  {
   "cell_type": "code",
   "execution_count": 15,
   "metadata": {},
   "outputs": [
    {
     "data": {
      "text/plain": [
       "4.876661068256956"
      ]
     },
     "execution_count": 15,
     "metadata": {},
     "output_type": "execute_result"
    }
   ],
   "source": [
    "np.mean(cross_val_score(models['c'], tr, tr['mpg'], scoring=rmse_score, cv=5))"
   ]
  },
  {
   "cell_type": "markdown",
   "metadata": {},
   "source": [
    "### Visualizing the Train/CV/Test RMSE\n",
    "\n",
    "In the following helper function we plot the **Train** and **CV** RMSE.  **We also plot the test RMSE for educational purposes you should not do this! If you use the height of the test RMSE bar to make decisions in designing your model you have invalidated the test data sort of like looking at the exam when studying.**"
   ]
  },
  {
   "cell_type": "code",
   "execution_count": 16,
   "metadata": {},
   "outputs": [],
   "source": [
    "def compare_models(models):\n",
    "    # Compute the training error for each model\n",
    "    training_rmse = [rmse_score(model, tr, tr['mpg']) for model in models.values()]\n",
    "    # Compute the cross validation error for each model\n",
    "    validation_rmse = [np.mean(cross_val_score(model, tr, tr['mpg'], scoring=rmse_score, cv=5)) \n",
    "                       for model in models.values()]\n",
    "    # Compute the test error for each model (don't do this!)\n",
    "    test_rmse = [rmse_score(model, te, te['mpg']) for model in models.values()]\n",
    "    names = list(models.keys())\n",
    "    fig = go.Figure([\n",
    "        go.Bar(x = names, y = training_rmse, name=\"Training RMSE\"),\n",
    "        go.Bar(x = names, y = validation_rmse, name=\"CV RMSE\"),\n",
    "        go.Bar(x = names, y = test_rmse, name=\"Test RMSE\", opacity=.3)])\n",
    "    fig.update_yaxes(title=\"RMSE\")\n",
    "    return fig"
   ]
  },
  {
   "cell_type": "code",
   "execution_count": 17,
   "metadata": {},
   "outputs": [
    {
     "data": {
      "application/vnd.plotly.v1+json": {
       "config": {
        "plotlyServerURL": "https://plot.ly"
       },
       "data": [
        {
         "name": "Training RMSE",
         "type": "bar",
         "x": [
          "c",
          "c,d",
          "c,d,h",
          "c,d,h,w",
          "c,d,h,w,a",
          "c,d,h,w,a,m"
         ],
         "y": [
          4.888109236813685,
          4.58757379901803,
          4.525395490245242,
          4.216877763288668,
          4.213763450275896,
          3.3799994809258993
         ]
        },
        {
         "name": "CV RMSE",
         "type": "bar",
         "x": [
          "c",
          "c,d",
          "c,d,h",
          "c,d,h,w",
          "c,d,h,w,a",
          "c,d,h,w,a,m"
         ],
         "y": [
          4.876661068256956,
          4.579060426624026,
          4.556808311664746,
          4.252718625749385,
          4.256844728700814,
          3.4557657065586773
         ]
        },
        {
         "name": "Test RMSE",
         "opacity": 0.3,
         "type": "bar",
         "x": [
          "c",
          "c,d",
          "c,d,h",
          "c,d,h,w",
          "c,d,h,w,a",
          "c,d,h,w,a,m"
         ],
         "y": [
          5.055013548375552,
          4.766156989852369,
          4.5838617699808735,
          4.32584781613103,
          4.349888692769132,
          3.5508281716401946
         ]
        }
       ],
       "layout": {
        "template": {
         "data": {
          "bar": [
           {
            "error_x": {
             "color": "#2a3f5f"
            },
            "error_y": {
             "color": "#2a3f5f"
            },
            "marker": {
             "line": {
              "color": "#E5ECF6",
              "width": 0.5
             },
             "pattern": {
              "fillmode": "overlay",
              "size": 10,
              "solidity": 0.2
             }
            },
            "type": "bar"
           }
          ],
          "barpolar": [
           {
            "marker": {
             "line": {
              "color": "#E5ECF6",
              "width": 0.5
             },
             "pattern": {
              "fillmode": "overlay",
              "size": 10,
              "solidity": 0.2
             }
            },
            "type": "barpolar"
           }
          ],
          "carpet": [
           {
            "aaxis": {
             "endlinecolor": "#2a3f5f",
             "gridcolor": "white",
             "linecolor": "white",
             "minorgridcolor": "white",
             "startlinecolor": "#2a3f5f"
            },
            "baxis": {
             "endlinecolor": "#2a3f5f",
             "gridcolor": "white",
             "linecolor": "white",
             "minorgridcolor": "white",
             "startlinecolor": "#2a3f5f"
            },
            "type": "carpet"
           }
          ],
          "choropleth": [
           {
            "colorbar": {
             "outlinewidth": 0,
             "ticks": ""
            },
            "type": "choropleth"
           }
          ],
          "contour": [
           {
            "colorbar": {
             "outlinewidth": 0,
             "ticks": ""
            },
            "colorscale": [
             [
              0,
              "#0d0887"
             ],
             [
              0.1111111111111111,
              "#46039f"
             ],
             [
              0.2222222222222222,
              "#7201a8"
             ],
             [
              0.3333333333333333,
              "#9c179e"
             ],
             [
              0.4444444444444444,
              "#bd3786"
             ],
             [
              0.5555555555555556,
              "#d8576b"
             ],
             [
              0.6666666666666666,
              "#ed7953"
             ],
             [
              0.7777777777777778,
              "#fb9f3a"
             ],
             [
              0.8888888888888888,
              "#fdca26"
             ],
             [
              1,
              "#f0f921"
             ]
            ],
            "type": "contour"
           }
          ],
          "contourcarpet": [
           {
            "colorbar": {
             "outlinewidth": 0,
             "ticks": ""
            },
            "type": "contourcarpet"
           }
          ],
          "heatmap": [
           {
            "colorbar": {
             "outlinewidth": 0,
             "ticks": ""
            },
            "colorscale": [
             [
              0,
              "#0d0887"
             ],
             [
              0.1111111111111111,
              "#46039f"
             ],
             [
              0.2222222222222222,
              "#7201a8"
             ],
             [
              0.3333333333333333,
              "#9c179e"
             ],
             [
              0.4444444444444444,
              "#bd3786"
             ],
             [
              0.5555555555555556,
              "#d8576b"
             ],
             [
              0.6666666666666666,
              "#ed7953"
             ],
             [
              0.7777777777777778,
              "#fb9f3a"
             ],
             [
              0.8888888888888888,
              "#fdca26"
             ],
             [
              1,
              "#f0f921"
             ]
            ],
            "type": "heatmap"
           }
          ],
          "heatmapgl": [
           {
            "colorbar": {
             "outlinewidth": 0,
             "ticks": ""
            },
            "colorscale": [
             [
              0,
              "#0d0887"
             ],
             [
              0.1111111111111111,
              "#46039f"
             ],
             [
              0.2222222222222222,
              "#7201a8"
             ],
             [
              0.3333333333333333,
              "#9c179e"
             ],
             [
              0.4444444444444444,
              "#bd3786"
             ],
             [
              0.5555555555555556,
              "#d8576b"
             ],
             [
              0.6666666666666666,
              "#ed7953"
             ],
             [
              0.7777777777777778,
              "#fb9f3a"
             ],
             [
              0.8888888888888888,
              "#fdca26"
             ],
             [
              1,
              "#f0f921"
             ]
            ],
            "type": "heatmapgl"
           }
          ],
          "histogram": [
           {
            "marker": {
             "pattern": {
              "fillmode": "overlay",
              "size": 10,
              "solidity": 0.2
             }
            },
            "type": "histogram"
           }
          ],
          "histogram2d": [
           {
            "colorbar": {
             "outlinewidth": 0,
             "ticks": ""
            },
            "colorscale": [
             [
              0,
              "#0d0887"
             ],
             [
              0.1111111111111111,
              "#46039f"
             ],
             [
              0.2222222222222222,
              "#7201a8"
             ],
             [
              0.3333333333333333,
              "#9c179e"
             ],
             [
              0.4444444444444444,
              "#bd3786"
             ],
             [
              0.5555555555555556,
              "#d8576b"
             ],
             [
              0.6666666666666666,
              "#ed7953"
             ],
             [
              0.7777777777777778,
              "#fb9f3a"
             ],
             [
              0.8888888888888888,
              "#fdca26"
             ],
             [
              1,
              "#f0f921"
             ]
            ],
            "type": "histogram2d"
           }
          ],
          "histogram2dcontour": [
           {
            "colorbar": {
             "outlinewidth": 0,
             "ticks": ""
            },
            "colorscale": [
             [
              0,
              "#0d0887"
             ],
             [
              0.1111111111111111,
              "#46039f"
             ],
             [
              0.2222222222222222,
              "#7201a8"
             ],
             [
              0.3333333333333333,
              "#9c179e"
             ],
             [
              0.4444444444444444,
              "#bd3786"
             ],
             [
              0.5555555555555556,
              "#d8576b"
             ],
             [
              0.6666666666666666,
              "#ed7953"
             ],
             [
              0.7777777777777778,
              "#fb9f3a"
             ],
             [
              0.8888888888888888,
              "#fdca26"
             ],
             [
              1,
              "#f0f921"
             ]
            ],
            "type": "histogram2dcontour"
           }
          ],
          "mesh3d": [
           {
            "colorbar": {
             "outlinewidth": 0,
             "ticks": ""
            },
            "type": "mesh3d"
           }
          ],
          "parcoords": [
           {
            "line": {
             "colorbar": {
              "outlinewidth": 0,
              "ticks": ""
             }
            },
            "type": "parcoords"
           }
          ],
          "pie": [
           {
            "automargin": true,
            "type": "pie"
           }
          ],
          "scatter": [
           {
            "marker": {
             "colorbar": {
              "outlinewidth": 0,
              "ticks": ""
             }
            },
            "type": "scatter"
           }
          ],
          "scatter3d": [
           {
            "line": {
             "colorbar": {
              "outlinewidth": 0,
              "ticks": ""
             }
            },
            "marker": {
             "colorbar": {
              "outlinewidth": 0,
              "ticks": ""
             }
            },
            "type": "scatter3d"
           }
          ],
          "scattercarpet": [
           {
            "marker": {
             "colorbar": {
              "outlinewidth": 0,
              "ticks": ""
             }
            },
            "type": "scattercarpet"
           }
          ],
          "scattergeo": [
           {
            "marker": {
             "colorbar": {
              "outlinewidth": 0,
              "ticks": ""
             }
            },
            "type": "scattergeo"
           }
          ],
          "scattergl": [
           {
            "marker": {
             "colorbar": {
              "outlinewidth": 0,
              "ticks": ""
             }
            },
            "type": "scattergl"
           }
          ],
          "scattermapbox": [
           {
            "marker": {
             "colorbar": {
              "outlinewidth": 0,
              "ticks": ""
             }
            },
            "type": "scattermapbox"
           }
          ],
          "scatterpolar": [
           {
            "marker": {
             "colorbar": {
              "outlinewidth": 0,
              "ticks": ""
             }
            },
            "type": "scatterpolar"
           }
          ],
          "scatterpolargl": [
           {
            "marker": {
             "colorbar": {
              "outlinewidth": 0,
              "ticks": ""
             }
            },
            "type": "scatterpolargl"
           }
          ],
          "scatterternary": [
           {
            "marker": {
             "colorbar": {
              "outlinewidth": 0,
              "ticks": ""
             }
            },
            "type": "scatterternary"
           }
          ],
          "surface": [
           {
            "colorbar": {
             "outlinewidth": 0,
             "ticks": ""
            },
            "colorscale": [
             [
              0,
              "#0d0887"
             ],
             [
              0.1111111111111111,
              "#46039f"
             ],
             [
              0.2222222222222222,
              "#7201a8"
             ],
             [
              0.3333333333333333,
              "#9c179e"
             ],
             [
              0.4444444444444444,
              "#bd3786"
             ],
             [
              0.5555555555555556,
              "#d8576b"
             ],
             [
              0.6666666666666666,
              "#ed7953"
             ],
             [
              0.7777777777777778,
              "#fb9f3a"
             ],
             [
              0.8888888888888888,
              "#fdca26"
             ],
             [
              1,
              "#f0f921"
             ]
            ],
            "type": "surface"
           }
          ],
          "table": [
           {
            "cells": {
             "fill": {
              "color": "#EBF0F8"
             },
             "line": {
              "color": "white"
             }
            },
            "header": {
             "fill": {
              "color": "#C8D4E3"
             },
             "line": {
              "color": "white"
             }
            },
            "type": "table"
           }
          ]
         },
         "layout": {
          "annotationdefaults": {
           "arrowcolor": "#2a3f5f",
           "arrowhead": 0,
           "arrowwidth": 1
          },
          "autotypenumbers": "strict",
          "coloraxis": {
           "colorbar": {
            "outlinewidth": 0,
            "ticks": ""
           }
          },
          "colorscale": {
           "diverging": [
            [
             0,
             "#8e0152"
            ],
            [
             0.1,
             "#c51b7d"
            ],
            [
             0.2,
             "#de77ae"
            ],
            [
             0.3,
             "#f1b6da"
            ],
            [
             0.4,
             "#fde0ef"
            ],
            [
             0.5,
             "#f7f7f7"
            ],
            [
             0.6,
             "#e6f5d0"
            ],
            [
             0.7,
             "#b8e186"
            ],
            [
             0.8,
             "#7fbc41"
            ],
            [
             0.9,
             "#4d9221"
            ],
            [
             1,
             "#276419"
            ]
           ],
           "sequential": [
            [
             0,
             "#0d0887"
            ],
            [
             0.1111111111111111,
             "#46039f"
            ],
            [
             0.2222222222222222,
             "#7201a8"
            ],
            [
             0.3333333333333333,
             "#9c179e"
            ],
            [
             0.4444444444444444,
             "#bd3786"
            ],
            [
             0.5555555555555556,
             "#d8576b"
            ],
            [
             0.6666666666666666,
             "#ed7953"
            ],
            [
             0.7777777777777778,
             "#fb9f3a"
            ],
            [
             0.8888888888888888,
             "#fdca26"
            ],
            [
             1,
             "#f0f921"
            ]
           ],
           "sequentialminus": [
            [
             0,
             "#0d0887"
            ],
            [
             0.1111111111111111,
             "#46039f"
            ],
            [
             0.2222222222222222,
             "#7201a8"
            ],
            [
             0.3333333333333333,
             "#9c179e"
            ],
            [
             0.4444444444444444,
             "#bd3786"
            ],
            [
             0.5555555555555556,
             "#d8576b"
            ],
            [
             0.6666666666666666,
             "#ed7953"
            ],
            [
             0.7777777777777778,
             "#fb9f3a"
            ],
            [
             0.8888888888888888,
             "#fdca26"
            ],
            [
             1,
             "#f0f921"
            ]
           ]
          },
          "colorway": [
           "#636efa",
           "#EF553B",
           "#00cc96",
           "#ab63fa",
           "#FFA15A",
           "#19d3f3",
           "#FF6692",
           "#B6E880",
           "#FF97FF",
           "#FECB52"
          ],
          "font": {
           "color": "#2a3f5f"
          },
          "geo": {
           "bgcolor": "white",
           "lakecolor": "white",
           "landcolor": "#E5ECF6",
           "showlakes": true,
           "showland": true,
           "subunitcolor": "white"
          },
          "hoverlabel": {
           "align": "left"
          },
          "hovermode": "closest",
          "mapbox": {
           "style": "light"
          },
          "paper_bgcolor": "white",
          "plot_bgcolor": "#E5ECF6",
          "polar": {
           "angularaxis": {
            "gridcolor": "white",
            "linecolor": "white",
            "ticks": ""
           },
           "bgcolor": "#E5ECF6",
           "radialaxis": {
            "gridcolor": "white",
            "linecolor": "white",
            "ticks": ""
           }
          },
          "scene": {
           "xaxis": {
            "backgroundcolor": "#E5ECF6",
            "gridcolor": "white",
            "gridwidth": 2,
            "linecolor": "white",
            "showbackground": true,
            "ticks": "",
            "zerolinecolor": "white"
           },
           "yaxis": {
            "backgroundcolor": "#E5ECF6",
            "gridcolor": "white",
            "gridwidth": 2,
            "linecolor": "white",
            "showbackground": true,
            "ticks": "",
            "zerolinecolor": "white"
           },
           "zaxis": {
            "backgroundcolor": "#E5ECF6",
            "gridcolor": "white",
            "gridwidth": 2,
            "linecolor": "white",
            "showbackground": true,
            "ticks": "",
            "zerolinecolor": "white"
           }
          },
          "shapedefaults": {
           "line": {
            "color": "#2a3f5f"
           }
          },
          "ternary": {
           "aaxis": {
            "gridcolor": "white",
            "linecolor": "white",
            "ticks": ""
           },
           "baxis": {
            "gridcolor": "white",
            "linecolor": "white",
            "ticks": ""
           },
           "bgcolor": "#E5ECF6",
           "caxis": {
            "gridcolor": "white",
            "linecolor": "white",
            "ticks": ""
           }
          },
          "title": {
           "x": 0.05
          },
          "xaxis": {
           "automargin": true,
           "gridcolor": "white",
           "linecolor": "white",
           "ticks": "",
           "title": {
            "standoff": 15
           },
           "zerolinecolor": "white",
           "zerolinewidth": 2
          },
          "yaxis": {
           "automargin": true,
           "gridcolor": "white",
           "linecolor": "white",
           "ticks": "",
           "title": {
            "standoff": 15
           },
           "zerolinecolor": "white",
           "zerolinewidth": 2
          }
         }
        },
        "yaxis": {
         "title": {
          "text": "RMSE"
         }
        }
       }
      },
      "text/html": [
       "<div>                            <div id=\"02ca1823-d469-4fe1-974f-5c8b33253a29\" class=\"plotly-graph-div\" style=\"height:525px; width:100%;\"></div>            <script type=\"text/javascript\">                require([\"plotly\"], function(Plotly) {                    window.PLOTLYENV=window.PLOTLYENV || {};                                    if (document.getElementById(\"02ca1823-d469-4fe1-974f-5c8b33253a29\")) {                    Plotly.newPlot(                        \"02ca1823-d469-4fe1-974f-5c8b33253a29\",                        [{\"name\":\"Training RMSE\",\"x\":[\"c\",\"c,d\",\"c,d,h\",\"c,d,h,w\",\"c,d,h,w,a\",\"c,d,h,w,a,m\"],\"y\":[4.888109236813685,4.58757379901803,4.525395490245242,4.216877763288668,4.213763450275896,3.3799994809258993],\"type\":\"bar\"},{\"name\":\"CV RMSE\",\"x\":[\"c\",\"c,d\",\"c,d,h\",\"c,d,h,w\",\"c,d,h,w,a\",\"c,d,h,w,a,m\"],\"y\":[4.876661068256956,4.579060426624026,4.556808311664746,4.252718625749385,4.256844728700814,3.4557657065586773],\"type\":\"bar\"},{\"name\":\"Test RMSE\",\"opacity\":0.3,\"x\":[\"c\",\"c,d\",\"c,d,h\",\"c,d,h,w\",\"c,d,h,w,a\",\"c,d,h,w,a,m\"],\"y\":[5.055013548375552,4.766156989852369,4.5838617699808735,4.32584781613103,4.349888692769132,3.5508281716401946],\"type\":\"bar\"}],                        {\"template\":{\"data\":{\"bar\":[{\"error_x\":{\"color\":\"#2a3f5f\"},\"error_y\":{\"color\":\"#2a3f5f\"},\"marker\":{\"line\":{\"color\":\"#E5ECF6\",\"width\":0.5},\"pattern\":{\"fillmode\":\"overlay\",\"size\":10,\"solidity\":0.2}},\"type\":\"bar\"}],\"barpolar\":[{\"marker\":{\"line\":{\"color\":\"#E5ECF6\",\"width\":0.5},\"pattern\":{\"fillmode\":\"overlay\",\"size\":10,\"solidity\":0.2}},\"type\":\"barpolar\"}],\"carpet\":[{\"aaxis\":{\"endlinecolor\":\"#2a3f5f\",\"gridcolor\":\"white\",\"linecolor\":\"white\",\"minorgridcolor\":\"white\",\"startlinecolor\":\"#2a3f5f\"},\"baxis\":{\"endlinecolor\":\"#2a3f5f\",\"gridcolor\":\"white\",\"linecolor\":\"white\",\"minorgridcolor\":\"white\",\"startlinecolor\":\"#2a3f5f\"},\"type\":\"carpet\"}],\"choropleth\":[{\"colorbar\":{\"outlinewidth\":0,\"ticks\":\"\"},\"type\":\"choropleth\"}],\"contour\":[{\"colorbar\":{\"outlinewidth\":0,\"ticks\":\"\"},\"colorscale\":[[0.0,\"#0d0887\"],[0.1111111111111111,\"#46039f\"],[0.2222222222222222,\"#7201a8\"],[0.3333333333333333,\"#9c179e\"],[0.4444444444444444,\"#bd3786\"],[0.5555555555555556,\"#d8576b\"],[0.6666666666666666,\"#ed7953\"],[0.7777777777777778,\"#fb9f3a\"],[0.8888888888888888,\"#fdca26\"],[1.0,\"#f0f921\"]],\"type\":\"contour\"}],\"contourcarpet\":[{\"colorbar\":{\"outlinewidth\":0,\"ticks\":\"\"},\"type\":\"contourcarpet\"}],\"heatmap\":[{\"colorbar\":{\"outlinewidth\":0,\"ticks\":\"\"},\"colorscale\":[[0.0,\"#0d0887\"],[0.1111111111111111,\"#46039f\"],[0.2222222222222222,\"#7201a8\"],[0.3333333333333333,\"#9c179e\"],[0.4444444444444444,\"#bd3786\"],[0.5555555555555556,\"#d8576b\"],[0.6666666666666666,\"#ed7953\"],[0.7777777777777778,\"#fb9f3a\"],[0.8888888888888888,\"#fdca26\"],[1.0,\"#f0f921\"]],\"type\":\"heatmap\"}],\"heatmapgl\":[{\"colorbar\":{\"outlinewidth\":0,\"ticks\":\"\"},\"colorscale\":[[0.0,\"#0d0887\"],[0.1111111111111111,\"#46039f\"],[0.2222222222222222,\"#7201a8\"],[0.3333333333333333,\"#9c179e\"],[0.4444444444444444,\"#bd3786\"],[0.5555555555555556,\"#d8576b\"],[0.6666666666666666,\"#ed7953\"],[0.7777777777777778,\"#fb9f3a\"],[0.8888888888888888,\"#fdca26\"],[1.0,\"#f0f921\"]],\"type\":\"heatmapgl\"}],\"histogram\":[{\"marker\":{\"pattern\":{\"fillmode\":\"overlay\",\"size\":10,\"solidity\":0.2}},\"type\":\"histogram\"}],\"histogram2d\":[{\"colorbar\":{\"outlinewidth\":0,\"ticks\":\"\"},\"colorscale\":[[0.0,\"#0d0887\"],[0.1111111111111111,\"#46039f\"],[0.2222222222222222,\"#7201a8\"],[0.3333333333333333,\"#9c179e\"],[0.4444444444444444,\"#bd3786\"],[0.5555555555555556,\"#d8576b\"],[0.6666666666666666,\"#ed7953\"],[0.7777777777777778,\"#fb9f3a\"],[0.8888888888888888,\"#fdca26\"],[1.0,\"#f0f921\"]],\"type\":\"histogram2d\"}],\"histogram2dcontour\":[{\"colorbar\":{\"outlinewidth\":0,\"ticks\":\"\"},\"colorscale\":[[0.0,\"#0d0887\"],[0.1111111111111111,\"#46039f\"],[0.2222222222222222,\"#7201a8\"],[0.3333333333333333,\"#9c179e\"],[0.4444444444444444,\"#bd3786\"],[0.5555555555555556,\"#d8576b\"],[0.6666666666666666,\"#ed7953\"],[0.7777777777777778,\"#fb9f3a\"],[0.8888888888888888,\"#fdca26\"],[1.0,\"#f0f921\"]],\"type\":\"histogram2dcontour\"}],\"mesh3d\":[{\"colorbar\":{\"outlinewidth\":0,\"ticks\":\"\"},\"type\":\"mesh3d\"}],\"parcoords\":[{\"line\":{\"colorbar\":{\"outlinewidth\":0,\"ticks\":\"\"}},\"type\":\"parcoords\"}],\"pie\":[{\"automargin\":true,\"type\":\"pie\"}],\"scatter\":[{\"marker\":{\"colorbar\":{\"outlinewidth\":0,\"ticks\":\"\"}},\"type\":\"scatter\"}],\"scatter3d\":[{\"line\":{\"colorbar\":{\"outlinewidth\":0,\"ticks\":\"\"}},\"marker\":{\"colorbar\":{\"outlinewidth\":0,\"ticks\":\"\"}},\"type\":\"scatter3d\"}],\"scattercarpet\":[{\"marker\":{\"colorbar\":{\"outlinewidth\":0,\"ticks\":\"\"}},\"type\":\"scattercarpet\"}],\"scattergeo\":[{\"marker\":{\"colorbar\":{\"outlinewidth\":0,\"ticks\":\"\"}},\"type\":\"scattergeo\"}],\"scattergl\":[{\"marker\":{\"colorbar\":{\"outlinewidth\":0,\"ticks\":\"\"}},\"type\":\"scattergl\"}],\"scattermapbox\":[{\"marker\":{\"colorbar\":{\"outlinewidth\":0,\"ticks\":\"\"}},\"type\":\"scattermapbox\"}],\"scatterpolar\":[{\"marker\":{\"colorbar\":{\"outlinewidth\":0,\"ticks\":\"\"}},\"type\":\"scatterpolar\"}],\"scatterpolargl\":[{\"marker\":{\"colorbar\":{\"outlinewidth\":0,\"ticks\":\"\"}},\"type\":\"scatterpolargl\"}],\"scatterternary\":[{\"marker\":{\"colorbar\":{\"outlinewidth\":0,\"ticks\":\"\"}},\"type\":\"scatterternary\"}],\"surface\":[{\"colorbar\":{\"outlinewidth\":0,\"ticks\":\"\"},\"colorscale\":[[0.0,\"#0d0887\"],[0.1111111111111111,\"#46039f\"],[0.2222222222222222,\"#7201a8\"],[0.3333333333333333,\"#9c179e\"],[0.4444444444444444,\"#bd3786\"],[0.5555555555555556,\"#d8576b\"],[0.6666666666666666,\"#ed7953\"],[0.7777777777777778,\"#fb9f3a\"],[0.8888888888888888,\"#fdca26\"],[1.0,\"#f0f921\"]],\"type\":\"surface\"}],\"table\":[{\"cells\":{\"fill\":{\"color\":\"#EBF0F8\"},\"line\":{\"color\":\"white\"}},\"header\":{\"fill\":{\"color\":\"#C8D4E3\"},\"line\":{\"color\":\"white\"}},\"type\":\"table\"}]},\"layout\":{\"annotationdefaults\":{\"arrowcolor\":\"#2a3f5f\",\"arrowhead\":0,\"arrowwidth\":1},\"autotypenumbers\":\"strict\",\"coloraxis\":{\"colorbar\":{\"outlinewidth\":0,\"ticks\":\"\"}},\"colorscale\":{\"diverging\":[[0,\"#8e0152\"],[0.1,\"#c51b7d\"],[0.2,\"#de77ae\"],[0.3,\"#f1b6da\"],[0.4,\"#fde0ef\"],[0.5,\"#f7f7f7\"],[0.6,\"#e6f5d0\"],[0.7,\"#b8e186\"],[0.8,\"#7fbc41\"],[0.9,\"#4d9221\"],[1,\"#276419\"]],\"sequential\":[[0.0,\"#0d0887\"],[0.1111111111111111,\"#46039f\"],[0.2222222222222222,\"#7201a8\"],[0.3333333333333333,\"#9c179e\"],[0.4444444444444444,\"#bd3786\"],[0.5555555555555556,\"#d8576b\"],[0.6666666666666666,\"#ed7953\"],[0.7777777777777778,\"#fb9f3a\"],[0.8888888888888888,\"#fdca26\"],[1.0,\"#f0f921\"]],\"sequentialminus\":[[0.0,\"#0d0887\"],[0.1111111111111111,\"#46039f\"],[0.2222222222222222,\"#7201a8\"],[0.3333333333333333,\"#9c179e\"],[0.4444444444444444,\"#bd3786\"],[0.5555555555555556,\"#d8576b\"],[0.6666666666666666,\"#ed7953\"],[0.7777777777777778,\"#fb9f3a\"],[0.8888888888888888,\"#fdca26\"],[1.0,\"#f0f921\"]]},\"colorway\":[\"#636efa\",\"#EF553B\",\"#00cc96\",\"#ab63fa\",\"#FFA15A\",\"#19d3f3\",\"#FF6692\",\"#B6E880\",\"#FF97FF\",\"#FECB52\"],\"font\":{\"color\":\"#2a3f5f\"},\"geo\":{\"bgcolor\":\"white\",\"lakecolor\":\"white\",\"landcolor\":\"#E5ECF6\",\"showlakes\":true,\"showland\":true,\"subunitcolor\":\"white\"},\"hoverlabel\":{\"align\":\"left\"},\"hovermode\":\"closest\",\"mapbox\":{\"style\":\"light\"},\"paper_bgcolor\":\"white\",\"plot_bgcolor\":\"#E5ECF6\",\"polar\":{\"angularaxis\":{\"gridcolor\":\"white\",\"linecolor\":\"white\",\"ticks\":\"\"},\"bgcolor\":\"#E5ECF6\",\"radialaxis\":{\"gridcolor\":\"white\",\"linecolor\":\"white\",\"ticks\":\"\"}},\"scene\":{\"xaxis\":{\"backgroundcolor\":\"#E5ECF6\",\"gridcolor\":\"white\",\"gridwidth\":2,\"linecolor\":\"white\",\"showbackground\":true,\"ticks\":\"\",\"zerolinecolor\":\"white\"},\"yaxis\":{\"backgroundcolor\":\"#E5ECF6\",\"gridcolor\":\"white\",\"gridwidth\":2,\"linecolor\":\"white\",\"showbackground\":true,\"ticks\":\"\",\"zerolinecolor\":\"white\"},\"zaxis\":{\"backgroundcolor\":\"#E5ECF6\",\"gridcolor\":\"white\",\"gridwidth\":2,\"linecolor\":\"white\",\"showbackground\":true,\"ticks\":\"\",\"zerolinecolor\":\"white\"}},\"shapedefaults\":{\"line\":{\"color\":\"#2a3f5f\"}},\"ternary\":{\"aaxis\":{\"gridcolor\":\"white\",\"linecolor\":\"white\",\"ticks\":\"\"},\"baxis\":{\"gridcolor\":\"white\",\"linecolor\":\"white\",\"ticks\":\"\"},\"bgcolor\":\"#E5ECF6\",\"caxis\":{\"gridcolor\":\"white\",\"linecolor\":\"white\",\"ticks\":\"\"}},\"title\":{\"x\":0.05},\"xaxis\":{\"automargin\":true,\"gridcolor\":\"white\",\"linecolor\":\"white\",\"ticks\":\"\",\"title\":{\"standoff\":15},\"zerolinecolor\":\"white\",\"zerolinewidth\":2},\"yaxis\":{\"automargin\":true,\"gridcolor\":\"white\",\"linecolor\":\"white\",\"ticks\":\"\",\"title\":{\"standoff\":15},\"zerolinecolor\":\"white\",\"zerolinewidth\":2}}},\"yaxis\":{\"title\":{\"text\":\"RMSE\"}}},                        {\"responsive\": true}                    ).then(function(){\n",
       "                            \n",
       "var gd = document.getElementById('02ca1823-d469-4fe1-974f-5c8b33253a29');\n",
       "var x = new MutationObserver(function (mutations, observer) {{\n",
       "        var display = window.getComputedStyle(gd).display;\n",
       "        if (!display || display === 'none') {{\n",
       "            console.log([gd, 'removed!']);\n",
       "            Plotly.purge(gd);\n",
       "            observer.disconnect();\n",
       "        }}\n",
       "}});\n",
       "\n",
       "// Listen for the removal of the full notebook cells\n",
       "var notebookContainer = gd.closest('#notebook-container');\n",
       "if (notebookContainer) {{\n",
       "    x.observe(notebookContainer, {childList: true});\n",
       "}}\n",
       "\n",
       "// Listen for the clearing of the current output cell\n",
       "var outputEl = gd.closest('.output');\n",
       "if (outputEl) {{\n",
       "    x.observe(outputEl, {childList: true});\n",
       "}}\n",
       "\n",
       "                        })                };                });            </script>        </div>"
      ]
     },
     "metadata": {},
     "output_type": "display_data"
    }
   ],
   "source": [
    "compare_models(models)"
   ]
  },
  {
   "cell_type": "markdown",
   "metadata": {},
   "source": [
    "Notice that as we added features the training and cross validation error generally decreased.  Also notice that the cross validation error and the test error are generally higher than the training error. "
   ]
  },
  {
   "cell_type": "markdown",
   "metadata": {},
   "source": [
    "<br/><br/><br/>\n",
    "\n",
    "---\n",
    "\n",
    "## Adding the Text Features"
   ]
  },
  {
   "cell_type": "markdown",
   "metadata": {},
   "source": [
    "### Adding the Origin\n",
    "\n",
    "The origin is a categorical feature which takes on only a few values:"
   ]
  },
  {
   "cell_type": "code",
   "execution_count": 18,
   "metadata": {},
   "outputs": [
    {
     "data": {
      "text/plain": [
       "usa       188\n",
       "japan      56\n",
       "europe     54\n",
       "Name: origin, dtype: int64"
      ]
     },
     "execution_count": 18,
     "metadata": {},
     "output_type": "execute_result"
    }
   ],
   "source": [
    "tr['origin'].value_counts()"
   ]
  },
  {
   "cell_type": "markdown",
   "metadata": {},
   "source": [
    "This can be extracted using a `OneHotEncoder` in the `SelectColumns` stage of the pipeline. Notice that the `[\"origin\"]` is in brackets, this caused me some confusion when preparing lecture.  The `OneHotEncoder` wants its input in column form rather than list form. "
   ]
  },
  {
   "cell_type": "code",
   "execution_count": 19,
   "metadata": {},
   "outputs": [],
   "source": [
    "from sklearn.preprocessing import OneHotEncoder"
   ]
  },
  {
   "cell_type": "code",
   "execution_count": 20,
   "metadata": {},
   "outputs": [],
   "source": [
    "model = Pipeline([\n",
    "    (\"SelectColumns\", ColumnTransformer([\n",
    "        (\"keep\", \"passthrough\", quantitative_features),\n",
    "        (\"origin_encoder\", OneHotEncoder(), [\"origin\"])\n",
    "    ])),\n",
    "    (\"Imputation\", SimpleImputer()),\n",
    "    (\"LinearModel\", LinearRegression())\n",
    "])"
   ]
  },
  {
   "cell_type": "code",
   "execution_count": 21,
   "metadata": {},
   "outputs": [],
   "source": [
    "model.fit(tr, tr['mpg'])\n",
    "name = \",\".join([name[0] for name in quantitative_features]) + \",o\"\n",
    "models[name] = model"
   ]
  },
  {
   "cell_type": "markdown",
   "metadata": {},
   "source": [
    "### Adding the Vehicle Name\n",
    "\n",
    "In the previous lecture we added the vehicle name using the `CountVectorizer` which implements a bag-of-words encoding. "
   ]
  },
  {
   "cell_type": "code",
   "execution_count": 22,
   "metadata": {},
   "outputs": [],
   "source": [
    "from sklearn.feature_extraction.text import CountVectorizer"
   ]
  },
  {
   "cell_type": "code",
   "execution_count": 23,
   "metadata": {},
   "outputs": [],
   "source": [
    "model = Pipeline([\n",
    "    (\"SelectColumns\", ColumnTransformer([\n",
    "        (\"keep\", \"passthrough\", quantitative_features),\n",
    "        (\"origin_encoder\", OneHotEncoder(), [\"origin\"]),\n",
    "        (\"text\", CountVectorizer(), \"name\")\n",
    "    ])),\n",
    "    (\"Imputation\", SimpleImputer()),\n",
    "    (\"LinearModel\", LinearRegression())\n",
    "])"
   ]
  },
  {
   "cell_type": "code",
   "execution_count": 24,
   "metadata": {},
   "outputs": [],
   "source": [
    "model.fit(tr, tr['mpg'])\n",
    "name = \",\".join([name[0] for name in quantitative_features]) + \",o,n\"\n",
    "models[name] = model"
   ]
  },
  {
   "cell_type": "code",
   "execution_count": 25,
   "metadata": {},
   "outputs": [
    {
     "data": {
      "application/vnd.plotly.v1+json": {
       "config": {
        "plotlyServerURL": "https://plot.ly"
       },
       "data": [
        {
         "name": "Training RMSE",
         "type": "bar",
         "x": [
          "c",
          "c,d",
          "c,d,h",
          "c,d,h,w",
          "c,d,h,w,a",
          "c,d,h,w,a,m",
          "c,d,h,w,a,m,o",
          "c,d,h,w,a,m,o,n"
         ],
         "y": [
          4.888109236813685,
          4.58757379901803,
          4.525395490245242,
          4.216877763288668,
          4.213763450275896,
          3.3799994809258993,
          3.2488224012050075,
          1.1387313016649125
         ]
        },
        {
         "name": "CV RMSE",
         "type": "bar",
         "x": [
          "c",
          "c,d",
          "c,d,h",
          "c,d,h,w",
          "c,d,h,w,a",
          "c,d,h,w,a,m",
          "c,d,h,w,a,m,o",
          "c,d,h,w,a,m,o,n"
         ],
         "y": [
          4.876661068256956,
          4.579060426624026,
          4.556808311664746,
          4.252718625749385,
          4.256844728700814,
          3.4557657065586773,
          3.3323381513276003,
          3.728919763030074
         ]
        },
        {
         "name": "Test RMSE",
         "opacity": 0.3,
         "type": "bar",
         "x": [
          "c",
          "c,d",
          "c,d,h",
          "c,d,h,w",
          "c,d,h,w,a",
          "c,d,h,w,a,m",
          "c,d,h,w,a,m,o",
          "c,d,h,w,a,m,o,n"
         ],
         "y": [
          5.055013548375552,
          4.766156989852369,
          4.5838617699808735,
          4.32584781613103,
          4.349888692769132,
          3.5508281716401946,
          3.3746613014711677,
          3.507443289513132
         ]
        }
       ],
       "layout": {
        "template": {
         "data": {
          "bar": [
           {
            "error_x": {
             "color": "#2a3f5f"
            },
            "error_y": {
             "color": "#2a3f5f"
            },
            "marker": {
             "line": {
              "color": "#E5ECF6",
              "width": 0.5
             },
             "pattern": {
              "fillmode": "overlay",
              "size": 10,
              "solidity": 0.2
             }
            },
            "type": "bar"
           }
          ],
          "barpolar": [
           {
            "marker": {
             "line": {
              "color": "#E5ECF6",
              "width": 0.5
             },
             "pattern": {
              "fillmode": "overlay",
              "size": 10,
              "solidity": 0.2
             }
            },
            "type": "barpolar"
           }
          ],
          "carpet": [
           {
            "aaxis": {
             "endlinecolor": "#2a3f5f",
             "gridcolor": "white",
             "linecolor": "white",
             "minorgridcolor": "white",
             "startlinecolor": "#2a3f5f"
            },
            "baxis": {
             "endlinecolor": "#2a3f5f",
             "gridcolor": "white",
             "linecolor": "white",
             "minorgridcolor": "white",
             "startlinecolor": "#2a3f5f"
            },
            "type": "carpet"
           }
          ],
          "choropleth": [
           {
            "colorbar": {
             "outlinewidth": 0,
             "ticks": ""
            },
            "type": "choropleth"
           }
          ],
          "contour": [
           {
            "colorbar": {
             "outlinewidth": 0,
             "ticks": ""
            },
            "colorscale": [
             [
              0,
              "#0d0887"
             ],
             [
              0.1111111111111111,
              "#46039f"
             ],
             [
              0.2222222222222222,
              "#7201a8"
             ],
             [
              0.3333333333333333,
              "#9c179e"
             ],
             [
              0.4444444444444444,
              "#bd3786"
             ],
             [
              0.5555555555555556,
              "#d8576b"
             ],
             [
              0.6666666666666666,
              "#ed7953"
             ],
             [
              0.7777777777777778,
              "#fb9f3a"
             ],
             [
              0.8888888888888888,
              "#fdca26"
             ],
             [
              1,
              "#f0f921"
             ]
            ],
            "type": "contour"
           }
          ],
          "contourcarpet": [
           {
            "colorbar": {
             "outlinewidth": 0,
             "ticks": ""
            },
            "type": "contourcarpet"
           }
          ],
          "heatmap": [
           {
            "colorbar": {
             "outlinewidth": 0,
             "ticks": ""
            },
            "colorscale": [
             [
              0,
              "#0d0887"
             ],
             [
              0.1111111111111111,
              "#46039f"
             ],
             [
              0.2222222222222222,
              "#7201a8"
             ],
             [
              0.3333333333333333,
              "#9c179e"
             ],
             [
              0.4444444444444444,
              "#bd3786"
             ],
             [
              0.5555555555555556,
              "#d8576b"
             ],
             [
              0.6666666666666666,
              "#ed7953"
             ],
             [
              0.7777777777777778,
              "#fb9f3a"
             ],
             [
              0.8888888888888888,
              "#fdca26"
             ],
             [
              1,
              "#f0f921"
             ]
            ],
            "type": "heatmap"
           }
          ],
          "heatmapgl": [
           {
            "colorbar": {
             "outlinewidth": 0,
             "ticks": ""
            },
            "colorscale": [
             [
              0,
              "#0d0887"
             ],
             [
              0.1111111111111111,
              "#46039f"
             ],
             [
              0.2222222222222222,
              "#7201a8"
             ],
             [
              0.3333333333333333,
              "#9c179e"
             ],
             [
              0.4444444444444444,
              "#bd3786"
             ],
             [
              0.5555555555555556,
              "#d8576b"
             ],
             [
              0.6666666666666666,
              "#ed7953"
             ],
             [
              0.7777777777777778,
              "#fb9f3a"
             ],
             [
              0.8888888888888888,
              "#fdca26"
             ],
             [
              1,
              "#f0f921"
             ]
            ],
            "type": "heatmapgl"
           }
          ],
          "histogram": [
           {
            "marker": {
             "pattern": {
              "fillmode": "overlay",
              "size": 10,
              "solidity": 0.2
             }
            },
            "type": "histogram"
           }
          ],
          "histogram2d": [
           {
            "colorbar": {
             "outlinewidth": 0,
             "ticks": ""
            },
            "colorscale": [
             [
              0,
              "#0d0887"
             ],
             [
              0.1111111111111111,
              "#46039f"
             ],
             [
              0.2222222222222222,
              "#7201a8"
             ],
             [
              0.3333333333333333,
              "#9c179e"
             ],
             [
              0.4444444444444444,
              "#bd3786"
             ],
             [
              0.5555555555555556,
              "#d8576b"
             ],
             [
              0.6666666666666666,
              "#ed7953"
             ],
             [
              0.7777777777777778,
              "#fb9f3a"
             ],
             [
              0.8888888888888888,
              "#fdca26"
             ],
             [
              1,
              "#f0f921"
             ]
            ],
            "type": "histogram2d"
           }
          ],
          "histogram2dcontour": [
           {
            "colorbar": {
             "outlinewidth": 0,
             "ticks": ""
            },
            "colorscale": [
             [
              0,
              "#0d0887"
             ],
             [
              0.1111111111111111,
              "#46039f"
             ],
             [
              0.2222222222222222,
              "#7201a8"
             ],
             [
              0.3333333333333333,
              "#9c179e"
             ],
             [
              0.4444444444444444,
              "#bd3786"
             ],
             [
              0.5555555555555556,
              "#d8576b"
             ],
             [
              0.6666666666666666,
              "#ed7953"
             ],
             [
              0.7777777777777778,
              "#fb9f3a"
             ],
             [
              0.8888888888888888,
              "#fdca26"
             ],
             [
              1,
              "#f0f921"
             ]
            ],
            "type": "histogram2dcontour"
           }
          ],
          "mesh3d": [
           {
            "colorbar": {
             "outlinewidth": 0,
             "ticks": ""
            },
            "type": "mesh3d"
           }
          ],
          "parcoords": [
           {
            "line": {
             "colorbar": {
              "outlinewidth": 0,
              "ticks": ""
             }
            },
            "type": "parcoords"
           }
          ],
          "pie": [
           {
            "automargin": true,
            "type": "pie"
           }
          ],
          "scatter": [
           {
            "marker": {
             "colorbar": {
              "outlinewidth": 0,
              "ticks": ""
             }
            },
            "type": "scatter"
           }
          ],
          "scatter3d": [
           {
            "line": {
             "colorbar": {
              "outlinewidth": 0,
              "ticks": ""
             }
            },
            "marker": {
             "colorbar": {
              "outlinewidth": 0,
              "ticks": ""
             }
            },
            "type": "scatter3d"
           }
          ],
          "scattercarpet": [
           {
            "marker": {
             "colorbar": {
              "outlinewidth": 0,
              "ticks": ""
             }
            },
            "type": "scattercarpet"
           }
          ],
          "scattergeo": [
           {
            "marker": {
             "colorbar": {
              "outlinewidth": 0,
              "ticks": ""
             }
            },
            "type": "scattergeo"
           }
          ],
          "scattergl": [
           {
            "marker": {
             "colorbar": {
              "outlinewidth": 0,
              "ticks": ""
             }
            },
            "type": "scattergl"
           }
          ],
          "scattermapbox": [
           {
            "marker": {
             "colorbar": {
              "outlinewidth": 0,
              "ticks": ""
             }
            },
            "type": "scattermapbox"
           }
          ],
          "scatterpolar": [
           {
            "marker": {
             "colorbar": {
              "outlinewidth": 0,
              "ticks": ""
             }
            },
            "type": "scatterpolar"
           }
          ],
          "scatterpolargl": [
           {
            "marker": {
             "colorbar": {
              "outlinewidth": 0,
              "ticks": ""
             }
            },
            "type": "scatterpolargl"
           }
          ],
          "scatterternary": [
           {
            "marker": {
             "colorbar": {
              "outlinewidth": 0,
              "ticks": ""
             }
            },
            "type": "scatterternary"
           }
          ],
          "surface": [
           {
            "colorbar": {
             "outlinewidth": 0,
             "ticks": ""
            },
            "colorscale": [
             [
              0,
              "#0d0887"
             ],
             [
              0.1111111111111111,
              "#46039f"
             ],
             [
              0.2222222222222222,
              "#7201a8"
             ],
             [
              0.3333333333333333,
              "#9c179e"
             ],
             [
              0.4444444444444444,
              "#bd3786"
             ],
             [
              0.5555555555555556,
              "#d8576b"
             ],
             [
              0.6666666666666666,
              "#ed7953"
             ],
             [
              0.7777777777777778,
              "#fb9f3a"
             ],
             [
              0.8888888888888888,
              "#fdca26"
             ],
             [
              1,
              "#f0f921"
             ]
            ],
            "type": "surface"
           }
          ],
          "table": [
           {
            "cells": {
             "fill": {
              "color": "#EBF0F8"
             },
             "line": {
              "color": "white"
             }
            },
            "header": {
             "fill": {
              "color": "#C8D4E3"
             },
             "line": {
              "color": "white"
             }
            },
            "type": "table"
           }
          ]
         },
         "layout": {
          "annotationdefaults": {
           "arrowcolor": "#2a3f5f",
           "arrowhead": 0,
           "arrowwidth": 1
          },
          "autotypenumbers": "strict",
          "coloraxis": {
           "colorbar": {
            "outlinewidth": 0,
            "ticks": ""
           }
          },
          "colorscale": {
           "diverging": [
            [
             0,
             "#8e0152"
            ],
            [
             0.1,
             "#c51b7d"
            ],
            [
             0.2,
             "#de77ae"
            ],
            [
             0.3,
             "#f1b6da"
            ],
            [
             0.4,
             "#fde0ef"
            ],
            [
             0.5,
             "#f7f7f7"
            ],
            [
             0.6,
             "#e6f5d0"
            ],
            [
             0.7,
             "#b8e186"
            ],
            [
             0.8,
             "#7fbc41"
            ],
            [
             0.9,
             "#4d9221"
            ],
            [
             1,
             "#276419"
            ]
           ],
           "sequential": [
            [
             0,
             "#0d0887"
            ],
            [
             0.1111111111111111,
             "#46039f"
            ],
            [
             0.2222222222222222,
             "#7201a8"
            ],
            [
             0.3333333333333333,
             "#9c179e"
            ],
            [
             0.4444444444444444,
             "#bd3786"
            ],
            [
             0.5555555555555556,
             "#d8576b"
            ],
            [
             0.6666666666666666,
             "#ed7953"
            ],
            [
             0.7777777777777778,
             "#fb9f3a"
            ],
            [
             0.8888888888888888,
             "#fdca26"
            ],
            [
             1,
             "#f0f921"
            ]
           ],
           "sequentialminus": [
            [
             0,
             "#0d0887"
            ],
            [
             0.1111111111111111,
             "#46039f"
            ],
            [
             0.2222222222222222,
             "#7201a8"
            ],
            [
             0.3333333333333333,
             "#9c179e"
            ],
            [
             0.4444444444444444,
             "#bd3786"
            ],
            [
             0.5555555555555556,
             "#d8576b"
            ],
            [
             0.6666666666666666,
             "#ed7953"
            ],
            [
             0.7777777777777778,
             "#fb9f3a"
            ],
            [
             0.8888888888888888,
             "#fdca26"
            ],
            [
             1,
             "#f0f921"
            ]
           ]
          },
          "colorway": [
           "#636efa",
           "#EF553B",
           "#00cc96",
           "#ab63fa",
           "#FFA15A",
           "#19d3f3",
           "#FF6692",
           "#B6E880",
           "#FF97FF",
           "#FECB52"
          ],
          "font": {
           "color": "#2a3f5f"
          },
          "geo": {
           "bgcolor": "white",
           "lakecolor": "white",
           "landcolor": "#E5ECF6",
           "showlakes": true,
           "showland": true,
           "subunitcolor": "white"
          },
          "hoverlabel": {
           "align": "left"
          },
          "hovermode": "closest",
          "mapbox": {
           "style": "light"
          },
          "paper_bgcolor": "white",
          "plot_bgcolor": "#E5ECF6",
          "polar": {
           "angularaxis": {
            "gridcolor": "white",
            "linecolor": "white",
            "ticks": ""
           },
           "bgcolor": "#E5ECF6",
           "radialaxis": {
            "gridcolor": "white",
            "linecolor": "white",
            "ticks": ""
           }
          },
          "scene": {
           "xaxis": {
            "backgroundcolor": "#E5ECF6",
            "gridcolor": "white",
            "gridwidth": 2,
            "linecolor": "white",
            "showbackground": true,
            "ticks": "",
            "zerolinecolor": "white"
           },
           "yaxis": {
            "backgroundcolor": "#E5ECF6",
            "gridcolor": "white",
            "gridwidth": 2,
            "linecolor": "white",
            "showbackground": true,
            "ticks": "",
            "zerolinecolor": "white"
           },
           "zaxis": {
            "backgroundcolor": "#E5ECF6",
            "gridcolor": "white",
            "gridwidth": 2,
            "linecolor": "white",
            "showbackground": true,
            "ticks": "",
            "zerolinecolor": "white"
           }
          },
          "shapedefaults": {
           "line": {
            "color": "#2a3f5f"
           }
          },
          "ternary": {
           "aaxis": {
            "gridcolor": "white",
            "linecolor": "white",
            "ticks": ""
           },
           "baxis": {
            "gridcolor": "white",
            "linecolor": "white",
            "ticks": ""
           },
           "bgcolor": "#E5ECF6",
           "caxis": {
            "gridcolor": "white",
            "linecolor": "white",
            "ticks": ""
           }
          },
          "title": {
           "x": 0.05
          },
          "xaxis": {
           "automargin": true,
           "gridcolor": "white",
           "linecolor": "white",
           "ticks": "",
           "title": {
            "standoff": 15
           },
           "zerolinecolor": "white",
           "zerolinewidth": 2
          },
          "yaxis": {
           "automargin": true,
           "gridcolor": "white",
           "linecolor": "white",
           "ticks": "",
           "title": {
            "standoff": 15
           },
           "zerolinecolor": "white",
           "zerolinewidth": 2
          }
         }
        },
        "yaxis": {
         "title": {
          "text": "RMSE"
         }
        }
       }
      },
      "text/html": [
       "<div>                            <div id=\"55be36af-72df-4e3f-8165-7f5a57ce2ae1\" class=\"plotly-graph-div\" style=\"height:525px; width:100%;\"></div>            <script type=\"text/javascript\">                require([\"plotly\"], function(Plotly) {                    window.PLOTLYENV=window.PLOTLYENV || {};                                    if (document.getElementById(\"55be36af-72df-4e3f-8165-7f5a57ce2ae1\")) {                    Plotly.newPlot(                        \"55be36af-72df-4e3f-8165-7f5a57ce2ae1\",                        [{\"name\":\"Training RMSE\",\"x\":[\"c\",\"c,d\",\"c,d,h\",\"c,d,h,w\",\"c,d,h,w,a\",\"c,d,h,w,a,m\",\"c,d,h,w,a,m,o\",\"c,d,h,w,a,m,o,n\"],\"y\":[4.888109236813685,4.58757379901803,4.525395490245242,4.216877763288668,4.213763450275896,3.3799994809258993,3.2488224012050075,1.1387313016649125],\"type\":\"bar\"},{\"name\":\"CV RMSE\",\"x\":[\"c\",\"c,d\",\"c,d,h\",\"c,d,h,w\",\"c,d,h,w,a\",\"c,d,h,w,a,m\",\"c,d,h,w,a,m,o\",\"c,d,h,w,a,m,o,n\"],\"y\":[4.876661068256956,4.579060426624026,4.556808311664746,4.252718625749385,4.256844728700814,3.4557657065586773,3.3323381513276003,3.728919763030074],\"type\":\"bar\"},{\"name\":\"Test RMSE\",\"opacity\":0.3,\"x\":[\"c\",\"c,d\",\"c,d,h\",\"c,d,h,w\",\"c,d,h,w,a\",\"c,d,h,w,a,m\",\"c,d,h,w,a,m,o\",\"c,d,h,w,a,m,o,n\"],\"y\":[5.055013548375552,4.766156989852369,4.5838617699808735,4.32584781613103,4.349888692769132,3.5508281716401946,3.3746613014711677,3.507443289513132],\"type\":\"bar\"}],                        {\"template\":{\"data\":{\"bar\":[{\"error_x\":{\"color\":\"#2a3f5f\"},\"error_y\":{\"color\":\"#2a3f5f\"},\"marker\":{\"line\":{\"color\":\"#E5ECF6\",\"width\":0.5},\"pattern\":{\"fillmode\":\"overlay\",\"size\":10,\"solidity\":0.2}},\"type\":\"bar\"}],\"barpolar\":[{\"marker\":{\"line\":{\"color\":\"#E5ECF6\",\"width\":0.5},\"pattern\":{\"fillmode\":\"overlay\",\"size\":10,\"solidity\":0.2}},\"type\":\"barpolar\"}],\"carpet\":[{\"aaxis\":{\"endlinecolor\":\"#2a3f5f\",\"gridcolor\":\"white\",\"linecolor\":\"white\",\"minorgridcolor\":\"white\",\"startlinecolor\":\"#2a3f5f\"},\"baxis\":{\"endlinecolor\":\"#2a3f5f\",\"gridcolor\":\"white\",\"linecolor\":\"white\",\"minorgridcolor\":\"white\",\"startlinecolor\":\"#2a3f5f\"},\"type\":\"carpet\"}],\"choropleth\":[{\"colorbar\":{\"outlinewidth\":0,\"ticks\":\"\"},\"type\":\"choropleth\"}],\"contour\":[{\"colorbar\":{\"outlinewidth\":0,\"ticks\":\"\"},\"colorscale\":[[0.0,\"#0d0887\"],[0.1111111111111111,\"#46039f\"],[0.2222222222222222,\"#7201a8\"],[0.3333333333333333,\"#9c179e\"],[0.4444444444444444,\"#bd3786\"],[0.5555555555555556,\"#d8576b\"],[0.6666666666666666,\"#ed7953\"],[0.7777777777777778,\"#fb9f3a\"],[0.8888888888888888,\"#fdca26\"],[1.0,\"#f0f921\"]],\"type\":\"contour\"}],\"contourcarpet\":[{\"colorbar\":{\"outlinewidth\":0,\"ticks\":\"\"},\"type\":\"contourcarpet\"}],\"heatmap\":[{\"colorbar\":{\"outlinewidth\":0,\"ticks\":\"\"},\"colorscale\":[[0.0,\"#0d0887\"],[0.1111111111111111,\"#46039f\"],[0.2222222222222222,\"#7201a8\"],[0.3333333333333333,\"#9c179e\"],[0.4444444444444444,\"#bd3786\"],[0.5555555555555556,\"#d8576b\"],[0.6666666666666666,\"#ed7953\"],[0.7777777777777778,\"#fb9f3a\"],[0.8888888888888888,\"#fdca26\"],[1.0,\"#f0f921\"]],\"type\":\"heatmap\"}],\"heatmapgl\":[{\"colorbar\":{\"outlinewidth\":0,\"ticks\":\"\"},\"colorscale\":[[0.0,\"#0d0887\"],[0.1111111111111111,\"#46039f\"],[0.2222222222222222,\"#7201a8\"],[0.3333333333333333,\"#9c179e\"],[0.4444444444444444,\"#bd3786\"],[0.5555555555555556,\"#d8576b\"],[0.6666666666666666,\"#ed7953\"],[0.7777777777777778,\"#fb9f3a\"],[0.8888888888888888,\"#fdca26\"],[1.0,\"#f0f921\"]],\"type\":\"heatmapgl\"}],\"histogram\":[{\"marker\":{\"pattern\":{\"fillmode\":\"overlay\",\"size\":10,\"solidity\":0.2}},\"type\":\"histogram\"}],\"histogram2d\":[{\"colorbar\":{\"outlinewidth\":0,\"ticks\":\"\"},\"colorscale\":[[0.0,\"#0d0887\"],[0.1111111111111111,\"#46039f\"],[0.2222222222222222,\"#7201a8\"],[0.3333333333333333,\"#9c179e\"],[0.4444444444444444,\"#bd3786\"],[0.5555555555555556,\"#d8576b\"],[0.6666666666666666,\"#ed7953\"],[0.7777777777777778,\"#fb9f3a\"],[0.8888888888888888,\"#fdca26\"],[1.0,\"#f0f921\"]],\"type\":\"histogram2d\"}],\"histogram2dcontour\":[{\"colorbar\":{\"outlinewidth\":0,\"ticks\":\"\"},\"colorscale\":[[0.0,\"#0d0887\"],[0.1111111111111111,\"#46039f\"],[0.2222222222222222,\"#7201a8\"],[0.3333333333333333,\"#9c179e\"],[0.4444444444444444,\"#bd3786\"],[0.5555555555555556,\"#d8576b\"],[0.6666666666666666,\"#ed7953\"],[0.7777777777777778,\"#fb9f3a\"],[0.8888888888888888,\"#fdca26\"],[1.0,\"#f0f921\"]],\"type\":\"histogram2dcontour\"}],\"mesh3d\":[{\"colorbar\":{\"outlinewidth\":0,\"ticks\":\"\"},\"type\":\"mesh3d\"}],\"parcoords\":[{\"line\":{\"colorbar\":{\"outlinewidth\":0,\"ticks\":\"\"}},\"type\":\"parcoords\"}],\"pie\":[{\"automargin\":true,\"type\":\"pie\"}],\"scatter\":[{\"marker\":{\"colorbar\":{\"outlinewidth\":0,\"ticks\":\"\"}},\"type\":\"scatter\"}],\"scatter3d\":[{\"line\":{\"colorbar\":{\"outlinewidth\":0,\"ticks\":\"\"}},\"marker\":{\"colorbar\":{\"outlinewidth\":0,\"ticks\":\"\"}},\"type\":\"scatter3d\"}],\"scattercarpet\":[{\"marker\":{\"colorbar\":{\"outlinewidth\":0,\"ticks\":\"\"}},\"type\":\"scattercarpet\"}],\"scattergeo\":[{\"marker\":{\"colorbar\":{\"outlinewidth\":0,\"ticks\":\"\"}},\"type\":\"scattergeo\"}],\"scattergl\":[{\"marker\":{\"colorbar\":{\"outlinewidth\":0,\"ticks\":\"\"}},\"type\":\"scattergl\"}],\"scattermapbox\":[{\"marker\":{\"colorbar\":{\"outlinewidth\":0,\"ticks\":\"\"}},\"type\":\"scattermapbox\"}],\"scatterpolar\":[{\"marker\":{\"colorbar\":{\"outlinewidth\":0,\"ticks\":\"\"}},\"type\":\"scatterpolar\"}],\"scatterpolargl\":[{\"marker\":{\"colorbar\":{\"outlinewidth\":0,\"ticks\":\"\"}},\"type\":\"scatterpolargl\"}],\"scatterternary\":[{\"marker\":{\"colorbar\":{\"outlinewidth\":0,\"ticks\":\"\"}},\"type\":\"scatterternary\"}],\"surface\":[{\"colorbar\":{\"outlinewidth\":0,\"ticks\":\"\"},\"colorscale\":[[0.0,\"#0d0887\"],[0.1111111111111111,\"#46039f\"],[0.2222222222222222,\"#7201a8\"],[0.3333333333333333,\"#9c179e\"],[0.4444444444444444,\"#bd3786\"],[0.5555555555555556,\"#d8576b\"],[0.6666666666666666,\"#ed7953\"],[0.7777777777777778,\"#fb9f3a\"],[0.8888888888888888,\"#fdca26\"],[1.0,\"#f0f921\"]],\"type\":\"surface\"}],\"table\":[{\"cells\":{\"fill\":{\"color\":\"#EBF0F8\"},\"line\":{\"color\":\"white\"}},\"header\":{\"fill\":{\"color\":\"#C8D4E3\"},\"line\":{\"color\":\"white\"}},\"type\":\"table\"}]},\"layout\":{\"annotationdefaults\":{\"arrowcolor\":\"#2a3f5f\",\"arrowhead\":0,\"arrowwidth\":1},\"autotypenumbers\":\"strict\",\"coloraxis\":{\"colorbar\":{\"outlinewidth\":0,\"ticks\":\"\"}},\"colorscale\":{\"diverging\":[[0,\"#8e0152\"],[0.1,\"#c51b7d\"],[0.2,\"#de77ae\"],[0.3,\"#f1b6da\"],[0.4,\"#fde0ef\"],[0.5,\"#f7f7f7\"],[0.6,\"#e6f5d0\"],[0.7,\"#b8e186\"],[0.8,\"#7fbc41\"],[0.9,\"#4d9221\"],[1,\"#276419\"]],\"sequential\":[[0.0,\"#0d0887\"],[0.1111111111111111,\"#46039f\"],[0.2222222222222222,\"#7201a8\"],[0.3333333333333333,\"#9c179e\"],[0.4444444444444444,\"#bd3786\"],[0.5555555555555556,\"#d8576b\"],[0.6666666666666666,\"#ed7953\"],[0.7777777777777778,\"#fb9f3a\"],[0.8888888888888888,\"#fdca26\"],[1.0,\"#f0f921\"]],\"sequentialminus\":[[0.0,\"#0d0887\"],[0.1111111111111111,\"#46039f\"],[0.2222222222222222,\"#7201a8\"],[0.3333333333333333,\"#9c179e\"],[0.4444444444444444,\"#bd3786\"],[0.5555555555555556,\"#d8576b\"],[0.6666666666666666,\"#ed7953\"],[0.7777777777777778,\"#fb9f3a\"],[0.8888888888888888,\"#fdca26\"],[1.0,\"#f0f921\"]]},\"colorway\":[\"#636efa\",\"#EF553B\",\"#00cc96\",\"#ab63fa\",\"#FFA15A\",\"#19d3f3\",\"#FF6692\",\"#B6E880\",\"#FF97FF\",\"#FECB52\"],\"font\":{\"color\":\"#2a3f5f\"},\"geo\":{\"bgcolor\":\"white\",\"lakecolor\":\"white\",\"landcolor\":\"#E5ECF6\",\"showlakes\":true,\"showland\":true,\"subunitcolor\":\"white\"},\"hoverlabel\":{\"align\":\"left\"},\"hovermode\":\"closest\",\"mapbox\":{\"style\":\"light\"},\"paper_bgcolor\":\"white\",\"plot_bgcolor\":\"#E5ECF6\",\"polar\":{\"angularaxis\":{\"gridcolor\":\"white\",\"linecolor\":\"white\",\"ticks\":\"\"},\"bgcolor\":\"#E5ECF6\",\"radialaxis\":{\"gridcolor\":\"white\",\"linecolor\":\"white\",\"ticks\":\"\"}},\"scene\":{\"xaxis\":{\"backgroundcolor\":\"#E5ECF6\",\"gridcolor\":\"white\",\"gridwidth\":2,\"linecolor\":\"white\",\"showbackground\":true,\"ticks\":\"\",\"zerolinecolor\":\"white\"},\"yaxis\":{\"backgroundcolor\":\"#E5ECF6\",\"gridcolor\":\"white\",\"gridwidth\":2,\"linecolor\":\"white\",\"showbackground\":true,\"ticks\":\"\",\"zerolinecolor\":\"white\"},\"zaxis\":{\"backgroundcolor\":\"#E5ECF6\",\"gridcolor\":\"white\",\"gridwidth\":2,\"linecolor\":\"white\",\"showbackground\":true,\"ticks\":\"\",\"zerolinecolor\":\"white\"}},\"shapedefaults\":{\"line\":{\"color\":\"#2a3f5f\"}},\"ternary\":{\"aaxis\":{\"gridcolor\":\"white\",\"linecolor\":\"white\",\"ticks\":\"\"},\"baxis\":{\"gridcolor\":\"white\",\"linecolor\":\"white\",\"ticks\":\"\"},\"bgcolor\":\"#E5ECF6\",\"caxis\":{\"gridcolor\":\"white\",\"linecolor\":\"white\",\"ticks\":\"\"}},\"title\":{\"x\":0.05},\"xaxis\":{\"automargin\":true,\"gridcolor\":\"white\",\"linecolor\":\"white\",\"ticks\":\"\",\"title\":{\"standoff\":15},\"zerolinecolor\":\"white\",\"zerolinewidth\":2},\"yaxis\":{\"automargin\":true,\"gridcolor\":\"white\",\"linecolor\":\"white\",\"ticks\":\"\",\"title\":{\"standoff\":15},\"zerolinecolor\":\"white\",\"zerolinewidth\":2}}},\"yaxis\":{\"title\":{\"text\":\"RMSE\"}}},                        {\"responsive\": true}                    ).then(function(){\n",
       "                            \n",
       "var gd = document.getElementById('55be36af-72df-4e3f-8165-7f5a57ce2ae1');\n",
       "var x = new MutationObserver(function (mutations, observer) {{\n",
       "        var display = window.getComputedStyle(gd).display;\n",
       "        if (!display || display === 'none') {{\n",
       "            console.log([gd, 'removed!']);\n",
       "            Plotly.purge(gd);\n",
       "            observer.disconnect();\n",
       "        }}\n",
       "}});\n",
       "\n",
       "// Listen for the removal of the full notebook cells\n",
       "var notebookContainer = gd.closest('#notebook-container');\n",
       "if (notebookContainer) {{\n",
       "    x.observe(notebookContainer, {childList: true});\n",
       "}}\n",
       "\n",
       "// Listen for the clearing of the current output cell\n",
       "var outputEl = gd.closest('.output');\n",
       "if (outputEl) {{\n",
       "    x.observe(outputEl, {childList: true});\n",
       "}}\n",
       "\n",
       "                        })                };                });            </script>        </div>"
      ]
     },
     "metadata": {},
     "output_type": "display_data"
    }
   ],
   "source": [
    "compare_models(models)"
   ]
  },
  {
   "cell_type": "markdown",
   "metadata": {},
   "source": [
    "Notice that adding the origin of the vehicle resulted in a small decrease in training error and validation error but adding the name resulted in a large decrease in training error and moderate increase in validation error.  The introduction of vehicle name feature resulted in overfitting.  To see why this might have happened let's look at the number of features in each model."
   ]
  },
  {
   "cell_type": "code",
   "execution_count": 26,
   "metadata": {},
   "outputs": [
    {
     "data": {
      "application/vnd.plotly.v1+json": {
       "config": {
        "plotlyServerURL": "https://plot.ly"
       },
       "data": [
        {
         "type": "bar",
         "x": [
          "c",
          "c,d",
          "c,d,h",
          "c,d,h,w",
          "c,d,h,w,a",
          "c,d,h,w,a,m",
          "c,d,h,w,a,m,o",
          "c,d,h,w,a,m,o,n"
         ],
         "y": [
          1,
          2,
          3,
          4,
          5,
          6,
          9,
          270
         ]
        }
       ],
       "layout": {
        "template": {
         "data": {
          "bar": [
           {
            "error_x": {
             "color": "#2a3f5f"
            },
            "error_y": {
             "color": "#2a3f5f"
            },
            "marker": {
             "line": {
              "color": "#E5ECF6",
              "width": 0.5
             },
             "pattern": {
              "fillmode": "overlay",
              "size": 10,
              "solidity": 0.2
             }
            },
            "type": "bar"
           }
          ],
          "barpolar": [
           {
            "marker": {
             "line": {
              "color": "#E5ECF6",
              "width": 0.5
             },
             "pattern": {
              "fillmode": "overlay",
              "size": 10,
              "solidity": 0.2
             }
            },
            "type": "barpolar"
           }
          ],
          "carpet": [
           {
            "aaxis": {
             "endlinecolor": "#2a3f5f",
             "gridcolor": "white",
             "linecolor": "white",
             "minorgridcolor": "white",
             "startlinecolor": "#2a3f5f"
            },
            "baxis": {
             "endlinecolor": "#2a3f5f",
             "gridcolor": "white",
             "linecolor": "white",
             "minorgridcolor": "white",
             "startlinecolor": "#2a3f5f"
            },
            "type": "carpet"
           }
          ],
          "choropleth": [
           {
            "colorbar": {
             "outlinewidth": 0,
             "ticks": ""
            },
            "type": "choropleth"
           }
          ],
          "contour": [
           {
            "colorbar": {
             "outlinewidth": 0,
             "ticks": ""
            },
            "colorscale": [
             [
              0,
              "#0d0887"
             ],
             [
              0.1111111111111111,
              "#46039f"
             ],
             [
              0.2222222222222222,
              "#7201a8"
             ],
             [
              0.3333333333333333,
              "#9c179e"
             ],
             [
              0.4444444444444444,
              "#bd3786"
             ],
             [
              0.5555555555555556,
              "#d8576b"
             ],
             [
              0.6666666666666666,
              "#ed7953"
             ],
             [
              0.7777777777777778,
              "#fb9f3a"
             ],
             [
              0.8888888888888888,
              "#fdca26"
             ],
             [
              1,
              "#f0f921"
             ]
            ],
            "type": "contour"
           }
          ],
          "contourcarpet": [
           {
            "colorbar": {
             "outlinewidth": 0,
             "ticks": ""
            },
            "type": "contourcarpet"
           }
          ],
          "heatmap": [
           {
            "colorbar": {
             "outlinewidth": 0,
             "ticks": ""
            },
            "colorscale": [
             [
              0,
              "#0d0887"
             ],
             [
              0.1111111111111111,
              "#46039f"
             ],
             [
              0.2222222222222222,
              "#7201a8"
             ],
             [
              0.3333333333333333,
              "#9c179e"
             ],
             [
              0.4444444444444444,
              "#bd3786"
             ],
             [
              0.5555555555555556,
              "#d8576b"
             ],
             [
              0.6666666666666666,
              "#ed7953"
             ],
             [
              0.7777777777777778,
              "#fb9f3a"
             ],
             [
              0.8888888888888888,
              "#fdca26"
             ],
             [
              1,
              "#f0f921"
             ]
            ],
            "type": "heatmap"
           }
          ],
          "heatmapgl": [
           {
            "colorbar": {
             "outlinewidth": 0,
             "ticks": ""
            },
            "colorscale": [
             [
              0,
              "#0d0887"
             ],
             [
              0.1111111111111111,
              "#46039f"
             ],
             [
              0.2222222222222222,
              "#7201a8"
             ],
             [
              0.3333333333333333,
              "#9c179e"
             ],
             [
              0.4444444444444444,
              "#bd3786"
             ],
             [
              0.5555555555555556,
              "#d8576b"
             ],
             [
              0.6666666666666666,
              "#ed7953"
             ],
             [
              0.7777777777777778,
              "#fb9f3a"
             ],
             [
              0.8888888888888888,
              "#fdca26"
             ],
             [
              1,
              "#f0f921"
             ]
            ],
            "type": "heatmapgl"
           }
          ],
          "histogram": [
           {
            "marker": {
             "pattern": {
              "fillmode": "overlay",
              "size": 10,
              "solidity": 0.2
             }
            },
            "type": "histogram"
           }
          ],
          "histogram2d": [
           {
            "colorbar": {
             "outlinewidth": 0,
             "ticks": ""
            },
            "colorscale": [
             [
              0,
              "#0d0887"
             ],
             [
              0.1111111111111111,
              "#46039f"
             ],
             [
              0.2222222222222222,
              "#7201a8"
             ],
             [
              0.3333333333333333,
              "#9c179e"
             ],
             [
              0.4444444444444444,
              "#bd3786"
             ],
             [
              0.5555555555555556,
              "#d8576b"
             ],
             [
              0.6666666666666666,
              "#ed7953"
             ],
             [
              0.7777777777777778,
              "#fb9f3a"
             ],
             [
              0.8888888888888888,
              "#fdca26"
             ],
             [
              1,
              "#f0f921"
             ]
            ],
            "type": "histogram2d"
           }
          ],
          "histogram2dcontour": [
           {
            "colorbar": {
             "outlinewidth": 0,
             "ticks": ""
            },
            "colorscale": [
             [
              0,
              "#0d0887"
             ],
             [
              0.1111111111111111,
              "#46039f"
             ],
             [
              0.2222222222222222,
              "#7201a8"
             ],
             [
              0.3333333333333333,
              "#9c179e"
             ],
             [
              0.4444444444444444,
              "#bd3786"
             ],
             [
              0.5555555555555556,
              "#d8576b"
             ],
             [
              0.6666666666666666,
              "#ed7953"
             ],
             [
              0.7777777777777778,
              "#fb9f3a"
             ],
             [
              0.8888888888888888,
              "#fdca26"
             ],
             [
              1,
              "#f0f921"
             ]
            ],
            "type": "histogram2dcontour"
           }
          ],
          "mesh3d": [
           {
            "colorbar": {
             "outlinewidth": 0,
             "ticks": ""
            },
            "type": "mesh3d"
           }
          ],
          "parcoords": [
           {
            "line": {
             "colorbar": {
              "outlinewidth": 0,
              "ticks": ""
             }
            },
            "type": "parcoords"
           }
          ],
          "pie": [
           {
            "automargin": true,
            "type": "pie"
           }
          ],
          "scatter": [
           {
            "marker": {
             "colorbar": {
              "outlinewidth": 0,
              "ticks": ""
             }
            },
            "type": "scatter"
           }
          ],
          "scatter3d": [
           {
            "line": {
             "colorbar": {
              "outlinewidth": 0,
              "ticks": ""
             }
            },
            "marker": {
             "colorbar": {
              "outlinewidth": 0,
              "ticks": ""
             }
            },
            "type": "scatter3d"
           }
          ],
          "scattercarpet": [
           {
            "marker": {
             "colorbar": {
              "outlinewidth": 0,
              "ticks": ""
             }
            },
            "type": "scattercarpet"
           }
          ],
          "scattergeo": [
           {
            "marker": {
             "colorbar": {
              "outlinewidth": 0,
              "ticks": ""
             }
            },
            "type": "scattergeo"
           }
          ],
          "scattergl": [
           {
            "marker": {
             "colorbar": {
              "outlinewidth": 0,
              "ticks": ""
             }
            },
            "type": "scattergl"
           }
          ],
          "scattermapbox": [
           {
            "marker": {
             "colorbar": {
              "outlinewidth": 0,
              "ticks": ""
             }
            },
            "type": "scattermapbox"
           }
          ],
          "scatterpolar": [
           {
            "marker": {
             "colorbar": {
              "outlinewidth": 0,
              "ticks": ""
             }
            },
            "type": "scatterpolar"
           }
          ],
          "scatterpolargl": [
           {
            "marker": {
             "colorbar": {
              "outlinewidth": 0,
              "ticks": ""
             }
            },
            "type": "scatterpolargl"
           }
          ],
          "scatterternary": [
           {
            "marker": {
             "colorbar": {
              "outlinewidth": 0,
              "ticks": ""
             }
            },
            "type": "scatterternary"
           }
          ],
          "surface": [
           {
            "colorbar": {
             "outlinewidth": 0,
             "ticks": ""
            },
            "colorscale": [
             [
              0,
              "#0d0887"
             ],
             [
              0.1111111111111111,
              "#46039f"
             ],
             [
              0.2222222222222222,
              "#7201a8"
             ],
             [
              0.3333333333333333,
              "#9c179e"
             ],
             [
              0.4444444444444444,
              "#bd3786"
             ],
             [
              0.5555555555555556,
              "#d8576b"
             ],
             [
              0.6666666666666666,
              "#ed7953"
             ],
             [
              0.7777777777777778,
              "#fb9f3a"
             ],
             [
              0.8888888888888888,
              "#fdca26"
             ],
             [
              1,
              "#f0f921"
             ]
            ],
            "type": "surface"
           }
          ],
          "table": [
           {
            "cells": {
             "fill": {
              "color": "#EBF0F8"
             },
             "line": {
              "color": "white"
             }
            },
            "header": {
             "fill": {
              "color": "#C8D4E3"
             },
             "line": {
              "color": "white"
             }
            },
            "type": "table"
           }
          ]
         },
         "layout": {
          "annotationdefaults": {
           "arrowcolor": "#2a3f5f",
           "arrowhead": 0,
           "arrowwidth": 1
          },
          "autotypenumbers": "strict",
          "coloraxis": {
           "colorbar": {
            "outlinewidth": 0,
            "ticks": ""
           }
          },
          "colorscale": {
           "diverging": [
            [
             0,
             "#8e0152"
            ],
            [
             0.1,
             "#c51b7d"
            ],
            [
             0.2,
             "#de77ae"
            ],
            [
             0.3,
             "#f1b6da"
            ],
            [
             0.4,
             "#fde0ef"
            ],
            [
             0.5,
             "#f7f7f7"
            ],
            [
             0.6,
             "#e6f5d0"
            ],
            [
             0.7,
             "#b8e186"
            ],
            [
             0.8,
             "#7fbc41"
            ],
            [
             0.9,
             "#4d9221"
            ],
            [
             1,
             "#276419"
            ]
           ],
           "sequential": [
            [
             0,
             "#0d0887"
            ],
            [
             0.1111111111111111,
             "#46039f"
            ],
            [
             0.2222222222222222,
             "#7201a8"
            ],
            [
             0.3333333333333333,
             "#9c179e"
            ],
            [
             0.4444444444444444,
             "#bd3786"
            ],
            [
             0.5555555555555556,
             "#d8576b"
            ],
            [
             0.6666666666666666,
             "#ed7953"
            ],
            [
             0.7777777777777778,
             "#fb9f3a"
            ],
            [
             0.8888888888888888,
             "#fdca26"
            ],
            [
             1,
             "#f0f921"
            ]
           ],
           "sequentialminus": [
            [
             0,
             "#0d0887"
            ],
            [
             0.1111111111111111,
             "#46039f"
            ],
            [
             0.2222222222222222,
             "#7201a8"
            ],
            [
             0.3333333333333333,
             "#9c179e"
            ],
            [
             0.4444444444444444,
             "#bd3786"
            ],
            [
             0.5555555555555556,
             "#d8576b"
            ],
            [
             0.6666666666666666,
             "#ed7953"
            ],
            [
             0.7777777777777778,
             "#fb9f3a"
            ],
            [
             0.8888888888888888,
             "#fdca26"
            ],
            [
             1,
             "#f0f921"
            ]
           ]
          },
          "colorway": [
           "#636efa",
           "#EF553B",
           "#00cc96",
           "#ab63fa",
           "#FFA15A",
           "#19d3f3",
           "#FF6692",
           "#B6E880",
           "#FF97FF",
           "#FECB52"
          ],
          "font": {
           "color": "#2a3f5f"
          },
          "geo": {
           "bgcolor": "white",
           "lakecolor": "white",
           "landcolor": "#E5ECF6",
           "showlakes": true,
           "showland": true,
           "subunitcolor": "white"
          },
          "hoverlabel": {
           "align": "left"
          },
          "hovermode": "closest",
          "mapbox": {
           "style": "light"
          },
          "paper_bgcolor": "white",
          "plot_bgcolor": "#E5ECF6",
          "polar": {
           "angularaxis": {
            "gridcolor": "white",
            "linecolor": "white",
            "ticks": ""
           },
           "bgcolor": "#E5ECF6",
           "radialaxis": {
            "gridcolor": "white",
            "linecolor": "white",
            "ticks": ""
           }
          },
          "scene": {
           "xaxis": {
            "backgroundcolor": "#E5ECF6",
            "gridcolor": "white",
            "gridwidth": 2,
            "linecolor": "white",
            "showbackground": true,
            "ticks": "",
            "zerolinecolor": "white"
           },
           "yaxis": {
            "backgroundcolor": "#E5ECF6",
            "gridcolor": "white",
            "gridwidth": 2,
            "linecolor": "white",
            "showbackground": true,
            "ticks": "",
            "zerolinecolor": "white"
           },
           "zaxis": {
            "backgroundcolor": "#E5ECF6",
            "gridcolor": "white",
            "gridwidth": 2,
            "linecolor": "white",
            "showbackground": true,
            "ticks": "",
            "zerolinecolor": "white"
           }
          },
          "shapedefaults": {
           "line": {
            "color": "#2a3f5f"
           }
          },
          "ternary": {
           "aaxis": {
            "gridcolor": "white",
            "linecolor": "white",
            "ticks": ""
           },
           "baxis": {
            "gridcolor": "white",
            "linecolor": "white",
            "ticks": ""
           },
           "bgcolor": "#E5ECF6",
           "caxis": {
            "gridcolor": "white",
            "linecolor": "white",
            "ticks": ""
           }
          },
          "title": {
           "x": 0.05
          },
          "xaxis": {
           "automargin": true,
           "gridcolor": "white",
           "linecolor": "white",
           "ticks": "",
           "title": {
            "standoff": 15
           },
           "zerolinecolor": "white",
           "zerolinewidth": 2
          },
          "yaxis": {
           "automargin": true,
           "gridcolor": "white",
           "linecolor": "white",
           "ticks": "",
           "title": {
            "standoff": 15
           },
           "zerolinecolor": "white",
           "zerolinewidth": 2
          }
         }
        },
        "yaxis": {
         "title": {
          "text": "Number of Features"
         },
         "type": "log"
        }
       }
      },
      "text/html": [
       "<div>                            <div id=\"49850406-c443-4cfd-a783-6fbc33a4bc19\" class=\"plotly-graph-div\" style=\"height:525px; width:100%;\"></div>            <script type=\"text/javascript\">                require([\"plotly\"], function(Plotly) {                    window.PLOTLYENV=window.PLOTLYENV || {};                                    if (document.getElementById(\"49850406-c443-4cfd-a783-6fbc33a4bc19\")) {                    Plotly.newPlot(                        \"49850406-c443-4cfd-a783-6fbc33a4bc19\",                        [{\"x\":[\"c\",\"c,d\",\"c,d,h\",\"c,d,h,w\",\"c,d,h,w,a\",\"c,d,h,w,a,m\",\"c,d,h,w,a,m,o\",\"c,d,h,w,a,m,o,n\"],\"y\":[1,2,3,4,5,6,9,270],\"type\":\"bar\"}],                        {\"template\":{\"data\":{\"bar\":[{\"error_x\":{\"color\":\"#2a3f5f\"},\"error_y\":{\"color\":\"#2a3f5f\"},\"marker\":{\"line\":{\"color\":\"#E5ECF6\",\"width\":0.5},\"pattern\":{\"fillmode\":\"overlay\",\"size\":10,\"solidity\":0.2}},\"type\":\"bar\"}],\"barpolar\":[{\"marker\":{\"line\":{\"color\":\"#E5ECF6\",\"width\":0.5},\"pattern\":{\"fillmode\":\"overlay\",\"size\":10,\"solidity\":0.2}},\"type\":\"barpolar\"}],\"carpet\":[{\"aaxis\":{\"endlinecolor\":\"#2a3f5f\",\"gridcolor\":\"white\",\"linecolor\":\"white\",\"minorgridcolor\":\"white\",\"startlinecolor\":\"#2a3f5f\"},\"baxis\":{\"endlinecolor\":\"#2a3f5f\",\"gridcolor\":\"white\",\"linecolor\":\"white\",\"minorgridcolor\":\"white\",\"startlinecolor\":\"#2a3f5f\"},\"type\":\"carpet\"}],\"choropleth\":[{\"colorbar\":{\"outlinewidth\":0,\"ticks\":\"\"},\"type\":\"choropleth\"}],\"contour\":[{\"colorbar\":{\"outlinewidth\":0,\"ticks\":\"\"},\"colorscale\":[[0.0,\"#0d0887\"],[0.1111111111111111,\"#46039f\"],[0.2222222222222222,\"#7201a8\"],[0.3333333333333333,\"#9c179e\"],[0.4444444444444444,\"#bd3786\"],[0.5555555555555556,\"#d8576b\"],[0.6666666666666666,\"#ed7953\"],[0.7777777777777778,\"#fb9f3a\"],[0.8888888888888888,\"#fdca26\"],[1.0,\"#f0f921\"]],\"type\":\"contour\"}],\"contourcarpet\":[{\"colorbar\":{\"outlinewidth\":0,\"ticks\":\"\"},\"type\":\"contourcarpet\"}],\"heatmap\":[{\"colorbar\":{\"outlinewidth\":0,\"ticks\":\"\"},\"colorscale\":[[0.0,\"#0d0887\"],[0.1111111111111111,\"#46039f\"],[0.2222222222222222,\"#7201a8\"],[0.3333333333333333,\"#9c179e\"],[0.4444444444444444,\"#bd3786\"],[0.5555555555555556,\"#d8576b\"],[0.6666666666666666,\"#ed7953\"],[0.7777777777777778,\"#fb9f3a\"],[0.8888888888888888,\"#fdca26\"],[1.0,\"#f0f921\"]],\"type\":\"heatmap\"}],\"heatmapgl\":[{\"colorbar\":{\"outlinewidth\":0,\"ticks\":\"\"},\"colorscale\":[[0.0,\"#0d0887\"],[0.1111111111111111,\"#46039f\"],[0.2222222222222222,\"#7201a8\"],[0.3333333333333333,\"#9c179e\"],[0.4444444444444444,\"#bd3786\"],[0.5555555555555556,\"#d8576b\"],[0.6666666666666666,\"#ed7953\"],[0.7777777777777778,\"#fb9f3a\"],[0.8888888888888888,\"#fdca26\"],[1.0,\"#f0f921\"]],\"type\":\"heatmapgl\"}],\"histogram\":[{\"marker\":{\"pattern\":{\"fillmode\":\"overlay\",\"size\":10,\"solidity\":0.2}},\"type\":\"histogram\"}],\"histogram2d\":[{\"colorbar\":{\"outlinewidth\":0,\"ticks\":\"\"},\"colorscale\":[[0.0,\"#0d0887\"],[0.1111111111111111,\"#46039f\"],[0.2222222222222222,\"#7201a8\"],[0.3333333333333333,\"#9c179e\"],[0.4444444444444444,\"#bd3786\"],[0.5555555555555556,\"#d8576b\"],[0.6666666666666666,\"#ed7953\"],[0.7777777777777778,\"#fb9f3a\"],[0.8888888888888888,\"#fdca26\"],[1.0,\"#f0f921\"]],\"type\":\"histogram2d\"}],\"histogram2dcontour\":[{\"colorbar\":{\"outlinewidth\":0,\"ticks\":\"\"},\"colorscale\":[[0.0,\"#0d0887\"],[0.1111111111111111,\"#46039f\"],[0.2222222222222222,\"#7201a8\"],[0.3333333333333333,\"#9c179e\"],[0.4444444444444444,\"#bd3786\"],[0.5555555555555556,\"#d8576b\"],[0.6666666666666666,\"#ed7953\"],[0.7777777777777778,\"#fb9f3a\"],[0.8888888888888888,\"#fdca26\"],[1.0,\"#f0f921\"]],\"type\":\"histogram2dcontour\"}],\"mesh3d\":[{\"colorbar\":{\"outlinewidth\":0,\"ticks\":\"\"},\"type\":\"mesh3d\"}],\"parcoords\":[{\"line\":{\"colorbar\":{\"outlinewidth\":0,\"ticks\":\"\"}},\"type\":\"parcoords\"}],\"pie\":[{\"automargin\":true,\"type\":\"pie\"}],\"scatter\":[{\"marker\":{\"colorbar\":{\"outlinewidth\":0,\"ticks\":\"\"}},\"type\":\"scatter\"}],\"scatter3d\":[{\"line\":{\"colorbar\":{\"outlinewidth\":0,\"ticks\":\"\"}},\"marker\":{\"colorbar\":{\"outlinewidth\":0,\"ticks\":\"\"}},\"type\":\"scatter3d\"}],\"scattercarpet\":[{\"marker\":{\"colorbar\":{\"outlinewidth\":0,\"ticks\":\"\"}},\"type\":\"scattercarpet\"}],\"scattergeo\":[{\"marker\":{\"colorbar\":{\"outlinewidth\":0,\"ticks\":\"\"}},\"type\":\"scattergeo\"}],\"scattergl\":[{\"marker\":{\"colorbar\":{\"outlinewidth\":0,\"ticks\":\"\"}},\"type\":\"scattergl\"}],\"scattermapbox\":[{\"marker\":{\"colorbar\":{\"outlinewidth\":0,\"ticks\":\"\"}},\"type\":\"scattermapbox\"}],\"scatterpolar\":[{\"marker\":{\"colorbar\":{\"outlinewidth\":0,\"ticks\":\"\"}},\"type\":\"scatterpolar\"}],\"scatterpolargl\":[{\"marker\":{\"colorbar\":{\"outlinewidth\":0,\"ticks\":\"\"}},\"type\":\"scatterpolargl\"}],\"scatterternary\":[{\"marker\":{\"colorbar\":{\"outlinewidth\":0,\"ticks\":\"\"}},\"type\":\"scatterternary\"}],\"surface\":[{\"colorbar\":{\"outlinewidth\":0,\"ticks\":\"\"},\"colorscale\":[[0.0,\"#0d0887\"],[0.1111111111111111,\"#46039f\"],[0.2222222222222222,\"#7201a8\"],[0.3333333333333333,\"#9c179e\"],[0.4444444444444444,\"#bd3786\"],[0.5555555555555556,\"#d8576b\"],[0.6666666666666666,\"#ed7953\"],[0.7777777777777778,\"#fb9f3a\"],[0.8888888888888888,\"#fdca26\"],[1.0,\"#f0f921\"]],\"type\":\"surface\"}],\"table\":[{\"cells\":{\"fill\":{\"color\":\"#EBF0F8\"},\"line\":{\"color\":\"white\"}},\"header\":{\"fill\":{\"color\":\"#C8D4E3\"},\"line\":{\"color\":\"white\"}},\"type\":\"table\"}]},\"layout\":{\"annotationdefaults\":{\"arrowcolor\":\"#2a3f5f\",\"arrowhead\":0,\"arrowwidth\":1},\"autotypenumbers\":\"strict\",\"coloraxis\":{\"colorbar\":{\"outlinewidth\":0,\"ticks\":\"\"}},\"colorscale\":{\"diverging\":[[0,\"#8e0152\"],[0.1,\"#c51b7d\"],[0.2,\"#de77ae\"],[0.3,\"#f1b6da\"],[0.4,\"#fde0ef\"],[0.5,\"#f7f7f7\"],[0.6,\"#e6f5d0\"],[0.7,\"#b8e186\"],[0.8,\"#7fbc41\"],[0.9,\"#4d9221\"],[1,\"#276419\"]],\"sequential\":[[0.0,\"#0d0887\"],[0.1111111111111111,\"#46039f\"],[0.2222222222222222,\"#7201a8\"],[0.3333333333333333,\"#9c179e\"],[0.4444444444444444,\"#bd3786\"],[0.5555555555555556,\"#d8576b\"],[0.6666666666666666,\"#ed7953\"],[0.7777777777777778,\"#fb9f3a\"],[0.8888888888888888,\"#fdca26\"],[1.0,\"#f0f921\"]],\"sequentialminus\":[[0.0,\"#0d0887\"],[0.1111111111111111,\"#46039f\"],[0.2222222222222222,\"#7201a8\"],[0.3333333333333333,\"#9c179e\"],[0.4444444444444444,\"#bd3786\"],[0.5555555555555556,\"#d8576b\"],[0.6666666666666666,\"#ed7953\"],[0.7777777777777778,\"#fb9f3a\"],[0.8888888888888888,\"#fdca26\"],[1.0,\"#f0f921\"]]},\"colorway\":[\"#636efa\",\"#EF553B\",\"#00cc96\",\"#ab63fa\",\"#FFA15A\",\"#19d3f3\",\"#FF6692\",\"#B6E880\",\"#FF97FF\",\"#FECB52\"],\"font\":{\"color\":\"#2a3f5f\"},\"geo\":{\"bgcolor\":\"white\",\"lakecolor\":\"white\",\"landcolor\":\"#E5ECF6\",\"showlakes\":true,\"showland\":true,\"subunitcolor\":\"white\"},\"hoverlabel\":{\"align\":\"left\"},\"hovermode\":\"closest\",\"mapbox\":{\"style\":\"light\"},\"paper_bgcolor\":\"white\",\"plot_bgcolor\":\"#E5ECF6\",\"polar\":{\"angularaxis\":{\"gridcolor\":\"white\",\"linecolor\":\"white\",\"ticks\":\"\"},\"bgcolor\":\"#E5ECF6\",\"radialaxis\":{\"gridcolor\":\"white\",\"linecolor\":\"white\",\"ticks\":\"\"}},\"scene\":{\"xaxis\":{\"backgroundcolor\":\"#E5ECF6\",\"gridcolor\":\"white\",\"gridwidth\":2,\"linecolor\":\"white\",\"showbackground\":true,\"ticks\":\"\",\"zerolinecolor\":\"white\"},\"yaxis\":{\"backgroundcolor\":\"#E5ECF6\",\"gridcolor\":\"white\",\"gridwidth\":2,\"linecolor\":\"white\",\"showbackground\":true,\"ticks\":\"\",\"zerolinecolor\":\"white\"},\"zaxis\":{\"backgroundcolor\":\"#E5ECF6\",\"gridcolor\":\"white\",\"gridwidth\":2,\"linecolor\":\"white\",\"showbackground\":true,\"ticks\":\"\",\"zerolinecolor\":\"white\"}},\"shapedefaults\":{\"line\":{\"color\":\"#2a3f5f\"}},\"ternary\":{\"aaxis\":{\"gridcolor\":\"white\",\"linecolor\":\"white\",\"ticks\":\"\"},\"baxis\":{\"gridcolor\":\"white\",\"linecolor\":\"white\",\"ticks\":\"\"},\"bgcolor\":\"#E5ECF6\",\"caxis\":{\"gridcolor\":\"white\",\"linecolor\":\"white\",\"ticks\":\"\"}},\"title\":{\"x\":0.05},\"xaxis\":{\"automargin\":true,\"gridcolor\":\"white\",\"linecolor\":\"white\",\"ticks\":\"\",\"title\":{\"standoff\":15},\"zerolinecolor\":\"white\",\"zerolinewidth\":2},\"yaxis\":{\"automargin\":true,\"gridcolor\":\"white\",\"linecolor\":\"white\",\"ticks\":\"\",\"title\":{\"standoff\":15},\"zerolinecolor\":\"white\",\"zerolinewidth\":2}}},\"yaxis\":{\"title\":{\"text\":\"Number of Features\"},\"type\":\"log\"}},                        {\"responsive\": true}                    ).then(function(){\n",
       "                            \n",
       "var gd = document.getElementById('49850406-c443-4cfd-a783-6fbc33a4bc19');\n",
       "var x = new MutationObserver(function (mutations, observer) {{\n",
       "        var display = window.getComputedStyle(gd).display;\n",
       "        if (!display || display === 'none') {{\n",
       "            console.log([gd, 'removed!']);\n",
       "            Plotly.purge(gd);\n",
       "            observer.disconnect();\n",
       "        }}\n",
       "}});\n",
       "\n",
       "// Listen for the removal of the full notebook cells\n",
       "var notebookContainer = gd.closest('#notebook-container');\n",
       "if (notebookContainer) {{\n",
       "    x.observe(notebookContainer, {childList: true});\n",
       "}}\n",
       "\n",
       "// Listen for the clearing of the current output cell\n",
       "var outputEl = gd.closest('.output');\n",
       "if (outputEl) {{\n",
       "    x.observe(outputEl, {childList: true});\n",
       "}}\n",
       "\n",
       "                        })                };                });            </script>        </div>"
      ]
     },
     "metadata": {},
     "output_type": "display_data"
    }
   ],
   "source": [
    "fig = go.Figure()\n",
    "fig.add_trace(go.Bar(\n",
    "    x = list(models.keys()), \n",
    "    y = [len(models[m][\"LinearModel\"].coef_) for m in models]\n",
    "))\n",
    "fig.update_yaxes(title=\"Number of Features\",type=\"log\")"
   ]
  },
  {
   "cell_type": "markdown",
   "metadata": {},
   "source": [
    "Notice that the above plot is in log scale on the y axis!  The addition of the model name resulted in a large jump in features.  Perhaps some of these new features are useful and some are not.  What we really want now is a mechanism to select which of these features to keep and which to ignore or down-weight.  This can be done by using regularization. "
   ]
  },
  {
   "cell_type": "markdown",
   "metadata": {},
   "source": [
    "## Regularization\n",
    "\n",
    "Broadly speaking, regularization refers to methods used to control over-fitting.  However, in this class we will focus on parametric regularization techniques."
   ]
  },
  {
   "cell_type": "markdown",
   "metadata": {},
   "source": [
    "The simplest way to think about regularization is in the context of our original loss minimization problem. Recall we defined the loss function which determines what is the best parameter value $\\hat{\\theta}$ for our model. \n",
    "\n",
    "$$\n",
    "\\hat{\\theta} = \\arg \\min_\\theta \\frac{1}{n} \\sum_{i=1}^n \\textbf{Loss}\\left(Y_i, f_\\theta(X_i)\\right)\n",
    "$$\n",
    "\n",
    "The loss captures how well our model fits the data.  What we need is a way to a way to penalize models that over-fit to the data.  We can do this by adding an extra term to our loss minimization problem:\n",
    "\n",
    "\n",
    "$$\n",
    "\\hat{\\theta} = \\arg \\min_\\theta \\frac{1}{n} \\sum_{i=1}^n \\textbf{Loss}\\left(Y_i, f_\\theta(X_i)\\right) + \\alpha \\textbf{Reg}(f_\\theta, X, Y)\n",
    "$$\n",
    "\n",
    "The **Reg** function measures how much our model overfits and $\\alpha$ parameter (really hyper-parameter) allows us balance fitting our data and overfitting. The remaining challenge is how to define this **Reg** function and determine the value of our additional $\\alpha$ parameter.  \n"
   ]
  },
  {
   "cell_type": "markdown",
   "metadata": {},
   "source": [
    "### The Regularization Hyper-parameter\n",
    "The $\\alpha$ parameter is our regularization **hyper-parameter**.  It is a hyper-parameter because it is not a model parameter but a choice of how we want to balance fitting the data and \"over-fitting\".  The goal is to find a value of this hyper-parameter to maximize our accuracy on the **test data**. However, **we can't use the test data to make modeling decisions** so we turn to cross validation.  The standard way to find the best $\\alpha$ is to try a bunch of values (perhaps using binary search) and take the one with the lowest cross validation error. \n",
    "\n",
    "You may have noticed that in the video lecture we use $\\lambda$ instead of $\\alpha$.  This is because many textbooks use $\\lambda$ and sklearn uses $\\alpha$."
   ]
  },
  {
   "cell_type": "markdown",
   "metadata": {},
   "source": [
    "### The Regularization Function \n",
    "\n",
    "In our cartoon formulation of the regularized loss, the regularization function **Reg** is supposed to \"measure\" how much our model \"overfits\".  It depends on the model parameters and also can depend on the data.  An obvious choice for this function could be the gap between training and cross validation error but that is difficult to optimize and somewhat circular since both training and validation error depend on solving the regularized loss minimization problem. \n",
    "\n",
    "We have already seen that the more features we have the more likely we are to overfit to our data.  For our linear model, if we set a parameter to 0 then that is the same as not having that feature.  Therefore, one possible regularization function could be to count the non-zero parameters in our model.\n",
    "\n",
    "$$\n",
    "\\textbf{Reg}(\\theta) = \\sum_{k=1}^d (\\theta_i \\neq 0)\n",
    "$$\n",
    "\n",
    "To minimize this function would be to ignore all the features and that would certainly not overfit.  This is actually, the \"feature selection\" regularization objective.  Unfortunately, optimizing this objective is very hard (NP-Hard).  \n",
    "\n",
    "However, there are some good approximations we can use:\n",
    "\n",
    "$$\n",
    "\\textbf{Reg}^\\text{ridge}(\\theta) = \\sum_{k=1}^d \\theta_i^2\n",
    "$$\n",
    "\n",
    "and\n",
    "\n",
    "$$\n",
    "\\textbf{Reg}^\\text{lasso}(\\theta) = \\sum_{k=1}^d \\left|\\theta_i \\right|\n",
    "$$\n",
    "\n",
    "Each of these regularization functions (and their combination) give rise to different regression techniques.\n",
    "\n"
   ]
  },
  {
   "cell_type": "markdown",
   "metadata": {},
   "source": [
    "### Ridge Regression\n",
    "\n",
    "Ridge regression combines the ridge (L2, Squared) regularization function with the least squares loss.  \n",
    "\n",
    "\n",
    "$$\n",
    "\\hat{\\theta}_\\alpha = \\arg \\min_\\theta \\left(\\frac{1}{n} \\sum_{i=1}^n \\left(Y_i -  f_\\theta(X_i)\\right)^2 \\right) + \\alpha \\sum_{k=1}^d \\theta_k^2\n",
    "$$\n",
    "\n",
    "\n",
    "\n",
    "Ridge regression, like ordinary least squares regression, also has a closed form solution for the optimal $\\hat{\\theta}_\\alpha$\n",
    "\n",
    "$$\n",
    "\\hat{\\theta}_\\alpha = \\left(X^T X + n \\alpha \\mathbf{I}\\right)^{-1} X^T Y\n",
    "$$\n",
    "\n",
    "where $\\mathbf{I}$ is the identity matrix, $n$ is the number of data points, and $\\alpha$ is the regularization hyper-parameter.\n",
    "\n",
    "Notice that even if $X^T X$ is not full rank, the addition of $n \\alpha \\mathbf{I}$ (which is full rank) makes $\\left(X^T X + n \\alpha \\mathbf{I}\\right)$ invertible.  Thus, ridge regression addresses our earlier issue of having an underdetermined system and partially improves the numerical stability of the solution. "
   ]
  },
  {
   "cell_type": "markdown",
   "metadata": {},
   "source": [
    "### Lasso Regression\n",
    "\n",
    "Lasso regression combines the absolute (L1) regularization function with the least squares loss.  \n",
    "\n",
    "$$\n",
    "\\hat{\\theta}_\\alpha = \\arg \\min_\\theta \\left(\\frac{1}{n} \\sum_{i=1}^n \\left(Y_i -  f_\\theta(X_i)\\right)^2 \\right) + \\alpha \\sum_{k=1}^d |\\theta_k|\n",
    "$$\n",
    "\n",
    "Lasso is actually an acronym (and a cool name) which stands for Least Absolute Shrinkage and Selection Operator.  It is an absolute operator because it is the absolute value.  It is a shrinkage operator because it favors smaller parameter values.  It is a selection operator because it has the peculiar property of pushing parameter values all the way to zero thereby selecting the remaining features.  It is this last property that makes Lasso regression so useful. By using Lasso regression and setting sufficiently large value of $\\alpha$ you can eliminate features that are not informative. \n",
    "\n",
    "Unfortunately, there is no closed form solution for Lasso regression and so iterative optimization algorithms like gradient descent are typically used. "
   ]
  },
  {
   "cell_type": "markdown",
   "metadata": {},
   "source": [
    "### Normalizing the Features\n",
    "\n",
    "When applying Ridge or Lasso regression it is important that you normalize your features.  Why (think about it for a second)?  \n",
    "\n",
    "The issue is that if you have very large and very small features then the relative magnitudes of the coefficients may differ substantially.  Think of the coefficients as unit translations from units of features (e.g., cubic centimeters, and horse power) to units of the thing you are trying to predict (e.g., miles per gallon).  The regularization function treats all these unit translation coefficients equally but some may *need* to be much larger than others.  Therefore, by *standardizing the features* we can address this variation.   You can standardize a feature by computing:\n",
    "\n",
    "$$\n",
    "z = \\frac{x - \\textbf{Mean}(x)}{\\textbf{StdDev}(x)}\n",
    "$$"
   ]
  },
  {
   "cell_type": "markdown",
   "metadata": {},
   "source": [
    "## Ridge Regression in SK Learn\n",
    "\n",
    "Both Ridge Regression and Lasso are built-in functions in SKLearn.  Let's start by importing the `Ridge` Regression class which behaves identically to the `LinearRegression` class we used earlier:"
   ]
  },
  {
   "cell_type": "code",
   "execution_count": 27,
   "metadata": {},
   "outputs": [],
   "source": [
    "from sklearn.linear_model import Ridge"
   ]
  },
  {
   "cell_type": "markdown",
   "metadata": {},
   "source": [
    "Take a look at the documentation.  Notice the regularized loss function. "
   ]
  },
  {
   "cell_type": "code",
   "execution_count": 28,
   "metadata": {},
   "outputs": [
    {
     "name": "stdout",
     "output_type": "stream",
     "text": [
      "\u001b[1;31mInit signature:\u001b[0m\n",
      "\u001b[0mRidge\u001b[0m\u001b[1;33m(\u001b[0m\u001b[1;33m\n",
      "\u001b[0m    \u001b[0malpha\u001b[0m\u001b[1;33m=\u001b[0m\u001b[1;36m1.0\u001b[0m\u001b[1;33m,\u001b[0m\u001b[1;33m\n",
      "\u001b[0m    \u001b[1;33m*\u001b[0m\u001b[1;33m,\u001b[0m\u001b[1;33m\n",
      "\u001b[0m    \u001b[0mfit_intercept\u001b[0m\u001b[1;33m=\u001b[0m\u001b[1;32mTrue\u001b[0m\u001b[1;33m,\u001b[0m\u001b[1;33m\n",
      "\u001b[0m    \u001b[0mnormalize\u001b[0m\u001b[1;33m=\u001b[0m\u001b[1;32mFalse\u001b[0m\u001b[1;33m,\u001b[0m\u001b[1;33m\n",
      "\u001b[0m    \u001b[0mcopy_X\u001b[0m\u001b[1;33m=\u001b[0m\u001b[1;32mTrue\u001b[0m\u001b[1;33m,\u001b[0m\u001b[1;33m\n",
      "\u001b[0m    \u001b[0mmax_iter\u001b[0m\u001b[1;33m=\u001b[0m\u001b[1;32mNone\u001b[0m\u001b[1;33m,\u001b[0m\u001b[1;33m\n",
      "\u001b[0m    \u001b[0mtol\u001b[0m\u001b[1;33m=\u001b[0m\u001b[1;36m0.001\u001b[0m\u001b[1;33m,\u001b[0m\u001b[1;33m\n",
      "\u001b[0m    \u001b[0msolver\u001b[0m\u001b[1;33m=\u001b[0m\u001b[1;34m'auto'\u001b[0m\u001b[1;33m,\u001b[0m\u001b[1;33m\n",
      "\u001b[0m    \u001b[0mrandom_state\u001b[0m\u001b[1;33m=\u001b[0m\u001b[1;32mNone\u001b[0m\u001b[1;33m,\u001b[0m\u001b[1;33m\n",
      "\u001b[0m\u001b[1;33m)\u001b[0m\u001b[1;33m\u001b[0m\u001b[1;33m\u001b[0m\u001b[0m\n",
      "\u001b[1;31mDocstring:\u001b[0m     \n",
      "Linear least squares with l2 regularization.\n",
      "\n",
      "Minimizes the objective function::\n",
      "\n",
      "||y - Xw||^2_2 + alpha * ||w||^2_2\n",
      "\n",
      "This model solves a regression model where the loss function is\n",
      "the linear least squares function and regularization is given by\n",
      "the l2-norm. Also known as Ridge Regression or Tikhonov regularization.\n",
      "This estimator has built-in support for multi-variate regression\n",
      "(i.e., when y is a 2d-array of shape (n_samples, n_targets)).\n",
      "\n",
      "Read more in the :ref:`User Guide <ridge_regression>`.\n",
      "\n",
      "Parameters\n",
      "----------\n",
      "alpha : {float, ndarray of shape (n_targets,)}, default=1.0\n",
      "    Regularization strength; must be a positive float. Regularization\n",
      "    improves the conditioning of the problem and reduces the variance of\n",
      "    the estimates. Larger values specify stronger regularization.\n",
      "    Alpha corresponds to ``1 / (2C)`` in other linear models such as\n",
      "    :class:`~sklearn.linear_model.LogisticRegression` or\n",
      "    :class:`~sklearn.svm.LinearSVC`. If an array is passed, penalties are\n",
      "    assumed to be specific to the targets. Hence they must correspond in\n",
      "    number.\n",
      "\n",
      "fit_intercept : bool, default=True\n",
      "    Whether to fit the intercept for this model. If set\n",
      "    to false, no intercept will be used in calculations\n",
      "    (i.e. ``X`` and ``y`` are expected to be centered).\n",
      "\n",
      "normalize : bool, default=False\n",
      "    This parameter is ignored when ``fit_intercept`` is set to False.\n",
      "    If True, the regressors X will be normalized before regression by\n",
      "    subtracting the mean and dividing by the l2-norm.\n",
      "    If you wish to standardize, please use\n",
      "    :class:`~sklearn.preprocessing.StandardScaler` before calling ``fit``\n",
      "    on an estimator with ``normalize=False``.\n",
      "\n",
      "copy_X : bool, default=True\n",
      "    If True, X will be copied; else, it may be overwritten.\n",
      "\n",
      "max_iter : int, default=None\n",
      "    Maximum number of iterations for conjugate gradient solver.\n",
      "    For 'sparse_cg' and 'lsqr' solvers, the default value is determined\n",
      "    by scipy.sparse.linalg. For 'sag' solver, the default value is 1000.\n",
      "\n",
      "tol : float, default=1e-3\n",
      "    Precision of the solution.\n",
      "\n",
      "solver : {'auto', 'svd', 'cholesky', 'lsqr', 'sparse_cg', 'sag', 'saga'},         default='auto'\n",
      "    Solver to use in the computational routines:\n",
      "\n",
      "    - 'auto' chooses the solver automatically based on the type of data.\n",
      "\n",
      "    - 'svd' uses a Singular Value Decomposition of X to compute the Ridge\n",
      "      coefficients. More stable for singular matrices than 'cholesky'.\n",
      "\n",
      "    - 'cholesky' uses the standard scipy.linalg.solve function to\n",
      "      obtain a closed-form solution.\n",
      "\n",
      "    - 'sparse_cg' uses the conjugate gradient solver as found in\n",
      "      scipy.sparse.linalg.cg. As an iterative algorithm, this solver is\n",
      "      more appropriate than 'cholesky' for large-scale data\n",
      "      (possibility to set `tol` and `max_iter`).\n",
      "\n",
      "    - 'lsqr' uses the dedicated regularized least-squares routine\n",
      "      scipy.sparse.linalg.lsqr. It is the fastest and uses an iterative\n",
      "      procedure.\n",
      "\n",
      "    - 'sag' uses a Stochastic Average Gradient descent, and 'saga' uses\n",
      "      its improved, unbiased version named SAGA. Both methods also use an\n",
      "      iterative procedure, and are often faster than other solvers when\n",
      "      both n_samples and n_features are large. Note that 'sag' and\n",
      "      'saga' fast convergence is only guaranteed on features with\n",
      "      approximately the same scale. You can preprocess the data with a\n",
      "      scaler from sklearn.preprocessing.\n",
      "\n",
      "    All last five solvers support both dense and sparse data. However, only\n",
      "    'sag' and 'sparse_cg' supports sparse input when `fit_intercept` is\n",
      "    True.\n",
      "\n",
      "    .. versionadded:: 0.17\n",
      "       Stochastic Average Gradient descent solver.\n",
      "    .. versionadded:: 0.19\n",
      "       SAGA solver.\n",
      "\n",
      "random_state : int, RandomState instance, default=None\n",
      "    Used when ``solver`` == 'sag' or 'saga' to shuffle the data.\n",
      "    See :term:`Glossary <random_state>` for details.\n",
      "\n",
      "    .. versionadded:: 0.17\n",
      "       `random_state` to support Stochastic Average Gradient.\n",
      "\n",
      "Attributes\n",
      "----------\n",
      "coef_ : ndarray of shape (n_features,) or (n_targets, n_features)\n",
      "    Weight vector(s).\n",
      "\n",
      "intercept_ : float or ndarray of shape (n_targets,)\n",
      "    Independent term in decision function. Set to 0.0 if\n",
      "    ``fit_intercept = False``.\n",
      "\n",
      "n_iter_ : None or ndarray of shape (n_targets,)\n",
      "    Actual number of iterations for each target. Available only for\n",
      "    sag and lsqr solvers. Other solvers will return None.\n",
      "\n",
      "    .. versionadded:: 0.17\n",
      "\n",
      "See Also\n",
      "--------\n",
      "RidgeClassifier : Ridge classifier.\n",
      "RidgeCV : Ridge regression with built-in cross validation.\n",
      ":class:`~sklearn.kernel_ridge.KernelRidge` : Kernel ridge regression\n",
      "    combines ridge regression with the kernel trick.\n",
      "\n",
      "Examples\n",
      "--------\n",
      ">>> from sklearn.linear_model import Ridge\n",
      ">>> import numpy as np\n",
      ">>> n_samples, n_features = 10, 5\n",
      ">>> rng = np.random.RandomState(0)\n",
      ">>> y = rng.randn(n_samples)\n",
      ">>> X = rng.randn(n_samples, n_features)\n",
      ">>> clf = Ridge(alpha=1.0)\n",
      ">>> clf.fit(X, y)\n",
      "Ridge()\n",
      "\u001b[1;31mFile:\u001b[0m           c:\\users\\koiso\\anaconda3\\lib\\site-packages\\sklearn\\linear_model\\_ridge.py\n",
      "\u001b[1;31mType:\u001b[0m           ABCMeta\n",
      "\u001b[1;31mSubclasses:\u001b[0m     \n"
     ]
    }
   ],
   "source": [
    "Ridge?"
   ]
  },
  {
   "cell_type": "markdown",
   "metadata": {},
   "source": [
    "We can plug the Ridge Regression Model in place of our the LinearRegression Model in our earlier pipeline."
   ]
  },
  {
   "cell_type": "code",
   "execution_count": 29,
   "metadata": {},
   "outputs": [],
   "source": [
    "ridge_model = Pipeline([\n",
    "    (\"SelectColumns\", ColumnTransformer([\n",
    "        (\"keep\", \"passthrough\", quantitative_features),\n",
    "        (\"origin_encoder\", OneHotEncoder(), [\"origin\"]),\n",
    "        (\"text\", CountVectorizer(), \"name\")\n",
    "    ])),\n",
    "    (\"Imputation\", SimpleImputer()),\n",
    "    (\"LinearModel\", Ridge(alpha=0.5))\n",
    "])"
   ]
  },
  {
   "cell_type": "code",
   "execution_count": 30,
   "metadata": {},
   "outputs": [
    {
     "data": {
      "application/vnd.plotly.v1+json": {
       "config": {
        "plotlyServerURL": "https://plot.ly"
       },
       "data": [
        {
         "name": "Training RMSE",
         "type": "bar",
         "x": [
          "c",
          "c,d",
          "c,d,h",
          "c,d,h,w",
          "c,d,h,w,a",
          "c,d,h,w,a,m",
          "c,d,h,w,a,m,o",
          "c,d,h,w,a,m,o,n",
          "Ridge(alpha=0.5)"
         ],
         "y": [
          4.888109236813685,
          4.58757379901803,
          4.525395490245242,
          4.216877763288668,
          4.213763450275896,
          3.3799994809258993,
          3.2488224012050075,
          1.1387313016649125,
          3.3920243351447157
         ]
        },
        {
         "name": "CV RMSE",
         "type": "bar",
         "x": [
          "c",
          "c,d",
          "c,d,h",
          "c,d,h,w",
          "c,d,h,w,a",
          "c,d,h,w,a,m",
          "c,d,h,w,a,m,o",
          "c,d,h,w,a,m,o,n",
          "Ridge(alpha=0.5)"
         ],
         "y": [
          4.876661068256956,
          4.579060426624026,
          4.556808311664746,
          4.252718625749385,
          4.256844728700814,
          3.4557657065586773,
          3.3323381513276003,
          3.728919763030074,
          3.249756949598749
         ]
        },
        {
         "name": "Test RMSE",
         "opacity": 0.3,
         "type": "bar",
         "x": [
          "c",
          "c,d",
          "c,d,h",
          "c,d,h,w",
          "c,d,h,w,a",
          "c,d,h,w,a,m",
          "c,d,h,w,a,m,o",
          "c,d,h,w,a,m,o,n",
          "Ridge(alpha=0.5)"
         ],
         "y": [
          5.055013548375552,
          4.766156989852369,
          4.5838617699808735,
          4.32584781613103,
          4.349888692769132,
          3.5508281716401946,
          3.3746613014711677,
          3.507443289513132,
          3.4637315803242417
         ]
        }
       ],
       "layout": {
        "template": {
         "data": {
          "bar": [
           {
            "error_x": {
             "color": "#2a3f5f"
            },
            "error_y": {
             "color": "#2a3f5f"
            },
            "marker": {
             "line": {
              "color": "#E5ECF6",
              "width": 0.5
             },
             "pattern": {
              "fillmode": "overlay",
              "size": 10,
              "solidity": 0.2
             }
            },
            "type": "bar"
           }
          ],
          "barpolar": [
           {
            "marker": {
             "line": {
              "color": "#E5ECF6",
              "width": 0.5
             },
             "pattern": {
              "fillmode": "overlay",
              "size": 10,
              "solidity": 0.2
             }
            },
            "type": "barpolar"
           }
          ],
          "carpet": [
           {
            "aaxis": {
             "endlinecolor": "#2a3f5f",
             "gridcolor": "white",
             "linecolor": "white",
             "minorgridcolor": "white",
             "startlinecolor": "#2a3f5f"
            },
            "baxis": {
             "endlinecolor": "#2a3f5f",
             "gridcolor": "white",
             "linecolor": "white",
             "minorgridcolor": "white",
             "startlinecolor": "#2a3f5f"
            },
            "type": "carpet"
           }
          ],
          "choropleth": [
           {
            "colorbar": {
             "outlinewidth": 0,
             "ticks": ""
            },
            "type": "choropleth"
           }
          ],
          "contour": [
           {
            "colorbar": {
             "outlinewidth": 0,
             "ticks": ""
            },
            "colorscale": [
             [
              0,
              "#0d0887"
             ],
             [
              0.1111111111111111,
              "#46039f"
             ],
             [
              0.2222222222222222,
              "#7201a8"
             ],
             [
              0.3333333333333333,
              "#9c179e"
             ],
             [
              0.4444444444444444,
              "#bd3786"
             ],
             [
              0.5555555555555556,
              "#d8576b"
             ],
             [
              0.6666666666666666,
              "#ed7953"
             ],
             [
              0.7777777777777778,
              "#fb9f3a"
             ],
             [
              0.8888888888888888,
              "#fdca26"
             ],
             [
              1,
              "#f0f921"
             ]
            ],
            "type": "contour"
           }
          ],
          "contourcarpet": [
           {
            "colorbar": {
             "outlinewidth": 0,
             "ticks": ""
            },
            "type": "contourcarpet"
           }
          ],
          "heatmap": [
           {
            "colorbar": {
             "outlinewidth": 0,
             "ticks": ""
            },
            "colorscale": [
             [
              0,
              "#0d0887"
             ],
             [
              0.1111111111111111,
              "#46039f"
             ],
             [
              0.2222222222222222,
              "#7201a8"
             ],
             [
              0.3333333333333333,
              "#9c179e"
             ],
             [
              0.4444444444444444,
              "#bd3786"
             ],
             [
              0.5555555555555556,
              "#d8576b"
             ],
             [
              0.6666666666666666,
              "#ed7953"
             ],
             [
              0.7777777777777778,
              "#fb9f3a"
             ],
             [
              0.8888888888888888,
              "#fdca26"
             ],
             [
              1,
              "#f0f921"
             ]
            ],
            "type": "heatmap"
           }
          ],
          "heatmapgl": [
           {
            "colorbar": {
             "outlinewidth": 0,
             "ticks": ""
            },
            "colorscale": [
             [
              0,
              "#0d0887"
             ],
             [
              0.1111111111111111,
              "#46039f"
             ],
             [
              0.2222222222222222,
              "#7201a8"
             ],
             [
              0.3333333333333333,
              "#9c179e"
             ],
             [
              0.4444444444444444,
              "#bd3786"
             ],
             [
              0.5555555555555556,
              "#d8576b"
             ],
             [
              0.6666666666666666,
              "#ed7953"
             ],
             [
              0.7777777777777778,
              "#fb9f3a"
             ],
             [
              0.8888888888888888,
              "#fdca26"
             ],
             [
              1,
              "#f0f921"
             ]
            ],
            "type": "heatmapgl"
           }
          ],
          "histogram": [
           {
            "marker": {
             "pattern": {
              "fillmode": "overlay",
              "size": 10,
              "solidity": 0.2
             }
            },
            "type": "histogram"
           }
          ],
          "histogram2d": [
           {
            "colorbar": {
             "outlinewidth": 0,
             "ticks": ""
            },
            "colorscale": [
             [
              0,
              "#0d0887"
             ],
             [
              0.1111111111111111,
              "#46039f"
             ],
             [
              0.2222222222222222,
              "#7201a8"
             ],
             [
              0.3333333333333333,
              "#9c179e"
             ],
             [
              0.4444444444444444,
              "#bd3786"
             ],
             [
              0.5555555555555556,
              "#d8576b"
             ],
             [
              0.6666666666666666,
              "#ed7953"
             ],
             [
              0.7777777777777778,
              "#fb9f3a"
             ],
             [
              0.8888888888888888,
              "#fdca26"
             ],
             [
              1,
              "#f0f921"
             ]
            ],
            "type": "histogram2d"
           }
          ],
          "histogram2dcontour": [
           {
            "colorbar": {
             "outlinewidth": 0,
             "ticks": ""
            },
            "colorscale": [
             [
              0,
              "#0d0887"
             ],
             [
              0.1111111111111111,
              "#46039f"
             ],
             [
              0.2222222222222222,
              "#7201a8"
             ],
             [
              0.3333333333333333,
              "#9c179e"
             ],
             [
              0.4444444444444444,
              "#bd3786"
             ],
             [
              0.5555555555555556,
              "#d8576b"
             ],
             [
              0.6666666666666666,
              "#ed7953"
             ],
             [
              0.7777777777777778,
              "#fb9f3a"
             ],
             [
              0.8888888888888888,
              "#fdca26"
             ],
             [
              1,
              "#f0f921"
             ]
            ],
            "type": "histogram2dcontour"
           }
          ],
          "mesh3d": [
           {
            "colorbar": {
             "outlinewidth": 0,
             "ticks": ""
            },
            "type": "mesh3d"
           }
          ],
          "parcoords": [
           {
            "line": {
             "colorbar": {
              "outlinewidth": 0,
              "ticks": ""
             }
            },
            "type": "parcoords"
           }
          ],
          "pie": [
           {
            "automargin": true,
            "type": "pie"
           }
          ],
          "scatter": [
           {
            "marker": {
             "colorbar": {
              "outlinewidth": 0,
              "ticks": ""
             }
            },
            "type": "scatter"
           }
          ],
          "scatter3d": [
           {
            "line": {
             "colorbar": {
              "outlinewidth": 0,
              "ticks": ""
             }
            },
            "marker": {
             "colorbar": {
              "outlinewidth": 0,
              "ticks": ""
             }
            },
            "type": "scatter3d"
           }
          ],
          "scattercarpet": [
           {
            "marker": {
             "colorbar": {
              "outlinewidth": 0,
              "ticks": ""
             }
            },
            "type": "scattercarpet"
           }
          ],
          "scattergeo": [
           {
            "marker": {
             "colorbar": {
              "outlinewidth": 0,
              "ticks": ""
             }
            },
            "type": "scattergeo"
           }
          ],
          "scattergl": [
           {
            "marker": {
             "colorbar": {
              "outlinewidth": 0,
              "ticks": ""
             }
            },
            "type": "scattergl"
           }
          ],
          "scattermapbox": [
           {
            "marker": {
             "colorbar": {
              "outlinewidth": 0,
              "ticks": ""
             }
            },
            "type": "scattermapbox"
           }
          ],
          "scatterpolar": [
           {
            "marker": {
             "colorbar": {
              "outlinewidth": 0,
              "ticks": ""
             }
            },
            "type": "scatterpolar"
           }
          ],
          "scatterpolargl": [
           {
            "marker": {
             "colorbar": {
              "outlinewidth": 0,
              "ticks": ""
             }
            },
            "type": "scatterpolargl"
           }
          ],
          "scatterternary": [
           {
            "marker": {
             "colorbar": {
              "outlinewidth": 0,
              "ticks": ""
             }
            },
            "type": "scatterternary"
           }
          ],
          "surface": [
           {
            "colorbar": {
             "outlinewidth": 0,
             "ticks": ""
            },
            "colorscale": [
             [
              0,
              "#0d0887"
             ],
             [
              0.1111111111111111,
              "#46039f"
             ],
             [
              0.2222222222222222,
              "#7201a8"
             ],
             [
              0.3333333333333333,
              "#9c179e"
             ],
             [
              0.4444444444444444,
              "#bd3786"
             ],
             [
              0.5555555555555556,
              "#d8576b"
             ],
             [
              0.6666666666666666,
              "#ed7953"
             ],
             [
              0.7777777777777778,
              "#fb9f3a"
             ],
             [
              0.8888888888888888,
              "#fdca26"
             ],
             [
              1,
              "#f0f921"
             ]
            ],
            "type": "surface"
           }
          ],
          "table": [
           {
            "cells": {
             "fill": {
              "color": "#EBF0F8"
             },
             "line": {
              "color": "white"
             }
            },
            "header": {
             "fill": {
              "color": "#C8D4E3"
             },
             "line": {
              "color": "white"
             }
            },
            "type": "table"
           }
          ]
         },
         "layout": {
          "annotationdefaults": {
           "arrowcolor": "#2a3f5f",
           "arrowhead": 0,
           "arrowwidth": 1
          },
          "autotypenumbers": "strict",
          "coloraxis": {
           "colorbar": {
            "outlinewidth": 0,
            "ticks": ""
           }
          },
          "colorscale": {
           "diverging": [
            [
             0,
             "#8e0152"
            ],
            [
             0.1,
             "#c51b7d"
            ],
            [
             0.2,
             "#de77ae"
            ],
            [
             0.3,
             "#f1b6da"
            ],
            [
             0.4,
             "#fde0ef"
            ],
            [
             0.5,
             "#f7f7f7"
            ],
            [
             0.6,
             "#e6f5d0"
            ],
            [
             0.7,
             "#b8e186"
            ],
            [
             0.8,
             "#7fbc41"
            ],
            [
             0.9,
             "#4d9221"
            ],
            [
             1,
             "#276419"
            ]
           ],
           "sequential": [
            [
             0,
             "#0d0887"
            ],
            [
             0.1111111111111111,
             "#46039f"
            ],
            [
             0.2222222222222222,
             "#7201a8"
            ],
            [
             0.3333333333333333,
             "#9c179e"
            ],
            [
             0.4444444444444444,
             "#bd3786"
            ],
            [
             0.5555555555555556,
             "#d8576b"
            ],
            [
             0.6666666666666666,
             "#ed7953"
            ],
            [
             0.7777777777777778,
             "#fb9f3a"
            ],
            [
             0.8888888888888888,
             "#fdca26"
            ],
            [
             1,
             "#f0f921"
            ]
           ],
           "sequentialminus": [
            [
             0,
             "#0d0887"
            ],
            [
             0.1111111111111111,
             "#46039f"
            ],
            [
             0.2222222222222222,
             "#7201a8"
            ],
            [
             0.3333333333333333,
             "#9c179e"
            ],
            [
             0.4444444444444444,
             "#bd3786"
            ],
            [
             0.5555555555555556,
             "#d8576b"
            ],
            [
             0.6666666666666666,
             "#ed7953"
            ],
            [
             0.7777777777777778,
             "#fb9f3a"
            ],
            [
             0.8888888888888888,
             "#fdca26"
            ],
            [
             1,
             "#f0f921"
            ]
           ]
          },
          "colorway": [
           "#636efa",
           "#EF553B",
           "#00cc96",
           "#ab63fa",
           "#FFA15A",
           "#19d3f3",
           "#FF6692",
           "#B6E880",
           "#FF97FF",
           "#FECB52"
          ],
          "font": {
           "color": "#2a3f5f"
          },
          "geo": {
           "bgcolor": "white",
           "lakecolor": "white",
           "landcolor": "#E5ECF6",
           "showlakes": true,
           "showland": true,
           "subunitcolor": "white"
          },
          "hoverlabel": {
           "align": "left"
          },
          "hovermode": "closest",
          "mapbox": {
           "style": "light"
          },
          "paper_bgcolor": "white",
          "plot_bgcolor": "#E5ECF6",
          "polar": {
           "angularaxis": {
            "gridcolor": "white",
            "linecolor": "white",
            "ticks": ""
           },
           "bgcolor": "#E5ECF6",
           "radialaxis": {
            "gridcolor": "white",
            "linecolor": "white",
            "ticks": ""
           }
          },
          "scene": {
           "xaxis": {
            "backgroundcolor": "#E5ECF6",
            "gridcolor": "white",
            "gridwidth": 2,
            "linecolor": "white",
            "showbackground": true,
            "ticks": "",
            "zerolinecolor": "white"
           },
           "yaxis": {
            "backgroundcolor": "#E5ECF6",
            "gridcolor": "white",
            "gridwidth": 2,
            "linecolor": "white",
            "showbackground": true,
            "ticks": "",
            "zerolinecolor": "white"
           },
           "zaxis": {
            "backgroundcolor": "#E5ECF6",
            "gridcolor": "white",
            "gridwidth": 2,
            "linecolor": "white",
            "showbackground": true,
            "ticks": "",
            "zerolinecolor": "white"
           }
          },
          "shapedefaults": {
           "line": {
            "color": "#2a3f5f"
           }
          },
          "ternary": {
           "aaxis": {
            "gridcolor": "white",
            "linecolor": "white",
            "ticks": ""
           },
           "baxis": {
            "gridcolor": "white",
            "linecolor": "white",
            "ticks": ""
           },
           "bgcolor": "#E5ECF6",
           "caxis": {
            "gridcolor": "white",
            "linecolor": "white",
            "ticks": ""
           }
          },
          "title": {
           "x": 0.05
          },
          "xaxis": {
           "automargin": true,
           "gridcolor": "white",
           "linecolor": "white",
           "ticks": "",
           "title": {
            "standoff": 15
           },
           "zerolinecolor": "white",
           "zerolinewidth": 2
          },
          "yaxis": {
           "automargin": true,
           "gridcolor": "white",
           "linecolor": "white",
           "ticks": "",
           "title": {
            "standoff": 15
           },
           "zerolinecolor": "white",
           "zerolinewidth": 2
          }
         }
        },
        "yaxis": {
         "title": {
          "text": "RMSE"
         }
        }
       }
      },
      "text/html": [
       "<div>                            <div id=\"9949ef96-a9eb-4244-bc75-a6f0c80ee3a7\" class=\"plotly-graph-div\" style=\"height:525px; width:100%;\"></div>            <script type=\"text/javascript\">                require([\"plotly\"], function(Plotly) {                    window.PLOTLYENV=window.PLOTLYENV || {};                                    if (document.getElementById(\"9949ef96-a9eb-4244-bc75-a6f0c80ee3a7\")) {                    Plotly.newPlot(                        \"9949ef96-a9eb-4244-bc75-a6f0c80ee3a7\",                        [{\"name\":\"Training RMSE\",\"x\":[\"c\",\"c,d\",\"c,d,h\",\"c,d,h,w\",\"c,d,h,w,a\",\"c,d,h,w,a,m\",\"c,d,h,w,a,m,o\",\"c,d,h,w,a,m,o,n\",\"Ridge(alpha=0.5)\"],\"y\":[4.888109236813685,4.58757379901803,4.525395490245242,4.216877763288668,4.213763450275896,3.3799994809258993,3.2488224012050075,1.1387313016649125,3.3920243351447157],\"type\":\"bar\"},{\"name\":\"CV RMSE\",\"x\":[\"c\",\"c,d\",\"c,d,h\",\"c,d,h,w\",\"c,d,h,w,a\",\"c,d,h,w,a,m\",\"c,d,h,w,a,m,o\",\"c,d,h,w,a,m,o,n\",\"Ridge(alpha=0.5)\"],\"y\":[4.876661068256956,4.579060426624026,4.556808311664746,4.252718625749385,4.256844728700814,3.4557657065586773,3.3323381513276003,3.728919763030074,3.249756949598749],\"type\":\"bar\"},{\"name\":\"Test RMSE\",\"opacity\":0.3,\"x\":[\"c\",\"c,d\",\"c,d,h\",\"c,d,h,w\",\"c,d,h,w,a\",\"c,d,h,w,a,m\",\"c,d,h,w,a,m,o\",\"c,d,h,w,a,m,o,n\",\"Ridge(alpha=0.5)\"],\"y\":[5.055013548375552,4.766156989852369,4.5838617699808735,4.32584781613103,4.349888692769132,3.5508281716401946,3.3746613014711677,3.507443289513132,3.4637315803242417],\"type\":\"bar\"}],                        {\"template\":{\"data\":{\"bar\":[{\"error_x\":{\"color\":\"#2a3f5f\"},\"error_y\":{\"color\":\"#2a3f5f\"},\"marker\":{\"line\":{\"color\":\"#E5ECF6\",\"width\":0.5},\"pattern\":{\"fillmode\":\"overlay\",\"size\":10,\"solidity\":0.2}},\"type\":\"bar\"}],\"barpolar\":[{\"marker\":{\"line\":{\"color\":\"#E5ECF6\",\"width\":0.5},\"pattern\":{\"fillmode\":\"overlay\",\"size\":10,\"solidity\":0.2}},\"type\":\"barpolar\"}],\"carpet\":[{\"aaxis\":{\"endlinecolor\":\"#2a3f5f\",\"gridcolor\":\"white\",\"linecolor\":\"white\",\"minorgridcolor\":\"white\",\"startlinecolor\":\"#2a3f5f\"},\"baxis\":{\"endlinecolor\":\"#2a3f5f\",\"gridcolor\":\"white\",\"linecolor\":\"white\",\"minorgridcolor\":\"white\",\"startlinecolor\":\"#2a3f5f\"},\"type\":\"carpet\"}],\"choropleth\":[{\"colorbar\":{\"outlinewidth\":0,\"ticks\":\"\"},\"type\":\"choropleth\"}],\"contour\":[{\"colorbar\":{\"outlinewidth\":0,\"ticks\":\"\"},\"colorscale\":[[0.0,\"#0d0887\"],[0.1111111111111111,\"#46039f\"],[0.2222222222222222,\"#7201a8\"],[0.3333333333333333,\"#9c179e\"],[0.4444444444444444,\"#bd3786\"],[0.5555555555555556,\"#d8576b\"],[0.6666666666666666,\"#ed7953\"],[0.7777777777777778,\"#fb9f3a\"],[0.8888888888888888,\"#fdca26\"],[1.0,\"#f0f921\"]],\"type\":\"contour\"}],\"contourcarpet\":[{\"colorbar\":{\"outlinewidth\":0,\"ticks\":\"\"},\"type\":\"contourcarpet\"}],\"heatmap\":[{\"colorbar\":{\"outlinewidth\":0,\"ticks\":\"\"},\"colorscale\":[[0.0,\"#0d0887\"],[0.1111111111111111,\"#46039f\"],[0.2222222222222222,\"#7201a8\"],[0.3333333333333333,\"#9c179e\"],[0.4444444444444444,\"#bd3786\"],[0.5555555555555556,\"#d8576b\"],[0.6666666666666666,\"#ed7953\"],[0.7777777777777778,\"#fb9f3a\"],[0.8888888888888888,\"#fdca26\"],[1.0,\"#f0f921\"]],\"type\":\"heatmap\"}],\"heatmapgl\":[{\"colorbar\":{\"outlinewidth\":0,\"ticks\":\"\"},\"colorscale\":[[0.0,\"#0d0887\"],[0.1111111111111111,\"#46039f\"],[0.2222222222222222,\"#7201a8\"],[0.3333333333333333,\"#9c179e\"],[0.4444444444444444,\"#bd3786\"],[0.5555555555555556,\"#d8576b\"],[0.6666666666666666,\"#ed7953\"],[0.7777777777777778,\"#fb9f3a\"],[0.8888888888888888,\"#fdca26\"],[1.0,\"#f0f921\"]],\"type\":\"heatmapgl\"}],\"histogram\":[{\"marker\":{\"pattern\":{\"fillmode\":\"overlay\",\"size\":10,\"solidity\":0.2}},\"type\":\"histogram\"}],\"histogram2d\":[{\"colorbar\":{\"outlinewidth\":0,\"ticks\":\"\"},\"colorscale\":[[0.0,\"#0d0887\"],[0.1111111111111111,\"#46039f\"],[0.2222222222222222,\"#7201a8\"],[0.3333333333333333,\"#9c179e\"],[0.4444444444444444,\"#bd3786\"],[0.5555555555555556,\"#d8576b\"],[0.6666666666666666,\"#ed7953\"],[0.7777777777777778,\"#fb9f3a\"],[0.8888888888888888,\"#fdca26\"],[1.0,\"#f0f921\"]],\"type\":\"histogram2d\"}],\"histogram2dcontour\":[{\"colorbar\":{\"outlinewidth\":0,\"ticks\":\"\"},\"colorscale\":[[0.0,\"#0d0887\"],[0.1111111111111111,\"#46039f\"],[0.2222222222222222,\"#7201a8\"],[0.3333333333333333,\"#9c179e\"],[0.4444444444444444,\"#bd3786\"],[0.5555555555555556,\"#d8576b\"],[0.6666666666666666,\"#ed7953\"],[0.7777777777777778,\"#fb9f3a\"],[0.8888888888888888,\"#fdca26\"],[1.0,\"#f0f921\"]],\"type\":\"histogram2dcontour\"}],\"mesh3d\":[{\"colorbar\":{\"outlinewidth\":0,\"ticks\":\"\"},\"type\":\"mesh3d\"}],\"parcoords\":[{\"line\":{\"colorbar\":{\"outlinewidth\":0,\"ticks\":\"\"}},\"type\":\"parcoords\"}],\"pie\":[{\"automargin\":true,\"type\":\"pie\"}],\"scatter\":[{\"marker\":{\"colorbar\":{\"outlinewidth\":0,\"ticks\":\"\"}},\"type\":\"scatter\"}],\"scatter3d\":[{\"line\":{\"colorbar\":{\"outlinewidth\":0,\"ticks\":\"\"}},\"marker\":{\"colorbar\":{\"outlinewidth\":0,\"ticks\":\"\"}},\"type\":\"scatter3d\"}],\"scattercarpet\":[{\"marker\":{\"colorbar\":{\"outlinewidth\":0,\"ticks\":\"\"}},\"type\":\"scattercarpet\"}],\"scattergeo\":[{\"marker\":{\"colorbar\":{\"outlinewidth\":0,\"ticks\":\"\"}},\"type\":\"scattergeo\"}],\"scattergl\":[{\"marker\":{\"colorbar\":{\"outlinewidth\":0,\"ticks\":\"\"}},\"type\":\"scattergl\"}],\"scattermapbox\":[{\"marker\":{\"colorbar\":{\"outlinewidth\":0,\"ticks\":\"\"}},\"type\":\"scattermapbox\"}],\"scatterpolar\":[{\"marker\":{\"colorbar\":{\"outlinewidth\":0,\"ticks\":\"\"}},\"type\":\"scatterpolar\"}],\"scatterpolargl\":[{\"marker\":{\"colorbar\":{\"outlinewidth\":0,\"ticks\":\"\"}},\"type\":\"scatterpolargl\"}],\"scatterternary\":[{\"marker\":{\"colorbar\":{\"outlinewidth\":0,\"ticks\":\"\"}},\"type\":\"scatterternary\"}],\"surface\":[{\"colorbar\":{\"outlinewidth\":0,\"ticks\":\"\"},\"colorscale\":[[0.0,\"#0d0887\"],[0.1111111111111111,\"#46039f\"],[0.2222222222222222,\"#7201a8\"],[0.3333333333333333,\"#9c179e\"],[0.4444444444444444,\"#bd3786\"],[0.5555555555555556,\"#d8576b\"],[0.6666666666666666,\"#ed7953\"],[0.7777777777777778,\"#fb9f3a\"],[0.8888888888888888,\"#fdca26\"],[1.0,\"#f0f921\"]],\"type\":\"surface\"}],\"table\":[{\"cells\":{\"fill\":{\"color\":\"#EBF0F8\"},\"line\":{\"color\":\"white\"}},\"header\":{\"fill\":{\"color\":\"#C8D4E3\"},\"line\":{\"color\":\"white\"}},\"type\":\"table\"}]},\"layout\":{\"annotationdefaults\":{\"arrowcolor\":\"#2a3f5f\",\"arrowhead\":0,\"arrowwidth\":1},\"autotypenumbers\":\"strict\",\"coloraxis\":{\"colorbar\":{\"outlinewidth\":0,\"ticks\":\"\"}},\"colorscale\":{\"diverging\":[[0,\"#8e0152\"],[0.1,\"#c51b7d\"],[0.2,\"#de77ae\"],[0.3,\"#f1b6da\"],[0.4,\"#fde0ef\"],[0.5,\"#f7f7f7\"],[0.6,\"#e6f5d0\"],[0.7,\"#b8e186\"],[0.8,\"#7fbc41\"],[0.9,\"#4d9221\"],[1,\"#276419\"]],\"sequential\":[[0.0,\"#0d0887\"],[0.1111111111111111,\"#46039f\"],[0.2222222222222222,\"#7201a8\"],[0.3333333333333333,\"#9c179e\"],[0.4444444444444444,\"#bd3786\"],[0.5555555555555556,\"#d8576b\"],[0.6666666666666666,\"#ed7953\"],[0.7777777777777778,\"#fb9f3a\"],[0.8888888888888888,\"#fdca26\"],[1.0,\"#f0f921\"]],\"sequentialminus\":[[0.0,\"#0d0887\"],[0.1111111111111111,\"#46039f\"],[0.2222222222222222,\"#7201a8\"],[0.3333333333333333,\"#9c179e\"],[0.4444444444444444,\"#bd3786\"],[0.5555555555555556,\"#d8576b\"],[0.6666666666666666,\"#ed7953\"],[0.7777777777777778,\"#fb9f3a\"],[0.8888888888888888,\"#fdca26\"],[1.0,\"#f0f921\"]]},\"colorway\":[\"#636efa\",\"#EF553B\",\"#00cc96\",\"#ab63fa\",\"#FFA15A\",\"#19d3f3\",\"#FF6692\",\"#B6E880\",\"#FF97FF\",\"#FECB52\"],\"font\":{\"color\":\"#2a3f5f\"},\"geo\":{\"bgcolor\":\"white\",\"lakecolor\":\"white\",\"landcolor\":\"#E5ECF6\",\"showlakes\":true,\"showland\":true,\"subunitcolor\":\"white\"},\"hoverlabel\":{\"align\":\"left\"},\"hovermode\":\"closest\",\"mapbox\":{\"style\":\"light\"},\"paper_bgcolor\":\"white\",\"plot_bgcolor\":\"#E5ECF6\",\"polar\":{\"angularaxis\":{\"gridcolor\":\"white\",\"linecolor\":\"white\",\"ticks\":\"\"},\"bgcolor\":\"#E5ECF6\",\"radialaxis\":{\"gridcolor\":\"white\",\"linecolor\":\"white\",\"ticks\":\"\"}},\"scene\":{\"xaxis\":{\"backgroundcolor\":\"#E5ECF6\",\"gridcolor\":\"white\",\"gridwidth\":2,\"linecolor\":\"white\",\"showbackground\":true,\"ticks\":\"\",\"zerolinecolor\":\"white\"},\"yaxis\":{\"backgroundcolor\":\"#E5ECF6\",\"gridcolor\":\"white\",\"gridwidth\":2,\"linecolor\":\"white\",\"showbackground\":true,\"ticks\":\"\",\"zerolinecolor\":\"white\"},\"zaxis\":{\"backgroundcolor\":\"#E5ECF6\",\"gridcolor\":\"white\",\"gridwidth\":2,\"linecolor\":\"white\",\"showbackground\":true,\"ticks\":\"\",\"zerolinecolor\":\"white\"}},\"shapedefaults\":{\"line\":{\"color\":\"#2a3f5f\"}},\"ternary\":{\"aaxis\":{\"gridcolor\":\"white\",\"linecolor\":\"white\",\"ticks\":\"\"},\"baxis\":{\"gridcolor\":\"white\",\"linecolor\":\"white\",\"ticks\":\"\"},\"bgcolor\":\"#E5ECF6\",\"caxis\":{\"gridcolor\":\"white\",\"linecolor\":\"white\",\"ticks\":\"\"}},\"title\":{\"x\":0.05},\"xaxis\":{\"automargin\":true,\"gridcolor\":\"white\",\"linecolor\":\"white\",\"ticks\":\"\",\"title\":{\"standoff\":15},\"zerolinecolor\":\"white\",\"zerolinewidth\":2},\"yaxis\":{\"automargin\":true,\"gridcolor\":\"white\",\"linecolor\":\"white\",\"ticks\":\"\",\"title\":{\"standoff\":15},\"zerolinecolor\":\"white\",\"zerolinewidth\":2}}},\"yaxis\":{\"title\":{\"text\":\"RMSE\"}}},                        {\"responsive\": true}                    ).then(function(){\n",
       "                            \n",
       "var gd = document.getElementById('9949ef96-a9eb-4244-bc75-a6f0c80ee3a7');\n",
       "var x = new MutationObserver(function (mutations, observer) {{\n",
       "        var display = window.getComputedStyle(gd).display;\n",
       "        if (!display || display === 'none') {{\n",
       "            console.log([gd, 'removed!']);\n",
       "            Plotly.purge(gd);\n",
       "            observer.disconnect();\n",
       "        }}\n",
       "}});\n",
       "\n",
       "// Listen for the removal of the full notebook cells\n",
       "var notebookContainer = gd.closest('#notebook-container');\n",
       "if (notebookContainer) {{\n",
       "    x.observe(notebookContainer, {childList: true});\n",
       "}}\n",
       "\n",
       "// Listen for the clearing of the current output cell\n",
       "var outputEl = gd.closest('.output');\n",
       "if (outputEl) {{\n",
       "    x.observe(outputEl, {childList: true});\n",
       "}}\n",
       "\n",
       "                        })                };                });            </script>        </div>"
      ]
     },
     "metadata": {},
     "output_type": "display_data"
    }
   ],
   "source": [
    "ridge_model.fit(tr, tr['mpg'])\n",
    "models[\"Ridge(alpha=0.5)\"] = ridge_model\n",
    "compare_models(models)"
   ]
  },
  {
   "cell_type": "markdown",
   "metadata": {},
   "source": [
    "We should also standardize our features:"
   ]
  },
  {
   "cell_type": "code",
   "execution_count": 31,
   "metadata": {},
   "outputs": [],
   "source": [
    "from sklearn.preprocessing import StandardScaler"
   ]
  },
  {
   "cell_type": "code",
   "execution_count": 32,
   "metadata": {},
   "outputs": [],
   "source": [
    "ridge_model = Pipeline([\n",
    "    (\"SelectColumns\", ColumnTransformer([\n",
    "        (\"keep\", StandardScaler(), quantitative_features),\n",
    "        (\"origin_encoder\", OneHotEncoder(), [\"origin\"]),\n",
    "        (\"text\", CountVectorizer(), \"name\")\n",
    "    ])),\n",
    "    (\"Imputation\", SimpleImputer()),\n",
    "#     (\"Standarize\", StandardScaler(with_mean=False)),\n",
    "    (\"LinearModel\", Ridge(alpha=0.5))\n",
    "])"
   ]
  },
  {
   "cell_type": "code",
   "execution_count": 33,
   "metadata": {},
   "outputs": [
    {
     "data": {
      "application/vnd.plotly.v1+json": {
       "config": {
        "plotlyServerURL": "https://plot.ly"
       },
       "data": [
        {
         "name": "Training RMSE",
         "type": "bar",
         "x": [
          "c",
          "c,d",
          "c,d,h",
          "c,d,h,w",
          "c,d,h,w,a",
          "c,d,h,w,a,m",
          "c,d,h,w,a,m,o",
          "c,d,h,w,a,m,o,n",
          "Ridge(alpha=0.5)",
          "RidgeN(alpha=0.5)"
         ],
         "y": [
          4.888109236813685,
          4.58757379901803,
          4.525395490245242,
          4.216877763288668,
          4.213763450275896,
          3.3799994809258993,
          3.2488224012050075,
          1.1387313016649125,
          3.3920243351447157,
          1.3730740993226607
         ]
        },
        {
         "name": "CV RMSE",
         "type": "bar",
         "x": [
          "c",
          "c,d",
          "c,d,h",
          "c,d,h,w",
          "c,d,h,w,a",
          "c,d,h,w,a,m",
          "c,d,h,w,a,m,o",
          "c,d,h,w,a,m,o,n",
          "Ridge(alpha=0.5)",
          "RidgeN(alpha=0.5)"
         ],
         "y": [
          4.876661068256956,
          4.579060426624026,
          4.556808311664746,
          4.252718625749385,
          4.256844728700814,
          3.4557657065586773,
          3.3323381513276003,
          3.728919763030074,
          3.249756949598749,
          3.0212962182396272
         ]
        },
        {
         "name": "Test RMSE",
         "opacity": 0.3,
         "type": "bar",
         "x": [
          "c",
          "c,d",
          "c,d,h",
          "c,d,h,w",
          "c,d,h,w,a",
          "c,d,h,w,a,m",
          "c,d,h,w,a,m,o",
          "c,d,h,w,a,m,o,n",
          "Ridge(alpha=0.5)",
          "RidgeN(alpha=0.5)"
         ],
         "y": [
          5.055013548375552,
          4.766156989852369,
          4.5838617699808735,
          4.32584781613103,
          4.349888692769132,
          3.5508281716401946,
          3.3746613014711677,
          3.507443289513132,
          3.4637315803242417,
          3.5391832578939355
         ]
        }
       ],
       "layout": {
        "template": {
         "data": {
          "bar": [
           {
            "error_x": {
             "color": "#2a3f5f"
            },
            "error_y": {
             "color": "#2a3f5f"
            },
            "marker": {
             "line": {
              "color": "#E5ECF6",
              "width": 0.5
             },
             "pattern": {
              "fillmode": "overlay",
              "size": 10,
              "solidity": 0.2
             }
            },
            "type": "bar"
           }
          ],
          "barpolar": [
           {
            "marker": {
             "line": {
              "color": "#E5ECF6",
              "width": 0.5
             },
             "pattern": {
              "fillmode": "overlay",
              "size": 10,
              "solidity": 0.2
             }
            },
            "type": "barpolar"
           }
          ],
          "carpet": [
           {
            "aaxis": {
             "endlinecolor": "#2a3f5f",
             "gridcolor": "white",
             "linecolor": "white",
             "minorgridcolor": "white",
             "startlinecolor": "#2a3f5f"
            },
            "baxis": {
             "endlinecolor": "#2a3f5f",
             "gridcolor": "white",
             "linecolor": "white",
             "minorgridcolor": "white",
             "startlinecolor": "#2a3f5f"
            },
            "type": "carpet"
           }
          ],
          "choropleth": [
           {
            "colorbar": {
             "outlinewidth": 0,
             "ticks": ""
            },
            "type": "choropleth"
           }
          ],
          "contour": [
           {
            "colorbar": {
             "outlinewidth": 0,
             "ticks": ""
            },
            "colorscale": [
             [
              0,
              "#0d0887"
             ],
             [
              0.1111111111111111,
              "#46039f"
             ],
             [
              0.2222222222222222,
              "#7201a8"
             ],
             [
              0.3333333333333333,
              "#9c179e"
             ],
             [
              0.4444444444444444,
              "#bd3786"
             ],
             [
              0.5555555555555556,
              "#d8576b"
             ],
             [
              0.6666666666666666,
              "#ed7953"
             ],
             [
              0.7777777777777778,
              "#fb9f3a"
             ],
             [
              0.8888888888888888,
              "#fdca26"
             ],
             [
              1,
              "#f0f921"
             ]
            ],
            "type": "contour"
           }
          ],
          "contourcarpet": [
           {
            "colorbar": {
             "outlinewidth": 0,
             "ticks": ""
            },
            "type": "contourcarpet"
           }
          ],
          "heatmap": [
           {
            "colorbar": {
             "outlinewidth": 0,
             "ticks": ""
            },
            "colorscale": [
             [
              0,
              "#0d0887"
             ],
             [
              0.1111111111111111,
              "#46039f"
             ],
             [
              0.2222222222222222,
              "#7201a8"
             ],
             [
              0.3333333333333333,
              "#9c179e"
             ],
             [
              0.4444444444444444,
              "#bd3786"
             ],
             [
              0.5555555555555556,
              "#d8576b"
             ],
             [
              0.6666666666666666,
              "#ed7953"
             ],
             [
              0.7777777777777778,
              "#fb9f3a"
             ],
             [
              0.8888888888888888,
              "#fdca26"
             ],
             [
              1,
              "#f0f921"
             ]
            ],
            "type": "heatmap"
           }
          ],
          "heatmapgl": [
           {
            "colorbar": {
             "outlinewidth": 0,
             "ticks": ""
            },
            "colorscale": [
             [
              0,
              "#0d0887"
             ],
             [
              0.1111111111111111,
              "#46039f"
             ],
             [
              0.2222222222222222,
              "#7201a8"
             ],
             [
              0.3333333333333333,
              "#9c179e"
             ],
             [
              0.4444444444444444,
              "#bd3786"
             ],
             [
              0.5555555555555556,
              "#d8576b"
             ],
             [
              0.6666666666666666,
              "#ed7953"
             ],
             [
              0.7777777777777778,
              "#fb9f3a"
             ],
             [
              0.8888888888888888,
              "#fdca26"
             ],
             [
              1,
              "#f0f921"
             ]
            ],
            "type": "heatmapgl"
           }
          ],
          "histogram": [
           {
            "marker": {
             "pattern": {
              "fillmode": "overlay",
              "size": 10,
              "solidity": 0.2
             }
            },
            "type": "histogram"
           }
          ],
          "histogram2d": [
           {
            "colorbar": {
             "outlinewidth": 0,
             "ticks": ""
            },
            "colorscale": [
             [
              0,
              "#0d0887"
             ],
             [
              0.1111111111111111,
              "#46039f"
             ],
             [
              0.2222222222222222,
              "#7201a8"
             ],
             [
              0.3333333333333333,
              "#9c179e"
             ],
             [
              0.4444444444444444,
              "#bd3786"
             ],
             [
              0.5555555555555556,
              "#d8576b"
             ],
             [
              0.6666666666666666,
              "#ed7953"
             ],
             [
              0.7777777777777778,
              "#fb9f3a"
             ],
             [
              0.8888888888888888,
              "#fdca26"
             ],
             [
              1,
              "#f0f921"
             ]
            ],
            "type": "histogram2d"
           }
          ],
          "histogram2dcontour": [
           {
            "colorbar": {
             "outlinewidth": 0,
             "ticks": ""
            },
            "colorscale": [
             [
              0,
              "#0d0887"
             ],
             [
              0.1111111111111111,
              "#46039f"
             ],
             [
              0.2222222222222222,
              "#7201a8"
             ],
             [
              0.3333333333333333,
              "#9c179e"
             ],
             [
              0.4444444444444444,
              "#bd3786"
             ],
             [
              0.5555555555555556,
              "#d8576b"
             ],
             [
              0.6666666666666666,
              "#ed7953"
             ],
             [
              0.7777777777777778,
              "#fb9f3a"
             ],
             [
              0.8888888888888888,
              "#fdca26"
             ],
             [
              1,
              "#f0f921"
             ]
            ],
            "type": "histogram2dcontour"
           }
          ],
          "mesh3d": [
           {
            "colorbar": {
             "outlinewidth": 0,
             "ticks": ""
            },
            "type": "mesh3d"
           }
          ],
          "parcoords": [
           {
            "line": {
             "colorbar": {
              "outlinewidth": 0,
              "ticks": ""
             }
            },
            "type": "parcoords"
           }
          ],
          "pie": [
           {
            "automargin": true,
            "type": "pie"
           }
          ],
          "scatter": [
           {
            "marker": {
             "colorbar": {
              "outlinewidth": 0,
              "ticks": ""
             }
            },
            "type": "scatter"
           }
          ],
          "scatter3d": [
           {
            "line": {
             "colorbar": {
              "outlinewidth": 0,
              "ticks": ""
             }
            },
            "marker": {
             "colorbar": {
              "outlinewidth": 0,
              "ticks": ""
             }
            },
            "type": "scatter3d"
           }
          ],
          "scattercarpet": [
           {
            "marker": {
             "colorbar": {
              "outlinewidth": 0,
              "ticks": ""
             }
            },
            "type": "scattercarpet"
           }
          ],
          "scattergeo": [
           {
            "marker": {
             "colorbar": {
              "outlinewidth": 0,
              "ticks": ""
             }
            },
            "type": "scattergeo"
           }
          ],
          "scattergl": [
           {
            "marker": {
             "colorbar": {
              "outlinewidth": 0,
              "ticks": ""
             }
            },
            "type": "scattergl"
           }
          ],
          "scattermapbox": [
           {
            "marker": {
             "colorbar": {
              "outlinewidth": 0,
              "ticks": ""
             }
            },
            "type": "scattermapbox"
           }
          ],
          "scatterpolar": [
           {
            "marker": {
             "colorbar": {
              "outlinewidth": 0,
              "ticks": ""
             }
            },
            "type": "scatterpolar"
           }
          ],
          "scatterpolargl": [
           {
            "marker": {
             "colorbar": {
              "outlinewidth": 0,
              "ticks": ""
             }
            },
            "type": "scatterpolargl"
           }
          ],
          "scatterternary": [
           {
            "marker": {
             "colorbar": {
              "outlinewidth": 0,
              "ticks": ""
             }
            },
            "type": "scatterternary"
           }
          ],
          "surface": [
           {
            "colorbar": {
             "outlinewidth": 0,
             "ticks": ""
            },
            "colorscale": [
             [
              0,
              "#0d0887"
             ],
             [
              0.1111111111111111,
              "#46039f"
             ],
             [
              0.2222222222222222,
              "#7201a8"
             ],
             [
              0.3333333333333333,
              "#9c179e"
             ],
             [
              0.4444444444444444,
              "#bd3786"
             ],
             [
              0.5555555555555556,
              "#d8576b"
             ],
             [
              0.6666666666666666,
              "#ed7953"
             ],
             [
              0.7777777777777778,
              "#fb9f3a"
             ],
             [
              0.8888888888888888,
              "#fdca26"
             ],
             [
              1,
              "#f0f921"
             ]
            ],
            "type": "surface"
           }
          ],
          "table": [
           {
            "cells": {
             "fill": {
              "color": "#EBF0F8"
             },
             "line": {
              "color": "white"
             }
            },
            "header": {
             "fill": {
              "color": "#C8D4E3"
             },
             "line": {
              "color": "white"
             }
            },
            "type": "table"
           }
          ]
         },
         "layout": {
          "annotationdefaults": {
           "arrowcolor": "#2a3f5f",
           "arrowhead": 0,
           "arrowwidth": 1
          },
          "autotypenumbers": "strict",
          "coloraxis": {
           "colorbar": {
            "outlinewidth": 0,
            "ticks": ""
           }
          },
          "colorscale": {
           "diverging": [
            [
             0,
             "#8e0152"
            ],
            [
             0.1,
             "#c51b7d"
            ],
            [
             0.2,
             "#de77ae"
            ],
            [
             0.3,
             "#f1b6da"
            ],
            [
             0.4,
             "#fde0ef"
            ],
            [
             0.5,
             "#f7f7f7"
            ],
            [
             0.6,
             "#e6f5d0"
            ],
            [
             0.7,
             "#b8e186"
            ],
            [
             0.8,
             "#7fbc41"
            ],
            [
             0.9,
             "#4d9221"
            ],
            [
             1,
             "#276419"
            ]
           ],
           "sequential": [
            [
             0,
             "#0d0887"
            ],
            [
             0.1111111111111111,
             "#46039f"
            ],
            [
             0.2222222222222222,
             "#7201a8"
            ],
            [
             0.3333333333333333,
             "#9c179e"
            ],
            [
             0.4444444444444444,
             "#bd3786"
            ],
            [
             0.5555555555555556,
             "#d8576b"
            ],
            [
             0.6666666666666666,
             "#ed7953"
            ],
            [
             0.7777777777777778,
             "#fb9f3a"
            ],
            [
             0.8888888888888888,
             "#fdca26"
            ],
            [
             1,
             "#f0f921"
            ]
           ],
           "sequentialminus": [
            [
             0,
             "#0d0887"
            ],
            [
             0.1111111111111111,
             "#46039f"
            ],
            [
             0.2222222222222222,
             "#7201a8"
            ],
            [
             0.3333333333333333,
             "#9c179e"
            ],
            [
             0.4444444444444444,
             "#bd3786"
            ],
            [
             0.5555555555555556,
             "#d8576b"
            ],
            [
             0.6666666666666666,
             "#ed7953"
            ],
            [
             0.7777777777777778,
             "#fb9f3a"
            ],
            [
             0.8888888888888888,
             "#fdca26"
            ],
            [
             1,
             "#f0f921"
            ]
           ]
          },
          "colorway": [
           "#636efa",
           "#EF553B",
           "#00cc96",
           "#ab63fa",
           "#FFA15A",
           "#19d3f3",
           "#FF6692",
           "#B6E880",
           "#FF97FF",
           "#FECB52"
          ],
          "font": {
           "color": "#2a3f5f"
          },
          "geo": {
           "bgcolor": "white",
           "lakecolor": "white",
           "landcolor": "#E5ECF6",
           "showlakes": true,
           "showland": true,
           "subunitcolor": "white"
          },
          "hoverlabel": {
           "align": "left"
          },
          "hovermode": "closest",
          "mapbox": {
           "style": "light"
          },
          "paper_bgcolor": "white",
          "plot_bgcolor": "#E5ECF6",
          "polar": {
           "angularaxis": {
            "gridcolor": "white",
            "linecolor": "white",
            "ticks": ""
           },
           "bgcolor": "#E5ECF6",
           "radialaxis": {
            "gridcolor": "white",
            "linecolor": "white",
            "ticks": ""
           }
          },
          "scene": {
           "xaxis": {
            "backgroundcolor": "#E5ECF6",
            "gridcolor": "white",
            "gridwidth": 2,
            "linecolor": "white",
            "showbackground": true,
            "ticks": "",
            "zerolinecolor": "white"
           },
           "yaxis": {
            "backgroundcolor": "#E5ECF6",
            "gridcolor": "white",
            "gridwidth": 2,
            "linecolor": "white",
            "showbackground": true,
            "ticks": "",
            "zerolinecolor": "white"
           },
           "zaxis": {
            "backgroundcolor": "#E5ECF6",
            "gridcolor": "white",
            "gridwidth": 2,
            "linecolor": "white",
            "showbackground": true,
            "ticks": "",
            "zerolinecolor": "white"
           }
          },
          "shapedefaults": {
           "line": {
            "color": "#2a3f5f"
           }
          },
          "ternary": {
           "aaxis": {
            "gridcolor": "white",
            "linecolor": "white",
            "ticks": ""
           },
           "baxis": {
            "gridcolor": "white",
            "linecolor": "white",
            "ticks": ""
           },
           "bgcolor": "#E5ECF6",
           "caxis": {
            "gridcolor": "white",
            "linecolor": "white",
            "ticks": ""
           }
          },
          "title": {
           "x": 0.05
          },
          "xaxis": {
           "automargin": true,
           "gridcolor": "white",
           "linecolor": "white",
           "ticks": "",
           "title": {
            "standoff": 15
           },
           "zerolinecolor": "white",
           "zerolinewidth": 2
          },
          "yaxis": {
           "automargin": true,
           "gridcolor": "white",
           "linecolor": "white",
           "ticks": "",
           "title": {
            "standoff": 15
           },
           "zerolinecolor": "white",
           "zerolinewidth": 2
          }
         }
        },
        "yaxis": {
         "title": {
          "text": "RMSE"
         }
        }
       }
      },
      "text/html": [
       "<div>                            <div id=\"a5bf04b2-9d82-4528-bd95-ad4ee986a62a\" class=\"plotly-graph-div\" style=\"height:525px; width:100%;\"></div>            <script type=\"text/javascript\">                require([\"plotly\"], function(Plotly) {                    window.PLOTLYENV=window.PLOTLYENV || {};                                    if (document.getElementById(\"a5bf04b2-9d82-4528-bd95-ad4ee986a62a\")) {                    Plotly.newPlot(                        \"a5bf04b2-9d82-4528-bd95-ad4ee986a62a\",                        [{\"name\":\"Training RMSE\",\"x\":[\"c\",\"c,d\",\"c,d,h\",\"c,d,h,w\",\"c,d,h,w,a\",\"c,d,h,w,a,m\",\"c,d,h,w,a,m,o\",\"c,d,h,w,a,m,o,n\",\"Ridge(alpha=0.5)\",\"RidgeN(alpha=0.5)\"],\"y\":[4.888109236813685,4.58757379901803,4.525395490245242,4.216877763288668,4.213763450275896,3.3799994809258993,3.2488224012050075,1.1387313016649125,3.3920243351447157,1.3730740993226607],\"type\":\"bar\"},{\"name\":\"CV RMSE\",\"x\":[\"c\",\"c,d\",\"c,d,h\",\"c,d,h,w\",\"c,d,h,w,a\",\"c,d,h,w,a,m\",\"c,d,h,w,a,m,o\",\"c,d,h,w,a,m,o,n\",\"Ridge(alpha=0.5)\",\"RidgeN(alpha=0.5)\"],\"y\":[4.876661068256956,4.579060426624026,4.556808311664746,4.252718625749385,4.256844728700814,3.4557657065586773,3.3323381513276003,3.728919763030074,3.249756949598749,3.0212962182396272],\"type\":\"bar\"},{\"name\":\"Test RMSE\",\"opacity\":0.3,\"x\":[\"c\",\"c,d\",\"c,d,h\",\"c,d,h,w\",\"c,d,h,w,a\",\"c,d,h,w,a,m\",\"c,d,h,w,a,m,o\",\"c,d,h,w,a,m,o,n\",\"Ridge(alpha=0.5)\",\"RidgeN(alpha=0.5)\"],\"y\":[5.055013548375552,4.766156989852369,4.5838617699808735,4.32584781613103,4.349888692769132,3.5508281716401946,3.3746613014711677,3.507443289513132,3.4637315803242417,3.5391832578939355],\"type\":\"bar\"}],                        {\"template\":{\"data\":{\"bar\":[{\"error_x\":{\"color\":\"#2a3f5f\"},\"error_y\":{\"color\":\"#2a3f5f\"},\"marker\":{\"line\":{\"color\":\"#E5ECF6\",\"width\":0.5},\"pattern\":{\"fillmode\":\"overlay\",\"size\":10,\"solidity\":0.2}},\"type\":\"bar\"}],\"barpolar\":[{\"marker\":{\"line\":{\"color\":\"#E5ECF6\",\"width\":0.5},\"pattern\":{\"fillmode\":\"overlay\",\"size\":10,\"solidity\":0.2}},\"type\":\"barpolar\"}],\"carpet\":[{\"aaxis\":{\"endlinecolor\":\"#2a3f5f\",\"gridcolor\":\"white\",\"linecolor\":\"white\",\"minorgridcolor\":\"white\",\"startlinecolor\":\"#2a3f5f\"},\"baxis\":{\"endlinecolor\":\"#2a3f5f\",\"gridcolor\":\"white\",\"linecolor\":\"white\",\"minorgridcolor\":\"white\",\"startlinecolor\":\"#2a3f5f\"},\"type\":\"carpet\"}],\"choropleth\":[{\"colorbar\":{\"outlinewidth\":0,\"ticks\":\"\"},\"type\":\"choropleth\"}],\"contour\":[{\"colorbar\":{\"outlinewidth\":0,\"ticks\":\"\"},\"colorscale\":[[0.0,\"#0d0887\"],[0.1111111111111111,\"#46039f\"],[0.2222222222222222,\"#7201a8\"],[0.3333333333333333,\"#9c179e\"],[0.4444444444444444,\"#bd3786\"],[0.5555555555555556,\"#d8576b\"],[0.6666666666666666,\"#ed7953\"],[0.7777777777777778,\"#fb9f3a\"],[0.8888888888888888,\"#fdca26\"],[1.0,\"#f0f921\"]],\"type\":\"contour\"}],\"contourcarpet\":[{\"colorbar\":{\"outlinewidth\":0,\"ticks\":\"\"},\"type\":\"contourcarpet\"}],\"heatmap\":[{\"colorbar\":{\"outlinewidth\":0,\"ticks\":\"\"},\"colorscale\":[[0.0,\"#0d0887\"],[0.1111111111111111,\"#46039f\"],[0.2222222222222222,\"#7201a8\"],[0.3333333333333333,\"#9c179e\"],[0.4444444444444444,\"#bd3786\"],[0.5555555555555556,\"#d8576b\"],[0.6666666666666666,\"#ed7953\"],[0.7777777777777778,\"#fb9f3a\"],[0.8888888888888888,\"#fdca26\"],[1.0,\"#f0f921\"]],\"type\":\"heatmap\"}],\"heatmapgl\":[{\"colorbar\":{\"outlinewidth\":0,\"ticks\":\"\"},\"colorscale\":[[0.0,\"#0d0887\"],[0.1111111111111111,\"#46039f\"],[0.2222222222222222,\"#7201a8\"],[0.3333333333333333,\"#9c179e\"],[0.4444444444444444,\"#bd3786\"],[0.5555555555555556,\"#d8576b\"],[0.6666666666666666,\"#ed7953\"],[0.7777777777777778,\"#fb9f3a\"],[0.8888888888888888,\"#fdca26\"],[1.0,\"#f0f921\"]],\"type\":\"heatmapgl\"}],\"histogram\":[{\"marker\":{\"pattern\":{\"fillmode\":\"overlay\",\"size\":10,\"solidity\":0.2}},\"type\":\"histogram\"}],\"histogram2d\":[{\"colorbar\":{\"outlinewidth\":0,\"ticks\":\"\"},\"colorscale\":[[0.0,\"#0d0887\"],[0.1111111111111111,\"#46039f\"],[0.2222222222222222,\"#7201a8\"],[0.3333333333333333,\"#9c179e\"],[0.4444444444444444,\"#bd3786\"],[0.5555555555555556,\"#d8576b\"],[0.6666666666666666,\"#ed7953\"],[0.7777777777777778,\"#fb9f3a\"],[0.8888888888888888,\"#fdca26\"],[1.0,\"#f0f921\"]],\"type\":\"histogram2d\"}],\"histogram2dcontour\":[{\"colorbar\":{\"outlinewidth\":0,\"ticks\":\"\"},\"colorscale\":[[0.0,\"#0d0887\"],[0.1111111111111111,\"#46039f\"],[0.2222222222222222,\"#7201a8\"],[0.3333333333333333,\"#9c179e\"],[0.4444444444444444,\"#bd3786\"],[0.5555555555555556,\"#d8576b\"],[0.6666666666666666,\"#ed7953\"],[0.7777777777777778,\"#fb9f3a\"],[0.8888888888888888,\"#fdca26\"],[1.0,\"#f0f921\"]],\"type\":\"histogram2dcontour\"}],\"mesh3d\":[{\"colorbar\":{\"outlinewidth\":0,\"ticks\":\"\"},\"type\":\"mesh3d\"}],\"parcoords\":[{\"line\":{\"colorbar\":{\"outlinewidth\":0,\"ticks\":\"\"}},\"type\":\"parcoords\"}],\"pie\":[{\"automargin\":true,\"type\":\"pie\"}],\"scatter\":[{\"marker\":{\"colorbar\":{\"outlinewidth\":0,\"ticks\":\"\"}},\"type\":\"scatter\"}],\"scatter3d\":[{\"line\":{\"colorbar\":{\"outlinewidth\":0,\"ticks\":\"\"}},\"marker\":{\"colorbar\":{\"outlinewidth\":0,\"ticks\":\"\"}},\"type\":\"scatter3d\"}],\"scattercarpet\":[{\"marker\":{\"colorbar\":{\"outlinewidth\":0,\"ticks\":\"\"}},\"type\":\"scattercarpet\"}],\"scattergeo\":[{\"marker\":{\"colorbar\":{\"outlinewidth\":0,\"ticks\":\"\"}},\"type\":\"scattergeo\"}],\"scattergl\":[{\"marker\":{\"colorbar\":{\"outlinewidth\":0,\"ticks\":\"\"}},\"type\":\"scattergl\"}],\"scattermapbox\":[{\"marker\":{\"colorbar\":{\"outlinewidth\":0,\"ticks\":\"\"}},\"type\":\"scattermapbox\"}],\"scatterpolar\":[{\"marker\":{\"colorbar\":{\"outlinewidth\":0,\"ticks\":\"\"}},\"type\":\"scatterpolar\"}],\"scatterpolargl\":[{\"marker\":{\"colorbar\":{\"outlinewidth\":0,\"ticks\":\"\"}},\"type\":\"scatterpolargl\"}],\"scatterternary\":[{\"marker\":{\"colorbar\":{\"outlinewidth\":0,\"ticks\":\"\"}},\"type\":\"scatterternary\"}],\"surface\":[{\"colorbar\":{\"outlinewidth\":0,\"ticks\":\"\"},\"colorscale\":[[0.0,\"#0d0887\"],[0.1111111111111111,\"#46039f\"],[0.2222222222222222,\"#7201a8\"],[0.3333333333333333,\"#9c179e\"],[0.4444444444444444,\"#bd3786\"],[0.5555555555555556,\"#d8576b\"],[0.6666666666666666,\"#ed7953\"],[0.7777777777777778,\"#fb9f3a\"],[0.8888888888888888,\"#fdca26\"],[1.0,\"#f0f921\"]],\"type\":\"surface\"}],\"table\":[{\"cells\":{\"fill\":{\"color\":\"#EBF0F8\"},\"line\":{\"color\":\"white\"}},\"header\":{\"fill\":{\"color\":\"#C8D4E3\"},\"line\":{\"color\":\"white\"}},\"type\":\"table\"}]},\"layout\":{\"annotationdefaults\":{\"arrowcolor\":\"#2a3f5f\",\"arrowhead\":0,\"arrowwidth\":1},\"autotypenumbers\":\"strict\",\"coloraxis\":{\"colorbar\":{\"outlinewidth\":0,\"ticks\":\"\"}},\"colorscale\":{\"diverging\":[[0,\"#8e0152\"],[0.1,\"#c51b7d\"],[0.2,\"#de77ae\"],[0.3,\"#f1b6da\"],[0.4,\"#fde0ef\"],[0.5,\"#f7f7f7\"],[0.6,\"#e6f5d0\"],[0.7,\"#b8e186\"],[0.8,\"#7fbc41\"],[0.9,\"#4d9221\"],[1,\"#276419\"]],\"sequential\":[[0.0,\"#0d0887\"],[0.1111111111111111,\"#46039f\"],[0.2222222222222222,\"#7201a8\"],[0.3333333333333333,\"#9c179e\"],[0.4444444444444444,\"#bd3786\"],[0.5555555555555556,\"#d8576b\"],[0.6666666666666666,\"#ed7953\"],[0.7777777777777778,\"#fb9f3a\"],[0.8888888888888888,\"#fdca26\"],[1.0,\"#f0f921\"]],\"sequentialminus\":[[0.0,\"#0d0887\"],[0.1111111111111111,\"#46039f\"],[0.2222222222222222,\"#7201a8\"],[0.3333333333333333,\"#9c179e\"],[0.4444444444444444,\"#bd3786\"],[0.5555555555555556,\"#d8576b\"],[0.6666666666666666,\"#ed7953\"],[0.7777777777777778,\"#fb9f3a\"],[0.8888888888888888,\"#fdca26\"],[1.0,\"#f0f921\"]]},\"colorway\":[\"#636efa\",\"#EF553B\",\"#00cc96\",\"#ab63fa\",\"#FFA15A\",\"#19d3f3\",\"#FF6692\",\"#B6E880\",\"#FF97FF\",\"#FECB52\"],\"font\":{\"color\":\"#2a3f5f\"},\"geo\":{\"bgcolor\":\"white\",\"lakecolor\":\"white\",\"landcolor\":\"#E5ECF6\",\"showlakes\":true,\"showland\":true,\"subunitcolor\":\"white\"},\"hoverlabel\":{\"align\":\"left\"},\"hovermode\":\"closest\",\"mapbox\":{\"style\":\"light\"},\"paper_bgcolor\":\"white\",\"plot_bgcolor\":\"#E5ECF6\",\"polar\":{\"angularaxis\":{\"gridcolor\":\"white\",\"linecolor\":\"white\",\"ticks\":\"\"},\"bgcolor\":\"#E5ECF6\",\"radialaxis\":{\"gridcolor\":\"white\",\"linecolor\":\"white\",\"ticks\":\"\"}},\"scene\":{\"xaxis\":{\"backgroundcolor\":\"#E5ECF6\",\"gridcolor\":\"white\",\"gridwidth\":2,\"linecolor\":\"white\",\"showbackground\":true,\"ticks\":\"\",\"zerolinecolor\":\"white\"},\"yaxis\":{\"backgroundcolor\":\"#E5ECF6\",\"gridcolor\":\"white\",\"gridwidth\":2,\"linecolor\":\"white\",\"showbackground\":true,\"ticks\":\"\",\"zerolinecolor\":\"white\"},\"zaxis\":{\"backgroundcolor\":\"#E5ECF6\",\"gridcolor\":\"white\",\"gridwidth\":2,\"linecolor\":\"white\",\"showbackground\":true,\"ticks\":\"\",\"zerolinecolor\":\"white\"}},\"shapedefaults\":{\"line\":{\"color\":\"#2a3f5f\"}},\"ternary\":{\"aaxis\":{\"gridcolor\":\"white\",\"linecolor\":\"white\",\"ticks\":\"\"},\"baxis\":{\"gridcolor\":\"white\",\"linecolor\":\"white\",\"ticks\":\"\"},\"bgcolor\":\"#E5ECF6\",\"caxis\":{\"gridcolor\":\"white\",\"linecolor\":\"white\",\"ticks\":\"\"}},\"title\":{\"x\":0.05},\"xaxis\":{\"automargin\":true,\"gridcolor\":\"white\",\"linecolor\":\"white\",\"ticks\":\"\",\"title\":{\"standoff\":15},\"zerolinecolor\":\"white\",\"zerolinewidth\":2},\"yaxis\":{\"automargin\":true,\"gridcolor\":\"white\",\"linecolor\":\"white\",\"ticks\":\"\",\"title\":{\"standoff\":15},\"zerolinecolor\":\"white\",\"zerolinewidth\":2}}},\"yaxis\":{\"title\":{\"text\":\"RMSE\"}}},                        {\"responsive\": true}                    ).then(function(){\n",
       "                            \n",
       "var gd = document.getElementById('a5bf04b2-9d82-4528-bd95-ad4ee986a62a');\n",
       "var x = new MutationObserver(function (mutations, observer) {{\n",
       "        var display = window.getComputedStyle(gd).display;\n",
       "        if (!display || display === 'none') {{\n",
       "            console.log([gd, 'removed!']);\n",
       "            Plotly.purge(gd);\n",
       "            observer.disconnect();\n",
       "        }}\n",
       "}});\n",
       "\n",
       "// Listen for the removal of the full notebook cells\n",
       "var notebookContainer = gd.closest('#notebook-container');\n",
       "if (notebookContainer) {{\n",
       "    x.observe(notebookContainer, {childList: true});\n",
       "}}\n",
       "\n",
       "// Listen for the clearing of the current output cell\n",
       "var outputEl = gd.closest('.output');\n",
       "if (outputEl) {{\n",
       "    x.observe(outputEl, {childList: true});\n",
       "}}\n",
       "\n",
       "                        })                };                });            </script>        </div>"
      ]
     },
     "metadata": {},
     "output_type": "display_data"
    }
   ],
   "source": [
    "ridge_model.fit(tr, tr['mpg'])\n",
    "models[\"RidgeN(alpha=0.5)\"] = ridge_model\n",
    "compare_models(models)"
   ]
  },
  {
   "cell_type": "markdown",
   "metadata": {},
   "source": [
    "Notice that as we introduce regularization we are reducing the cross validation error and also increasing the training error."
   ]
  },
  {
   "cell_type": "markdown",
   "metadata": {},
   "source": [
    "What about different $\\alpha$ hyper-parameter values?"
   ]
  },
  {
   "cell_type": "code",
   "execution_count": 34,
   "metadata": {},
   "outputs": [],
   "source": [
    "ridge_model = Pipeline([\n",
    "    (\"SelectColumns\", ColumnTransformer([\n",
    "        (\"keep\", StandardScaler(), quantitative_features),\n",
    "        (\"origin_encoder\", OneHotEncoder(), [\"origin\"]),\n",
    "        (\"text\", CountVectorizer(), \"name\")\n",
    "    ])),\n",
    "    (\"Imputation\", SimpleImputer()),\n",
    "    (\"LinearModel\", Ridge(alpha=10))\n",
    "])"
   ]
  },
  {
   "cell_type": "code",
   "execution_count": 35,
   "metadata": {},
   "outputs": [
    {
     "data": {
      "application/vnd.plotly.v1+json": {
       "config": {
        "plotlyServerURL": "https://plot.ly"
       },
       "data": [
        {
         "name": "Training RMSE",
         "type": "bar",
         "x": [
          "c",
          "c,d",
          "c,d,h",
          "c,d,h,w",
          "c,d,h,w,a",
          "c,d,h,w,a,m",
          "c,d,h,w,a,m,o",
          "c,d,h,w,a,m,o,n",
          "Ridge(alpha=0.5)",
          "RidgeN(alpha=0.5)",
          "RidgeN(alpha=10)"
         ],
         "y": [
          4.888109236813685,
          4.58757379901803,
          4.525395490245242,
          4.216877763288668,
          4.213763450275896,
          3.3799994809258993,
          3.2488224012050075,
          1.1387313016649125,
          3.3920243351447157,
          1.3730740993226607,
          2.564035607187765
         ]
        },
        {
         "name": "CV RMSE",
         "type": "bar",
         "x": [
          "c",
          "c,d",
          "c,d,h",
          "c,d,h,w",
          "c,d,h,w,a",
          "c,d,h,w,a,m",
          "c,d,h,w,a,m,o",
          "c,d,h,w,a,m,o,n",
          "Ridge(alpha=0.5)",
          "RidgeN(alpha=0.5)",
          "RidgeN(alpha=10)"
         ],
         "y": [
          4.876661068256956,
          4.579060426624026,
          4.556808311664746,
          4.252718625749385,
          4.256844728700814,
          3.4557657065586773,
          3.3323381513276003,
          3.728919763030074,
          3.249756949598749,
          3.0212962182396272,
          3.1232803012444377
         ]
        },
        {
         "name": "Test RMSE",
         "opacity": 0.3,
         "type": "bar",
         "x": [
          "c",
          "c,d",
          "c,d,h",
          "c,d,h,w",
          "c,d,h,w,a",
          "c,d,h,w,a,m",
          "c,d,h,w,a,m,o",
          "c,d,h,w,a,m,o,n",
          "Ridge(alpha=0.5)",
          "RidgeN(alpha=0.5)",
          "RidgeN(alpha=10)"
         ],
         "y": [
          5.055013548375552,
          4.766156989852369,
          4.5838617699808735,
          4.32584781613103,
          4.349888692769132,
          3.5508281716401946,
          3.3746613014711677,
          3.507443289513132,
          3.4637315803242417,
          3.5391832578939355,
          3.372074021065047
         ]
        }
       ],
       "layout": {
        "template": {
         "data": {
          "bar": [
           {
            "error_x": {
             "color": "#2a3f5f"
            },
            "error_y": {
             "color": "#2a3f5f"
            },
            "marker": {
             "line": {
              "color": "#E5ECF6",
              "width": 0.5
             },
             "pattern": {
              "fillmode": "overlay",
              "size": 10,
              "solidity": 0.2
             }
            },
            "type": "bar"
           }
          ],
          "barpolar": [
           {
            "marker": {
             "line": {
              "color": "#E5ECF6",
              "width": 0.5
             },
             "pattern": {
              "fillmode": "overlay",
              "size": 10,
              "solidity": 0.2
             }
            },
            "type": "barpolar"
           }
          ],
          "carpet": [
           {
            "aaxis": {
             "endlinecolor": "#2a3f5f",
             "gridcolor": "white",
             "linecolor": "white",
             "minorgridcolor": "white",
             "startlinecolor": "#2a3f5f"
            },
            "baxis": {
             "endlinecolor": "#2a3f5f",
             "gridcolor": "white",
             "linecolor": "white",
             "minorgridcolor": "white",
             "startlinecolor": "#2a3f5f"
            },
            "type": "carpet"
           }
          ],
          "choropleth": [
           {
            "colorbar": {
             "outlinewidth": 0,
             "ticks": ""
            },
            "type": "choropleth"
           }
          ],
          "contour": [
           {
            "colorbar": {
             "outlinewidth": 0,
             "ticks": ""
            },
            "colorscale": [
             [
              0,
              "#0d0887"
             ],
             [
              0.1111111111111111,
              "#46039f"
             ],
             [
              0.2222222222222222,
              "#7201a8"
             ],
             [
              0.3333333333333333,
              "#9c179e"
             ],
             [
              0.4444444444444444,
              "#bd3786"
             ],
             [
              0.5555555555555556,
              "#d8576b"
             ],
             [
              0.6666666666666666,
              "#ed7953"
             ],
             [
              0.7777777777777778,
              "#fb9f3a"
             ],
             [
              0.8888888888888888,
              "#fdca26"
             ],
             [
              1,
              "#f0f921"
             ]
            ],
            "type": "contour"
           }
          ],
          "contourcarpet": [
           {
            "colorbar": {
             "outlinewidth": 0,
             "ticks": ""
            },
            "type": "contourcarpet"
           }
          ],
          "heatmap": [
           {
            "colorbar": {
             "outlinewidth": 0,
             "ticks": ""
            },
            "colorscale": [
             [
              0,
              "#0d0887"
             ],
             [
              0.1111111111111111,
              "#46039f"
             ],
             [
              0.2222222222222222,
              "#7201a8"
             ],
             [
              0.3333333333333333,
              "#9c179e"
             ],
             [
              0.4444444444444444,
              "#bd3786"
             ],
             [
              0.5555555555555556,
              "#d8576b"
             ],
             [
              0.6666666666666666,
              "#ed7953"
             ],
             [
              0.7777777777777778,
              "#fb9f3a"
             ],
             [
              0.8888888888888888,
              "#fdca26"
             ],
             [
              1,
              "#f0f921"
             ]
            ],
            "type": "heatmap"
           }
          ],
          "heatmapgl": [
           {
            "colorbar": {
             "outlinewidth": 0,
             "ticks": ""
            },
            "colorscale": [
             [
              0,
              "#0d0887"
             ],
             [
              0.1111111111111111,
              "#46039f"
             ],
             [
              0.2222222222222222,
              "#7201a8"
             ],
             [
              0.3333333333333333,
              "#9c179e"
             ],
             [
              0.4444444444444444,
              "#bd3786"
             ],
             [
              0.5555555555555556,
              "#d8576b"
             ],
             [
              0.6666666666666666,
              "#ed7953"
             ],
             [
              0.7777777777777778,
              "#fb9f3a"
             ],
             [
              0.8888888888888888,
              "#fdca26"
             ],
             [
              1,
              "#f0f921"
             ]
            ],
            "type": "heatmapgl"
           }
          ],
          "histogram": [
           {
            "marker": {
             "pattern": {
              "fillmode": "overlay",
              "size": 10,
              "solidity": 0.2
             }
            },
            "type": "histogram"
           }
          ],
          "histogram2d": [
           {
            "colorbar": {
             "outlinewidth": 0,
             "ticks": ""
            },
            "colorscale": [
             [
              0,
              "#0d0887"
             ],
             [
              0.1111111111111111,
              "#46039f"
             ],
             [
              0.2222222222222222,
              "#7201a8"
             ],
             [
              0.3333333333333333,
              "#9c179e"
             ],
             [
              0.4444444444444444,
              "#bd3786"
             ],
             [
              0.5555555555555556,
              "#d8576b"
             ],
             [
              0.6666666666666666,
              "#ed7953"
             ],
             [
              0.7777777777777778,
              "#fb9f3a"
             ],
             [
              0.8888888888888888,
              "#fdca26"
             ],
             [
              1,
              "#f0f921"
             ]
            ],
            "type": "histogram2d"
           }
          ],
          "histogram2dcontour": [
           {
            "colorbar": {
             "outlinewidth": 0,
             "ticks": ""
            },
            "colorscale": [
             [
              0,
              "#0d0887"
             ],
             [
              0.1111111111111111,
              "#46039f"
             ],
             [
              0.2222222222222222,
              "#7201a8"
             ],
             [
              0.3333333333333333,
              "#9c179e"
             ],
             [
              0.4444444444444444,
              "#bd3786"
             ],
             [
              0.5555555555555556,
              "#d8576b"
             ],
             [
              0.6666666666666666,
              "#ed7953"
             ],
             [
              0.7777777777777778,
              "#fb9f3a"
             ],
             [
              0.8888888888888888,
              "#fdca26"
             ],
             [
              1,
              "#f0f921"
             ]
            ],
            "type": "histogram2dcontour"
           }
          ],
          "mesh3d": [
           {
            "colorbar": {
             "outlinewidth": 0,
             "ticks": ""
            },
            "type": "mesh3d"
           }
          ],
          "parcoords": [
           {
            "line": {
             "colorbar": {
              "outlinewidth": 0,
              "ticks": ""
             }
            },
            "type": "parcoords"
           }
          ],
          "pie": [
           {
            "automargin": true,
            "type": "pie"
           }
          ],
          "scatter": [
           {
            "marker": {
             "colorbar": {
              "outlinewidth": 0,
              "ticks": ""
             }
            },
            "type": "scatter"
           }
          ],
          "scatter3d": [
           {
            "line": {
             "colorbar": {
              "outlinewidth": 0,
              "ticks": ""
             }
            },
            "marker": {
             "colorbar": {
              "outlinewidth": 0,
              "ticks": ""
             }
            },
            "type": "scatter3d"
           }
          ],
          "scattercarpet": [
           {
            "marker": {
             "colorbar": {
              "outlinewidth": 0,
              "ticks": ""
             }
            },
            "type": "scattercarpet"
           }
          ],
          "scattergeo": [
           {
            "marker": {
             "colorbar": {
              "outlinewidth": 0,
              "ticks": ""
             }
            },
            "type": "scattergeo"
           }
          ],
          "scattergl": [
           {
            "marker": {
             "colorbar": {
              "outlinewidth": 0,
              "ticks": ""
             }
            },
            "type": "scattergl"
           }
          ],
          "scattermapbox": [
           {
            "marker": {
             "colorbar": {
              "outlinewidth": 0,
              "ticks": ""
             }
            },
            "type": "scattermapbox"
           }
          ],
          "scatterpolar": [
           {
            "marker": {
             "colorbar": {
              "outlinewidth": 0,
              "ticks": ""
             }
            },
            "type": "scatterpolar"
           }
          ],
          "scatterpolargl": [
           {
            "marker": {
             "colorbar": {
              "outlinewidth": 0,
              "ticks": ""
             }
            },
            "type": "scatterpolargl"
           }
          ],
          "scatterternary": [
           {
            "marker": {
             "colorbar": {
              "outlinewidth": 0,
              "ticks": ""
             }
            },
            "type": "scatterternary"
           }
          ],
          "surface": [
           {
            "colorbar": {
             "outlinewidth": 0,
             "ticks": ""
            },
            "colorscale": [
             [
              0,
              "#0d0887"
             ],
             [
              0.1111111111111111,
              "#46039f"
             ],
             [
              0.2222222222222222,
              "#7201a8"
             ],
             [
              0.3333333333333333,
              "#9c179e"
             ],
             [
              0.4444444444444444,
              "#bd3786"
             ],
             [
              0.5555555555555556,
              "#d8576b"
             ],
             [
              0.6666666666666666,
              "#ed7953"
             ],
             [
              0.7777777777777778,
              "#fb9f3a"
             ],
             [
              0.8888888888888888,
              "#fdca26"
             ],
             [
              1,
              "#f0f921"
             ]
            ],
            "type": "surface"
           }
          ],
          "table": [
           {
            "cells": {
             "fill": {
              "color": "#EBF0F8"
             },
             "line": {
              "color": "white"
             }
            },
            "header": {
             "fill": {
              "color": "#C8D4E3"
             },
             "line": {
              "color": "white"
             }
            },
            "type": "table"
           }
          ]
         },
         "layout": {
          "annotationdefaults": {
           "arrowcolor": "#2a3f5f",
           "arrowhead": 0,
           "arrowwidth": 1
          },
          "autotypenumbers": "strict",
          "coloraxis": {
           "colorbar": {
            "outlinewidth": 0,
            "ticks": ""
           }
          },
          "colorscale": {
           "diverging": [
            [
             0,
             "#8e0152"
            ],
            [
             0.1,
             "#c51b7d"
            ],
            [
             0.2,
             "#de77ae"
            ],
            [
             0.3,
             "#f1b6da"
            ],
            [
             0.4,
             "#fde0ef"
            ],
            [
             0.5,
             "#f7f7f7"
            ],
            [
             0.6,
             "#e6f5d0"
            ],
            [
             0.7,
             "#b8e186"
            ],
            [
             0.8,
             "#7fbc41"
            ],
            [
             0.9,
             "#4d9221"
            ],
            [
             1,
             "#276419"
            ]
           ],
           "sequential": [
            [
             0,
             "#0d0887"
            ],
            [
             0.1111111111111111,
             "#46039f"
            ],
            [
             0.2222222222222222,
             "#7201a8"
            ],
            [
             0.3333333333333333,
             "#9c179e"
            ],
            [
             0.4444444444444444,
             "#bd3786"
            ],
            [
             0.5555555555555556,
             "#d8576b"
            ],
            [
             0.6666666666666666,
             "#ed7953"
            ],
            [
             0.7777777777777778,
             "#fb9f3a"
            ],
            [
             0.8888888888888888,
             "#fdca26"
            ],
            [
             1,
             "#f0f921"
            ]
           ],
           "sequentialminus": [
            [
             0,
             "#0d0887"
            ],
            [
             0.1111111111111111,
             "#46039f"
            ],
            [
             0.2222222222222222,
             "#7201a8"
            ],
            [
             0.3333333333333333,
             "#9c179e"
            ],
            [
             0.4444444444444444,
             "#bd3786"
            ],
            [
             0.5555555555555556,
             "#d8576b"
            ],
            [
             0.6666666666666666,
             "#ed7953"
            ],
            [
             0.7777777777777778,
             "#fb9f3a"
            ],
            [
             0.8888888888888888,
             "#fdca26"
            ],
            [
             1,
             "#f0f921"
            ]
           ]
          },
          "colorway": [
           "#636efa",
           "#EF553B",
           "#00cc96",
           "#ab63fa",
           "#FFA15A",
           "#19d3f3",
           "#FF6692",
           "#B6E880",
           "#FF97FF",
           "#FECB52"
          ],
          "font": {
           "color": "#2a3f5f"
          },
          "geo": {
           "bgcolor": "white",
           "lakecolor": "white",
           "landcolor": "#E5ECF6",
           "showlakes": true,
           "showland": true,
           "subunitcolor": "white"
          },
          "hoverlabel": {
           "align": "left"
          },
          "hovermode": "closest",
          "mapbox": {
           "style": "light"
          },
          "paper_bgcolor": "white",
          "plot_bgcolor": "#E5ECF6",
          "polar": {
           "angularaxis": {
            "gridcolor": "white",
            "linecolor": "white",
            "ticks": ""
           },
           "bgcolor": "#E5ECF6",
           "radialaxis": {
            "gridcolor": "white",
            "linecolor": "white",
            "ticks": ""
           }
          },
          "scene": {
           "xaxis": {
            "backgroundcolor": "#E5ECF6",
            "gridcolor": "white",
            "gridwidth": 2,
            "linecolor": "white",
            "showbackground": true,
            "ticks": "",
            "zerolinecolor": "white"
           },
           "yaxis": {
            "backgroundcolor": "#E5ECF6",
            "gridcolor": "white",
            "gridwidth": 2,
            "linecolor": "white",
            "showbackground": true,
            "ticks": "",
            "zerolinecolor": "white"
           },
           "zaxis": {
            "backgroundcolor": "#E5ECF6",
            "gridcolor": "white",
            "gridwidth": 2,
            "linecolor": "white",
            "showbackground": true,
            "ticks": "",
            "zerolinecolor": "white"
           }
          },
          "shapedefaults": {
           "line": {
            "color": "#2a3f5f"
           }
          },
          "ternary": {
           "aaxis": {
            "gridcolor": "white",
            "linecolor": "white",
            "ticks": ""
           },
           "baxis": {
            "gridcolor": "white",
            "linecolor": "white",
            "ticks": ""
           },
           "bgcolor": "#E5ECF6",
           "caxis": {
            "gridcolor": "white",
            "linecolor": "white",
            "ticks": ""
           }
          },
          "title": {
           "x": 0.05
          },
          "xaxis": {
           "automargin": true,
           "gridcolor": "white",
           "linecolor": "white",
           "ticks": "",
           "title": {
            "standoff": 15
           },
           "zerolinecolor": "white",
           "zerolinewidth": 2
          },
          "yaxis": {
           "automargin": true,
           "gridcolor": "white",
           "linecolor": "white",
           "ticks": "",
           "title": {
            "standoff": 15
           },
           "zerolinecolor": "white",
           "zerolinewidth": 2
          }
         }
        },
        "yaxis": {
         "title": {
          "text": "RMSE"
         }
        }
       }
      },
      "text/html": [
       "<div>                            <div id=\"81a75e02-fe4d-4d14-9570-3742d67190c1\" class=\"plotly-graph-div\" style=\"height:525px; width:100%;\"></div>            <script type=\"text/javascript\">                require([\"plotly\"], function(Plotly) {                    window.PLOTLYENV=window.PLOTLYENV || {};                                    if (document.getElementById(\"81a75e02-fe4d-4d14-9570-3742d67190c1\")) {                    Plotly.newPlot(                        \"81a75e02-fe4d-4d14-9570-3742d67190c1\",                        [{\"name\":\"Training RMSE\",\"x\":[\"c\",\"c,d\",\"c,d,h\",\"c,d,h,w\",\"c,d,h,w,a\",\"c,d,h,w,a,m\",\"c,d,h,w,a,m,o\",\"c,d,h,w,a,m,o,n\",\"Ridge(alpha=0.5)\",\"RidgeN(alpha=0.5)\",\"RidgeN(alpha=10)\"],\"y\":[4.888109236813685,4.58757379901803,4.525395490245242,4.216877763288668,4.213763450275896,3.3799994809258993,3.2488224012050075,1.1387313016649125,3.3920243351447157,1.3730740993226607,2.564035607187765],\"type\":\"bar\"},{\"name\":\"CV RMSE\",\"x\":[\"c\",\"c,d\",\"c,d,h\",\"c,d,h,w\",\"c,d,h,w,a\",\"c,d,h,w,a,m\",\"c,d,h,w,a,m,o\",\"c,d,h,w,a,m,o,n\",\"Ridge(alpha=0.5)\",\"RidgeN(alpha=0.5)\",\"RidgeN(alpha=10)\"],\"y\":[4.876661068256956,4.579060426624026,4.556808311664746,4.252718625749385,4.256844728700814,3.4557657065586773,3.3323381513276003,3.728919763030074,3.249756949598749,3.0212962182396272,3.1232803012444377],\"type\":\"bar\"},{\"name\":\"Test RMSE\",\"opacity\":0.3,\"x\":[\"c\",\"c,d\",\"c,d,h\",\"c,d,h,w\",\"c,d,h,w,a\",\"c,d,h,w,a,m\",\"c,d,h,w,a,m,o\",\"c,d,h,w,a,m,o,n\",\"Ridge(alpha=0.5)\",\"RidgeN(alpha=0.5)\",\"RidgeN(alpha=10)\"],\"y\":[5.055013548375552,4.766156989852369,4.5838617699808735,4.32584781613103,4.349888692769132,3.5508281716401946,3.3746613014711677,3.507443289513132,3.4637315803242417,3.5391832578939355,3.372074021065047],\"type\":\"bar\"}],                        {\"template\":{\"data\":{\"bar\":[{\"error_x\":{\"color\":\"#2a3f5f\"},\"error_y\":{\"color\":\"#2a3f5f\"},\"marker\":{\"line\":{\"color\":\"#E5ECF6\",\"width\":0.5},\"pattern\":{\"fillmode\":\"overlay\",\"size\":10,\"solidity\":0.2}},\"type\":\"bar\"}],\"barpolar\":[{\"marker\":{\"line\":{\"color\":\"#E5ECF6\",\"width\":0.5},\"pattern\":{\"fillmode\":\"overlay\",\"size\":10,\"solidity\":0.2}},\"type\":\"barpolar\"}],\"carpet\":[{\"aaxis\":{\"endlinecolor\":\"#2a3f5f\",\"gridcolor\":\"white\",\"linecolor\":\"white\",\"minorgridcolor\":\"white\",\"startlinecolor\":\"#2a3f5f\"},\"baxis\":{\"endlinecolor\":\"#2a3f5f\",\"gridcolor\":\"white\",\"linecolor\":\"white\",\"minorgridcolor\":\"white\",\"startlinecolor\":\"#2a3f5f\"},\"type\":\"carpet\"}],\"choropleth\":[{\"colorbar\":{\"outlinewidth\":0,\"ticks\":\"\"},\"type\":\"choropleth\"}],\"contour\":[{\"colorbar\":{\"outlinewidth\":0,\"ticks\":\"\"},\"colorscale\":[[0.0,\"#0d0887\"],[0.1111111111111111,\"#46039f\"],[0.2222222222222222,\"#7201a8\"],[0.3333333333333333,\"#9c179e\"],[0.4444444444444444,\"#bd3786\"],[0.5555555555555556,\"#d8576b\"],[0.6666666666666666,\"#ed7953\"],[0.7777777777777778,\"#fb9f3a\"],[0.8888888888888888,\"#fdca26\"],[1.0,\"#f0f921\"]],\"type\":\"contour\"}],\"contourcarpet\":[{\"colorbar\":{\"outlinewidth\":0,\"ticks\":\"\"},\"type\":\"contourcarpet\"}],\"heatmap\":[{\"colorbar\":{\"outlinewidth\":0,\"ticks\":\"\"},\"colorscale\":[[0.0,\"#0d0887\"],[0.1111111111111111,\"#46039f\"],[0.2222222222222222,\"#7201a8\"],[0.3333333333333333,\"#9c179e\"],[0.4444444444444444,\"#bd3786\"],[0.5555555555555556,\"#d8576b\"],[0.6666666666666666,\"#ed7953\"],[0.7777777777777778,\"#fb9f3a\"],[0.8888888888888888,\"#fdca26\"],[1.0,\"#f0f921\"]],\"type\":\"heatmap\"}],\"heatmapgl\":[{\"colorbar\":{\"outlinewidth\":0,\"ticks\":\"\"},\"colorscale\":[[0.0,\"#0d0887\"],[0.1111111111111111,\"#46039f\"],[0.2222222222222222,\"#7201a8\"],[0.3333333333333333,\"#9c179e\"],[0.4444444444444444,\"#bd3786\"],[0.5555555555555556,\"#d8576b\"],[0.6666666666666666,\"#ed7953\"],[0.7777777777777778,\"#fb9f3a\"],[0.8888888888888888,\"#fdca26\"],[1.0,\"#f0f921\"]],\"type\":\"heatmapgl\"}],\"histogram\":[{\"marker\":{\"pattern\":{\"fillmode\":\"overlay\",\"size\":10,\"solidity\":0.2}},\"type\":\"histogram\"}],\"histogram2d\":[{\"colorbar\":{\"outlinewidth\":0,\"ticks\":\"\"},\"colorscale\":[[0.0,\"#0d0887\"],[0.1111111111111111,\"#46039f\"],[0.2222222222222222,\"#7201a8\"],[0.3333333333333333,\"#9c179e\"],[0.4444444444444444,\"#bd3786\"],[0.5555555555555556,\"#d8576b\"],[0.6666666666666666,\"#ed7953\"],[0.7777777777777778,\"#fb9f3a\"],[0.8888888888888888,\"#fdca26\"],[1.0,\"#f0f921\"]],\"type\":\"histogram2d\"}],\"histogram2dcontour\":[{\"colorbar\":{\"outlinewidth\":0,\"ticks\":\"\"},\"colorscale\":[[0.0,\"#0d0887\"],[0.1111111111111111,\"#46039f\"],[0.2222222222222222,\"#7201a8\"],[0.3333333333333333,\"#9c179e\"],[0.4444444444444444,\"#bd3786\"],[0.5555555555555556,\"#d8576b\"],[0.6666666666666666,\"#ed7953\"],[0.7777777777777778,\"#fb9f3a\"],[0.8888888888888888,\"#fdca26\"],[1.0,\"#f0f921\"]],\"type\":\"histogram2dcontour\"}],\"mesh3d\":[{\"colorbar\":{\"outlinewidth\":0,\"ticks\":\"\"},\"type\":\"mesh3d\"}],\"parcoords\":[{\"line\":{\"colorbar\":{\"outlinewidth\":0,\"ticks\":\"\"}},\"type\":\"parcoords\"}],\"pie\":[{\"automargin\":true,\"type\":\"pie\"}],\"scatter\":[{\"marker\":{\"colorbar\":{\"outlinewidth\":0,\"ticks\":\"\"}},\"type\":\"scatter\"}],\"scatter3d\":[{\"line\":{\"colorbar\":{\"outlinewidth\":0,\"ticks\":\"\"}},\"marker\":{\"colorbar\":{\"outlinewidth\":0,\"ticks\":\"\"}},\"type\":\"scatter3d\"}],\"scattercarpet\":[{\"marker\":{\"colorbar\":{\"outlinewidth\":0,\"ticks\":\"\"}},\"type\":\"scattercarpet\"}],\"scattergeo\":[{\"marker\":{\"colorbar\":{\"outlinewidth\":0,\"ticks\":\"\"}},\"type\":\"scattergeo\"}],\"scattergl\":[{\"marker\":{\"colorbar\":{\"outlinewidth\":0,\"ticks\":\"\"}},\"type\":\"scattergl\"}],\"scattermapbox\":[{\"marker\":{\"colorbar\":{\"outlinewidth\":0,\"ticks\":\"\"}},\"type\":\"scattermapbox\"}],\"scatterpolar\":[{\"marker\":{\"colorbar\":{\"outlinewidth\":0,\"ticks\":\"\"}},\"type\":\"scatterpolar\"}],\"scatterpolargl\":[{\"marker\":{\"colorbar\":{\"outlinewidth\":0,\"ticks\":\"\"}},\"type\":\"scatterpolargl\"}],\"scatterternary\":[{\"marker\":{\"colorbar\":{\"outlinewidth\":0,\"ticks\":\"\"}},\"type\":\"scatterternary\"}],\"surface\":[{\"colorbar\":{\"outlinewidth\":0,\"ticks\":\"\"},\"colorscale\":[[0.0,\"#0d0887\"],[0.1111111111111111,\"#46039f\"],[0.2222222222222222,\"#7201a8\"],[0.3333333333333333,\"#9c179e\"],[0.4444444444444444,\"#bd3786\"],[0.5555555555555556,\"#d8576b\"],[0.6666666666666666,\"#ed7953\"],[0.7777777777777778,\"#fb9f3a\"],[0.8888888888888888,\"#fdca26\"],[1.0,\"#f0f921\"]],\"type\":\"surface\"}],\"table\":[{\"cells\":{\"fill\":{\"color\":\"#EBF0F8\"},\"line\":{\"color\":\"white\"}},\"header\":{\"fill\":{\"color\":\"#C8D4E3\"},\"line\":{\"color\":\"white\"}},\"type\":\"table\"}]},\"layout\":{\"annotationdefaults\":{\"arrowcolor\":\"#2a3f5f\",\"arrowhead\":0,\"arrowwidth\":1},\"autotypenumbers\":\"strict\",\"coloraxis\":{\"colorbar\":{\"outlinewidth\":0,\"ticks\":\"\"}},\"colorscale\":{\"diverging\":[[0,\"#8e0152\"],[0.1,\"#c51b7d\"],[0.2,\"#de77ae\"],[0.3,\"#f1b6da\"],[0.4,\"#fde0ef\"],[0.5,\"#f7f7f7\"],[0.6,\"#e6f5d0\"],[0.7,\"#b8e186\"],[0.8,\"#7fbc41\"],[0.9,\"#4d9221\"],[1,\"#276419\"]],\"sequential\":[[0.0,\"#0d0887\"],[0.1111111111111111,\"#46039f\"],[0.2222222222222222,\"#7201a8\"],[0.3333333333333333,\"#9c179e\"],[0.4444444444444444,\"#bd3786\"],[0.5555555555555556,\"#d8576b\"],[0.6666666666666666,\"#ed7953\"],[0.7777777777777778,\"#fb9f3a\"],[0.8888888888888888,\"#fdca26\"],[1.0,\"#f0f921\"]],\"sequentialminus\":[[0.0,\"#0d0887\"],[0.1111111111111111,\"#46039f\"],[0.2222222222222222,\"#7201a8\"],[0.3333333333333333,\"#9c179e\"],[0.4444444444444444,\"#bd3786\"],[0.5555555555555556,\"#d8576b\"],[0.6666666666666666,\"#ed7953\"],[0.7777777777777778,\"#fb9f3a\"],[0.8888888888888888,\"#fdca26\"],[1.0,\"#f0f921\"]]},\"colorway\":[\"#636efa\",\"#EF553B\",\"#00cc96\",\"#ab63fa\",\"#FFA15A\",\"#19d3f3\",\"#FF6692\",\"#B6E880\",\"#FF97FF\",\"#FECB52\"],\"font\":{\"color\":\"#2a3f5f\"},\"geo\":{\"bgcolor\":\"white\",\"lakecolor\":\"white\",\"landcolor\":\"#E5ECF6\",\"showlakes\":true,\"showland\":true,\"subunitcolor\":\"white\"},\"hoverlabel\":{\"align\":\"left\"},\"hovermode\":\"closest\",\"mapbox\":{\"style\":\"light\"},\"paper_bgcolor\":\"white\",\"plot_bgcolor\":\"#E5ECF6\",\"polar\":{\"angularaxis\":{\"gridcolor\":\"white\",\"linecolor\":\"white\",\"ticks\":\"\"},\"bgcolor\":\"#E5ECF6\",\"radialaxis\":{\"gridcolor\":\"white\",\"linecolor\":\"white\",\"ticks\":\"\"}},\"scene\":{\"xaxis\":{\"backgroundcolor\":\"#E5ECF6\",\"gridcolor\":\"white\",\"gridwidth\":2,\"linecolor\":\"white\",\"showbackground\":true,\"ticks\":\"\",\"zerolinecolor\":\"white\"},\"yaxis\":{\"backgroundcolor\":\"#E5ECF6\",\"gridcolor\":\"white\",\"gridwidth\":2,\"linecolor\":\"white\",\"showbackground\":true,\"ticks\":\"\",\"zerolinecolor\":\"white\"},\"zaxis\":{\"backgroundcolor\":\"#E5ECF6\",\"gridcolor\":\"white\",\"gridwidth\":2,\"linecolor\":\"white\",\"showbackground\":true,\"ticks\":\"\",\"zerolinecolor\":\"white\"}},\"shapedefaults\":{\"line\":{\"color\":\"#2a3f5f\"}},\"ternary\":{\"aaxis\":{\"gridcolor\":\"white\",\"linecolor\":\"white\",\"ticks\":\"\"},\"baxis\":{\"gridcolor\":\"white\",\"linecolor\":\"white\",\"ticks\":\"\"},\"bgcolor\":\"#E5ECF6\",\"caxis\":{\"gridcolor\":\"white\",\"linecolor\":\"white\",\"ticks\":\"\"}},\"title\":{\"x\":0.05},\"xaxis\":{\"automargin\":true,\"gridcolor\":\"white\",\"linecolor\":\"white\",\"ticks\":\"\",\"title\":{\"standoff\":15},\"zerolinecolor\":\"white\",\"zerolinewidth\":2},\"yaxis\":{\"automargin\":true,\"gridcolor\":\"white\",\"linecolor\":\"white\",\"ticks\":\"\",\"title\":{\"standoff\":15},\"zerolinecolor\":\"white\",\"zerolinewidth\":2}}},\"yaxis\":{\"title\":{\"text\":\"RMSE\"}}},                        {\"responsive\": true}                    ).then(function(){\n",
       "                            \n",
       "var gd = document.getElementById('81a75e02-fe4d-4d14-9570-3742d67190c1');\n",
       "var x = new MutationObserver(function (mutations, observer) {{\n",
       "        var display = window.getComputedStyle(gd).display;\n",
       "        if (!display || display === 'none') {{\n",
       "            console.log([gd, 'removed!']);\n",
       "            Plotly.purge(gd);\n",
       "            observer.disconnect();\n",
       "        }}\n",
       "}});\n",
       "\n",
       "// Listen for the removal of the full notebook cells\n",
       "var notebookContainer = gd.closest('#notebook-container');\n",
       "if (notebookContainer) {{\n",
       "    x.observe(notebookContainer, {childList: true});\n",
       "}}\n",
       "\n",
       "// Listen for the clearing of the current output cell\n",
       "var outputEl = gd.closest('.output');\n",
       "if (outputEl) {{\n",
       "    x.observe(outputEl, {childList: true});\n",
       "}}\n",
       "\n",
       "                        })                };                });            </script>        </div>"
      ]
     },
     "metadata": {},
     "output_type": "display_data"
    }
   ],
   "source": [
    "ridge_model.fit(tr, tr['mpg'])\n",
    "models[\"RidgeN(alpha=10)\"] = ridge_model\n",
    "compare_models(models)"
   ]
  },
  {
   "cell_type": "markdown",
   "metadata": {},
   "source": [
    "That is too much regularization.  Let's use cross validation to pick the best value."
   ]
  },
  {
   "cell_type": "markdown",
   "metadata": {},
   "source": [
    "### Cross Validation to Tune Regularization Parameter\n",
    "\n",
    "The following uses cross validation to tune the regularization parameter."
   ]
  },
  {
   "cell_type": "code",
   "execution_count": 36,
   "metadata": {},
   "outputs": [],
   "source": [
    "ridge_model = Pipeline([\n",
    "    (\"SelectColumns\", ColumnTransformer([\n",
    "        (\"keep\", StandardScaler(), quantitative_features),\n",
    "        (\"origin_encoder\", OneHotEncoder(), [\"origin\"]),\n",
    "        (\"text\", CountVectorizer(), \"name\")\n",
    "    ])),\n",
    "    (\"Imputation\", SimpleImputer()),\n",
    "    (\"LinearModel\", Ridge(alpha=10))\n",
    "])\n",
    "\n",
    "alphas = np.linspace(0.5, 20, 30)\n",
    "cv_values = []\n",
    "train_values = []\n",
    "test_values = []\n",
    "for alpha in alphas:\n",
    "    ridge_model.set_params(LinearModel__alpha=alpha)\n",
    "    cv_values.append(np.mean(cross_val_score(ridge_model, tr, tr['mpg'], scoring=rmse_score, cv=5)))\n",
    "    ridge_model.fit(tr, tr['mpg'])\n",
    "    train_values.append(rmse_score(ridge_model, tr, tr['mpg']))\n",
    "    test_values.append(rmse_score(ridge_model, te, te['mpg']))"
   ]
  },
  {
   "cell_type": "markdown",
   "metadata": {},
   "source": [
    "We can plot the cross validation error against the different $\\alpha$ values and pick the $\\alpha$ with the smallest cross validation error. "
   ]
  },
  {
   "cell_type": "code",
   "execution_count": 37,
   "metadata": {},
   "outputs": [
    {
     "data": {
      "application/vnd.plotly.v1+json": {
       "config": {
        "plotlyServerURL": "https://plot.ly"
       },
       "data": [
        {
         "mode": "lines+markers",
         "name": "Train",
         "type": "scatter",
         "x": [
          0.5,
          1.1724137931034484,
          1.8448275862068966,
          2.5172413793103448,
          3.189655172413793,
          3.8620689655172415,
          4.5344827586206895,
          5.206896551724138,
          5.879310344827586,
          6.551724137931035,
          7.224137931034483,
          7.8965517241379315,
          8.568965517241379,
          9.241379310344827,
          9.913793103448276,
          10.586206896551724,
          11.258620689655173,
          11.931034482758621,
          12.60344827586207,
          13.275862068965518,
          13.948275862068966,
          14.620689655172415,
          15.293103448275863,
          15.965517241379311,
          16.637931034482758,
          17.310344827586206,
          17.982758620689655,
          18.655172413793103,
          19.32758620689655,
          20
         ],
         "y": [
          1.3730740993226607,
          1.6209136674306006,
          1.7973226069261234,
          1.932877267958827,
          2.0375696423844363,
          2.1257893696597026,
          2.2017539451594184,
          2.2649478217497454,
          2.320773793150397,
          2.3706288181160877,
          2.417726490725638,
          2.457908769782132,
          2.494757484758155,
          2.5287211367614932,
          2.5601693431874764,
          2.5894091898269758,
          2.616697802032903,
          2.6422521054777914,
          2.666256696779962,
          2.6905364317872817,
          2.71161211962161,
          2.731602288837357,
          2.7505990304394836,
          2.7686840900536236,
          2.7859302710469525,
          2.802402614938658,
          2.8181594073341536,
          2.8332530376447247,
          2.847730732275337,
          2.8616351762143424
         ]
        },
        {
         "mode": "lines+markers",
         "name": "CV",
         "type": "scatter",
         "x": [
          0.5,
          1.1724137931034484,
          1.8448275862068966,
          2.5172413793103448,
          3.189655172413793,
          3.8620689655172415,
          4.5344827586206895,
          5.206896551724138,
          5.879310344827586,
          6.551724137931035,
          7.224137931034483,
          7.8965517241379315,
          8.568965517241379,
          9.241379310344827,
          9.913793103448276,
          10.586206896551724,
          11.258620689655173,
          11.931034482758621,
          12.60344827586207,
          13.275862068965518,
          13.948275862068966,
          14.620689655172415,
          15.293103448275863,
          15.965517241379311,
          16.637931034482758,
          17.310344827586206,
          17.982758620689655,
          18.655172413793103,
          19.32758620689655,
          20
         ],
         "y": [
          3.0212962182396272,
          2.9469899893904636,
          2.9435073642952942,
          2.953517802469542,
          2.9695878239904054,
          2.9870392470403457,
          3.002281084547234,
          3.020228626461443,
          3.0373889181507256,
          3.053635495724154,
          3.0690338684455245,
          3.0827483991541103,
          3.095650485734031,
          3.1089593838298226,
          3.1217080415291294,
          3.133593727878277,
          3.1451436221753566,
          3.156146206316219,
          3.168960715201426,
          3.178745407942899,
          3.188134261794116,
          3.1971684297889484,
          3.206049990254434,
          3.21442809766979,
          3.2224860303221896,
          3.2302708795675983,
          3.237798891976072,
          3.24508508279498,
          3.252163893185977,
          3.259004463442301
         ]
        },
        {
         "mode": "lines+markers",
         "name": "Test",
         "type": "scatter",
         "x": [
          0.5,
          1.1724137931034484,
          1.8448275862068966,
          2.5172413793103448,
          3.189655172413793,
          3.8620689655172415,
          4.5344827586206895,
          5.206896551724138,
          5.879310344827586,
          6.551724137931035,
          7.224137931034483,
          7.8965517241379315,
          8.568965517241379,
          9.241379310344827,
          9.913793103448276,
          10.586206896551724,
          11.258620689655173,
          11.931034482758621,
          12.60344827586207,
          13.275862068965518,
          13.948275862068966,
          14.620689655172415,
          15.293103448275863,
          15.965517241379311,
          16.637931034482758,
          17.310344827586206,
          17.982758620689655,
          18.655172413793103,
          19.32758620689655,
          20
         ],
         "y": [
          3.5391832578939355,
          3.505734062659341,
          3.4729798815345463,
          3.4524799880963095,
          3.4360276160458643,
          3.4273723338410687,
          3.407620192786492,
          3.3992647106189575,
          3.3923333705108103,
          3.3865638952998807,
          3.3882265956890083,
          3.3829847164867317,
          3.3787047837059583,
          3.3752182176884267,
          3.3723938188267724,
          3.3701276572257473,
          3.368336155091027,
          3.3669512199021225,
          3.3659167003667085,
          3.368367843514959,
          3.3674862084213917,
          3.3668985710093087,
          3.366565955820373,
          3.3664554597770286,
          3.3665391398785536,
          3.3667931353500844,
          3.3671969678550466,
          3.367732979376572,
          3.368385877648457,
          3.369142366010444
         ]
        }
       ],
       "layout": {
        "template": {
         "data": {
          "bar": [
           {
            "error_x": {
             "color": "#2a3f5f"
            },
            "error_y": {
             "color": "#2a3f5f"
            },
            "marker": {
             "line": {
              "color": "#E5ECF6",
              "width": 0.5
             },
             "pattern": {
              "fillmode": "overlay",
              "size": 10,
              "solidity": 0.2
             }
            },
            "type": "bar"
           }
          ],
          "barpolar": [
           {
            "marker": {
             "line": {
              "color": "#E5ECF6",
              "width": 0.5
             },
             "pattern": {
              "fillmode": "overlay",
              "size": 10,
              "solidity": 0.2
             }
            },
            "type": "barpolar"
           }
          ],
          "carpet": [
           {
            "aaxis": {
             "endlinecolor": "#2a3f5f",
             "gridcolor": "white",
             "linecolor": "white",
             "minorgridcolor": "white",
             "startlinecolor": "#2a3f5f"
            },
            "baxis": {
             "endlinecolor": "#2a3f5f",
             "gridcolor": "white",
             "linecolor": "white",
             "minorgridcolor": "white",
             "startlinecolor": "#2a3f5f"
            },
            "type": "carpet"
           }
          ],
          "choropleth": [
           {
            "colorbar": {
             "outlinewidth": 0,
             "ticks": ""
            },
            "type": "choropleth"
           }
          ],
          "contour": [
           {
            "colorbar": {
             "outlinewidth": 0,
             "ticks": ""
            },
            "colorscale": [
             [
              0,
              "#0d0887"
             ],
             [
              0.1111111111111111,
              "#46039f"
             ],
             [
              0.2222222222222222,
              "#7201a8"
             ],
             [
              0.3333333333333333,
              "#9c179e"
             ],
             [
              0.4444444444444444,
              "#bd3786"
             ],
             [
              0.5555555555555556,
              "#d8576b"
             ],
             [
              0.6666666666666666,
              "#ed7953"
             ],
             [
              0.7777777777777778,
              "#fb9f3a"
             ],
             [
              0.8888888888888888,
              "#fdca26"
             ],
             [
              1,
              "#f0f921"
             ]
            ],
            "type": "contour"
           }
          ],
          "contourcarpet": [
           {
            "colorbar": {
             "outlinewidth": 0,
             "ticks": ""
            },
            "type": "contourcarpet"
           }
          ],
          "heatmap": [
           {
            "colorbar": {
             "outlinewidth": 0,
             "ticks": ""
            },
            "colorscale": [
             [
              0,
              "#0d0887"
             ],
             [
              0.1111111111111111,
              "#46039f"
             ],
             [
              0.2222222222222222,
              "#7201a8"
             ],
             [
              0.3333333333333333,
              "#9c179e"
             ],
             [
              0.4444444444444444,
              "#bd3786"
             ],
             [
              0.5555555555555556,
              "#d8576b"
             ],
             [
              0.6666666666666666,
              "#ed7953"
             ],
             [
              0.7777777777777778,
              "#fb9f3a"
             ],
             [
              0.8888888888888888,
              "#fdca26"
             ],
             [
              1,
              "#f0f921"
             ]
            ],
            "type": "heatmap"
           }
          ],
          "heatmapgl": [
           {
            "colorbar": {
             "outlinewidth": 0,
             "ticks": ""
            },
            "colorscale": [
             [
              0,
              "#0d0887"
             ],
             [
              0.1111111111111111,
              "#46039f"
             ],
             [
              0.2222222222222222,
              "#7201a8"
             ],
             [
              0.3333333333333333,
              "#9c179e"
             ],
             [
              0.4444444444444444,
              "#bd3786"
             ],
             [
              0.5555555555555556,
              "#d8576b"
             ],
             [
              0.6666666666666666,
              "#ed7953"
             ],
             [
              0.7777777777777778,
              "#fb9f3a"
             ],
             [
              0.8888888888888888,
              "#fdca26"
             ],
             [
              1,
              "#f0f921"
             ]
            ],
            "type": "heatmapgl"
           }
          ],
          "histogram": [
           {
            "marker": {
             "pattern": {
              "fillmode": "overlay",
              "size": 10,
              "solidity": 0.2
             }
            },
            "type": "histogram"
           }
          ],
          "histogram2d": [
           {
            "colorbar": {
             "outlinewidth": 0,
             "ticks": ""
            },
            "colorscale": [
             [
              0,
              "#0d0887"
             ],
             [
              0.1111111111111111,
              "#46039f"
             ],
             [
              0.2222222222222222,
              "#7201a8"
             ],
             [
              0.3333333333333333,
              "#9c179e"
             ],
             [
              0.4444444444444444,
              "#bd3786"
             ],
             [
              0.5555555555555556,
              "#d8576b"
             ],
             [
              0.6666666666666666,
              "#ed7953"
             ],
             [
              0.7777777777777778,
              "#fb9f3a"
             ],
             [
              0.8888888888888888,
              "#fdca26"
             ],
             [
              1,
              "#f0f921"
             ]
            ],
            "type": "histogram2d"
           }
          ],
          "histogram2dcontour": [
           {
            "colorbar": {
             "outlinewidth": 0,
             "ticks": ""
            },
            "colorscale": [
             [
              0,
              "#0d0887"
             ],
             [
              0.1111111111111111,
              "#46039f"
             ],
             [
              0.2222222222222222,
              "#7201a8"
             ],
             [
              0.3333333333333333,
              "#9c179e"
             ],
             [
              0.4444444444444444,
              "#bd3786"
             ],
             [
              0.5555555555555556,
              "#d8576b"
             ],
             [
              0.6666666666666666,
              "#ed7953"
             ],
             [
              0.7777777777777778,
              "#fb9f3a"
             ],
             [
              0.8888888888888888,
              "#fdca26"
             ],
             [
              1,
              "#f0f921"
             ]
            ],
            "type": "histogram2dcontour"
           }
          ],
          "mesh3d": [
           {
            "colorbar": {
             "outlinewidth": 0,
             "ticks": ""
            },
            "type": "mesh3d"
           }
          ],
          "parcoords": [
           {
            "line": {
             "colorbar": {
              "outlinewidth": 0,
              "ticks": ""
             }
            },
            "type": "parcoords"
           }
          ],
          "pie": [
           {
            "automargin": true,
            "type": "pie"
           }
          ],
          "scatter": [
           {
            "marker": {
             "colorbar": {
              "outlinewidth": 0,
              "ticks": ""
             }
            },
            "type": "scatter"
           }
          ],
          "scatter3d": [
           {
            "line": {
             "colorbar": {
              "outlinewidth": 0,
              "ticks": ""
             }
            },
            "marker": {
             "colorbar": {
              "outlinewidth": 0,
              "ticks": ""
             }
            },
            "type": "scatter3d"
           }
          ],
          "scattercarpet": [
           {
            "marker": {
             "colorbar": {
              "outlinewidth": 0,
              "ticks": ""
             }
            },
            "type": "scattercarpet"
           }
          ],
          "scattergeo": [
           {
            "marker": {
             "colorbar": {
              "outlinewidth": 0,
              "ticks": ""
             }
            },
            "type": "scattergeo"
           }
          ],
          "scattergl": [
           {
            "marker": {
             "colorbar": {
              "outlinewidth": 0,
              "ticks": ""
             }
            },
            "type": "scattergl"
           }
          ],
          "scattermapbox": [
           {
            "marker": {
             "colorbar": {
              "outlinewidth": 0,
              "ticks": ""
             }
            },
            "type": "scattermapbox"
           }
          ],
          "scatterpolar": [
           {
            "marker": {
             "colorbar": {
              "outlinewidth": 0,
              "ticks": ""
             }
            },
            "type": "scatterpolar"
           }
          ],
          "scatterpolargl": [
           {
            "marker": {
             "colorbar": {
              "outlinewidth": 0,
              "ticks": ""
             }
            },
            "type": "scatterpolargl"
           }
          ],
          "scatterternary": [
           {
            "marker": {
             "colorbar": {
              "outlinewidth": 0,
              "ticks": ""
             }
            },
            "type": "scatterternary"
           }
          ],
          "surface": [
           {
            "colorbar": {
             "outlinewidth": 0,
             "ticks": ""
            },
            "colorscale": [
             [
              0,
              "#0d0887"
             ],
             [
              0.1111111111111111,
              "#46039f"
             ],
             [
              0.2222222222222222,
              "#7201a8"
             ],
             [
              0.3333333333333333,
              "#9c179e"
             ],
             [
              0.4444444444444444,
              "#bd3786"
             ],
             [
              0.5555555555555556,
              "#d8576b"
             ],
             [
              0.6666666666666666,
              "#ed7953"
             ],
             [
              0.7777777777777778,
              "#fb9f3a"
             ],
             [
              0.8888888888888888,
              "#fdca26"
             ],
             [
              1,
              "#f0f921"
             ]
            ],
            "type": "surface"
           }
          ],
          "table": [
           {
            "cells": {
             "fill": {
              "color": "#EBF0F8"
             },
             "line": {
              "color": "white"
             }
            },
            "header": {
             "fill": {
              "color": "#C8D4E3"
             },
             "line": {
              "color": "white"
             }
            },
            "type": "table"
           }
          ]
         },
         "layout": {
          "annotationdefaults": {
           "arrowcolor": "#2a3f5f",
           "arrowhead": 0,
           "arrowwidth": 1
          },
          "autotypenumbers": "strict",
          "coloraxis": {
           "colorbar": {
            "outlinewidth": 0,
            "ticks": ""
           }
          },
          "colorscale": {
           "diverging": [
            [
             0,
             "#8e0152"
            ],
            [
             0.1,
             "#c51b7d"
            ],
            [
             0.2,
             "#de77ae"
            ],
            [
             0.3,
             "#f1b6da"
            ],
            [
             0.4,
             "#fde0ef"
            ],
            [
             0.5,
             "#f7f7f7"
            ],
            [
             0.6,
             "#e6f5d0"
            ],
            [
             0.7,
             "#b8e186"
            ],
            [
             0.8,
             "#7fbc41"
            ],
            [
             0.9,
             "#4d9221"
            ],
            [
             1,
             "#276419"
            ]
           ],
           "sequential": [
            [
             0,
             "#0d0887"
            ],
            [
             0.1111111111111111,
             "#46039f"
            ],
            [
             0.2222222222222222,
             "#7201a8"
            ],
            [
             0.3333333333333333,
             "#9c179e"
            ],
            [
             0.4444444444444444,
             "#bd3786"
            ],
            [
             0.5555555555555556,
             "#d8576b"
            ],
            [
             0.6666666666666666,
             "#ed7953"
            ],
            [
             0.7777777777777778,
             "#fb9f3a"
            ],
            [
             0.8888888888888888,
             "#fdca26"
            ],
            [
             1,
             "#f0f921"
            ]
           ],
           "sequentialminus": [
            [
             0,
             "#0d0887"
            ],
            [
             0.1111111111111111,
             "#46039f"
            ],
            [
             0.2222222222222222,
             "#7201a8"
            ],
            [
             0.3333333333333333,
             "#9c179e"
            ],
            [
             0.4444444444444444,
             "#bd3786"
            ],
            [
             0.5555555555555556,
             "#d8576b"
            ],
            [
             0.6666666666666666,
             "#ed7953"
            ],
            [
             0.7777777777777778,
             "#fb9f3a"
            ],
            [
             0.8888888888888888,
             "#fdca26"
            ],
            [
             1,
             "#f0f921"
            ]
           ]
          },
          "colorway": [
           "#636efa",
           "#EF553B",
           "#00cc96",
           "#ab63fa",
           "#FFA15A",
           "#19d3f3",
           "#FF6692",
           "#B6E880",
           "#FF97FF",
           "#FECB52"
          ],
          "font": {
           "color": "#2a3f5f"
          },
          "geo": {
           "bgcolor": "white",
           "lakecolor": "white",
           "landcolor": "#E5ECF6",
           "showlakes": true,
           "showland": true,
           "subunitcolor": "white"
          },
          "hoverlabel": {
           "align": "left"
          },
          "hovermode": "closest",
          "mapbox": {
           "style": "light"
          },
          "paper_bgcolor": "white",
          "plot_bgcolor": "#E5ECF6",
          "polar": {
           "angularaxis": {
            "gridcolor": "white",
            "linecolor": "white",
            "ticks": ""
           },
           "bgcolor": "#E5ECF6",
           "radialaxis": {
            "gridcolor": "white",
            "linecolor": "white",
            "ticks": ""
           }
          },
          "scene": {
           "xaxis": {
            "backgroundcolor": "#E5ECF6",
            "gridcolor": "white",
            "gridwidth": 2,
            "linecolor": "white",
            "showbackground": true,
            "ticks": "",
            "zerolinecolor": "white"
           },
           "yaxis": {
            "backgroundcolor": "#E5ECF6",
            "gridcolor": "white",
            "gridwidth": 2,
            "linecolor": "white",
            "showbackground": true,
            "ticks": "",
            "zerolinecolor": "white"
           },
           "zaxis": {
            "backgroundcolor": "#E5ECF6",
            "gridcolor": "white",
            "gridwidth": 2,
            "linecolor": "white",
            "showbackground": true,
            "ticks": "",
            "zerolinecolor": "white"
           }
          },
          "shapedefaults": {
           "line": {
            "color": "#2a3f5f"
           }
          },
          "ternary": {
           "aaxis": {
            "gridcolor": "white",
            "linecolor": "white",
            "ticks": ""
           },
           "baxis": {
            "gridcolor": "white",
            "linecolor": "white",
            "ticks": ""
           },
           "bgcolor": "#E5ECF6",
           "caxis": {
            "gridcolor": "white",
            "linecolor": "white",
            "ticks": ""
           }
          },
          "title": {
           "x": 0.05
          },
          "xaxis": {
           "automargin": true,
           "gridcolor": "white",
           "linecolor": "white",
           "ticks": "",
           "title": {
            "standoff": 15
           },
           "zerolinecolor": "white",
           "zerolinewidth": 2
          },
          "yaxis": {
           "automargin": true,
           "gridcolor": "white",
           "linecolor": "white",
           "ticks": "",
           "title": {
            "standoff": 15
           },
           "zerolinecolor": "white",
           "zerolinewidth": 2
          }
         }
        },
        "xaxis": {
         "title": {
          "text": "$\\alpha$"
         }
        },
        "yaxis": {
         "title": {
          "text": "CV RMSE"
         }
        }
       }
      },
      "text/html": [
       "<div>                            <div id=\"35bce607-fb96-46ee-b6d4-015af4acadb8\" class=\"plotly-graph-div\" style=\"height:525px; width:100%;\"></div>            <script type=\"text/javascript\">                require([\"plotly\"], function(Plotly) {                    window.PLOTLYENV=window.PLOTLYENV || {};                                    if (document.getElementById(\"35bce607-fb96-46ee-b6d4-015af4acadb8\")) {                    Plotly.newPlot(                        \"35bce607-fb96-46ee-b6d4-015af4acadb8\",                        [{\"mode\":\"lines+markers\",\"name\":\"Train\",\"x\":[0.5,1.1724137931034484,1.8448275862068966,2.5172413793103448,3.189655172413793,3.8620689655172415,4.5344827586206895,5.206896551724138,5.879310344827586,6.551724137931035,7.224137931034483,7.8965517241379315,8.568965517241379,9.241379310344827,9.913793103448276,10.586206896551724,11.258620689655173,11.931034482758621,12.60344827586207,13.275862068965518,13.948275862068966,14.620689655172415,15.293103448275863,15.965517241379311,16.637931034482758,17.310344827586206,17.982758620689655,18.655172413793103,19.32758620689655,20.0],\"y\":[1.3730740993226607,1.6209136674306006,1.7973226069261234,1.932877267958827,2.0375696423844363,2.1257893696597026,2.2017539451594184,2.2649478217497454,2.320773793150397,2.3706288181160877,2.417726490725638,2.457908769782132,2.494757484758155,2.5287211367614932,2.5601693431874764,2.5894091898269758,2.616697802032903,2.6422521054777914,2.666256696779962,2.6905364317872817,2.71161211962161,2.731602288837357,2.7505990304394836,2.7686840900536236,2.7859302710469525,2.802402614938658,2.8181594073341536,2.8332530376447247,2.847730732275337,2.8616351762143424],\"type\":\"scatter\"},{\"mode\":\"lines+markers\",\"name\":\"CV\",\"x\":[0.5,1.1724137931034484,1.8448275862068966,2.5172413793103448,3.189655172413793,3.8620689655172415,4.5344827586206895,5.206896551724138,5.879310344827586,6.551724137931035,7.224137931034483,7.8965517241379315,8.568965517241379,9.241379310344827,9.913793103448276,10.586206896551724,11.258620689655173,11.931034482758621,12.60344827586207,13.275862068965518,13.948275862068966,14.620689655172415,15.293103448275863,15.965517241379311,16.637931034482758,17.310344827586206,17.982758620689655,18.655172413793103,19.32758620689655,20.0],\"y\":[3.0212962182396272,2.9469899893904636,2.9435073642952942,2.953517802469542,2.9695878239904054,2.9870392470403457,3.002281084547234,3.020228626461443,3.0373889181507256,3.053635495724154,3.0690338684455245,3.0827483991541103,3.095650485734031,3.1089593838298226,3.1217080415291294,3.133593727878277,3.1451436221753566,3.156146206316219,3.168960715201426,3.178745407942899,3.188134261794116,3.1971684297889484,3.206049990254434,3.21442809766979,3.2224860303221896,3.2302708795675983,3.237798891976072,3.24508508279498,3.252163893185977,3.259004463442301],\"type\":\"scatter\"},{\"mode\":\"lines+markers\",\"name\":\"Test\",\"x\":[0.5,1.1724137931034484,1.8448275862068966,2.5172413793103448,3.189655172413793,3.8620689655172415,4.5344827586206895,5.206896551724138,5.879310344827586,6.551724137931035,7.224137931034483,7.8965517241379315,8.568965517241379,9.241379310344827,9.913793103448276,10.586206896551724,11.258620689655173,11.931034482758621,12.60344827586207,13.275862068965518,13.948275862068966,14.620689655172415,15.293103448275863,15.965517241379311,16.637931034482758,17.310344827586206,17.982758620689655,18.655172413793103,19.32758620689655,20.0],\"y\":[3.5391832578939355,3.505734062659341,3.4729798815345463,3.4524799880963095,3.4360276160458643,3.4273723338410687,3.407620192786492,3.3992647106189575,3.3923333705108103,3.3865638952998807,3.3882265956890083,3.3829847164867317,3.3787047837059583,3.3752182176884267,3.3723938188267724,3.3701276572257473,3.368336155091027,3.3669512199021225,3.3659167003667085,3.368367843514959,3.3674862084213917,3.3668985710093087,3.366565955820373,3.3664554597770286,3.3665391398785536,3.3667931353500844,3.3671969678550466,3.367732979376572,3.368385877648457,3.369142366010444],\"type\":\"scatter\"}],                        {\"template\":{\"data\":{\"bar\":[{\"error_x\":{\"color\":\"#2a3f5f\"},\"error_y\":{\"color\":\"#2a3f5f\"},\"marker\":{\"line\":{\"color\":\"#E5ECF6\",\"width\":0.5},\"pattern\":{\"fillmode\":\"overlay\",\"size\":10,\"solidity\":0.2}},\"type\":\"bar\"}],\"barpolar\":[{\"marker\":{\"line\":{\"color\":\"#E5ECF6\",\"width\":0.5},\"pattern\":{\"fillmode\":\"overlay\",\"size\":10,\"solidity\":0.2}},\"type\":\"barpolar\"}],\"carpet\":[{\"aaxis\":{\"endlinecolor\":\"#2a3f5f\",\"gridcolor\":\"white\",\"linecolor\":\"white\",\"minorgridcolor\":\"white\",\"startlinecolor\":\"#2a3f5f\"},\"baxis\":{\"endlinecolor\":\"#2a3f5f\",\"gridcolor\":\"white\",\"linecolor\":\"white\",\"minorgridcolor\":\"white\",\"startlinecolor\":\"#2a3f5f\"},\"type\":\"carpet\"}],\"choropleth\":[{\"colorbar\":{\"outlinewidth\":0,\"ticks\":\"\"},\"type\":\"choropleth\"}],\"contour\":[{\"colorbar\":{\"outlinewidth\":0,\"ticks\":\"\"},\"colorscale\":[[0.0,\"#0d0887\"],[0.1111111111111111,\"#46039f\"],[0.2222222222222222,\"#7201a8\"],[0.3333333333333333,\"#9c179e\"],[0.4444444444444444,\"#bd3786\"],[0.5555555555555556,\"#d8576b\"],[0.6666666666666666,\"#ed7953\"],[0.7777777777777778,\"#fb9f3a\"],[0.8888888888888888,\"#fdca26\"],[1.0,\"#f0f921\"]],\"type\":\"contour\"}],\"contourcarpet\":[{\"colorbar\":{\"outlinewidth\":0,\"ticks\":\"\"},\"type\":\"contourcarpet\"}],\"heatmap\":[{\"colorbar\":{\"outlinewidth\":0,\"ticks\":\"\"},\"colorscale\":[[0.0,\"#0d0887\"],[0.1111111111111111,\"#46039f\"],[0.2222222222222222,\"#7201a8\"],[0.3333333333333333,\"#9c179e\"],[0.4444444444444444,\"#bd3786\"],[0.5555555555555556,\"#d8576b\"],[0.6666666666666666,\"#ed7953\"],[0.7777777777777778,\"#fb9f3a\"],[0.8888888888888888,\"#fdca26\"],[1.0,\"#f0f921\"]],\"type\":\"heatmap\"}],\"heatmapgl\":[{\"colorbar\":{\"outlinewidth\":0,\"ticks\":\"\"},\"colorscale\":[[0.0,\"#0d0887\"],[0.1111111111111111,\"#46039f\"],[0.2222222222222222,\"#7201a8\"],[0.3333333333333333,\"#9c179e\"],[0.4444444444444444,\"#bd3786\"],[0.5555555555555556,\"#d8576b\"],[0.6666666666666666,\"#ed7953\"],[0.7777777777777778,\"#fb9f3a\"],[0.8888888888888888,\"#fdca26\"],[1.0,\"#f0f921\"]],\"type\":\"heatmapgl\"}],\"histogram\":[{\"marker\":{\"pattern\":{\"fillmode\":\"overlay\",\"size\":10,\"solidity\":0.2}},\"type\":\"histogram\"}],\"histogram2d\":[{\"colorbar\":{\"outlinewidth\":0,\"ticks\":\"\"},\"colorscale\":[[0.0,\"#0d0887\"],[0.1111111111111111,\"#46039f\"],[0.2222222222222222,\"#7201a8\"],[0.3333333333333333,\"#9c179e\"],[0.4444444444444444,\"#bd3786\"],[0.5555555555555556,\"#d8576b\"],[0.6666666666666666,\"#ed7953\"],[0.7777777777777778,\"#fb9f3a\"],[0.8888888888888888,\"#fdca26\"],[1.0,\"#f0f921\"]],\"type\":\"histogram2d\"}],\"histogram2dcontour\":[{\"colorbar\":{\"outlinewidth\":0,\"ticks\":\"\"},\"colorscale\":[[0.0,\"#0d0887\"],[0.1111111111111111,\"#46039f\"],[0.2222222222222222,\"#7201a8\"],[0.3333333333333333,\"#9c179e\"],[0.4444444444444444,\"#bd3786\"],[0.5555555555555556,\"#d8576b\"],[0.6666666666666666,\"#ed7953\"],[0.7777777777777778,\"#fb9f3a\"],[0.8888888888888888,\"#fdca26\"],[1.0,\"#f0f921\"]],\"type\":\"histogram2dcontour\"}],\"mesh3d\":[{\"colorbar\":{\"outlinewidth\":0,\"ticks\":\"\"},\"type\":\"mesh3d\"}],\"parcoords\":[{\"line\":{\"colorbar\":{\"outlinewidth\":0,\"ticks\":\"\"}},\"type\":\"parcoords\"}],\"pie\":[{\"automargin\":true,\"type\":\"pie\"}],\"scatter\":[{\"marker\":{\"colorbar\":{\"outlinewidth\":0,\"ticks\":\"\"}},\"type\":\"scatter\"}],\"scatter3d\":[{\"line\":{\"colorbar\":{\"outlinewidth\":0,\"ticks\":\"\"}},\"marker\":{\"colorbar\":{\"outlinewidth\":0,\"ticks\":\"\"}},\"type\":\"scatter3d\"}],\"scattercarpet\":[{\"marker\":{\"colorbar\":{\"outlinewidth\":0,\"ticks\":\"\"}},\"type\":\"scattercarpet\"}],\"scattergeo\":[{\"marker\":{\"colorbar\":{\"outlinewidth\":0,\"ticks\":\"\"}},\"type\":\"scattergeo\"}],\"scattergl\":[{\"marker\":{\"colorbar\":{\"outlinewidth\":0,\"ticks\":\"\"}},\"type\":\"scattergl\"}],\"scattermapbox\":[{\"marker\":{\"colorbar\":{\"outlinewidth\":0,\"ticks\":\"\"}},\"type\":\"scattermapbox\"}],\"scatterpolar\":[{\"marker\":{\"colorbar\":{\"outlinewidth\":0,\"ticks\":\"\"}},\"type\":\"scatterpolar\"}],\"scatterpolargl\":[{\"marker\":{\"colorbar\":{\"outlinewidth\":0,\"ticks\":\"\"}},\"type\":\"scatterpolargl\"}],\"scatterternary\":[{\"marker\":{\"colorbar\":{\"outlinewidth\":0,\"ticks\":\"\"}},\"type\":\"scatterternary\"}],\"surface\":[{\"colorbar\":{\"outlinewidth\":0,\"ticks\":\"\"},\"colorscale\":[[0.0,\"#0d0887\"],[0.1111111111111111,\"#46039f\"],[0.2222222222222222,\"#7201a8\"],[0.3333333333333333,\"#9c179e\"],[0.4444444444444444,\"#bd3786\"],[0.5555555555555556,\"#d8576b\"],[0.6666666666666666,\"#ed7953\"],[0.7777777777777778,\"#fb9f3a\"],[0.8888888888888888,\"#fdca26\"],[1.0,\"#f0f921\"]],\"type\":\"surface\"}],\"table\":[{\"cells\":{\"fill\":{\"color\":\"#EBF0F8\"},\"line\":{\"color\":\"white\"}},\"header\":{\"fill\":{\"color\":\"#C8D4E3\"},\"line\":{\"color\":\"white\"}},\"type\":\"table\"}]},\"layout\":{\"annotationdefaults\":{\"arrowcolor\":\"#2a3f5f\",\"arrowhead\":0,\"arrowwidth\":1},\"autotypenumbers\":\"strict\",\"coloraxis\":{\"colorbar\":{\"outlinewidth\":0,\"ticks\":\"\"}},\"colorscale\":{\"diverging\":[[0,\"#8e0152\"],[0.1,\"#c51b7d\"],[0.2,\"#de77ae\"],[0.3,\"#f1b6da\"],[0.4,\"#fde0ef\"],[0.5,\"#f7f7f7\"],[0.6,\"#e6f5d0\"],[0.7,\"#b8e186\"],[0.8,\"#7fbc41\"],[0.9,\"#4d9221\"],[1,\"#276419\"]],\"sequential\":[[0.0,\"#0d0887\"],[0.1111111111111111,\"#46039f\"],[0.2222222222222222,\"#7201a8\"],[0.3333333333333333,\"#9c179e\"],[0.4444444444444444,\"#bd3786\"],[0.5555555555555556,\"#d8576b\"],[0.6666666666666666,\"#ed7953\"],[0.7777777777777778,\"#fb9f3a\"],[0.8888888888888888,\"#fdca26\"],[1.0,\"#f0f921\"]],\"sequentialminus\":[[0.0,\"#0d0887\"],[0.1111111111111111,\"#46039f\"],[0.2222222222222222,\"#7201a8\"],[0.3333333333333333,\"#9c179e\"],[0.4444444444444444,\"#bd3786\"],[0.5555555555555556,\"#d8576b\"],[0.6666666666666666,\"#ed7953\"],[0.7777777777777778,\"#fb9f3a\"],[0.8888888888888888,\"#fdca26\"],[1.0,\"#f0f921\"]]},\"colorway\":[\"#636efa\",\"#EF553B\",\"#00cc96\",\"#ab63fa\",\"#FFA15A\",\"#19d3f3\",\"#FF6692\",\"#B6E880\",\"#FF97FF\",\"#FECB52\"],\"font\":{\"color\":\"#2a3f5f\"},\"geo\":{\"bgcolor\":\"white\",\"lakecolor\":\"white\",\"landcolor\":\"#E5ECF6\",\"showlakes\":true,\"showland\":true,\"subunitcolor\":\"white\"},\"hoverlabel\":{\"align\":\"left\"},\"hovermode\":\"closest\",\"mapbox\":{\"style\":\"light\"},\"paper_bgcolor\":\"white\",\"plot_bgcolor\":\"#E5ECF6\",\"polar\":{\"angularaxis\":{\"gridcolor\":\"white\",\"linecolor\":\"white\",\"ticks\":\"\"},\"bgcolor\":\"#E5ECF6\",\"radialaxis\":{\"gridcolor\":\"white\",\"linecolor\":\"white\",\"ticks\":\"\"}},\"scene\":{\"xaxis\":{\"backgroundcolor\":\"#E5ECF6\",\"gridcolor\":\"white\",\"gridwidth\":2,\"linecolor\":\"white\",\"showbackground\":true,\"ticks\":\"\",\"zerolinecolor\":\"white\"},\"yaxis\":{\"backgroundcolor\":\"#E5ECF6\",\"gridcolor\":\"white\",\"gridwidth\":2,\"linecolor\":\"white\",\"showbackground\":true,\"ticks\":\"\",\"zerolinecolor\":\"white\"},\"zaxis\":{\"backgroundcolor\":\"#E5ECF6\",\"gridcolor\":\"white\",\"gridwidth\":2,\"linecolor\":\"white\",\"showbackground\":true,\"ticks\":\"\",\"zerolinecolor\":\"white\"}},\"shapedefaults\":{\"line\":{\"color\":\"#2a3f5f\"}},\"ternary\":{\"aaxis\":{\"gridcolor\":\"white\",\"linecolor\":\"white\",\"ticks\":\"\"},\"baxis\":{\"gridcolor\":\"white\",\"linecolor\":\"white\",\"ticks\":\"\"},\"bgcolor\":\"#E5ECF6\",\"caxis\":{\"gridcolor\":\"white\",\"linecolor\":\"white\",\"ticks\":\"\"}},\"title\":{\"x\":0.05},\"xaxis\":{\"automargin\":true,\"gridcolor\":\"white\",\"linecolor\":\"white\",\"ticks\":\"\",\"title\":{\"standoff\":15},\"zerolinecolor\":\"white\",\"zerolinewidth\":2},\"yaxis\":{\"automargin\":true,\"gridcolor\":\"white\",\"linecolor\":\"white\",\"ticks\":\"\",\"title\":{\"standoff\":15},\"zerolinecolor\":\"white\",\"zerolinewidth\":2}}},\"xaxis\":{\"title\":{\"text\":\"$\\\\alpha$\"}},\"yaxis\":{\"title\":{\"text\":\"CV RMSE\"}}},                        {\"responsive\": true}                    ).then(function(){\n",
       "                            \n",
       "var gd = document.getElementById('35bce607-fb96-46ee-b6d4-015af4acadb8');\n",
       "var x = new MutationObserver(function (mutations, observer) {{\n",
       "        var display = window.getComputedStyle(gd).display;\n",
       "        if (!display || display === 'none') {{\n",
       "            console.log([gd, 'removed!']);\n",
       "            Plotly.purge(gd);\n",
       "            observer.disconnect();\n",
       "        }}\n",
       "}});\n",
       "\n",
       "// Listen for the removal of the full notebook cells\n",
       "var notebookContainer = gd.closest('#notebook-container');\n",
       "if (notebookContainer) {{\n",
       "    x.observe(notebookContainer, {childList: true});\n",
       "}}\n",
       "\n",
       "// Listen for the clearing of the current output cell\n",
       "var outputEl = gd.closest('.output');\n",
       "if (outputEl) {{\n",
       "    x.observe(outputEl, {childList: true});\n",
       "}}\n",
       "\n",
       "                        })                };                });            </script>        </div>"
      ]
     },
     "metadata": {},
     "output_type": "display_data"
    }
   ],
   "source": [
    "fig = go.Figure()\n",
    "fig.add_trace(go.Scatter(x = alphas, y = train_values, mode=\"lines+markers\", name=\"Train\"))\n",
    "fig.add_trace(go.Scatter(x = alphas, y = cv_values, mode=\"lines+markers\", name=\"CV\"))\n",
    "fig.add_trace(go.Scatter(x = alphas, y = test_values, mode=\"lines+markers\", name=\"Test\"))\n",
    "fig.update_layout(xaxis_title=r\"$\\alpha$\", yaxis_title=\"CV RMSE\")"
   ]
  },
  {
   "cell_type": "markdown",
   "metadata": {},
   "source": [
    "Adding the best model:"
   ]
  },
  {
   "cell_type": "code",
   "execution_count": 38,
   "metadata": {},
   "outputs": [
    {
     "data": {
      "application/vnd.plotly.v1+json": {
       "config": {
        "plotlyServerURL": "https://plot.ly"
       },
       "data": [
        {
         "name": "Training RMSE",
         "type": "bar",
         "x": [
          "c",
          "c,d",
          "c,d,h",
          "c,d,h,w",
          "c,d,h,w,a",
          "c,d,h,w,a,m",
          "c,d,h,w,a,m,o",
          "c,d,h,w,a,m,o,n",
          "Ridge(alpha=0.5)",
          "RidgeN(alpha=0.5)",
          "RidgeN(alpha=10)",
          "RidgeN(alpha_best)"
         ],
         "y": [
          4.888109236813685,
          4.58757379901803,
          4.525395490245242,
          4.216877763288668,
          4.213763450275896,
          3.3799994809258993,
          3.2488224012050075,
          1.1387313016649125,
          3.3920243351447157,
          1.3730740993226607,
          2.564035607187765,
          1.7973226069261234
         ]
        },
        {
         "name": "CV RMSE",
         "type": "bar",
         "x": [
          "c",
          "c,d",
          "c,d,h",
          "c,d,h,w",
          "c,d,h,w,a",
          "c,d,h,w,a,m",
          "c,d,h,w,a,m,o",
          "c,d,h,w,a,m,o,n",
          "Ridge(alpha=0.5)",
          "RidgeN(alpha=0.5)",
          "RidgeN(alpha=10)",
          "RidgeN(alpha_best)"
         ],
         "y": [
          4.876661068256956,
          4.579060426624026,
          4.556808311664746,
          4.252718625749385,
          4.256844728700814,
          3.4557657065586773,
          3.3323381513276003,
          3.728919763030074,
          3.249756949598749,
          3.0212962182396272,
          3.1232803012444377,
          2.9435073642952942
         ]
        },
        {
         "name": "Test RMSE",
         "opacity": 0.3,
         "type": "bar",
         "x": [
          "c",
          "c,d",
          "c,d,h",
          "c,d,h,w",
          "c,d,h,w,a",
          "c,d,h,w,a,m",
          "c,d,h,w,a,m,o",
          "c,d,h,w,a,m,o,n",
          "Ridge(alpha=0.5)",
          "RidgeN(alpha=0.5)",
          "RidgeN(alpha=10)",
          "RidgeN(alpha_best)"
         ],
         "y": [
          5.055013548375552,
          4.766156989852369,
          4.5838617699808735,
          4.32584781613103,
          4.349888692769132,
          3.5508281716401946,
          3.3746613014711677,
          3.507443289513132,
          3.4637315803242417,
          3.5391832578939355,
          3.372074021065047,
          3.4729798815345463
         ]
        }
       ],
       "layout": {
        "template": {
         "data": {
          "bar": [
           {
            "error_x": {
             "color": "#2a3f5f"
            },
            "error_y": {
             "color": "#2a3f5f"
            },
            "marker": {
             "line": {
              "color": "#E5ECF6",
              "width": 0.5
             },
             "pattern": {
              "fillmode": "overlay",
              "size": 10,
              "solidity": 0.2
             }
            },
            "type": "bar"
           }
          ],
          "barpolar": [
           {
            "marker": {
             "line": {
              "color": "#E5ECF6",
              "width": 0.5
             },
             "pattern": {
              "fillmode": "overlay",
              "size": 10,
              "solidity": 0.2
             }
            },
            "type": "barpolar"
           }
          ],
          "carpet": [
           {
            "aaxis": {
             "endlinecolor": "#2a3f5f",
             "gridcolor": "white",
             "linecolor": "white",
             "minorgridcolor": "white",
             "startlinecolor": "#2a3f5f"
            },
            "baxis": {
             "endlinecolor": "#2a3f5f",
             "gridcolor": "white",
             "linecolor": "white",
             "minorgridcolor": "white",
             "startlinecolor": "#2a3f5f"
            },
            "type": "carpet"
           }
          ],
          "choropleth": [
           {
            "colorbar": {
             "outlinewidth": 0,
             "ticks": ""
            },
            "type": "choropleth"
           }
          ],
          "contour": [
           {
            "colorbar": {
             "outlinewidth": 0,
             "ticks": ""
            },
            "colorscale": [
             [
              0,
              "#0d0887"
             ],
             [
              0.1111111111111111,
              "#46039f"
             ],
             [
              0.2222222222222222,
              "#7201a8"
             ],
             [
              0.3333333333333333,
              "#9c179e"
             ],
             [
              0.4444444444444444,
              "#bd3786"
             ],
             [
              0.5555555555555556,
              "#d8576b"
             ],
             [
              0.6666666666666666,
              "#ed7953"
             ],
             [
              0.7777777777777778,
              "#fb9f3a"
             ],
             [
              0.8888888888888888,
              "#fdca26"
             ],
             [
              1,
              "#f0f921"
             ]
            ],
            "type": "contour"
           }
          ],
          "contourcarpet": [
           {
            "colorbar": {
             "outlinewidth": 0,
             "ticks": ""
            },
            "type": "contourcarpet"
           }
          ],
          "heatmap": [
           {
            "colorbar": {
             "outlinewidth": 0,
             "ticks": ""
            },
            "colorscale": [
             [
              0,
              "#0d0887"
             ],
             [
              0.1111111111111111,
              "#46039f"
             ],
             [
              0.2222222222222222,
              "#7201a8"
             ],
             [
              0.3333333333333333,
              "#9c179e"
             ],
             [
              0.4444444444444444,
              "#bd3786"
             ],
             [
              0.5555555555555556,
              "#d8576b"
             ],
             [
              0.6666666666666666,
              "#ed7953"
             ],
             [
              0.7777777777777778,
              "#fb9f3a"
             ],
             [
              0.8888888888888888,
              "#fdca26"
             ],
             [
              1,
              "#f0f921"
             ]
            ],
            "type": "heatmap"
           }
          ],
          "heatmapgl": [
           {
            "colorbar": {
             "outlinewidth": 0,
             "ticks": ""
            },
            "colorscale": [
             [
              0,
              "#0d0887"
             ],
             [
              0.1111111111111111,
              "#46039f"
             ],
             [
              0.2222222222222222,
              "#7201a8"
             ],
             [
              0.3333333333333333,
              "#9c179e"
             ],
             [
              0.4444444444444444,
              "#bd3786"
             ],
             [
              0.5555555555555556,
              "#d8576b"
             ],
             [
              0.6666666666666666,
              "#ed7953"
             ],
             [
              0.7777777777777778,
              "#fb9f3a"
             ],
             [
              0.8888888888888888,
              "#fdca26"
             ],
             [
              1,
              "#f0f921"
             ]
            ],
            "type": "heatmapgl"
           }
          ],
          "histogram": [
           {
            "marker": {
             "pattern": {
              "fillmode": "overlay",
              "size": 10,
              "solidity": 0.2
             }
            },
            "type": "histogram"
           }
          ],
          "histogram2d": [
           {
            "colorbar": {
             "outlinewidth": 0,
             "ticks": ""
            },
            "colorscale": [
             [
              0,
              "#0d0887"
             ],
             [
              0.1111111111111111,
              "#46039f"
             ],
             [
              0.2222222222222222,
              "#7201a8"
             ],
             [
              0.3333333333333333,
              "#9c179e"
             ],
             [
              0.4444444444444444,
              "#bd3786"
             ],
             [
              0.5555555555555556,
              "#d8576b"
             ],
             [
              0.6666666666666666,
              "#ed7953"
             ],
             [
              0.7777777777777778,
              "#fb9f3a"
             ],
             [
              0.8888888888888888,
              "#fdca26"
             ],
             [
              1,
              "#f0f921"
             ]
            ],
            "type": "histogram2d"
           }
          ],
          "histogram2dcontour": [
           {
            "colorbar": {
             "outlinewidth": 0,
             "ticks": ""
            },
            "colorscale": [
             [
              0,
              "#0d0887"
             ],
             [
              0.1111111111111111,
              "#46039f"
             ],
             [
              0.2222222222222222,
              "#7201a8"
             ],
             [
              0.3333333333333333,
              "#9c179e"
             ],
             [
              0.4444444444444444,
              "#bd3786"
             ],
             [
              0.5555555555555556,
              "#d8576b"
             ],
             [
              0.6666666666666666,
              "#ed7953"
             ],
             [
              0.7777777777777778,
              "#fb9f3a"
             ],
             [
              0.8888888888888888,
              "#fdca26"
             ],
             [
              1,
              "#f0f921"
             ]
            ],
            "type": "histogram2dcontour"
           }
          ],
          "mesh3d": [
           {
            "colorbar": {
             "outlinewidth": 0,
             "ticks": ""
            },
            "type": "mesh3d"
           }
          ],
          "parcoords": [
           {
            "line": {
             "colorbar": {
              "outlinewidth": 0,
              "ticks": ""
             }
            },
            "type": "parcoords"
           }
          ],
          "pie": [
           {
            "automargin": true,
            "type": "pie"
           }
          ],
          "scatter": [
           {
            "marker": {
             "colorbar": {
              "outlinewidth": 0,
              "ticks": ""
             }
            },
            "type": "scatter"
           }
          ],
          "scatter3d": [
           {
            "line": {
             "colorbar": {
              "outlinewidth": 0,
              "ticks": ""
             }
            },
            "marker": {
             "colorbar": {
              "outlinewidth": 0,
              "ticks": ""
             }
            },
            "type": "scatter3d"
           }
          ],
          "scattercarpet": [
           {
            "marker": {
             "colorbar": {
              "outlinewidth": 0,
              "ticks": ""
             }
            },
            "type": "scattercarpet"
           }
          ],
          "scattergeo": [
           {
            "marker": {
             "colorbar": {
              "outlinewidth": 0,
              "ticks": ""
             }
            },
            "type": "scattergeo"
           }
          ],
          "scattergl": [
           {
            "marker": {
             "colorbar": {
              "outlinewidth": 0,
              "ticks": ""
             }
            },
            "type": "scattergl"
           }
          ],
          "scattermapbox": [
           {
            "marker": {
             "colorbar": {
              "outlinewidth": 0,
              "ticks": ""
             }
            },
            "type": "scattermapbox"
           }
          ],
          "scatterpolar": [
           {
            "marker": {
             "colorbar": {
              "outlinewidth": 0,
              "ticks": ""
             }
            },
            "type": "scatterpolar"
           }
          ],
          "scatterpolargl": [
           {
            "marker": {
             "colorbar": {
              "outlinewidth": 0,
              "ticks": ""
             }
            },
            "type": "scatterpolargl"
           }
          ],
          "scatterternary": [
           {
            "marker": {
             "colorbar": {
              "outlinewidth": 0,
              "ticks": ""
             }
            },
            "type": "scatterternary"
           }
          ],
          "surface": [
           {
            "colorbar": {
             "outlinewidth": 0,
             "ticks": ""
            },
            "colorscale": [
             [
              0,
              "#0d0887"
             ],
             [
              0.1111111111111111,
              "#46039f"
             ],
             [
              0.2222222222222222,
              "#7201a8"
             ],
             [
              0.3333333333333333,
              "#9c179e"
             ],
             [
              0.4444444444444444,
              "#bd3786"
             ],
             [
              0.5555555555555556,
              "#d8576b"
             ],
             [
              0.6666666666666666,
              "#ed7953"
             ],
             [
              0.7777777777777778,
              "#fb9f3a"
             ],
             [
              0.8888888888888888,
              "#fdca26"
             ],
             [
              1,
              "#f0f921"
             ]
            ],
            "type": "surface"
           }
          ],
          "table": [
           {
            "cells": {
             "fill": {
              "color": "#EBF0F8"
             },
             "line": {
              "color": "white"
             }
            },
            "header": {
             "fill": {
              "color": "#C8D4E3"
             },
             "line": {
              "color": "white"
             }
            },
            "type": "table"
           }
          ]
         },
         "layout": {
          "annotationdefaults": {
           "arrowcolor": "#2a3f5f",
           "arrowhead": 0,
           "arrowwidth": 1
          },
          "autotypenumbers": "strict",
          "coloraxis": {
           "colorbar": {
            "outlinewidth": 0,
            "ticks": ""
           }
          },
          "colorscale": {
           "diverging": [
            [
             0,
             "#8e0152"
            ],
            [
             0.1,
             "#c51b7d"
            ],
            [
             0.2,
             "#de77ae"
            ],
            [
             0.3,
             "#f1b6da"
            ],
            [
             0.4,
             "#fde0ef"
            ],
            [
             0.5,
             "#f7f7f7"
            ],
            [
             0.6,
             "#e6f5d0"
            ],
            [
             0.7,
             "#b8e186"
            ],
            [
             0.8,
             "#7fbc41"
            ],
            [
             0.9,
             "#4d9221"
            ],
            [
             1,
             "#276419"
            ]
           ],
           "sequential": [
            [
             0,
             "#0d0887"
            ],
            [
             0.1111111111111111,
             "#46039f"
            ],
            [
             0.2222222222222222,
             "#7201a8"
            ],
            [
             0.3333333333333333,
             "#9c179e"
            ],
            [
             0.4444444444444444,
             "#bd3786"
            ],
            [
             0.5555555555555556,
             "#d8576b"
            ],
            [
             0.6666666666666666,
             "#ed7953"
            ],
            [
             0.7777777777777778,
             "#fb9f3a"
            ],
            [
             0.8888888888888888,
             "#fdca26"
            ],
            [
             1,
             "#f0f921"
            ]
           ],
           "sequentialminus": [
            [
             0,
             "#0d0887"
            ],
            [
             0.1111111111111111,
             "#46039f"
            ],
            [
             0.2222222222222222,
             "#7201a8"
            ],
            [
             0.3333333333333333,
             "#9c179e"
            ],
            [
             0.4444444444444444,
             "#bd3786"
            ],
            [
             0.5555555555555556,
             "#d8576b"
            ],
            [
             0.6666666666666666,
             "#ed7953"
            ],
            [
             0.7777777777777778,
             "#fb9f3a"
            ],
            [
             0.8888888888888888,
             "#fdca26"
            ],
            [
             1,
             "#f0f921"
            ]
           ]
          },
          "colorway": [
           "#636efa",
           "#EF553B",
           "#00cc96",
           "#ab63fa",
           "#FFA15A",
           "#19d3f3",
           "#FF6692",
           "#B6E880",
           "#FF97FF",
           "#FECB52"
          ],
          "font": {
           "color": "#2a3f5f"
          },
          "geo": {
           "bgcolor": "white",
           "lakecolor": "white",
           "landcolor": "#E5ECF6",
           "showlakes": true,
           "showland": true,
           "subunitcolor": "white"
          },
          "hoverlabel": {
           "align": "left"
          },
          "hovermode": "closest",
          "mapbox": {
           "style": "light"
          },
          "paper_bgcolor": "white",
          "plot_bgcolor": "#E5ECF6",
          "polar": {
           "angularaxis": {
            "gridcolor": "white",
            "linecolor": "white",
            "ticks": ""
           },
           "bgcolor": "#E5ECF6",
           "radialaxis": {
            "gridcolor": "white",
            "linecolor": "white",
            "ticks": ""
           }
          },
          "scene": {
           "xaxis": {
            "backgroundcolor": "#E5ECF6",
            "gridcolor": "white",
            "gridwidth": 2,
            "linecolor": "white",
            "showbackground": true,
            "ticks": "",
            "zerolinecolor": "white"
           },
           "yaxis": {
            "backgroundcolor": "#E5ECF6",
            "gridcolor": "white",
            "gridwidth": 2,
            "linecolor": "white",
            "showbackground": true,
            "ticks": "",
            "zerolinecolor": "white"
           },
           "zaxis": {
            "backgroundcolor": "#E5ECF6",
            "gridcolor": "white",
            "gridwidth": 2,
            "linecolor": "white",
            "showbackground": true,
            "ticks": "",
            "zerolinecolor": "white"
           }
          },
          "shapedefaults": {
           "line": {
            "color": "#2a3f5f"
           }
          },
          "ternary": {
           "aaxis": {
            "gridcolor": "white",
            "linecolor": "white",
            "ticks": ""
           },
           "baxis": {
            "gridcolor": "white",
            "linecolor": "white",
            "ticks": ""
           },
           "bgcolor": "#E5ECF6",
           "caxis": {
            "gridcolor": "white",
            "linecolor": "white",
            "ticks": ""
           }
          },
          "title": {
           "x": 0.05
          },
          "xaxis": {
           "automargin": true,
           "gridcolor": "white",
           "linecolor": "white",
           "ticks": "",
           "title": {
            "standoff": 15
           },
           "zerolinecolor": "white",
           "zerolinewidth": 2
          },
          "yaxis": {
           "automargin": true,
           "gridcolor": "white",
           "linecolor": "white",
           "ticks": "",
           "title": {
            "standoff": 15
           },
           "zerolinecolor": "white",
           "zerolinewidth": 2
          }
         }
        },
        "yaxis": {
         "title": {
          "text": "RMSE"
         }
        }
       }
      },
      "text/html": [
       "<div>                            <div id=\"ef730f9e-686f-42eb-8885-64e45464eb68\" class=\"plotly-graph-div\" style=\"height:525px; width:100%;\"></div>            <script type=\"text/javascript\">                require([\"plotly\"], function(Plotly) {                    window.PLOTLYENV=window.PLOTLYENV || {};                                    if (document.getElementById(\"ef730f9e-686f-42eb-8885-64e45464eb68\")) {                    Plotly.newPlot(                        \"ef730f9e-686f-42eb-8885-64e45464eb68\",                        [{\"name\":\"Training RMSE\",\"x\":[\"c\",\"c,d\",\"c,d,h\",\"c,d,h,w\",\"c,d,h,w,a\",\"c,d,h,w,a,m\",\"c,d,h,w,a,m,o\",\"c,d,h,w,a,m,o,n\",\"Ridge(alpha=0.5)\",\"RidgeN(alpha=0.5)\",\"RidgeN(alpha=10)\",\"RidgeN(alpha_best)\"],\"y\":[4.888109236813685,4.58757379901803,4.525395490245242,4.216877763288668,4.213763450275896,3.3799994809258993,3.2488224012050075,1.1387313016649125,3.3920243351447157,1.3730740993226607,2.564035607187765,1.7973226069261234],\"type\":\"bar\"},{\"name\":\"CV RMSE\",\"x\":[\"c\",\"c,d\",\"c,d,h\",\"c,d,h,w\",\"c,d,h,w,a\",\"c,d,h,w,a,m\",\"c,d,h,w,a,m,o\",\"c,d,h,w,a,m,o,n\",\"Ridge(alpha=0.5)\",\"RidgeN(alpha=0.5)\",\"RidgeN(alpha=10)\",\"RidgeN(alpha_best)\"],\"y\":[4.876661068256956,4.579060426624026,4.556808311664746,4.252718625749385,4.256844728700814,3.4557657065586773,3.3323381513276003,3.728919763030074,3.249756949598749,3.0212962182396272,3.1232803012444377,2.9435073642952942],\"type\":\"bar\"},{\"name\":\"Test RMSE\",\"opacity\":0.3,\"x\":[\"c\",\"c,d\",\"c,d,h\",\"c,d,h,w\",\"c,d,h,w,a\",\"c,d,h,w,a,m\",\"c,d,h,w,a,m,o\",\"c,d,h,w,a,m,o,n\",\"Ridge(alpha=0.5)\",\"RidgeN(alpha=0.5)\",\"RidgeN(alpha=10)\",\"RidgeN(alpha_best)\"],\"y\":[5.055013548375552,4.766156989852369,4.5838617699808735,4.32584781613103,4.349888692769132,3.5508281716401946,3.3746613014711677,3.507443289513132,3.4637315803242417,3.5391832578939355,3.372074021065047,3.4729798815345463],\"type\":\"bar\"}],                        {\"template\":{\"data\":{\"bar\":[{\"error_x\":{\"color\":\"#2a3f5f\"},\"error_y\":{\"color\":\"#2a3f5f\"},\"marker\":{\"line\":{\"color\":\"#E5ECF6\",\"width\":0.5},\"pattern\":{\"fillmode\":\"overlay\",\"size\":10,\"solidity\":0.2}},\"type\":\"bar\"}],\"barpolar\":[{\"marker\":{\"line\":{\"color\":\"#E5ECF6\",\"width\":0.5},\"pattern\":{\"fillmode\":\"overlay\",\"size\":10,\"solidity\":0.2}},\"type\":\"barpolar\"}],\"carpet\":[{\"aaxis\":{\"endlinecolor\":\"#2a3f5f\",\"gridcolor\":\"white\",\"linecolor\":\"white\",\"minorgridcolor\":\"white\",\"startlinecolor\":\"#2a3f5f\"},\"baxis\":{\"endlinecolor\":\"#2a3f5f\",\"gridcolor\":\"white\",\"linecolor\":\"white\",\"minorgridcolor\":\"white\",\"startlinecolor\":\"#2a3f5f\"},\"type\":\"carpet\"}],\"choropleth\":[{\"colorbar\":{\"outlinewidth\":0,\"ticks\":\"\"},\"type\":\"choropleth\"}],\"contour\":[{\"colorbar\":{\"outlinewidth\":0,\"ticks\":\"\"},\"colorscale\":[[0.0,\"#0d0887\"],[0.1111111111111111,\"#46039f\"],[0.2222222222222222,\"#7201a8\"],[0.3333333333333333,\"#9c179e\"],[0.4444444444444444,\"#bd3786\"],[0.5555555555555556,\"#d8576b\"],[0.6666666666666666,\"#ed7953\"],[0.7777777777777778,\"#fb9f3a\"],[0.8888888888888888,\"#fdca26\"],[1.0,\"#f0f921\"]],\"type\":\"contour\"}],\"contourcarpet\":[{\"colorbar\":{\"outlinewidth\":0,\"ticks\":\"\"},\"type\":\"contourcarpet\"}],\"heatmap\":[{\"colorbar\":{\"outlinewidth\":0,\"ticks\":\"\"},\"colorscale\":[[0.0,\"#0d0887\"],[0.1111111111111111,\"#46039f\"],[0.2222222222222222,\"#7201a8\"],[0.3333333333333333,\"#9c179e\"],[0.4444444444444444,\"#bd3786\"],[0.5555555555555556,\"#d8576b\"],[0.6666666666666666,\"#ed7953\"],[0.7777777777777778,\"#fb9f3a\"],[0.8888888888888888,\"#fdca26\"],[1.0,\"#f0f921\"]],\"type\":\"heatmap\"}],\"heatmapgl\":[{\"colorbar\":{\"outlinewidth\":0,\"ticks\":\"\"},\"colorscale\":[[0.0,\"#0d0887\"],[0.1111111111111111,\"#46039f\"],[0.2222222222222222,\"#7201a8\"],[0.3333333333333333,\"#9c179e\"],[0.4444444444444444,\"#bd3786\"],[0.5555555555555556,\"#d8576b\"],[0.6666666666666666,\"#ed7953\"],[0.7777777777777778,\"#fb9f3a\"],[0.8888888888888888,\"#fdca26\"],[1.0,\"#f0f921\"]],\"type\":\"heatmapgl\"}],\"histogram\":[{\"marker\":{\"pattern\":{\"fillmode\":\"overlay\",\"size\":10,\"solidity\":0.2}},\"type\":\"histogram\"}],\"histogram2d\":[{\"colorbar\":{\"outlinewidth\":0,\"ticks\":\"\"},\"colorscale\":[[0.0,\"#0d0887\"],[0.1111111111111111,\"#46039f\"],[0.2222222222222222,\"#7201a8\"],[0.3333333333333333,\"#9c179e\"],[0.4444444444444444,\"#bd3786\"],[0.5555555555555556,\"#d8576b\"],[0.6666666666666666,\"#ed7953\"],[0.7777777777777778,\"#fb9f3a\"],[0.8888888888888888,\"#fdca26\"],[1.0,\"#f0f921\"]],\"type\":\"histogram2d\"}],\"histogram2dcontour\":[{\"colorbar\":{\"outlinewidth\":0,\"ticks\":\"\"},\"colorscale\":[[0.0,\"#0d0887\"],[0.1111111111111111,\"#46039f\"],[0.2222222222222222,\"#7201a8\"],[0.3333333333333333,\"#9c179e\"],[0.4444444444444444,\"#bd3786\"],[0.5555555555555556,\"#d8576b\"],[0.6666666666666666,\"#ed7953\"],[0.7777777777777778,\"#fb9f3a\"],[0.8888888888888888,\"#fdca26\"],[1.0,\"#f0f921\"]],\"type\":\"histogram2dcontour\"}],\"mesh3d\":[{\"colorbar\":{\"outlinewidth\":0,\"ticks\":\"\"},\"type\":\"mesh3d\"}],\"parcoords\":[{\"line\":{\"colorbar\":{\"outlinewidth\":0,\"ticks\":\"\"}},\"type\":\"parcoords\"}],\"pie\":[{\"automargin\":true,\"type\":\"pie\"}],\"scatter\":[{\"marker\":{\"colorbar\":{\"outlinewidth\":0,\"ticks\":\"\"}},\"type\":\"scatter\"}],\"scatter3d\":[{\"line\":{\"colorbar\":{\"outlinewidth\":0,\"ticks\":\"\"}},\"marker\":{\"colorbar\":{\"outlinewidth\":0,\"ticks\":\"\"}},\"type\":\"scatter3d\"}],\"scattercarpet\":[{\"marker\":{\"colorbar\":{\"outlinewidth\":0,\"ticks\":\"\"}},\"type\":\"scattercarpet\"}],\"scattergeo\":[{\"marker\":{\"colorbar\":{\"outlinewidth\":0,\"ticks\":\"\"}},\"type\":\"scattergeo\"}],\"scattergl\":[{\"marker\":{\"colorbar\":{\"outlinewidth\":0,\"ticks\":\"\"}},\"type\":\"scattergl\"}],\"scattermapbox\":[{\"marker\":{\"colorbar\":{\"outlinewidth\":0,\"ticks\":\"\"}},\"type\":\"scattermapbox\"}],\"scatterpolar\":[{\"marker\":{\"colorbar\":{\"outlinewidth\":0,\"ticks\":\"\"}},\"type\":\"scatterpolar\"}],\"scatterpolargl\":[{\"marker\":{\"colorbar\":{\"outlinewidth\":0,\"ticks\":\"\"}},\"type\":\"scatterpolargl\"}],\"scatterternary\":[{\"marker\":{\"colorbar\":{\"outlinewidth\":0,\"ticks\":\"\"}},\"type\":\"scatterternary\"}],\"surface\":[{\"colorbar\":{\"outlinewidth\":0,\"ticks\":\"\"},\"colorscale\":[[0.0,\"#0d0887\"],[0.1111111111111111,\"#46039f\"],[0.2222222222222222,\"#7201a8\"],[0.3333333333333333,\"#9c179e\"],[0.4444444444444444,\"#bd3786\"],[0.5555555555555556,\"#d8576b\"],[0.6666666666666666,\"#ed7953\"],[0.7777777777777778,\"#fb9f3a\"],[0.8888888888888888,\"#fdca26\"],[1.0,\"#f0f921\"]],\"type\":\"surface\"}],\"table\":[{\"cells\":{\"fill\":{\"color\":\"#EBF0F8\"},\"line\":{\"color\":\"white\"}},\"header\":{\"fill\":{\"color\":\"#C8D4E3\"},\"line\":{\"color\":\"white\"}},\"type\":\"table\"}]},\"layout\":{\"annotationdefaults\":{\"arrowcolor\":\"#2a3f5f\",\"arrowhead\":0,\"arrowwidth\":1},\"autotypenumbers\":\"strict\",\"coloraxis\":{\"colorbar\":{\"outlinewidth\":0,\"ticks\":\"\"}},\"colorscale\":{\"diverging\":[[0,\"#8e0152\"],[0.1,\"#c51b7d\"],[0.2,\"#de77ae\"],[0.3,\"#f1b6da\"],[0.4,\"#fde0ef\"],[0.5,\"#f7f7f7\"],[0.6,\"#e6f5d0\"],[0.7,\"#b8e186\"],[0.8,\"#7fbc41\"],[0.9,\"#4d9221\"],[1,\"#276419\"]],\"sequential\":[[0.0,\"#0d0887\"],[0.1111111111111111,\"#46039f\"],[0.2222222222222222,\"#7201a8\"],[0.3333333333333333,\"#9c179e\"],[0.4444444444444444,\"#bd3786\"],[0.5555555555555556,\"#d8576b\"],[0.6666666666666666,\"#ed7953\"],[0.7777777777777778,\"#fb9f3a\"],[0.8888888888888888,\"#fdca26\"],[1.0,\"#f0f921\"]],\"sequentialminus\":[[0.0,\"#0d0887\"],[0.1111111111111111,\"#46039f\"],[0.2222222222222222,\"#7201a8\"],[0.3333333333333333,\"#9c179e\"],[0.4444444444444444,\"#bd3786\"],[0.5555555555555556,\"#d8576b\"],[0.6666666666666666,\"#ed7953\"],[0.7777777777777778,\"#fb9f3a\"],[0.8888888888888888,\"#fdca26\"],[1.0,\"#f0f921\"]]},\"colorway\":[\"#636efa\",\"#EF553B\",\"#00cc96\",\"#ab63fa\",\"#FFA15A\",\"#19d3f3\",\"#FF6692\",\"#B6E880\",\"#FF97FF\",\"#FECB52\"],\"font\":{\"color\":\"#2a3f5f\"},\"geo\":{\"bgcolor\":\"white\",\"lakecolor\":\"white\",\"landcolor\":\"#E5ECF6\",\"showlakes\":true,\"showland\":true,\"subunitcolor\":\"white\"},\"hoverlabel\":{\"align\":\"left\"},\"hovermode\":\"closest\",\"mapbox\":{\"style\":\"light\"},\"paper_bgcolor\":\"white\",\"plot_bgcolor\":\"#E5ECF6\",\"polar\":{\"angularaxis\":{\"gridcolor\":\"white\",\"linecolor\":\"white\",\"ticks\":\"\"},\"bgcolor\":\"#E5ECF6\",\"radialaxis\":{\"gridcolor\":\"white\",\"linecolor\":\"white\",\"ticks\":\"\"}},\"scene\":{\"xaxis\":{\"backgroundcolor\":\"#E5ECF6\",\"gridcolor\":\"white\",\"gridwidth\":2,\"linecolor\":\"white\",\"showbackground\":true,\"ticks\":\"\",\"zerolinecolor\":\"white\"},\"yaxis\":{\"backgroundcolor\":\"#E5ECF6\",\"gridcolor\":\"white\",\"gridwidth\":2,\"linecolor\":\"white\",\"showbackground\":true,\"ticks\":\"\",\"zerolinecolor\":\"white\"},\"zaxis\":{\"backgroundcolor\":\"#E5ECF6\",\"gridcolor\":\"white\",\"gridwidth\":2,\"linecolor\":\"white\",\"showbackground\":true,\"ticks\":\"\",\"zerolinecolor\":\"white\"}},\"shapedefaults\":{\"line\":{\"color\":\"#2a3f5f\"}},\"ternary\":{\"aaxis\":{\"gridcolor\":\"white\",\"linecolor\":\"white\",\"ticks\":\"\"},\"baxis\":{\"gridcolor\":\"white\",\"linecolor\":\"white\",\"ticks\":\"\"},\"bgcolor\":\"#E5ECF6\",\"caxis\":{\"gridcolor\":\"white\",\"linecolor\":\"white\",\"ticks\":\"\"}},\"title\":{\"x\":0.05},\"xaxis\":{\"automargin\":true,\"gridcolor\":\"white\",\"linecolor\":\"white\",\"ticks\":\"\",\"title\":{\"standoff\":15},\"zerolinecolor\":\"white\",\"zerolinewidth\":2},\"yaxis\":{\"automargin\":true,\"gridcolor\":\"white\",\"linecolor\":\"white\",\"ticks\":\"\",\"title\":{\"standoff\":15},\"zerolinecolor\":\"white\",\"zerolinewidth\":2}}},\"yaxis\":{\"title\":{\"text\":\"RMSE\"}}},                        {\"responsive\": true}                    ).then(function(){\n",
       "                            \n",
       "var gd = document.getElementById('ef730f9e-686f-42eb-8885-64e45464eb68');\n",
       "var x = new MutationObserver(function (mutations, observer) {{\n",
       "        var display = window.getComputedStyle(gd).display;\n",
       "        if (!display || display === 'none') {{\n",
       "            console.log([gd, 'removed!']);\n",
       "            Plotly.purge(gd);\n",
       "            observer.disconnect();\n",
       "        }}\n",
       "}});\n",
       "\n",
       "// Listen for the removal of the full notebook cells\n",
       "var notebookContainer = gd.closest('#notebook-container');\n",
       "if (notebookContainer) {{\n",
       "    x.observe(notebookContainer, {childList: true});\n",
       "}}\n",
       "\n",
       "// Listen for the clearing of the current output cell\n",
       "var outputEl = gd.closest('.output');\n",
       "if (outputEl) {{\n",
       "    x.observe(outputEl, {childList: true});\n",
       "}}\n",
       "\n",
       "                        })                };                });            </script>        </div>"
      ]
     },
     "metadata": {},
     "output_type": "display_data"
    }
   ],
   "source": [
    "best_alpha = alphas[np.argmin(cv_values)]\n",
    "ridge_model.set_params(LinearModel__alpha=best_alpha)\n",
    "ridge_model.fit(tr, tr['mpg'])\n",
    "models[\"RidgeN(alpha_best)\"] = ridge_model\n",
    "compare_models(models)"
   ]
  },
  {
   "cell_type": "markdown",
   "metadata": {},
   "source": [
    "We didn't have to do all of that work. SKLearn has a Ridge Regression class with built-in cross validation"
   ]
  },
  {
   "cell_type": "code",
   "execution_count": 39,
   "metadata": {},
   "outputs": [],
   "source": [
    "from sklearn.linear_model import RidgeCV"
   ]
  },
  {
   "cell_type": "code",
   "execution_count": 40,
   "metadata": {},
   "outputs": [],
   "source": [
    "alphas = np.linspace(0.5, 3, 30)\n",
    "\n",
    "ridge_model = Pipeline([\n",
    "    (\"SelectColumns\", ColumnTransformer([\n",
    "        (\"keep\", StandardScaler(), quantitative_features),\n",
    "        (\"origin_encoder\", OneHotEncoder(), [\"origin\"]),\n",
    "        (\"text\", CountVectorizer(), \"name\")\n",
    "    ])),\n",
    "    (\"Imputation\", SimpleImputer()),\n",
    "    (\"LinearModel\", RidgeCV(alphas=alphas))\n",
    "])"
   ]
  },
  {
   "cell_type": "code",
   "execution_count": 41,
   "metadata": {},
   "outputs": [
    {
     "data": {
      "application/vnd.plotly.v1+json": {
       "config": {
        "plotlyServerURL": "https://plot.ly"
       },
       "data": [
        {
         "name": "Training RMSE",
         "type": "bar",
         "x": [
          "c",
          "c,d",
          "c,d,h",
          "c,d,h,w",
          "c,d,h,w,a",
          "c,d,h,w,a,m",
          "c,d,h,w,a,m,o",
          "c,d,h,w,a,m,o,n",
          "Ridge(alpha=0.5)",
          "RidgeN(alpha=0.5)",
          "RidgeN(alpha=10)",
          "RidgeN(alpha_best)",
          "RidgeCV"
         ],
         "y": [
          4.888109236813685,
          4.58757379901803,
          4.525395490245242,
          4.216877763288668,
          4.213763450275896,
          3.3799994809258993,
          3.2488224012050075,
          1.1387313016649125,
          3.3920243351447157,
          1.3730740993226607,
          2.564035607187765,
          1.7973226069261234,
          1.7609475467570164
         ]
        },
        {
         "name": "CV RMSE",
         "type": "bar",
         "x": [
          "c",
          "c,d",
          "c,d,h",
          "c,d,h,w",
          "c,d,h,w,a",
          "c,d,h,w,a,m",
          "c,d,h,w,a,m,o",
          "c,d,h,w,a,m,o,n",
          "Ridge(alpha=0.5)",
          "RidgeN(alpha=0.5)",
          "RidgeN(alpha=10)",
          "RidgeN(alpha_best)",
          "RidgeCV"
         ],
         "y": [
          4.876661068256956,
          4.579060426624026,
          4.556808311664746,
          4.252718625749385,
          4.256844728700814,
          3.4557657065586773,
          3.3323381513276003,
          3.728919763030074,
          3.249756949598749,
          3.0212962182396272,
          3.1232803012444377,
          2.9435073642952942,
          2.9630429994274956
         ]
        },
        {
         "name": "Test RMSE",
         "opacity": 0.3,
         "type": "bar",
         "x": [
          "c",
          "c,d",
          "c,d,h",
          "c,d,h,w",
          "c,d,h,w,a",
          "c,d,h,w,a,m",
          "c,d,h,w,a,m,o",
          "c,d,h,w,a,m,o,n",
          "Ridge(alpha=0.5)",
          "RidgeN(alpha=0.5)",
          "RidgeN(alpha=10)",
          "RidgeN(alpha_best)",
          "RidgeCV"
         ],
         "y": [
          5.055013548375552,
          4.766156989852369,
          4.5838617699808735,
          4.32584781613103,
          4.349888692769132,
          3.5508281716401946,
          3.3746613014711677,
          3.507443289513132,
          3.4637315803242417,
          3.5391832578939355,
          3.372074021065047,
          3.4729798815345463,
          3.475120446917177
         ]
        }
       ],
       "layout": {
        "template": {
         "data": {
          "bar": [
           {
            "error_x": {
             "color": "#2a3f5f"
            },
            "error_y": {
             "color": "#2a3f5f"
            },
            "marker": {
             "line": {
              "color": "#E5ECF6",
              "width": 0.5
             },
             "pattern": {
              "fillmode": "overlay",
              "size": 10,
              "solidity": 0.2
             }
            },
            "type": "bar"
           }
          ],
          "barpolar": [
           {
            "marker": {
             "line": {
              "color": "#E5ECF6",
              "width": 0.5
             },
             "pattern": {
              "fillmode": "overlay",
              "size": 10,
              "solidity": 0.2
             }
            },
            "type": "barpolar"
           }
          ],
          "carpet": [
           {
            "aaxis": {
             "endlinecolor": "#2a3f5f",
             "gridcolor": "white",
             "linecolor": "white",
             "minorgridcolor": "white",
             "startlinecolor": "#2a3f5f"
            },
            "baxis": {
             "endlinecolor": "#2a3f5f",
             "gridcolor": "white",
             "linecolor": "white",
             "minorgridcolor": "white",
             "startlinecolor": "#2a3f5f"
            },
            "type": "carpet"
           }
          ],
          "choropleth": [
           {
            "colorbar": {
             "outlinewidth": 0,
             "ticks": ""
            },
            "type": "choropleth"
           }
          ],
          "contour": [
           {
            "colorbar": {
             "outlinewidth": 0,
             "ticks": ""
            },
            "colorscale": [
             [
              0,
              "#0d0887"
             ],
             [
              0.1111111111111111,
              "#46039f"
             ],
             [
              0.2222222222222222,
              "#7201a8"
             ],
             [
              0.3333333333333333,
              "#9c179e"
             ],
             [
              0.4444444444444444,
              "#bd3786"
             ],
             [
              0.5555555555555556,
              "#d8576b"
             ],
             [
              0.6666666666666666,
              "#ed7953"
             ],
             [
              0.7777777777777778,
              "#fb9f3a"
             ],
             [
              0.8888888888888888,
              "#fdca26"
             ],
             [
              1,
              "#f0f921"
             ]
            ],
            "type": "contour"
           }
          ],
          "contourcarpet": [
           {
            "colorbar": {
             "outlinewidth": 0,
             "ticks": ""
            },
            "type": "contourcarpet"
           }
          ],
          "heatmap": [
           {
            "colorbar": {
             "outlinewidth": 0,
             "ticks": ""
            },
            "colorscale": [
             [
              0,
              "#0d0887"
             ],
             [
              0.1111111111111111,
              "#46039f"
             ],
             [
              0.2222222222222222,
              "#7201a8"
             ],
             [
              0.3333333333333333,
              "#9c179e"
             ],
             [
              0.4444444444444444,
              "#bd3786"
             ],
             [
              0.5555555555555556,
              "#d8576b"
             ],
             [
              0.6666666666666666,
              "#ed7953"
             ],
             [
              0.7777777777777778,
              "#fb9f3a"
             ],
             [
              0.8888888888888888,
              "#fdca26"
             ],
             [
              1,
              "#f0f921"
             ]
            ],
            "type": "heatmap"
           }
          ],
          "heatmapgl": [
           {
            "colorbar": {
             "outlinewidth": 0,
             "ticks": ""
            },
            "colorscale": [
             [
              0,
              "#0d0887"
             ],
             [
              0.1111111111111111,
              "#46039f"
             ],
             [
              0.2222222222222222,
              "#7201a8"
             ],
             [
              0.3333333333333333,
              "#9c179e"
             ],
             [
              0.4444444444444444,
              "#bd3786"
             ],
             [
              0.5555555555555556,
              "#d8576b"
             ],
             [
              0.6666666666666666,
              "#ed7953"
             ],
             [
              0.7777777777777778,
              "#fb9f3a"
             ],
             [
              0.8888888888888888,
              "#fdca26"
             ],
             [
              1,
              "#f0f921"
             ]
            ],
            "type": "heatmapgl"
           }
          ],
          "histogram": [
           {
            "marker": {
             "pattern": {
              "fillmode": "overlay",
              "size": 10,
              "solidity": 0.2
             }
            },
            "type": "histogram"
           }
          ],
          "histogram2d": [
           {
            "colorbar": {
             "outlinewidth": 0,
             "ticks": ""
            },
            "colorscale": [
             [
              0,
              "#0d0887"
             ],
             [
              0.1111111111111111,
              "#46039f"
             ],
             [
              0.2222222222222222,
              "#7201a8"
             ],
             [
              0.3333333333333333,
              "#9c179e"
             ],
             [
              0.4444444444444444,
              "#bd3786"
             ],
             [
              0.5555555555555556,
              "#d8576b"
             ],
             [
              0.6666666666666666,
              "#ed7953"
             ],
             [
              0.7777777777777778,
              "#fb9f3a"
             ],
             [
              0.8888888888888888,
              "#fdca26"
             ],
             [
              1,
              "#f0f921"
             ]
            ],
            "type": "histogram2d"
           }
          ],
          "histogram2dcontour": [
           {
            "colorbar": {
             "outlinewidth": 0,
             "ticks": ""
            },
            "colorscale": [
             [
              0,
              "#0d0887"
             ],
             [
              0.1111111111111111,
              "#46039f"
             ],
             [
              0.2222222222222222,
              "#7201a8"
             ],
             [
              0.3333333333333333,
              "#9c179e"
             ],
             [
              0.4444444444444444,
              "#bd3786"
             ],
             [
              0.5555555555555556,
              "#d8576b"
             ],
             [
              0.6666666666666666,
              "#ed7953"
             ],
             [
              0.7777777777777778,
              "#fb9f3a"
             ],
             [
              0.8888888888888888,
              "#fdca26"
             ],
             [
              1,
              "#f0f921"
             ]
            ],
            "type": "histogram2dcontour"
           }
          ],
          "mesh3d": [
           {
            "colorbar": {
             "outlinewidth": 0,
             "ticks": ""
            },
            "type": "mesh3d"
           }
          ],
          "parcoords": [
           {
            "line": {
             "colorbar": {
              "outlinewidth": 0,
              "ticks": ""
             }
            },
            "type": "parcoords"
           }
          ],
          "pie": [
           {
            "automargin": true,
            "type": "pie"
           }
          ],
          "scatter": [
           {
            "marker": {
             "colorbar": {
              "outlinewidth": 0,
              "ticks": ""
             }
            },
            "type": "scatter"
           }
          ],
          "scatter3d": [
           {
            "line": {
             "colorbar": {
              "outlinewidth": 0,
              "ticks": ""
             }
            },
            "marker": {
             "colorbar": {
              "outlinewidth": 0,
              "ticks": ""
             }
            },
            "type": "scatter3d"
           }
          ],
          "scattercarpet": [
           {
            "marker": {
             "colorbar": {
              "outlinewidth": 0,
              "ticks": ""
             }
            },
            "type": "scattercarpet"
           }
          ],
          "scattergeo": [
           {
            "marker": {
             "colorbar": {
              "outlinewidth": 0,
              "ticks": ""
             }
            },
            "type": "scattergeo"
           }
          ],
          "scattergl": [
           {
            "marker": {
             "colorbar": {
              "outlinewidth": 0,
              "ticks": ""
             }
            },
            "type": "scattergl"
           }
          ],
          "scattermapbox": [
           {
            "marker": {
             "colorbar": {
              "outlinewidth": 0,
              "ticks": ""
             }
            },
            "type": "scattermapbox"
           }
          ],
          "scatterpolar": [
           {
            "marker": {
             "colorbar": {
              "outlinewidth": 0,
              "ticks": ""
             }
            },
            "type": "scatterpolar"
           }
          ],
          "scatterpolargl": [
           {
            "marker": {
             "colorbar": {
              "outlinewidth": 0,
              "ticks": ""
             }
            },
            "type": "scatterpolargl"
           }
          ],
          "scatterternary": [
           {
            "marker": {
             "colorbar": {
              "outlinewidth": 0,
              "ticks": ""
             }
            },
            "type": "scatterternary"
           }
          ],
          "surface": [
           {
            "colorbar": {
             "outlinewidth": 0,
             "ticks": ""
            },
            "colorscale": [
             [
              0,
              "#0d0887"
             ],
             [
              0.1111111111111111,
              "#46039f"
             ],
             [
              0.2222222222222222,
              "#7201a8"
             ],
             [
              0.3333333333333333,
              "#9c179e"
             ],
             [
              0.4444444444444444,
              "#bd3786"
             ],
             [
              0.5555555555555556,
              "#d8576b"
             ],
             [
              0.6666666666666666,
              "#ed7953"
             ],
             [
              0.7777777777777778,
              "#fb9f3a"
             ],
             [
              0.8888888888888888,
              "#fdca26"
             ],
             [
              1,
              "#f0f921"
             ]
            ],
            "type": "surface"
           }
          ],
          "table": [
           {
            "cells": {
             "fill": {
              "color": "#EBF0F8"
             },
             "line": {
              "color": "white"
             }
            },
            "header": {
             "fill": {
              "color": "#C8D4E3"
             },
             "line": {
              "color": "white"
             }
            },
            "type": "table"
           }
          ]
         },
         "layout": {
          "annotationdefaults": {
           "arrowcolor": "#2a3f5f",
           "arrowhead": 0,
           "arrowwidth": 1
          },
          "autotypenumbers": "strict",
          "coloraxis": {
           "colorbar": {
            "outlinewidth": 0,
            "ticks": ""
           }
          },
          "colorscale": {
           "diverging": [
            [
             0,
             "#8e0152"
            ],
            [
             0.1,
             "#c51b7d"
            ],
            [
             0.2,
             "#de77ae"
            ],
            [
             0.3,
             "#f1b6da"
            ],
            [
             0.4,
             "#fde0ef"
            ],
            [
             0.5,
             "#f7f7f7"
            ],
            [
             0.6,
             "#e6f5d0"
            ],
            [
             0.7,
             "#b8e186"
            ],
            [
             0.8,
             "#7fbc41"
            ],
            [
             0.9,
             "#4d9221"
            ],
            [
             1,
             "#276419"
            ]
           ],
           "sequential": [
            [
             0,
             "#0d0887"
            ],
            [
             0.1111111111111111,
             "#46039f"
            ],
            [
             0.2222222222222222,
             "#7201a8"
            ],
            [
             0.3333333333333333,
             "#9c179e"
            ],
            [
             0.4444444444444444,
             "#bd3786"
            ],
            [
             0.5555555555555556,
             "#d8576b"
            ],
            [
             0.6666666666666666,
             "#ed7953"
            ],
            [
             0.7777777777777778,
             "#fb9f3a"
            ],
            [
             0.8888888888888888,
             "#fdca26"
            ],
            [
             1,
             "#f0f921"
            ]
           ],
           "sequentialminus": [
            [
             0,
             "#0d0887"
            ],
            [
             0.1111111111111111,
             "#46039f"
            ],
            [
             0.2222222222222222,
             "#7201a8"
            ],
            [
             0.3333333333333333,
             "#9c179e"
            ],
            [
             0.4444444444444444,
             "#bd3786"
            ],
            [
             0.5555555555555556,
             "#d8576b"
            ],
            [
             0.6666666666666666,
             "#ed7953"
            ],
            [
             0.7777777777777778,
             "#fb9f3a"
            ],
            [
             0.8888888888888888,
             "#fdca26"
            ],
            [
             1,
             "#f0f921"
            ]
           ]
          },
          "colorway": [
           "#636efa",
           "#EF553B",
           "#00cc96",
           "#ab63fa",
           "#FFA15A",
           "#19d3f3",
           "#FF6692",
           "#B6E880",
           "#FF97FF",
           "#FECB52"
          ],
          "font": {
           "color": "#2a3f5f"
          },
          "geo": {
           "bgcolor": "white",
           "lakecolor": "white",
           "landcolor": "#E5ECF6",
           "showlakes": true,
           "showland": true,
           "subunitcolor": "white"
          },
          "hoverlabel": {
           "align": "left"
          },
          "hovermode": "closest",
          "mapbox": {
           "style": "light"
          },
          "paper_bgcolor": "white",
          "plot_bgcolor": "#E5ECF6",
          "polar": {
           "angularaxis": {
            "gridcolor": "white",
            "linecolor": "white",
            "ticks": ""
           },
           "bgcolor": "#E5ECF6",
           "radialaxis": {
            "gridcolor": "white",
            "linecolor": "white",
            "ticks": ""
           }
          },
          "scene": {
           "xaxis": {
            "backgroundcolor": "#E5ECF6",
            "gridcolor": "white",
            "gridwidth": 2,
            "linecolor": "white",
            "showbackground": true,
            "ticks": "",
            "zerolinecolor": "white"
           },
           "yaxis": {
            "backgroundcolor": "#E5ECF6",
            "gridcolor": "white",
            "gridwidth": 2,
            "linecolor": "white",
            "showbackground": true,
            "ticks": "",
            "zerolinecolor": "white"
           },
           "zaxis": {
            "backgroundcolor": "#E5ECF6",
            "gridcolor": "white",
            "gridwidth": 2,
            "linecolor": "white",
            "showbackground": true,
            "ticks": "",
            "zerolinecolor": "white"
           }
          },
          "shapedefaults": {
           "line": {
            "color": "#2a3f5f"
           }
          },
          "ternary": {
           "aaxis": {
            "gridcolor": "white",
            "linecolor": "white",
            "ticks": ""
           },
           "baxis": {
            "gridcolor": "white",
            "linecolor": "white",
            "ticks": ""
           },
           "bgcolor": "#E5ECF6",
           "caxis": {
            "gridcolor": "white",
            "linecolor": "white",
            "ticks": ""
           }
          },
          "title": {
           "x": 0.05
          },
          "xaxis": {
           "automargin": true,
           "gridcolor": "white",
           "linecolor": "white",
           "ticks": "",
           "title": {
            "standoff": 15
           },
           "zerolinecolor": "white",
           "zerolinewidth": 2
          },
          "yaxis": {
           "automargin": true,
           "gridcolor": "white",
           "linecolor": "white",
           "ticks": "",
           "title": {
            "standoff": 15
           },
           "zerolinecolor": "white",
           "zerolinewidth": 2
          }
         }
        },
        "yaxis": {
         "title": {
          "text": "RMSE"
         }
        }
       }
      },
      "text/html": [
       "<div>                            <div id=\"01b56aef-a00d-431e-9ab3-87822e8cde2a\" class=\"plotly-graph-div\" style=\"height:525px; width:100%;\"></div>            <script type=\"text/javascript\">                require([\"plotly\"], function(Plotly) {                    window.PLOTLYENV=window.PLOTLYENV || {};                                    if (document.getElementById(\"01b56aef-a00d-431e-9ab3-87822e8cde2a\")) {                    Plotly.newPlot(                        \"01b56aef-a00d-431e-9ab3-87822e8cde2a\",                        [{\"name\":\"Training RMSE\",\"x\":[\"c\",\"c,d\",\"c,d,h\",\"c,d,h,w\",\"c,d,h,w,a\",\"c,d,h,w,a,m\",\"c,d,h,w,a,m,o\",\"c,d,h,w,a,m,o,n\",\"Ridge(alpha=0.5)\",\"RidgeN(alpha=0.5)\",\"RidgeN(alpha=10)\",\"RidgeN(alpha_best)\",\"RidgeCV\"],\"y\":[4.888109236813685,4.58757379901803,4.525395490245242,4.216877763288668,4.213763450275896,3.3799994809258993,3.2488224012050075,1.1387313016649125,3.3920243351447157,1.3730740993226607,2.564035607187765,1.7973226069261234,1.7609475467570164],\"type\":\"bar\"},{\"name\":\"CV RMSE\",\"x\":[\"c\",\"c,d\",\"c,d,h\",\"c,d,h,w\",\"c,d,h,w,a\",\"c,d,h,w,a,m\",\"c,d,h,w,a,m,o\",\"c,d,h,w,a,m,o,n\",\"Ridge(alpha=0.5)\",\"RidgeN(alpha=0.5)\",\"RidgeN(alpha=10)\",\"RidgeN(alpha_best)\",\"RidgeCV\"],\"y\":[4.876661068256956,4.579060426624026,4.556808311664746,4.252718625749385,4.256844728700814,3.4557657065586773,3.3323381513276003,3.728919763030074,3.249756949598749,3.0212962182396272,3.1232803012444377,2.9435073642952942,2.9630429994274956],\"type\":\"bar\"},{\"name\":\"Test RMSE\",\"opacity\":0.3,\"x\":[\"c\",\"c,d\",\"c,d,h\",\"c,d,h,w\",\"c,d,h,w,a\",\"c,d,h,w,a,m\",\"c,d,h,w,a,m,o\",\"c,d,h,w,a,m,o,n\",\"Ridge(alpha=0.5)\",\"RidgeN(alpha=0.5)\",\"RidgeN(alpha=10)\",\"RidgeN(alpha_best)\",\"RidgeCV\"],\"y\":[5.055013548375552,4.766156989852369,4.5838617699808735,4.32584781613103,4.349888692769132,3.5508281716401946,3.3746613014711677,3.507443289513132,3.4637315803242417,3.5391832578939355,3.372074021065047,3.4729798815345463,3.475120446917177],\"type\":\"bar\"}],                        {\"template\":{\"data\":{\"bar\":[{\"error_x\":{\"color\":\"#2a3f5f\"},\"error_y\":{\"color\":\"#2a3f5f\"},\"marker\":{\"line\":{\"color\":\"#E5ECF6\",\"width\":0.5},\"pattern\":{\"fillmode\":\"overlay\",\"size\":10,\"solidity\":0.2}},\"type\":\"bar\"}],\"barpolar\":[{\"marker\":{\"line\":{\"color\":\"#E5ECF6\",\"width\":0.5},\"pattern\":{\"fillmode\":\"overlay\",\"size\":10,\"solidity\":0.2}},\"type\":\"barpolar\"}],\"carpet\":[{\"aaxis\":{\"endlinecolor\":\"#2a3f5f\",\"gridcolor\":\"white\",\"linecolor\":\"white\",\"minorgridcolor\":\"white\",\"startlinecolor\":\"#2a3f5f\"},\"baxis\":{\"endlinecolor\":\"#2a3f5f\",\"gridcolor\":\"white\",\"linecolor\":\"white\",\"minorgridcolor\":\"white\",\"startlinecolor\":\"#2a3f5f\"},\"type\":\"carpet\"}],\"choropleth\":[{\"colorbar\":{\"outlinewidth\":0,\"ticks\":\"\"},\"type\":\"choropleth\"}],\"contour\":[{\"colorbar\":{\"outlinewidth\":0,\"ticks\":\"\"},\"colorscale\":[[0.0,\"#0d0887\"],[0.1111111111111111,\"#46039f\"],[0.2222222222222222,\"#7201a8\"],[0.3333333333333333,\"#9c179e\"],[0.4444444444444444,\"#bd3786\"],[0.5555555555555556,\"#d8576b\"],[0.6666666666666666,\"#ed7953\"],[0.7777777777777778,\"#fb9f3a\"],[0.8888888888888888,\"#fdca26\"],[1.0,\"#f0f921\"]],\"type\":\"contour\"}],\"contourcarpet\":[{\"colorbar\":{\"outlinewidth\":0,\"ticks\":\"\"},\"type\":\"contourcarpet\"}],\"heatmap\":[{\"colorbar\":{\"outlinewidth\":0,\"ticks\":\"\"},\"colorscale\":[[0.0,\"#0d0887\"],[0.1111111111111111,\"#46039f\"],[0.2222222222222222,\"#7201a8\"],[0.3333333333333333,\"#9c179e\"],[0.4444444444444444,\"#bd3786\"],[0.5555555555555556,\"#d8576b\"],[0.6666666666666666,\"#ed7953\"],[0.7777777777777778,\"#fb9f3a\"],[0.8888888888888888,\"#fdca26\"],[1.0,\"#f0f921\"]],\"type\":\"heatmap\"}],\"heatmapgl\":[{\"colorbar\":{\"outlinewidth\":0,\"ticks\":\"\"},\"colorscale\":[[0.0,\"#0d0887\"],[0.1111111111111111,\"#46039f\"],[0.2222222222222222,\"#7201a8\"],[0.3333333333333333,\"#9c179e\"],[0.4444444444444444,\"#bd3786\"],[0.5555555555555556,\"#d8576b\"],[0.6666666666666666,\"#ed7953\"],[0.7777777777777778,\"#fb9f3a\"],[0.8888888888888888,\"#fdca26\"],[1.0,\"#f0f921\"]],\"type\":\"heatmapgl\"}],\"histogram\":[{\"marker\":{\"pattern\":{\"fillmode\":\"overlay\",\"size\":10,\"solidity\":0.2}},\"type\":\"histogram\"}],\"histogram2d\":[{\"colorbar\":{\"outlinewidth\":0,\"ticks\":\"\"},\"colorscale\":[[0.0,\"#0d0887\"],[0.1111111111111111,\"#46039f\"],[0.2222222222222222,\"#7201a8\"],[0.3333333333333333,\"#9c179e\"],[0.4444444444444444,\"#bd3786\"],[0.5555555555555556,\"#d8576b\"],[0.6666666666666666,\"#ed7953\"],[0.7777777777777778,\"#fb9f3a\"],[0.8888888888888888,\"#fdca26\"],[1.0,\"#f0f921\"]],\"type\":\"histogram2d\"}],\"histogram2dcontour\":[{\"colorbar\":{\"outlinewidth\":0,\"ticks\":\"\"},\"colorscale\":[[0.0,\"#0d0887\"],[0.1111111111111111,\"#46039f\"],[0.2222222222222222,\"#7201a8\"],[0.3333333333333333,\"#9c179e\"],[0.4444444444444444,\"#bd3786\"],[0.5555555555555556,\"#d8576b\"],[0.6666666666666666,\"#ed7953\"],[0.7777777777777778,\"#fb9f3a\"],[0.8888888888888888,\"#fdca26\"],[1.0,\"#f0f921\"]],\"type\":\"histogram2dcontour\"}],\"mesh3d\":[{\"colorbar\":{\"outlinewidth\":0,\"ticks\":\"\"},\"type\":\"mesh3d\"}],\"parcoords\":[{\"line\":{\"colorbar\":{\"outlinewidth\":0,\"ticks\":\"\"}},\"type\":\"parcoords\"}],\"pie\":[{\"automargin\":true,\"type\":\"pie\"}],\"scatter\":[{\"marker\":{\"colorbar\":{\"outlinewidth\":0,\"ticks\":\"\"}},\"type\":\"scatter\"}],\"scatter3d\":[{\"line\":{\"colorbar\":{\"outlinewidth\":0,\"ticks\":\"\"}},\"marker\":{\"colorbar\":{\"outlinewidth\":0,\"ticks\":\"\"}},\"type\":\"scatter3d\"}],\"scattercarpet\":[{\"marker\":{\"colorbar\":{\"outlinewidth\":0,\"ticks\":\"\"}},\"type\":\"scattercarpet\"}],\"scattergeo\":[{\"marker\":{\"colorbar\":{\"outlinewidth\":0,\"ticks\":\"\"}},\"type\":\"scattergeo\"}],\"scattergl\":[{\"marker\":{\"colorbar\":{\"outlinewidth\":0,\"ticks\":\"\"}},\"type\":\"scattergl\"}],\"scattermapbox\":[{\"marker\":{\"colorbar\":{\"outlinewidth\":0,\"ticks\":\"\"}},\"type\":\"scattermapbox\"}],\"scatterpolar\":[{\"marker\":{\"colorbar\":{\"outlinewidth\":0,\"ticks\":\"\"}},\"type\":\"scatterpolar\"}],\"scatterpolargl\":[{\"marker\":{\"colorbar\":{\"outlinewidth\":0,\"ticks\":\"\"}},\"type\":\"scatterpolargl\"}],\"scatterternary\":[{\"marker\":{\"colorbar\":{\"outlinewidth\":0,\"ticks\":\"\"}},\"type\":\"scatterternary\"}],\"surface\":[{\"colorbar\":{\"outlinewidth\":0,\"ticks\":\"\"},\"colorscale\":[[0.0,\"#0d0887\"],[0.1111111111111111,\"#46039f\"],[0.2222222222222222,\"#7201a8\"],[0.3333333333333333,\"#9c179e\"],[0.4444444444444444,\"#bd3786\"],[0.5555555555555556,\"#d8576b\"],[0.6666666666666666,\"#ed7953\"],[0.7777777777777778,\"#fb9f3a\"],[0.8888888888888888,\"#fdca26\"],[1.0,\"#f0f921\"]],\"type\":\"surface\"}],\"table\":[{\"cells\":{\"fill\":{\"color\":\"#EBF0F8\"},\"line\":{\"color\":\"white\"}},\"header\":{\"fill\":{\"color\":\"#C8D4E3\"},\"line\":{\"color\":\"white\"}},\"type\":\"table\"}]},\"layout\":{\"annotationdefaults\":{\"arrowcolor\":\"#2a3f5f\",\"arrowhead\":0,\"arrowwidth\":1},\"autotypenumbers\":\"strict\",\"coloraxis\":{\"colorbar\":{\"outlinewidth\":0,\"ticks\":\"\"}},\"colorscale\":{\"diverging\":[[0,\"#8e0152\"],[0.1,\"#c51b7d\"],[0.2,\"#de77ae\"],[0.3,\"#f1b6da\"],[0.4,\"#fde0ef\"],[0.5,\"#f7f7f7\"],[0.6,\"#e6f5d0\"],[0.7,\"#b8e186\"],[0.8,\"#7fbc41\"],[0.9,\"#4d9221\"],[1,\"#276419\"]],\"sequential\":[[0.0,\"#0d0887\"],[0.1111111111111111,\"#46039f\"],[0.2222222222222222,\"#7201a8\"],[0.3333333333333333,\"#9c179e\"],[0.4444444444444444,\"#bd3786\"],[0.5555555555555556,\"#d8576b\"],[0.6666666666666666,\"#ed7953\"],[0.7777777777777778,\"#fb9f3a\"],[0.8888888888888888,\"#fdca26\"],[1.0,\"#f0f921\"]],\"sequentialminus\":[[0.0,\"#0d0887\"],[0.1111111111111111,\"#46039f\"],[0.2222222222222222,\"#7201a8\"],[0.3333333333333333,\"#9c179e\"],[0.4444444444444444,\"#bd3786\"],[0.5555555555555556,\"#d8576b\"],[0.6666666666666666,\"#ed7953\"],[0.7777777777777778,\"#fb9f3a\"],[0.8888888888888888,\"#fdca26\"],[1.0,\"#f0f921\"]]},\"colorway\":[\"#636efa\",\"#EF553B\",\"#00cc96\",\"#ab63fa\",\"#FFA15A\",\"#19d3f3\",\"#FF6692\",\"#B6E880\",\"#FF97FF\",\"#FECB52\"],\"font\":{\"color\":\"#2a3f5f\"},\"geo\":{\"bgcolor\":\"white\",\"lakecolor\":\"white\",\"landcolor\":\"#E5ECF6\",\"showlakes\":true,\"showland\":true,\"subunitcolor\":\"white\"},\"hoverlabel\":{\"align\":\"left\"},\"hovermode\":\"closest\",\"mapbox\":{\"style\":\"light\"},\"paper_bgcolor\":\"white\",\"plot_bgcolor\":\"#E5ECF6\",\"polar\":{\"angularaxis\":{\"gridcolor\":\"white\",\"linecolor\":\"white\",\"ticks\":\"\"},\"bgcolor\":\"#E5ECF6\",\"radialaxis\":{\"gridcolor\":\"white\",\"linecolor\":\"white\",\"ticks\":\"\"}},\"scene\":{\"xaxis\":{\"backgroundcolor\":\"#E5ECF6\",\"gridcolor\":\"white\",\"gridwidth\":2,\"linecolor\":\"white\",\"showbackground\":true,\"ticks\":\"\",\"zerolinecolor\":\"white\"},\"yaxis\":{\"backgroundcolor\":\"#E5ECF6\",\"gridcolor\":\"white\",\"gridwidth\":2,\"linecolor\":\"white\",\"showbackground\":true,\"ticks\":\"\",\"zerolinecolor\":\"white\"},\"zaxis\":{\"backgroundcolor\":\"#E5ECF6\",\"gridcolor\":\"white\",\"gridwidth\":2,\"linecolor\":\"white\",\"showbackground\":true,\"ticks\":\"\",\"zerolinecolor\":\"white\"}},\"shapedefaults\":{\"line\":{\"color\":\"#2a3f5f\"}},\"ternary\":{\"aaxis\":{\"gridcolor\":\"white\",\"linecolor\":\"white\",\"ticks\":\"\"},\"baxis\":{\"gridcolor\":\"white\",\"linecolor\":\"white\",\"ticks\":\"\"},\"bgcolor\":\"#E5ECF6\",\"caxis\":{\"gridcolor\":\"white\",\"linecolor\":\"white\",\"ticks\":\"\"}},\"title\":{\"x\":0.05},\"xaxis\":{\"automargin\":true,\"gridcolor\":\"white\",\"linecolor\":\"white\",\"ticks\":\"\",\"title\":{\"standoff\":15},\"zerolinecolor\":\"white\",\"zerolinewidth\":2},\"yaxis\":{\"automargin\":true,\"gridcolor\":\"white\",\"linecolor\":\"white\",\"ticks\":\"\",\"title\":{\"standoff\":15},\"zerolinecolor\":\"white\",\"zerolinewidth\":2}}},\"yaxis\":{\"title\":{\"text\":\"RMSE\"}}},                        {\"responsive\": true}                    ).then(function(){\n",
       "                            \n",
       "var gd = document.getElementById('01b56aef-a00d-431e-9ab3-87822e8cde2a');\n",
       "var x = new MutationObserver(function (mutations, observer) {{\n",
       "        var display = window.getComputedStyle(gd).display;\n",
       "        if (!display || display === 'none') {{\n",
       "            console.log([gd, 'removed!']);\n",
       "            Plotly.purge(gd);\n",
       "            observer.disconnect();\n",
       "        }}\n",
       "}});\n",
       "\n",
       "// Listen for the removal of the full notebook cells\n",
       "var notebookContainer = gd.closest('#notebook-container');\n",
       "if (notebookContainer) {{\n",
       "    x.observe(notebookContainer, {childList: true});\n",
       "}}\n",
       "\n",
       "// Listen for the clearing of the current output cell\n",
       "var outputEl = gd.closest('.output');\n",
       "if (outputEl) {{\n",
       "    x.observe(outputEl, {childList: true});\n",
       "}}\n",
       "\n",
       "                        })                };                });            </script>        </div>"
      ]
     },
     "metadata": {},
     "output_type": "display_data"
    }
   ],
   "source": [
    "ridge_model.fit(tr, tr['mpg'])\n",
    "models[\"RidgeCV\"] = ridge_model\n",
    "compare_models(models)"
   ]
  },
  {
   "cell_type": "markdown",
   "metadata": {},
   "source": [
    "## Lasso in SKLearn \n",
    "\n",
    "Similarly we can swap Ridge Regression for Lasso by simply importing the Lasso object from `sklearn.linear_model`."
   ]
  },
  {
   "cell_type": "code",
   "execution_count": 42,
   "metadata": {},
   "outputs": [],
   "source": [
    "from sklearn.linear_model import Lasso, LassoCV"
   ]
  },
  {
   "cell_type": "code",
   "execution_count": 43,
   "metadata": {},
   "outputs": [],
   "source": [
    "lasso_model = Pipeline([\n",
    "    (\"SelectColumns\", ColumnTransformer([\n",
    "        (\"keep\", StandardScaler(), quantitative_features),\n",
    "        (\"origin_encoder\", OneHotEncoder(), [\"origin\"]),\n",
    "        (\"text\", CountVectorizer(), \"name\")\n",
    "    ])),\n",
    "    (\"Imputation\", SimpleImputer()),\n",
    "    (\"LinearModel\", LassoCV(cv=3))\n",
    "])"
   ]
  },
  {
   "cell_type": "code",
   "execution_count": 44,
   "metadata": {},
   "outputs": [
    {
     "data": {
      "application/vnd.plotly.v1+json": {
       "config": {
        "plotlyServerURL": "https://plot.ly"
       },
       "data": [
        {
         "name": "Training RMSE",
         "type": "bar",
         "x": [
          "c",
          "c,d",
          "c,d,h",
          "c,d,h,w",
          "c,d,h,w,a",
          "c,d,h,w,a,m",
          "c,d,h,w,a,m,o",
          "c,d,h,w,a,m,o,n",
          "Ridge(alpha=0.5)",
          "RidgeN(alpha=0.5)",
          "RidgeN(alpha=10)",
          "RidgeN(alpha_best)",
          "RidgeCV",
          "LassoCV"
         ],
         "y": [
          4.888109236813685,
          4.58757379901803,
          4.525395490245242,
          4.216877763288668,
          4.213763450275896,
          3.3799994809258993,
          3.2488224012050075,
          1.1387313016649125,
          3.3920243351447157,
          1.3730740993226607,
          2.564035607187765,
          1.7973226069261234,
          1.7609475467570164,
          2.689296692516854
         ]
        },
        {
         "name": "CV RMSE",
         "type": "bar",
         "x": [
          "c",
          "c,d",
          "c,d,h",
          "c,d,h,w",
          "c,d,h,w,a",
          "c,d,h,w,a,m",
          "c,d,h,w,a,m,o",
          "c,d,h,w,a,m,o,n",
          "Ridge(alpha=0.5)",
          "RidgeN(alpha=0.5)",
          "RidgeN(alpha=10)",
          "RidgeN(alpha_best)",
          "RidgeCV",
          "LassoCV"
         ],
         "y": [
          4.876661068256956,
          4.579060426624026,
          4.556808311664746,
          4.252718625749385,
          4.256844728700814,
          3.4557657065586773,
          3.3323381513276003,
          3.728919763030074,
          3.249756949598749,
          3.0212962182396272,
          3.1232803012444377,
          2.9435073642952942,
          2.9630429994274956,
          3.0969783712209815
         ]
        },
        {
         "name": "Test RMSE",
         "opacity": 0.3,
         "type": "bar",
         "x": [
          "c",
          "c,d",
          "c,d,h",
          "c,d,h,w",
          "c,d,h,w,a",
          "c,d,h,w,a,m",
          "c,d,h,w,a,m,o",
          "c,d,h,w,a,m,o,n",
          "Ridge(alpha=0.5)",
          "RidgeN(alpha=0.5)",
          "RidgeN(alpha=10)",
          "RidgeN(alpha_best)",
          "RidgeCV",
          "LassoCV"
         ],
         "y": [
          5.055013548375552,
          4.766156989852369,
          4.5838617699808735,
          4.32584781613103,
          4.349888692769132,
          3.5508281716401946,
          3.3746613014711677,
          3.507443289513132,
          3.4637315803242417,
          3.5391832578939355,
          3.372074021065047,
          3.4729798815345463,
          3.475120446917177,
          3.4295685068646247
         ]
        }
       ],
       "layout": {
        "template": {
         "data": {
          "bar": [
           {
            "error_x": {
             "color": "#2a3f5f"
            },
            "error_y": {
             "color": "#2a3f5f"
            },
            "marker": {
             "line": {
              "color": "#E5ECF6",
              "width": 0.5
             },
             "pattern": {
              "fillmode": "overlay",
              "size": 10,
              "solidity": 0.2
             }
            },
            "type": "bar"
           }
          ],
          "barpolar": [
           {
            "marker": {
             "line": {
              "color": "#E5ECF6",
              "width": 0.5
             },
             "pattern": {
              "fillmode": "overlay",
              "size": 10,
              "solidity": 0.2
             }
            },
            "type": "barpolar"
           }
          ],
          "carpet": [
           {
            "aaxis": {
             "endlinecolor": "#2a3f5f",
             "gridcolor": "white",
             "linecolor": "white",
             "minorgridcolor": "white",
             "startlinecolor": "#2a3f5f"
            },
            "baxis": {
             "endlinecolor": "#2a3f5f",
             "gridcolor": "white",
             "linecolor": "white",
             "minorgridcolor": "white",
             "startlinecolor": "#2a3f5f"
            },
            "type": "carpet"
           }
          ],
          "choropleth": [
           {
            "colorbar": {
             "outlinewidth": 0,
             "ticks": ""
            },
            "type": "choropleth"
           }
          ],
          "contour": [
           {
            "colorbar": {
             "outlinewidth": 0,
             "ticks": ""
            },
            "colorscale": [
             [
              0,
              "#0d0887"
             ],
             [
              0.1111111111111111,
              "#46039f"
             ],
             [
              0.2222222222222222,
              "#7201a8"
             ],
             [
              0.3333333333333333,
              "#9c179e"
             ],
             [
              0.4444444444444444,
              "#bd3786"
             ],
             [
              0.5555555555555556,
              "#d8576b"
             ],
             [
              0.6666666666666666,
              "#ed7953"
             ],
             [
              0.7777777777777778,
              "#fb9f3a"
             ],
             [
              0.8888888888888888,
              "#fdca26"
             ],
             [
              1,
              "#f0f921"
             ]
            ],
            "type": "contour"
           }
          ],
          "contourcarpet": [
           {
            "colorbar": {
             "outlinewidth": 0,
             "ticks": ""
            },
            "type": "contourcarpet"
           }
          ],
          "heatmap": [
           {
            "colorbar": {
             "outlinewidth": 0,
             "ticks": ""
            },
            "colorscale": [
             [
              0,
              "#0d0887"
             ],
             [
              0.1111111111111111,
              "#46039f"
             ],
             [
              0.2222222222222222,
              "#7201a8"
             ],
             [
              0.3333333333333333,
              "#9c179e"
             ],
             [
              0.4444444444444444,
              "#bd3786"
             ],
             [
              0.5555555555555556,
              "#d8576b"
             ],
             [
              0.6666666666666666,
              "#ed7953"
             ],
             [
              0.7777777777777778,
              "#fb9f3a"
             ],
             [
              0.8888888888888888,
              "#fdca26"
             ],
             [
              1,
              "#f0f921"
             ]
            ],
            "type": "heatmap"
           }
          ],
          "heatmapgl": [
           {
            "colorbar": {
             "outlinewidth": 0,
             "ticks": ""
            },
            "colorscale": [
             [
              0,
              "#0d0887"
             ],
             [
              0.1111111111111111,
              "#46039f"
             ],
             [
              0.2222222222222222,
              "#7201a8"
             ],
             [
              0.3333333333333333,
              "#9c179e"
             ],
             [
              0.4444444444444444,
              "#bd3786"
             ],
             [
              0.5555555555555556,
              "#d8576b"
             ],
             [
              0.6666666666666666,
              "#ed7953"
             ],
             [
              0.7777777777777778,
              "#fb9f3a"
             ],
             [
              0.8888888888888888,
              "#fdca26"
             ],
             [
              1,
              "#f0f921"
             ]
            ],
            "type": "heatmapgl"
           }
          ],
          "histogram": [
           {
            "marker": {
             "pattern": {
              "fillmode": "overlay",
              "size": 10,
              "solidity": 0.2
             }
            },
            "type": "histogram"
           }
          ],
          "histogram2d": [
           {
            "colorbar": {
             "outlinewidth": 0,
             "ticks": ""
            },
            "colorscale": [
             [
              0,
              "#0d0887"
             ],
             [
              0.1111111111111111,
              "#46039f"
             ],
             [
              0.2222222222222222,
              "#7201a8"
             ],
             [
              0.3333333333333333,
              "#9c179e"
             ],
             [
              0.4444444444444444,
              "#bd3786"
             ],
             [
              0.5555555555555556,
              "#d8576b"
             ],
             [
              0.6666666666666666,
              "#ed7953"
             ],
             [
              0.7777777777777778,
              "#fb9f3a"
             ],
             [
              0.8888888888888888,
              "#fdca26"
             ],
             [
              1,
              "#f0f921"
             ]
            ],
            "type": "histogram2d"
           }
          ],
          "histogram2dcontour": [
           {
            "colorbar": {
             "outlinewidth": 0,
             "ticks": ""
            },
            "colorscale": [
             [
              0,
              "#0d0887"
             ],
             [
              0.1111111111111111,
              "#46039f"
             ],
             [
              0.2222222222222222,
              "#7201a8"
             ],
             [
              0.3333333333333333,
              "#9c179e"
             ],
             [
              0.4444444444444444,
              "#bd3786"
             ],
             [
              0.5555555555555556,
              "#d8576b"
             ],
             [
              0.6666666666666666,
              "#ed7953"
             ],
             [
              0.7777777777777778,
              "#fb9f3a"
             ],
             [
              0.8888888888888888,
              "#fdca26"
             ],
             [
              1,
              "#f0f921"
             ]
            ],
            "type": "histogram2dcontour"
           }
          ],
          "mesh3d": [
           {
            "colorbar": {
             "outlinewidth": 0,
             "ticks": ""
            },
            "type": "mesh3d"
           }
          ],
          "parcoords": [
           {
            "line": {
             "colorbar": {
              "outlinewidth": 0,
              "ticks": ""
             }
            },
            "type": "parcoords"
           }
          ],
          "pie": [
           {
            "automargin": true,
            "type": "pie"
           }
          ],
          "scatter": [
           {
            "marker": {
             "colorbar": {
              "outlinewidth": 0,
              "ticks": ""
             }
            },
            "type": "scatter"
           }
          ],
          "scatter3d": [
           {
            "line": {
             "colorbar": {
              "outlinewidth": 0,
              "ticks": ""
             }
            },
            "marker": {
             "colorbar": {
              "outlinewidth": 0,
              "ticks": ""
             }
            },
            "type": "scatter3d"
           }
          ],
          "scattercarpet": [
           {
            "marker": {
             "colorbar": {
              "outlinewidth": 0,
              "ticks": ""
             }
            },
            "type": "scattercarpet"
           }
          ],
          "scattergeo": [
           {
            "marker": {
             "colorbar": {
              "outlinewidth": 0,
              "ticks": ""
             }
            },
            "type": "scattergeo"
           }
          ],
          "scattergl": [
           {
            "marker": {
             "colorbar": {
              "outlinewidth": 0,
              "ticks": ""
             }
            },
            "type": "scattergl"
           }
          ],
          "scattermapbox": [
           {
            "marker": {
             "colorbar": {
              "outlinewidth": 0,
              "ticks": ""
             }
            },
            "type": "scattermapbox"
           }
          ],
          "scatterpolar": [
           {
            "marker": {
             "colorbar": {
              "outlinewidth": 0,
              "ticks": ""
             }
            },
            "type": "scatterpolar"
           }
          ],
          "scatterpolargl": [
           {
            "marker": {
             "colorbar": {
              "outlinewidth": 0,
              "ticks": ""
             }
            },
            "type": "scatterpolargl"
           }
          ],
          "scatterternary": [
           {
            "marker": {
             "colorbar": {
              "outlinewidth": 0,
              "ticks": ""
             }
            },
            "type": "scatterternary"
           }
          ],
          "surface": [
           {
            "colorbar": {
             "outlinewidth": 0,
             "ticks": ""
            },
            "colorscale": [
             [
              0,
              "#0d0887"
             ],
             [
              0.1111111111111111,
              "#46039f"
             ],
             [
              0.2222222222222222,
              "#7201a8"
             ],
             [
              0.3333333333333333,
              "#9c179e"
             ],
             [
              0.4444444444444444,
              "#bd3786"
             ],
             [
              0.5555555555555556,
              "#d8576b"
             ],
             [
              0.6666666666666666,
              "#ed7953"
             ],
             [
              0.7777777777777778,
              "#fb9f3a"
             ],
             [
              0.8888888888888888,
              "#fdca26"
             ],
             [
              1,
              "#f0f921"
             ]
            ],
            "type": "surface"
           }
          ],
          "table": [
           {
            "cells": {
             "fill": {
              "color": "#EBF0F8"
             },
             "line": {
              "color": "white"
             }
            },
            "header": {
             "fill": {
              "color": "#C8D4E3"
             },
             "line": {
              "color": "white"
             }
            },
            "type": "table"
           }
          ]
         },
         "layout": {
          "annotationdefaults": {
           "arrowcolor": "#2a3f5f",
           "arrowhead": 0,
           "arrowwidth": 1
          },
          "autotypenumbers": "strict",
          "coloraxis": {
           "colorbar": {
            "outlinewidth": 0,
            "ticks": ""
           }
          },
          "colorscale": {
           "diverging": [
            [
             0,
             "#8e0152"
            ],
            [
             0.1,
             "#c51b7d"
            ],
            [
             0.2,
             "#de77ae"
            ],
            [
             0.3,
             "#f1b6da"
            ],
            [
             0.4,
             "#fde0ef"
            ],
            [
             0.5,
             "#f7f7f7"
            ],
            [
             0.6,
             "#e6f5d0"
            ],
            [
             0.7,
             "#b8e186"
            ],
            [
             0.8,
             "#7fbc41"
            ],
            [
             0.9,
             "#4d9221"
            ],
            [
             1,
             "#276419"
            ]
           ],
           "sequential": [
            [
             0,
             "#0d0887"
            ],
            [
             0.1111111111111111,
             "#46039f"
            ],
            [
             0.2222222222222222,
             "#7201a8"
            ],
            [
             0.3333333333333333,
             "#9c179e"
            ],
            [
             0.4444444444444444,
             "#bd3786"
            ],
            [
             0.5555555555555556,
             "#d8576b"
            ],
            [
             0.6666666666666666,
             "#ed7953"
            ],
            [
             0.7777777777777778,
             "#fb9f3a"
            ],
            [
             0.8888888888888888,
             "#fdca26"
            ],
            [
             1,
             "#f0f921"
            ]
           ],
           "sequentialminus": [
            [
             0,
             "#0d0887"
            ],
            [
             0.1111111111111111,
             "#46039f"
            ],
            [
             0.2222222222222222,
             "#7201a8"
            ],
            [
             0.3333333333333333,
             "#9c179e"
            ],
            [
             0.4444444444444444,
             "#bd3786"
            ],
            [
             0.5555555555555556,
             "#d8576b"
            ],
            [
             0.6666666666666666,
             "#ed7953"
            ],
            [
             0.7777777777777778,
             "#fb9f3a"
            ],
            [
             0.8888888888888888,
             "#fdca26"
            ],
            [
             1,
             "#f0f921"
            ]
           ]
          },
          "colorway": [
           "#636efa",
           "#EF553B",
           "#00cc96",
           "#ab63fa",
           "#FFA15A",
           "#19d3f3",
           "#FF6692",
           "#B6E880",
           "#FF97FF",
           "#FECB52"
          ],
          "font": {
           "color": "#2a3f5f"
          },
          "geo": {
           "bgcolor": "white",
           "lakecolor": "white",
           "landcolor": "#E5ECF6",
           "showlakes": true,
           "showland": true,
           "subunitcolor": "white"
          },
          "hoverlabel": {
           "align": "left"
          },
          "hovermode": "closest",
          "mapbox": {
           "style": "light"
          },
          "paper_bgcolor": "white",
          "plot_bgcolor": "#E5ECF6",
          "polar": {
           "angularaxis": {
            "gridcolor": "white",
            "linecolor": "white",
            "ticks": ""
           },
           "bgcolor": "#E5ECF6",
           "radialaxis": {
            "gridcolor": "white",
            "linecolor": "white",
            "ticks": ""
           }
          },
          "scene": {
           "xaxis": {
            "backgroundcolor": "#E5ECF6",
            "gridcolor": "white",
            "gridwidth": 2,
            "linecolor": "white",
            "showbackground": true,
            "ticks": "",
            "zerolinecolor": "white"
           },
           "yaxis": {
            "backgroundcolor": "#E5ECF6",
            "gridcolor": "white",
            "gridwidth": 2,
            "linecolor": "white",
            "showbackground": true,
            "ticks": "",
            "zerolinecolor": "white"
           },
           "zaxis": {
            "backgroundcolor": "#E5ECF6",
            "gridcolor": "white",
            "gridwidth": 2,
            "linecolor": "white",
            "showbackground": true,
            "ticks": "",
            "zerolinecolor": "white"
           }
          },
          "shapedefaults": {
           "line": {
            "color": "#2a3f5f"
           }
          },
          "ternary": {
           "aaxis": {
            "gridcolor": "white",
            "linecolor": "white",
            "ticks": ""
           },
           "baxis": {
            "gridcolor": "white",
            "linecolor": "white",
            "ticks": ""
           },
           "bgcolor": "#E5ECF6",
           "caxis": {
            "gridcolor": "white",
            "linecolor": "white",
            "ticks": ""
           }
          },
          "title": {
           "x": 0.05
          },
          "xaxis": {
           "automargin": true,
           "gridcolor": "white",
           "linecolor": "white",
           "ticks": "",
           "title": {
            "standoff": 15
           },
           "zerolinecolor": "white",
           "zerolinewidth": 2
          },
          "yaxis": {
           "automargin": true,
           "gridcolor": "white",
           "linecolor": "white",
           "ticks": "",
           "title": {
            "standoff": 15
           },
           "zerolinecolor": "white",
           "zerolinewidth": 2
          }
         }
        },
        "yaxis": {
         "title": {
          "text": "RMSE"
         }
        }
       }
      },
      "text/html": [
       "<div>                            <div id=\"5807bd55-98fa-4681-9e5f-2c36de79c3ab\" class=\"plotly-graph-div\" style=\"height:525px; width:100%;\"></div>            <script type=\"text/javascript\">                require([\"plotly\"], function(Plotly) {                    window.PLOTLYENV=window.PLOTLYENV || {};                                    if (document.getElementById(\"5807bd55-98fa-4681-9e5f-2c36de79c3ab\")) {                    Plotly.newPlot(                        \"5807bd55-98fa-4681-9e5f-2c36de79c3ab\",                        [{\"name\":\"Training RMSE\",\"x\":[\"c\",\"c,d\",\"c,d,h\",\"c,d,h,w\",\"c,d,h,w,a\",\"c,d,h,w,a,m\",\"c,d,h,w,a,m,o\",\"c,d,h,w,a,m,o,n\",\"Ridge(alpha=0.5)\",\"RidgeN(alpha=0.5)\",\"RidgeN(alpha=10)\",\"RidgeN(alpha_best)\",\"RidgeCV\",\"LassoCV\"],\"y\":[4.888109236813685,4.58757379901803,4.525395490245242,4.216877763288668,4.213763450275896,3.3799994809258993,3.2488224012050075,1.1387313016649125,3.3920243351447157,1.3730740993226607,2.564035607187765,1.7973226069261234,1.7609475467570164,2.689296692516854],\"type\":\"bar\"},{\"name\":\"CV RMSE\",\"x\":[\"c\",\"c,d\",\"c,d,h\",\"c,d,h,w\",\"c,d,h,w,a\",\"c,d,h,w,a,m\",\"c,d,h,w,a,m,o\",\"c,d,h,w,a,m,o,n\",\"Ridge(alpha=0.5)\",\"RidgeN(alpha=0.5)\",\"RidgeN(alpha=10)\",\"RidgeN(alpha_best)\",\"RidgeCV\",\"LassoCV\"],\"y\":[4.876661068256956,4.579060426624026,4.556808311664746,4.252718625749385,4.256844728700814,3.4557657065586773,3.3323381513276003,3.728919763030074,3.249756949598749,3.0212962182396272,3.1232803012444377,2.9435073642952942,2.9630429994274956,3.0969783712209815],\"type\":\"bar\"},{\"name\":\"Test RMSE\",\"opacity\":0.3,\"x\":[\"c\",\"c,d\",\"c,d,h\",\"c,d,h,w\",\"c,d,h,w,a\",\"c,d,h,w,a,m\",\"c,d,h,w,a,m,o\",\"c,d,h,w,a,m,o,n\",\"Ridge(alpha=0.5)\",\"RidgeN(alpha=0.5)\",\"RidgeN(alpha=10)\",\"RidgeN(alpha_best)\",\"RidgeCV\",\"LassoCV\"],\"y\":[5.055013548375552,4.766156989852369,4.5838617699808735,4.32584781613103,4.349888692769132,3.5508281716401946,3.3746613014711677,3.507443289513132,3.4637315803242417,3.5391832578939355,3.372074021065047,3.4729798815345463,3.475120446917177,3.4295685068646247],\"type\":\"bar\"}],                        {\"template\":{\"data\":{\"bar\":[{\"error_x\":{\"color\":\"#2a3f5f\"},\"error_y\":{\"color\":\"#2a3f5f\"},\"marker\":{\"line\":{\"color\":\"#E5ECF6\",\"width\":0.5},\"pattern\":{\"fillmode\":\"overlay\",\"size\":10,\"solidity\":0.2}},\"type\":\"bar\"}],\"barpolar\":[{\"marker\":{\"line\":{\"color\":\"#E5ECF6\",\"width\":0.5},\"pattern\":{\"fillmode\":\"overlay\",\"size\":10,\"solidity\":0.2}},\"type\":\"barpolar\"}],\"carpet\":[{\"aaxis\":{\"endlinecolor\":\"#2a3f5f\",\"gridcolor\":\"white\",\"linecolor\":\"white\",\"minorgridcolor\":\"white\",\"startlinecolor\":\"#2a3f5f\"},\"baxis\":{\"endlinecolor\":\"#2a3f5f\",\"gridcolor\":\"white\",\"linecolor\":\"white\",\"minorgridcolor\":\"white\",\"startlinecolor\":\"#2a3f5f\"},\"type\":\"carpet\"}],\"choropleth\":[{\"colorbar\":{\"outlinewidth\":0,\"ticks\":\"\"},\"type\":\"choropleth\"}],\"contour\":[{\"colorbar\":{\"outlinewidth\":0,\"ticks\":\"\"},\"colorscale\":[[0.0,\"#0d0887\"],[0.1111111111111111,\"#46039f\"],[0.2222222222222222,\"#7201a8\"],[0.3333333333333333,\"#9c179e\"],[0.4444444444444444,\"#bd3786\"],[0.5555555555555556,\"#d8576b\"],[0.6666666666666666,\"#ed7953\"],[0.7777777777777778,\"#fb9f3a\"],[0.8888888888888888,\"#fdca26\"],[1.0,\"#f0f921\"]],\"type\":\"contour\"}],\"contourcarpet\":[{\"colorbar\":{\"outlinewidth\":0,\"ticks\":\"\"},\"type\":\"contourcarpet\"}],\"heatmap\":[{\"colorbar\":{\"outlinewidth\":0,\"ticks\":\"\"},\"colorscale\":[[0.0,\"#0d0887\"],[0.1111111111111111,\"#46039f\"],[0.2222222222222222,\"#7201a8\"],[0.3333333333333333,\"#9c179e\"],[0.4444444444444444,\"#bd3786\"],[0.5555555555555556,\"#d8576b\"],[0.6666666666666666,\"#ed7953\"],[0.7777777777777778,\"#fb9f3a\"],[0.8888888888888888,\"#fdca26\"],[1.0,\"#f0f921\"]],\"type\":\"heatmap\"}],\"heatmapgl\":[{\"colorbar\":{\"outlinewidth\":0,\"ticks\":\"\"},\"colorscale\":[[0.0,\"#0d0887\"],[0.1111111111111111,\"#46039f\"],[0.2222222222222222,\"#7201a8\"],[0.3333333333333333,\"#9c179e\"],[0.4444444444444444,\"#bd3786\"],[0.5555555555555556,\"#d8576b\"],[0.6666666666666666,\"#ed7953\"],[0.7777777777777778,\"#fb9f3a\"],[0.8888888888888888,\"#fdca26\"],[1.0,\"#f0f921\"]],\"type\":\"heatmapgl\"}],\"histogram\":[{\"marker\":{\"pattern\":{\"fillmode\":\"overlay\",\"size\":10,\"solidity\":0.2}},\"type\":\"histogram\"}],\"histogram2d\":[{\"colorbar\":{\"outlinewidth\":0,\"ticks\":\"\"},\"colorscale\":[[0.0,\"#0d0887\"],[0.1111111111111111,\"#46039f\"],[0.2222222222222222,\"#7201a8\"],[0.3333333333333333,\"#9c179e\"],[0.4444444444444444,\"#bd3786\"],[0.5555555555555556,\"#d8576b\"],[0.6666666666666666,\"#ed7953\"],[0.7777777777777778,\"#fb9f3a\"],[0.8888888888888888,\"#fdca26\"],[1.0,\"#f0f921\"]],\"type\":\"histogram2d\"}],\"histogram2dcontour\":[{\"colorbar\":{\"outlinewidth\":0,\"ticks\":\"\"},\"colorscale\":[[0.0,\"#0d0887\"],[0.1111111111111111,\"#46039f\"],[0.2222222222222222,\"#7201a8\"],[0.3333333333333333,\"#9c179e\"],[0.4444444444444444,\"#bd3786\"],[0.5555555555555556,\"#d8576b\"],[0.6666666666666666,\"#ed7953\"],[0.7777777777777778,\"#fb9f3a\"],[0.8888888888888888,\"#fdca26\"],[1.0,\"#f0f921\"]],\"type\":\"histogram2dcontour\"}],\"mesh3d\":[{\"colorbar\":{\"outlinewidth\":0,\"ticks\":\"\"},\"type\":\"mesh3d\"}],\"parcoords\":[{\"line\":{\"colorbar\":{\"outlinewidth\":0,\"ticks\":\"\"}},\"type\":\"parcoords\"}],\"pie\":[{\"automargin\":true,\"type\":\"pie\"}],\"scatter\":[{\"marker\":{\"colorbar\":{\"outlinewidth\":0,\"ticks\":\"\"}},\"type\":\"scatter\"}],\"scatter3d\":[{\"line\":{\"colorbar\":{\"outlinewidth\":0,\"ticks\":\"\"}},\"marker\":{\"colorbar\":{\"outlinewidth\":0,\"ticks\":\"\"}},\"type\":\"scatter3d\"}],\"scattercarpet\":[{\"marker\":{\"colorbar\":{\"outlinewidth\":0,\"ticks\":\"\"}},\"type\":\"scattercarpet\"}],\"scattergeo\":[{\"marker\":{\"colorbar\":{\"outlinewidth\":0,\"ticks\":\"\"}},\"type\":\"scattergeo\"}],\"scattergl\":[{\"marker\":{\"colorbar\":{\"outlinewidth\":0,\"ticks\":\"\"}},\"type\":\"scattergl\"}],\"scattermapbox\":[{\"marker\":{\"colorbar\":{\"outlinewidth\":0,\"ticks\":\"\"}},\"type\":\"scattermapbox\"}],\"scatterpolar\":[{\"marker\":{\"colorbar\":{\"outlinewidth\":0,\"ticks\":\"\"}},\"type\":\"scatterpolar\"}],\"scatterpolargl\":[{\"marker\":{\"colorbar\":{\"outlinewidth\":0,\"ticks\":\"\"}},\"type\":\"scatterpolargl\"}],\"scatterternary\":[{\"marker\":{\"colorbar\":{\"outlinewidth\":0,\"ticks\":\"\"}},\"type\":\"scatterternary\"}],\"surface\":[{\"colorbar\":{\"outlinewidth\":0,\"ticks\":\"\"},\"colorscale\":[[0.0,\"#0d0887\"],[0.1111111111111111,\"#46039f\"],[0.2222222222222222,\"#7201a8\"],[0.3333333333333333,\"#9c179e\"],[0.4444444444444444,\"#bd3786\"],[0.5555555555555556,\"#d8576b\"],[0.6666666666666666,\"#ed7953\"],[0.7777777777777778,\"#fb9f3a\"],[0.8888888888888888,\"#fdca26\"],[1.0,\"#f0f921\"]],\"type\":\"surface\"}],\"table\":[{\"cells\":{\"fill\":{\"color\":\"#EBF0F8\"},\"line\":{\"color\":\"white\"}},\"header\":{\"fill\":{\"color\":\"#C8D4E3\"},\"line\":{\"color\":\"white\"}},\"type\":\"table\"}]},\"layout\":{\"annotationdefaults\":{\"arrowcolor\":\"#2a3f5f\",\"arrowhead\":0,\"arrowwidth\":1},\"autotypenumbers\":\"strict\",\"coloraxis\":{\"colorbar\":{\"outlinewidth\":0,\"ticks\":\"\"}},\"colorscale\":{\"diverging\":[[0,\"#8e0152\"],[0.1,\"#c51b7d\"],[0.2,\"#de77ae\"],[0.3,\"#f1b6da\"],[0.4,\"#fde0ef\"],[0.5,\"#f7f7f7\"],[0.6,\"#e6f5d0\"],[0.7,\"#b8e186\"],[0.8,\"#7fbc41\"],[0.9,\"#4d9221\"],[1,\"#276419\"]],\"sequential\":[[0.0,\"#0d0887\"],[0.1111111111111111,\"#46039f\"],[0.2222222222222222,\"#7201a8\"],[0.3333333333333333,\"#9c179e\"],[0.4444444444444444,\"#bd3786\"],[0.5555555555555556,\"#d8576b\"],[0.6666666666666666,\"#ed7953\"],[0.7777777777777778,\"#fb9f3a\"],[0.8888888888888888,\"#fdca26\"],[1.0,\"#f0f921\"]],\"sequentialminus\":[[0.0,\"#0d0887\"],[0.1111111111111111,\"#46039f\"],[0.2222222222222222,\"#7201a8\"],[0.3333333333333333,\"#9c179e\"],[0.4444444444444444,\"#bd3786\"],[0.5555555555555556,\"#d8576b\"],[0.6666666666666666,\"#ed7953\"],[0.7777777777777778,\"#fb9f3a\"],[0.8888888888888888,\"#fdca26\"],[1.0,\"#f0f921\"]]},\"colorway\":[\"#636efa\",\"#EF553B\",\"#00cc96\",\"#ab63fa\",\"#FFA15A\",\"#19d3f3\",\"#FF6692\",\"#B6E880\",\"#FF97FF\",\"#FECB52\"],\"font\":{\"color\":\"#2a3f5f\"},\"geo\":{\"bgcolor\":\"white\",\"lakecolor\":\"white\",\"landcolor\":\"#E5ECF6\",\"showlakes\":true,\"showland\":true,\"subunitcolor\":\"white\"},\"hoverlabel\":{\"align\":\"left\"},\"hovermode\":\"closest\",\"mapbox\":{\"style\":\"light\"},\"paper_bgcolor\":\"white\",\"plot_bgcolor\":\"#E5ECF6\",\"polar\":{\"angularaxis\":{\"gridcolor\":\"white\",\"linecolor\":\"white\",\"ticks\":\"\"},\"bgcolor\":\"#E5ECF6\",\"radialaxis\":{\"gridcolor\":\"white\",\"linecolor\":\"white\",\"ticks\":\"\"}},\"scene\":{\"xaxis\":{\"backgroundcolor\":\"#E5ECF6\",\"gridcolor\":\"white\",\"gridwidth\":2,\"linecolor\":\"white\",\"showbackground\":true,\"ticks\":\"\",\"zerolinecolor\":\"white\"},\"yaxis\":{\"backgroundcolor\":\"#E5ECF6\",\"gridcolor\":\"white\",\"gridwidth\":2,\"linecolor\":\"white\",\"showbackground\":true,\"ticks\":\"\",\"zerolinecolor\":\"white\"},\"zaxis\":{\"backgroundcolor\":\"#E5ECF6\",\"gridcolor\":\"white\",\"gridwidth\":2,\"linecolor\":\"white\",\"showbackground\":true,\"ticks\":\"\",\"zerolinecolor\":\"white\"}},\"shapedefaults\":{\"line\":{\"color\":\"#2a3f5f\"}},\"ternary\":{\"aaxis\":{\"gridcolor\":\"white\",\"linecolor\":\"white\",\"ticks\":\"\"},\"baxis\":{\"gridcolor\":\"white\",\"linecolor\":\"white\",\"ticks\":\"\"},\"bgcolor\":\"#E5ECF6\",\"caxis\":{\"gridcolor\":\"white\",\"linecolor\":\"white\",\"ticks\":\"\"}},\"title\":{\"x\":0.05},\"xaxis\":{\"automargin\":true,\"gridcolor\":\"white\",\"linecolor\":\"white\",\"ticks\":\"\",\"title\":{\"standoff\":15},\"zerolinecolor\":\"white\",\"zerolinewidth\":2},\"yaxis\":{\"automargin\":true,\"gridcolor\":\"white\",\"linecolor\":\"white\",\"ticks\":\"\",\"title\":{\"standoff\":15},\"zerolinecolor\":\"white\",\"zerolinewidth\":2}}},\"yaxis\":{\"title\":{\"text\":\"RMSE\"}}},                        {\"responsive\": true}                    ).then(function(){\n",
       "                            \n",
       "var gd = document.getElementById('5807bd55-98fa-4681-9e5f-2c36de79c3ab');\n",
       "var x = new MutationObserver(function (mutations, observer) {{\n",
       "        var display = window.getComputedStyle(gd).display;\n",
       "        if (!display || display === 'none') {{\n",
       "            console.log([gd, 'removed!']);\n",
       "            Plotly.purge(gd);\n",
       "            observer.disconnect();\n",
       "        }}\n",
       "}});\n",
       "\n",
       "// Listen for the removal of the full notebook cells\n",
       "var notebookContainer = gd.closest('#notebook-container');\n",
       "if (notebookContainer) {{\n",
       "    x.observe(notebookContainer, {childList: true});\n",
       "}}\n",
       "\n",
       "// Listen for the clearing of the current output cell\n",
       "var outputEl = gd.closest('.output');\n",
       "if (outputEl) {{\n",
       "    x.observe(outputEl, {childList: true});\n",
       "}}\n",
       "\n",
       "                        })                };                });            </script>        </div>"
      ]
     },
     "metadata": {},
     "output_type": "display_data"
    }
   ],
   "source": [
    "lasso_model.fit(tr, tr['mpg'])\n",
    "models[\"LassoCV\"] = lasso_model\n",
    "compare_models(models)"
   ]
  },
  {
   "cell_type": "markdown",
   "metadata": {},
   "source": [
    "We can examine the distribution of model coefficients to see that Lasso is selecting only a few of the features to use in it's predictions:"
   ]
  },
  {
   "cell_type": "code",
   "execution_count": 45,
   "metadata": {},
   "outputs": [
    {
     "data": {
      "application/vnd.plotly.v1+json": {
       "config": {
        "plotlyServerURL": "https://plot.ly"
       },
       "data": [
        {
         "autobinx": false,
         "histnorm": "probability density",
         "legendgroup": "Lasso",
         "marker": {
          "color": "rgb(31, 119, 180)"
         },
         "name": "Lasso",
         "opacity": 0.7,
         "type": "histogram",
         "x": [
          -0.2988645822136683,
          0.3408157190759778,
          0,
          -5.0775858518346,
          -0.011546218132248353,
          2.50475330358318,
          0,
          0,
          -1.2254666741348454,
          0,
          0,
          0,
          0,
          0,
          0,
          0.8911508709272506,
          0,
          0,
          0,
          0,
          0,
          0,
          0.48261306316596353,
          0,
          0,
          0,
          0,
          0,
          0,
          0.29259736827072497,
          0,
          0,
          0,
          0,
          0,
          0,
          0,
          0,
          0,
          0,
          0,
          0,
          0,
          0,
          0,
          0,
          0,
          0,
          0,
          0,
          0,
          0,
          0,
          0,
          0,
          0,
          0,
          0,
          0,
          0,
          -0.8137493295508568,
          0,
          0,
          0,
          0,
          0,
          0,
          0,
          0,
          0,
          0,
          0,
          0,
          0,
          0,
          0,
          0,
          0,
          0,
          0,
          0,
          0,
          0,
          0,
          0,
          0,
          0,
          0,
          0,
          0,
          0,
          0,
          0.857715591775868,
          0,
          0,
          1.1721102608593408,
          0,
          0,
          0.2887092608544712,
          0,
          0,
          0,
          0,
          0,
          0,
          0,
          0.20926544012577397,
          0,
          0,
          0,
          0,
          0,
          0,
          1.5557826281399485,
          0,
          0,
          5.60868688487343,
          0,
          0,
          0,
          0,
          0,
          0,
          0,
          0,
          0,
          0,
          0,
          0,
          0,
          0,
          -0.5834694165847317,
          0,
          0,
          0,
          0,
          0,
          0,
          0,
          0,
          0,
          0,
          0,
          0,
          0,
          0,
          0,
          0,
          0.5677323661704804,
          0,
          1.6083497158913294,
          1.1672531907630226,
          0,
          -0.6403255347633285,
          0,
          0,
          0,
          0,
          0,
          0,
          0,
          0,
          0,
          0,
          0,
          0,
          0,
          0,
          0,
          0,
          0,
          0,
          0,
          0,
          0,
          0,
          0,
          0,
          -0.40210406095102963,
          0,
          0,
          0,
          0,
          0,
          0,
          0,
          0,
          0,
          0,
          0,
          0,
          0,
          0,
          0,
          0,
          0,
          0,
          0,
          0,
          0,
          0,
          0,
          0,
          0.7072730612261542,
          1.6226804361881382,
          0,
          0,
          0,
          0.4051983255690641,
          0,
          0,
          0,
          0,
          0,
          0,
          1.224714232790628,
          0,
          0,
          -1.1811727255510334,
          -0.003019012500058569,
          0,
          0,
          0,
          0,
          0,
          0,
          0,
          0,
          0,
          0,
          0,
          0,
          0,
          0,
          0,
          0,
          0,
          0,
          0,
          0,
          0,
          0,
          0,
          0,
          0,
          0.19289042452120514,
          0,
          0,
          0,
          0.953787565634395,
          0,
          0,
          0,
          0,
          0,
          0,
          0,
          0,
          0,
          0,
          0,
          0,
          0,
          0,
          6.58090326308205,
          0,
          0,
          0,
          0,
          0
         ],
         "xaxis": "x",
         "xbins": {
          "end": 6.58090326308205,
          "size": 0.1,
          "start": -5.0775858518346
         },
         "yaxis": "y"
        },
        {
         "autobinx": false,
         "histnorm": "probability density",
         "legendgroup": "Ridge",
         "marker": {
          "color": "rgb(255, 127, 14)"
         },
         "name": "Ridge",
         "opacity": 0.7,
         "type": "histogram",
         "x": [
          -1.1129087993451756,
          0.8294144662533005,
          -0.5787984166641863,
          -4.491722023112633,
          -0.32314439645005455,
          2.55284477850727,
          0.6441174358209545,
          0.14095520188850647,
          -0.7850726377095079,
          0.7655534592397895,
          0.35668345877111163,
          -1.5694262616057766,
          0.26227557067195745,
          -0.25740342390756044,
          -0.7824098482842771,
          2.5934921160920803,
          0.5606042947987543,
          -0.45173420352269883,
          -1.2515177116237777,
          -1.256699618979678,
          -0.8399631100452938,
          -0.9115025384574977,
          2.424044813835149,
          0.5895441677218894,
          -1.0812932141466856,
          -1.7078041853217465,
          -0.1499268417109021,
          0.8871041754356641,
          0.6283527413633657,
          1.838178463211789,
          0.5053018276986413,
          1.8475439808285687,
          1.166041725122654,
          -0.2943188274365415,
          -0.8460284506775244,
          -1.1743906199074035,
          0.3875825329008064,
          1.5379256032546311,
          0.7316435087966177,
          -1.8849743338031006,
          -0.38039062781692334,
          -0.08497089850915203,
          1.2408957059769583,
          -0.6753846928418555,
          0.9156462926384432,
          1.3807542463331486,
          -1.8741582993187393,
          -0.30360139530910635,
          -1.042495473341164,
          1.417991869998942,
          -1.7072056935386686,
          1.5472728948675274,
          -0.1227210004053525,
          -1.5950573585055365,
          0.15378752892533948,
          -1.5158020234453644,
          0.3575736927386995,
          0.030330024714697368,
          0.5305137448731897,
          0.5063646604902403,
          -1.3044749851606834,
          -0.9238000638359023,
          -0.8593459950760469,
          -0.8880271347940234,
          -0.6393546630438718,
          -0.21638696058565512,
          0.5305137448731897,
          0.379233638116057,
          -0.9978701583674365,
          0.24931731321947223,
          0.05756227228096078,
          -1.2397454075266032,
          1.2780601949512143,
          -0.10863399808952054,
          -0.21077934012562927,
          -0.29120046811220957,
          -1.8319505334687087,
          -0.049184438276729456,
          1.331981022834703,
          0.38011871476710857,
          -0.5547483724496609,
          -0.47739919910570927,
          -0.01885776832642565,
          2.083607641950537,
          0.5019017353092031,
          1.1648262126906384,
          -0.3326741058271649,
          -0.5674857997056224,
          -0.21335053062709197,
          -0.37947358391750374,
          1.566919870354289,
          -1.252227865051891,
          1.4733934612815118,
          0.29503024327076344,
          -0.39116971003033674,
          1.9506134740656513,
          -1.303957248557789,
          -0.26461410270484037,
          1.1745371841277077,
          0.7332049553667082,
          0.40787226982273206,
          -0.07004096082378566,
          0.964107992029871,
          -0.7510364354349439,
          -0.550702216453831,
          -0.38039062781692334,
          0.5946382945523594,
          1.1556929985030082,
          0.24728461617852499,
          -1.5282662275837333,
          0.8294023660847143,
          -1.0524652240917245,
          0.16304731435786834,
          1.4641369891508154,
          0.15378752892533948,
          1.6818403861388154,
          5.352922139978132,
          0.18684346159247137,
          0.48893787080154943,
          -0.4506482465363275,
          1.389175653431114,
          0.858007667568736,
          0.30880283581316803,
          0.9417726671755917,
          0.5053018276986413,
          0.9156462926384432,
          0.27970006587236246,
          1.046388259836048,
          -1.3612332448925857,
          0.6049897975118408,
          -0.0654331427105454,
          -1.010899622585712,
          0.9579782613824226,
          0.725254378088972,
          -1.3691288925157399,
          1.3807542463331486,
          0.7257446567853505,
          1.6015116018524738,
          -0.13594760851279175,
          0.33530494141202993,
          -1.4934173404771822,
          0.6746094015059423,
          -0.3710643489748804,
          -1.3037552248842899,
          -0.5547483724496609,
          1.1401731485444713,
          0.7316435087966177,
          -0.7704485369412656,
          1.3090641217710992,
          0.5606042947987543,
          1.5022066465150292,
          2.004386612161218,
          -0.15732058294754425,
          -1.1880424085186658,
          0.6165824461464857,
          0.8794436105112443,
          0.18350594168408804,
          -0.6227415537366953,
          0.5190881755161514,
          -0.8512030334431031,
          -1.5624517801768434,
          1.7557378683622877,
          0.47218821530979277,
          -1.7470268311648771,
          -0.4438949512008504,
          -0.8351537643914084,
          0.35668345877111163,
          0.714599433692902,
          0.5244451833779441,
          -0.8487825870093803,
          1.653849861479638,
          -0.0397159499033346,
          -0.6578821407405266,
          0.3870083521742647,
          -1.0429267048069575,
          0.39607691232942444,
          0.3256760080350283,
          -1.0696500851664723,
          -2.498700474833488,
          -0.9746776732691356,
          0.379233638116057,
          -0.570987075150232,
          0.26227557067195745,
          -0.24695538881775614,
          -1.1473221196669303,
          -0.049184438276729456,
          0.23989386642108917,
          0.31849973235516205,
          -1.062969714795758,
          0.6701186728271241,
          0.5128595234322155,
          0.6320329944543267,
          -1.1731659078567338,
          0.03952824119743181,
          -1.2699522862309158,
          0.856571680748086,
          -0.8977872724625975,
          -0.9708116225942955,
          0.19182873460436056,
          0.2336292575061869,
          2.269289902502885,
          -1.2140561129117442,
          0.3471374217527803,
          0.5502602614322686,
          1.2058020229634845,
          -0.0015168394811801988,
          -0.7817080683037941,
          0.0034856782101159167,
          2.0420153760896227,
          0.1869271089993575,
          -0.12300009092941451,
          0.368143250942817,
          -0.4003860901626439,
          -0.19947199021441694,
          -1.1465289568914838,
          1.4463457173646934,
          0.5128595234322155,
          0.15378752892533948,
          -2.3860029596238714,
          -2.498700474833488,
          -1.158228330706665,
          1.4479555874952161,
          -1.8625735900026759,
          -1.2420327374696447,
          -0.04068580996695814,
          0.4388487477205431,
          -0.1454890137237449,
          -0.3416944929344692,
          0.33628752777562243,
          -0.5362284339622325,
          -0.3035575716149574,
          -0.20179091740061325,
          -0.38342993420766974,
          0.2984948984457401,
          -0.16419004276167953,
          -0.32853661451035787,
          -0.13789561006516693,
          1.1217152075846952,
          -0.19947199021441694,
          0.6320329944543267,
          1.644825182046553,
          0.517589442715638,
          0.3595335301023531,
          -0.5868463926732644,
          -0.21638696058565512,
          0.6037975663443774,
          -1.7078041853217465,
          -0.6879302509236632,
          0.649573889916438,
          2.803638279276967,
          1.2247078451686795,
          -0.11110506202544836,
          -0.43781037857885907,
          -0.06382234426582083,
          -1.442881563503808,
          -0.3996679623842611,
          -0.4139565225914455,
          -0.7817080683037941,
          -0.7649194839949696,
          -0.2980471339636057,
          -0.5362284339622325,
          -1.3567671205440002,
          -1.2381446354942645,
          -1.559734913180344,
          4.945017934913417,
          -1.09947213320977,
          0.6634165306117643,
          0.5923170445509921,
          0.6701186728271241,
          -0.8396674041662306
         ],
         "xaxis": "x",
         "xbins": {
          "end": 5.352922139978132,
          "size": 0.1,
          "start": -4.491722023112633
         },
         "yaxis": "y"
        },
        {
         "legendgroup": "Lasso",
         "marker": {
          "color": "rgb(31, 119, 180)"
         },
         "mode": "lines",
         "name": "Lasso",
         "showlegend": false,
         "type": "scatter",
         "x": [
          -5.0775858518346,
          -5.054268873604767,
          -5.030951895374933,
          -5.007634917145101,
          -4.984317938915267,
          -4.961000960685434,
          -4.9376839824556,
          -4.914367004225767,
          -4.891050025995934,
          -4.867733047766101,
          -4.844416069536267,
          -4.821099091306434,
          -4.7977821130766,
          -4.774465134846768,
          -4.751148156616934,
          -4.727831178387101,
          -4.704514200157267,
          -4.681197221927434,
          -4.657880243697601,
          -4.634563265467768,
          -4.611246287237934,
          -4.587929309008101,
          -4.564612330778267,
          -4.541295352548435,
          -4.517978374318601,
          -4.494661396088768,
          -4.471344417858934,
          -4.448027439629101,
          -4.424710461399268,
          -4.401393483169435,
          -4.378076504939601,
          -4.354759526709768,
          -4.331442548479934,
          -4.308125570250101,
          -4.284808592020268,
          -4.261491613790435,
          -4.238174635560601,
          -4.214857657330768,
          -4.191540679100935,
          -4.168223700871102,
          -4.144906722641268,
          -4.121589744411435,
          -4.098272766181601,
          -4.074955787951769,
          -4.0516388097219345,
          -4.028321831492102,
          -4.005004853262268,
          -3.981687875032435,
          -3.9583708968026015,
          -3.9350539185727684,
          -3.9117369403429354,
          -3.888419962113102,
          -3.8651029838832685,
          -3.8417860056534354,
          -3.8184690274236024,
          -3.795152049193769,
          -3.7718350709639354,
          -3.748518092734102,
          -3.725201114504269,
          -3.7018841362744355,
          -3.6785671580446024,
          -3.655250179814769,
          -3.6319332015849355,
          -3.608616223355102,
          -3.585299245125269,
          -3.561982266895436,
          -3.5386652886656025,
          -3.515348310435769,
          -3.4920313322059355,
          -3.4687143539761025,
          -3.445397375746269,
          -3.422080397516436,
          -3.3987634192866025,
          -3.3754464410567695,
          -3.352129462826936,
          -3.328812484597103,
          -3.3054955063672695,
          -3.282178528137436,
          -3.2588615499076026,
          -3.2355445716777695,
          -3.2122275934479365,
          -3.188910615218103,
          -3.1655936369882696,
          -3.142276658758436,
          -3.118959680528603,
          -3.0956427022987696,
          -3.0723257240689366,
          -3.049008745839103,
          -3.0256917676092696,
          -3.0023747893794366,
          -2.979057811149603,
          -2.95574083291977,
          -2.9324238546899366,
          -2.9091068764601036,
          -2.88578989823027,
          -2.8624729200004366,
          -2.839155941770603,
          -2.81583896354077,
          -2.7925219853109366,
          -2.7692050070811036,
          -2.74588802885127,
          -2.722571050621437,
          -2.6992540723916036,
          -2.67593709416177,
          -2.652620115931937,
          -2.6293031377021037,
          -2.6059861594722706,
          -2.582669181242437,
          -2.559352203012604,
          -2.5360352247827707,
          -2.512718246552937,
          -2.4894012683231037,
          -2.4660842900932707,
          -2.442767311863437,
          -2.419450333633604,
          -2.3961333554037707,
          -2.3728163771739377,
          -2.3494993989441038,
          -2.3261824207142707,
          -2.3028654424844373,
          -2.2795484642546042,
          -2.256231486024771,
          -2.2329145077949377,
          -2.2095975295651047,
          -2.186280551335271,
          -2.1629635731054377,
          -2.1396465948756043,
          -2.1163296166457712,
          -2.0930126384159378,
          -2.0696956601861047,
          -2.0463786819562713,
          -2.0230617037264382,
          -1.9997447254966043,
          -1.9764277472667713,
          -1.9531107690369378,
          -1.9297937908071048,
          -1.9064768125772713,
          -1.8831598343474383,
          -1.8598428561176048,
          -1.8365258778877718,
          -1.8132088996579379,
          -1.7898919214281048,
          -1.7665749431982718,
          -1.7432579649684383,
          -1.7199409867386053,
          -1.6966240085087718,
          -1.6733070302789388,
          -1.6499900520491049,
          -1.6266730738192718,
          -1.6033560955894384,
          -1.5800391173596053,
          -1.5567221391297719,
          -1.5334051608999388,
          -1.5100881826701054,
          -1.4867712044402723,
          -1.4634542262104384,
          -1.4401372479806054,
          -1.416820269750772,
          -1.3935032915209389,
          -1.3701863132911054,
          -1.3468693350612724,
          -1.3235523568314393,
          -1.3002353786016054,
          -1.2769184003717724,
          -1.253601422141939,
          -1.230284443912106,
          -1.2069674656822724,
          -1.1836504874524394,
          -1.160333509222606,
          -1.137016530992773,
          -1.113699552762939,
          -1.090382574533106,
          -1.067065596303273,
          -1.0437486180734394,
          -1.020431639843606,
          -0.9971146616137725,
          -0.973797683383939,
          -0.9504807051541064,
          -0.927163726924273,
          -0.9038467486944395,
          -0.880529770464606,
          -0.8572127922347725,
          -0.83389581400494,
          -0.8105788357751065,
          -0.787261857545273,
          -0.7639448793154395,
          -0.7406279010856069,
          -0.7173109228557735,
          -0.69399394462594,
          -0.6706769663961065,
          -0.647359988166273,
          -0.6240430099364405,
          -0.6007260317066061,
          -0.5774090534767735,
          -0.55409207524694,
          -0.5307750970171075,
          -0.5074581187872731,
          -0.4841411405574396,
          -0.46082416232760703,
          -0.43750718409777356,
          -0.4141902058679401,
          -0.3908732276381066,
          -0.367556249408274,
          -0.34423927117844055,
          -0.3209222929486071,
          -0.2976053147187736,
          -0.27428833648894013,
          -0.25097135825910755,
          -0.22765438002927407,
          -0.2043374017994406,
          -0.18102042356960713,
          -0.15770344533977365,
          -0.13438646710994107,
          -0.1110694888801067,
          -0.08775251065027412,
          -0.06443553242044064,
          -0.04111855419060806,
          -0.017801575960773697,
          0.005515402269058889,
          0.028832380498892363,
          0.052149358728725836,
          0.07546633695855931,
          0.09878331518839278,
          0.12210029341822537,
          0.14541727164805884,
          0.16873424987789143,
          0.1920512281077258,
          0.21536820633755926,
          0.23868518456739185,
          0.2620021627972253,
          0.2853191410270588,
          0.30863611925689227,
          0.33195309748672486,
          0.35527007571655833,
          0.3785870539463927,
          0.4019040321762253,
          0.42522101040605875,
          0.44853798863589134,
          0.4718549668657257,
          0.4951719450955583,
          0.5184889233253918,
          0.5418059015552252,
          0.5651228797850578,
          0.5884398580148922,
          0.6117568362447248,
          0.6350738144745582,
          0.6583907927043908,
          0.6817077709342252,
          0.7050247491640578,
          0.7283417273938912,
          0.7516587056237247,
          0.7749756838535582,
          0.7982926620833917,
          0.8216096403132243,
          0.8449266185430577,
          0.8682435967728912,
          0.8915605750027247,
          0.9148775532325581,
          0.9381945314623907,
          0.9615115096922251,
          0.9848284879220577,
          1.0081454661518912,
          1.0314624443817237,
          1.0547794226115572,
          1.0780964008413916,
          1.1014133790712242,
          1.1247303573010576,
          1.1480473355308902,
          1.1713643137607246,
          1.1946812919905572,
          1.2179982702203906,
          1.2413152484502232,
          1.2646322266800576,
          1.287949204909891,
          1.3112661831397237,
          1.3345831613695571,
          1.3579001395993906,
          1.381217117829224,
          1.4045340960590567,
          1.4278510742888901,
          1.4511680525187245,
          1.474485030748557,
          1.4978020089783906,
          1.5211189872082231,
          1.5444359654380566,
          1.56775294366789,
          1.5910699218977236,
          1.614386900127557,
          1.6377038783573896,
          1.661020856587224,
          1.6843378348170566,
          1.70765481304689,
          1.7309717912767226,
          1.754288769506557,
          1.7776057477363905,
          1.800922725966223,
          1.8242397041960565,
          1.84755668242589,
          1.8708736606557235,
          1.894190638885556,
          1.9175076171153895,
          1.940824595345223,
          1.9641415735750565,
          1.98745855180489,
          2.0107755300347225,
          2.034092508264556,
          2.0574094864943895,
          2.080726464724223,
          2.1040434429540555,
          2.127360421183889,
          2.1506773994137234,
          2.173994377643556,
          2.1973113558733894,
          2.220628334103222,
          2.2439453123330564,
          2.267262290562889,
          2.2905792687927224,
          2.313896247022556,
          2.3372132252523894,
          2.360530203482223,
          2.3838471817120555,
          2.407164159941889,
          2.4304811381717215,
          2.453798116401556,
          2.4771150946313893,
          2.500432072861222,
          2.5237490510910554,
          2.547066029320889,
          2.5703830075507224,
          2.593699985780555,
          2.6170169640103884,
          2.640333942240222,
          2.6636509204700554,
          2.686967898699889,
          2.7102848769297214,
          2.733601855159556,
          2.7569188333893884,
          2.780235811619222,
          2.8035527898490544,
          2.826869768078889,
          2.8501867463087223,
          2.873503724538555,
          2.8968207027683883,
          2.920137680998221,
          2.9434546592280544,
          2.966771637457887,
          2.9900886156877213,
          3.0134055939175557,
          3.0367225721473883,
          3.060039550377221,
          3.0833565286070552,
          3.106673506836888,
          3.129990485066722,
          3.153307463296553,
          3.1766244415263873,
          3.1999414197562217,
          3.2232583979860543,
          3.2465753762158887,
          3.2698923544457212,
          3.293209332675554,
          3.316526310905388,
          3.3398432891352208,
          3.363160267365055,
          3.3864772455948877,
          3.4097942238247203,
          3.4331112020545547,
          3.4564281802843873,
          3.47974515851422,
          3.503062136744054,
          3.526379114973887,
          3.549696093203721,
          3.5730130714335555,
          3.5963300496633863,
          3.6196470278932207,
          3.6429640061230533,
          3.6662809843528876,
          3.68959796258272,
          3.712914940812553,
          3.736231919042387,
          3.7595488972722215,
          3.782865875502054,
          3.8061828537318867,
          3.8294998319617193,
          3.8528168101915536,
          3.876133788421388,
          3.8994507666512206,
          3.922767744881053,
          3.9460847231108858,
          3.96940170134072,
          3.9927186795705545,
          4.016035657800385,
          4.03935263603022,
          4.062669614260054,
          4.085986592489887,
          4.109303570719721,
          4.132620548949552,
          4.155937527179386,
          4.1792545054092205,
          4.202571483639053,
          4.225888461868886,
          4.24920544009872,
          4.272522418328553,
          4.295839396558387,
          4.31915637478822,
          4.342473353018052,
          4.3657903312478865,
          4.389107309477719,
          4.4124242877075535,
          4.435741265937386,
          4.459058244167219,
          4.482375222397053,
          4.505692200626886,
          4.52900917885672,
          4.5523261570865525,
          4.575643135316385,
          4.5989601135462195,
          4.622277091776052,
          4.645594070005886,
          4.668911048235719,
          4.692228026465552,
          4.715545004695386,
          4.73886198292522,
          4.762178961155053,
          4.7854959393848855,
          4.808812917614718,
          4.832129895844552,
          4.855446874074387,
          4.878763852304218,
          4.902080830534052,
          4.9253978087638846,
          4.948714786993719,
          4.972031765223553,
          4.995348743453384,
          5.0186657216832185,
          5.041982699913053,
          5.065299678142885,
          5.088616656372718,
          5.111933634602551,
          5.135250612832385,
          5.158567591062219,
          5.181884569292052,
          5.2052015475218845,
          5.228518525751719,
          5.251835503981551,
          5.275152482211386,
          5.298469460441218,
          5.321786438671051,
          5.345103416900885,
          5.368420395130718,
          5.391737373360552,
          5.415054351590383,
          5.438371329820217,
          5.461688308050052,
          5.485005286279884,
          5.508322264509719,
          5.531639242739551,
          5.554956220969384,
          5.578273199199218,
          5.601590177429051,
          5.624907155658883,
          5.648224133888718,
          5.67154111211855,
          5.694858090348385,
          5.718175068578219,
          5.74149204680805,
          5.764809025037884,
          5.788126003267717,
          5.811442981497551,
          5.834759959727386,
          5.858076937957216,
          5.881393916187051,
          5.904710894416883,
          5.928027872646718,
          5.95134485087655,
          5.974661829106383,
          5.997978807336217,
          6.021295785566052,
          6.044612763795884,
          6.067929742025717,
          6.091246720255549,
          6.114563698485384,
          6.137880676715218,
          6.161197654945051,
          6.184514633174883,
          6.207831611404716,
          6.23114858963455,
          6.254465567864385,
          6.277782546094215,
          6.30109952432405,
          6.324416502553884,
          6.347733480783717,
          6.371050459013551,
          6.394367437243382,
          6.417684415473216,
          6.441001393703051,
          6.464318371932883,
          6.487635350162716,
          6.51095232839255,
          6.534269306622383,
          6.557586284852217
         ],
         "xaxis": "x",
         "y": [
          0.006616081736722875,
          0.006580119927529637,
          0.006473403081428295,
          0.0062993738828217745,
          0.006063564685837939,
          0.005773305490885266,
          0.0054373458303686095,
          0.005065417751983033,
          0.0046677702744351126,
          0.004254706179480353,
          0.0038361498918527306,
          0.0034212708456284914,
          0.0030181807094342285,
          0.002633715839020408,
          0.002273309078339483,
          0.0019409482267942703,
          0.0016392126995643849,
          0.0013693755303778063,
          0.0011315551102886903,
          0.0009248999407728124,
          0.0007477900584304824,
          0.0005980403908663194,
          0.0004730937823548937,
          0.0003701944114013902,
          0.00028653545649948034,
          0.0002193778501660345,
          0.000166139567829298,
          0.00012445698352755863,
          0.00009222132531933085,
          0.00006759418589819749,
          0.00004900644716664106,
          0.00003514495481761157,
          0.00002493094004376305,
          0.000017493641143500693,
          0.00001214192837283174,
          0.000008336063494206584,
          0.000005661092555065647,
          0.000003802816686979963,
          0.0000025268323052583157,
          0.0000016607847353946941,
          0.000001079732471675789,
          6.94360287891495e-7,
          4.416919465528927e-7,
          2.77920115187502e-7,
          1.729762093275745e-7,
          1.0649241211200398e-7,
          6.485102532501275e-8,
          3.906437890304425e-8,
          2.327613646180319e-8,
          1.3718504175147181e-8,
          7.997762789656214e-9,
          4.612072996147417e-9,
          2.6308114284919975e-9,
          1.4843939014402109e-9,
          8.284656324411353e-10,
          4.573679486974666e-10,
          2.497599800007706e-10,
          1.3491053640266258e-10,
          7.208332002970071e-11,
          3.809689558514374e-11,
          1.9916374687939757e-11,
          1.0299043267898388e-11,
          5.268043730412113e-12,
          2.6654329016011684e-12,
          1.3339883328950525e-12,
          6.603926063806031e-13,
          3.233838056299196e-13,
          1.5663911723506707e-13,
          7.504954790389508e-14,
          3.5568195137342145e-14,
          1.6674064218804084e-14,
          7.731913842901897e-15,
          3.5464875379324964e-15,
          1.6090731020045931e-15,
          7.221361247767582e-16,
          3.2057426542472983e-16,
          1.4076883946912664e-16,
          6.114554837049215e-17,
          2.627709564943078e-17,
          1.1183854383638101e-17,
          4.743569988956414e-18,
          2.078881800840711e-18,
          1.1209006121392232e-18,
          1.1129536521806332e-18,
          2.053715183292453e-18,
          4.7006014092127466e-18,
          1.113937155945891e-17,
          2.6317474826924275e-17,
          6.15856933155569e-17,
          1.4259341680592324e-16,
          3.2660760505083083e-16,
          7.400276318064123e-16,
          1.6586802503632854e-15,
          3.677651088045257e-15,
          8.066252151840045e-15,
          1.750116020407071e-14,
          3.756263308287221e-14,
          7.975165877807894e-14,
          1.6750134540807466e-13,
          3.480103199339613e-13,
          7.15256090872012e-13,
          1.4542095672772044e-12,
          2.9247502945366265e-12,
          5.818986172967084e-12,
          1.145257030567087e-11,
          2.229749581787284e-11,
          4.294445279712048e-11,
          8.181939945386193e-11,
          1.542070072005604e-10,
          2.875086475457374e-10,
          5.302700179342624e-10,
          9.674821615541222e-10,
          1.7461798400221235e-9,
          3.11770816548989e-9,
          5.506590940214423e-9,
          9.6212481439292e-9,
          1.6629593806577866e-8,
          2.8433732678178708e-8,
          4.8093735079837274e-8,
          8.047220922563225e-8,
          1.3320070536640095e-7,
          2.1810755565077897e-7,
          3.532961407373796e-7,
          5.661239067247666e-7,
          8.974059625400086e-7,
          0.0000014072514755061637,
          0.0000021830327628226762,
          0.0000033500791809407883,
          0.00000508576978901005,
          0.0000076377545832659,
          0.00001134704282327343,
          0.000016676632384987,
          0.0000242461858515372,
          0.00003487295501367378,
          0.00004961868529149791,
          0.00006984157214497316,
          0.00009725148348986814,
          0.0001339656176603784,
          0.0001825605770447709,
          0.00024611558064603054,
          0.00032824033196790454,
          0.00043308005883875426,
          0.0005652896390665527,
          0.0007299687291079407,
          0.0009325506281669785,
          0.001178639411109861,
          0.0014737927578310553,
          0.0018232519002111158,
          0.00223162507368064,
          0.0027025365177443038,
          0.0032382589788493518,
          0.0038393532477856126,
          0.004504342829516548,
          0.005229454677693758,
          0.006008457360798602,
          0.006832625540406139,
          0.0076908539557386715,
          0.00856993526717635,
          0.0094550045332918,
          0.010330139581679483,
          0.011179092222818212,
          0.011986111532946953,
          0.012736808787187795,
          0.013419005486543135,
          0.014023502481469073,
          0.01454471024026659,
          0.014981088112836213,
          0.01533535369163623,
          0.015614441201408626,
          0.015829208914541905,
          0.015993918230926805,
          0.01612552950575321,
          0.016242880283236637,
          0.016365828926784183,
          0.01651445980467458,
          0.016708454795805888,
          0.016966740025439214,
          0.01730751691280114,
          0.017748783475279813,
          0.018309445959907265,
          0.019011112444037363,
          0.019880648575612878,
          0.02095355973956023,
          0.02227824129997421,
          0.023921105948141688,
          0.025972550759826893,
          0.028553662443255207,
          0.03182347425545537,
          0.035986480659887375,
          0.041299987227141226,
          0.04808072861100625,
          0.05671003646367435,
          0.06763669691833203,
          0.08137652390487918,
          0.09850761435966464,
          0.1196602708218952,
          0.1455007016820195,
          0.17670786053051138,
          0.21394317566265134,
          0.2578134473257947,
          0.30882783494375843,
          0.36735058087030603,
          0.4335518630141846,
          0.5073598607283679,
          0.5884176702817905,
          0.6760490292813948,
          0.7692368235254592,
          0.8666179956785925,
          0.9664977258923927,
          1.06688462443025,
          1.165547226033757,
          1.2600904110851545,
          1.3480486436638086,
          1.4269912803501903,
          1.4946338417512908,
          1.5489482124848257,
          1.5882643705894048,
          1.6113565163449706,
          1.617507379886312,
          1.6065459733965501,
          1.578855988459432,
          1.5353542418886192,
          1.4774408322503707,
          1.4069247660072979,
          1.325930547542597,
          1.2367924442690004,
          1.1419437390272835,
          1.0438082381504374,
          0.9447006549373178,
          0.8467413353906341,
          0.7517892815766102,
          0.6613957287080307,
          0.5767788196743846,
          0.4988183537224427,
          0.42806829066495855,
          0.3647837522121622,
          0.3089587151416616,
          0.26037043000377325,
          0.21862677953838716,
          0.18321324173994952,
          0.1535367574786197,
          0.12896453260830737,
          0.10885654740004888,
          0.09259123420319162,
          0.07958436852766711,
          0.06930167047875907,
          0.061265922812357446,
          0.05505958480079721,
          0.05032393524458346,
          0.04675573809299432,
          0.044102317874070894,
          0.04215578642988204,
          0.04074700097244314,
          0.039739675007132894,
          0.03902492145660806,
          0.038516389157152976,
          0.03814606280328702,
          0.03786073161719714,
          0.03761909012705366,
          0.037389410593927086,
          0.03714771553342302,
          0.03687637552592105,
          0.036563058156493765,
          0.03619995581602613,
          0.0357832219267144,
          0.03531254683226243,
          0.03479080691255909,
          0.03422372471775069,
          0.03361948536929849,
          0.032988266065480394,
          0.03234165148163575,
          0.031691927535071954,
          0.03105126789180085,
          0.030430849528138345,
          0.02983995302553768,
          0.02928511746013721,
          0.028769426537744888,
          0.028292000580298807,
          0.027847757692668687,
          0.027427487695818653,
          0.027018256092056155,
          0.02660412523204171,
          0.026167149353495622,
          0.025688572772044442,
          0.02515013942833267,
          0.024535409712532045,
          0.02383097844135282,
          0.02302749628784714,
          0.022120414874430352,
          0.021110401075379693,
          0.020003395985982757,
          0.01881032523140521,
          0.017546496528659243,
          0.016230744778097713,
          0.014884402243819605,
          0.013530180293969076,
          0.01219104941830073,
          0.010889196482516593,
          0.009645123878440003,
          0.008476936412358442,
          0.007399840752003681,
          0.006425861337718543,
          0.005563757915796011,
          0.0048191148862136105,
          0.004194562520960711,
          0.003690085241507534,
          0.0033033724022611607,
          0.0030301717726631755,
          0.0028646141328794762,
          0.0027994878555529304,
          0.002826453711339039,
          0.002936201127185073,
          0.003118556618425995,
          0.003362562225003794,
          0.0036565459229913645,
          0.003988206897246145,
          0.0043447363222171185,
          0.004712989287419045,
          0.005079716367929111,
          0.0054318549235406665,
          0.005756871474675755,
          0.00604313843300881,
          0.006280321967980669,
          0.006459753604842083,
          0.006574756764227547,
          0.00662090105264905,
          0.006596161557415769,
          0.006500967237546454,
          0.0063381310243579144,
          0.006112663565080335,
          0.005831481700567589,
          0.005503030842991815,
          0.005136846633847989,
          0.004743085067211052,
          0.004332051390216119,
          0.0039137565726859195,
          0.0034975262785434153,
          0.0030916816045389074,
          0.0027033040545586585,
          0.002338090025261526,
          0.0020002931951213685,
          0.0016927472318322052,
          0.0014169565991690202,
          0.001173240200664487,
          0.000960911198464474,
          0.0007784764745952502,
          0.0006238406084270505,
          0.0004945015929022317,
          0.00038772843267054175,
          0.00030071389999349903,
          0.00023069875659283408,
          0.00017506644009726506,
          0.00013140940320166997,
          0.00009756990457769149,
          0.00007165907738034534,
          0.00005205859451521594,
          0.000037409298096543185,
          0.00002659087171876089,
          0.000018696119888850832,
          0.000013002782195976174,
          0.000008945136779529297,
          0.000006087003867298225,
          0.000004097189619898929,
          0.0000027279376763218954,
          0.0000017965889259213034,
          0.000001170385376701522,
          7.541798928509908e-7,
          4.807141503845993e-7,
          3.0308521911364606e-7,
          1.8902032353575148e-7,
          1.1660525991337068e-7,
          7.115307516469583e-8,
          4.29472244564797e-8,
          2.5641440731984805e-8,
          1.5143129598538048e-8,
          8.846159160335306e-9,
          5.111634031724612e-9,
          2.921666568185226e-9,
          1.6518379667101267e-9,
          9.237833562188909e-10,
          5.110209757742236e-10,
          2.7962323622074214e-10,
          1.5134701735770058e-10,
          8.10291260226934e-11,
          4.291189436876218e-11,
          2.247990189160495e-11,
          1.1650325009463893e-11,
          5.9759614822439655e-12,
          3.0398432503714695e-12,
          1.5460994670757567e-12,
          8.127816038841467e-13,
          4.947938925555056e-13,
          4.3896693301032586e-13,
          6.181034794271554e-13,
          1.1191258813402089e-12,
          2.18079729092989e-12,
          4.295361399199424e-12,
          8.411951614779492e-12,
          1.6315068011214344e-11,
          3.1309133531653404e-11,
          5.94358119966358e-11,
          1.116087037603864e-10,
          2.0730769358702629e-10,
          3.808895381180649e-10,
          6.922271838438563e-10,
          1.2444119437835473e-9,
          2.212817464547164e-9,
          3.8921798980556e-9,
          6.771831053373118e-9,
          1.1654273829232888e-8,
          1.9839476835732528e-8,
          3.3407279256393626e-8,
          5.564394251628217e-8,
          9.167703801768074e-8,
          1.4940638142424205e-7,
          2.4084831685900694e-7,
          3.8404664721981295e-7,
          6.057455530017962e-7,
          9.450665353194172e-7,
          0.0000014584798381831853,
          0.000002226406025772028,
          0.000003361818027614401,
          0.000005021227849016191,
          0.000007418422263080758,
          0.000010841242663296077,
          0.00001567156884941843,
          0.0000224084480056848,
          0.00003169399436589962,
          0.00004434126392290284,
          0.00006136278388393317,
          0.00008399780443377975,
          0.00011373567482864287,
          0.00015233208177881563,
          0.00020181430183820992,
          0.0002644712066335208,
          0.0003428236288834413,
          0.0004395709598061311,
          0.0005575106048541857,
          0.000699428246213833,
          0.0008679587712600922,
          0.0010654201854717392,
          0.0012936257175808802,
          0.0015536824420176371,
          0.0018457878088439167,
          0.0021690381435912056,
          0.0025212650878392215,
          0.0028989167365791615,
          0.0032969995912240316,
          0.00370909519867617,
          0.004127461452490033,
          0.004543223141659462,
          0.004946649789739067,
          0.005327511654163068,
          0.005675497611498567,
          0.0059806722684142425,
          0.006233944727938827,
          0.006427518622528582,
          0.00655529273111849,
          0.006613183907803408,
          0.006599349058798219,
          0.006514290116860181,
          0.006360834730803059,
          0.006143994881642708,
          0.005870714937578767,
          0.005549528867027871,
          0.005190152664129525,
          0.004803041935858018,
          0.004398945753924885,
          0.00398848628039353,
          0.0035817896055596976,
          0.003188187196899305,
          0.0028160000201539965,
          0.002472409510939776,
          0.002163411897922029,
          0.0018938455793443229,
          0.0016674758715936808,
          0.001487117849738004,
          0.0013547763712658885,
          0.0012717827255759712,
          0.001238909538512432,
          0.0012564493135414523,
          0.0013242469455821964,
          0.0014416822731699846,
          0.001607604775681279,
          0.0018202283969601426,
          0.0020769997144296356,
          0.002374456832896322,
          0.0027080990789866695,
          0.0030722885037872006,
          0.003460203181757731,
          0.0038638592835563237,
          0.004274214029758174,
          0.004681355214592187,
          0.005074775512782781,
          0.005443721885210403,
          0.0057776028143239795,
          0.006066429588919613,
          0.006301263125384017,
          0.006474635423858675,
          0.006580915062723843
         ],
         "yaxis": "y"
        },
        {
         "legendgroup": "Ridge",
         "marker": {
          "color": "rgb(255, 127, 14)"
         },
         "mode": "lines",
         "name": "Ridge",
         "showlegend": false,
         "type": "scatter",
         "x": [
          -4.491722023112633,
          -4.472032734786452,
          -4.45234344646027,
          -4.432654158134088,
          -4.412964869807907,
          -4.393275581481725,
          -4.373586293155544,
          -4.353897004829363,
          -4.3342077165031805,
          -4.314518428176999,
          -4.294829139850818,
          -4.275139851524636,
          -4.255450563198455,
          -4.235761274872273,
          -4.216071986546091,
          -4.19638269821991,
          -4.176693409893728,
          -4.157004121567547,
          -4.137314833241366,
          -4.1176255449151835,
          -4.097936256589002,
          -4.078246968262821,
          -4.058557679936639,
          -4.038868391610458,
          -4.0191791032842765,
          -3.999489814958095,
          -3.979800526631913,
          -3.9601112383057315,
          -3.94042194997955,
          -3.9207326616533686,
          -3.901043373327187,
          -3.8813540850010053,
          -3.861664796674824,
          -3.8419755083486424,
          -3.8222862200224608,
          -3.8025969316962795,
          -3.782907643370098,
          -3.763218355043916,
          -3.743529066717735,
          -3.7238397783915533,
          -3.7041504900653717,
          -3.6844612017391905,
          -3.664771913413009,
          -3.645082625086827,
          -3.625393336760646,
          -3.6057040484344642,
          -3.5860147601082826,
          -3.566325471782101,
          -3.5466361834559192,
          -3.526946895129738,
          -3.5072576068035564,
          -3.4875683184773747,
          -3.4678790301511935,
          -3.448189741825012,
          -3.42850045349883,
          -3.408811165172649,
          -3.3891218768464673,
          -3.3694325885202856,
          -3.3497433001941044,
          -3.3300540118679227,
          -3.310364723541741,
          -3.29067543521556,
          -3.270986146889378,
          -3.2512968585631965,
          -3.2316075702370153,
          -3.2119182819108336,
          -3.192228993584652,
          -3.1725397052584707,
          -3.1528504169322886,
          -3.1331611286061074,
          -3.113471840279926,
          -3.093782551953744,
          -3.074093263627563,
          -3.054403975301381,
          -3.0347146869751995,
          -3.0150253986490183,
          -2.9953361103228366,
          -2.975646821996655,
          -2.9559575336704738,
          -2.936268245344292,
          -2.9165789570181104,
          -2.896889668691929,
          -2.8772003803657475,
          -2.857511092039566,
          -2.8378218037133847,
          -2.818132515387203,
          -2.7984432270610213,
          -2.77875393873484,
          -2.7590646504086584,
          -2.739375362082477,
          -2.7196860737562956,
          -2.6999967854301135,
          -2.6803074971039322,
          -2.660618208777751,
          -2.640928920451569,
          -2.6212396321253877,
          -2.601550343799206,
          -2.5818610554730244,
          -2.562171767146843,
          -2.5424824788206615,
          -2.52279319049448,
          -2.5031039021682986,
          -2.483414613842117,
          -2.4637253255159353,
          -2.4440360371897536,
          -2.4243467488635724,
          -2.4046574605373907,
          -2.3849681722112095,
          -2.365278883885028,
          -2.345589595558846,
          -2.325900307232665,
          -2.3062110189064833,
          -2.2865217305803016,
          -2.26683244225412,
          -2.2471431539279387,
          -2.227453865601757,
          -2.2077645772755754,
          -2.188075288949394,
          -2.1683860006232125,
          -2.148696712297031,
          -2.1290074239708496,
          -2.109318135644668,
          -2.0896288473184863,
          -2.0699395589923046,
          -2.0502502706661234,
          -2.0305609823399418,
          -2.01087169401376,
          -1.9911824056875789,
          -1.9714931173613972,
          -1.9518038290352155,
          -1.9321145407090343,
          -1.9124252523828527,
          -1.892735964056671,
          -1.8730466757304898,
          -1.853357387404308,
          -1.8336680990781264,
          -1.8139788107519448,
          -1.7942895224257636,
          -1.774600234099582,
          -1.7549109457734002,
          -1.735221657447219,
          -1.7155323691210373,
          -1.6958430807948557,
          -1.6761537924686745,
          -1.6564645041424928,
          -1.6367752158163111,
          -1.6170859274901295,
          -1.5973966391639483,
          -1.5777073508377666,
          -1.558018062511585,
          -1.5383287741854037,
          -1.518639485859222,
          -1.4989501975330404,
          -1.4792609092068592,
          -1.4595716208806775,
          -1.4398823325544958,
          -1.4201930442283146,
          -1.400503755902133,
          -1.3808144675759513,
          -1.3611251792497696,
          -1.3414358909235884,
          -1.3217466025974067,
          -1.302057314271225,
          -1.2823680259450438,
          -1.2626787376188622,
          -1.2429894492926805,
          -1.2233001609664993,
          -1.2036108726403176,
          -1.183921584314136,
          -1.1642322959879543,
          -1.144543007661773,
          -1.1248537193355914,
          -1.1051644310094098,
          -1.0854751426832285,
          -1.0657858543570469,
          -1.0460965660308652,
          -1.026407277704684,
          -1.0067179893785023,
          -0.9870287010523207,
          -0.9673394127261394,
          -0.9476501243999578,
          -0.9279608360737761,
          -0.9082715477475944,
          -0.8885822594214132,
          -0.8688929710952316,
          -0.8492036827690499,
          -0.8295143944428687,
          -0.809825106116687,
          -0.7901358177905053,
          -0.7704465294643241,
          -0.7507572411381425,
          -0.7310679528119608,
          -0.7113786644857791,
          -0.6916893761595979,
          -0.6720000878334162,
          -0.6523107995072346,
          -0.6326215111810534,
          -0.6129322228548717,
          -0.59324293452869,
          -0.5735536462025088,
          -0.5538643578763272,
          -0.5341750695501455,
          -0.5144857812239643,
          -0.4947964928977826,
          -0.47510720457160094,
          -0.45541791624541883,
          -0.4357286279192376,
          -0.4160393395930564,
          -0.3963500512668743,
          -0.37666076294069306,
          -0.35697147461451184,
          -0.33728218628832973,
          -0.3175928979621485,
          -0.2979036096359664,
          -0.2782143213097861,
          -0.25852503298360396,
          -0.23883574465742274,
          -0.21914645633124064,
          -0.19945716800505942,
          -0.1797678796788773,
          -0.16007859135269698,
          -0.14038930302651487,
          -0.12070001470033365,
          -0.10101072637415154,
          -0.08132143804797032,
          -0.06163214972178821,
          -0.04194286139560699,
          -0.02225357306942577,
          -0.0025642847432445492,
          0.01712500358293756,
          0.03681429190911878,
          0.05650358023530089,
          0.07619286856148211,
          0.09588215688766422,
          0.11557144521384455,
          0.13526073354002666,
          0.15495002186620788,
          0.17463931019238998,
          0.1943285985185712,
          0.2140178868447533,
          0.23370717517093365,
          0.25339646349711575,
          0.273085751823297,
          0.2927750401494791,
          0.3124643284756603,
          0.3321536168018424,
          0.35184290512802363,
          0.37153219345420485,
          0.39122148178038607,
          0.4109107701065682,
          0.4306000584327494,
          0.4502893467589315,
          0.46997863508511273,
          0.48966792341129395,
          0.5093572117374752,
          0.5290465000636573,
          0.5487357883898385,
          0.5684250767160206,
          0.5881143650422018,
          0.6078036533683839,
          0.6274929416945643,
          0.6471822300207464,
          0.6668715183469276,
          0.6865608066731097,
          0.7062500949992909,
          0.725939383325473,
          0.7456286716516534,
          0.7653179599778355,
          0.7850072483040167,
          0.8046965366301988,
          0.82438582495638,
          0.8440751132825621,
          0.8637644016087433,
          0.8834536899349246,
          0.9031429782611058,
          0.9228322665872879,
          0.9425215549134691,
          0.9622108432396512,
          0.9819001315658324,
          1.0015894198920137,
          1.0212787082181949,
          1.040967996544377,
          1.0606572848705582,
          1.0803465731967403,
          1.1000358615229215,
          1.1197251498491037,
          1.139414438175284,
          1.159103726501466,
          1.1787930148276473,
          1.1984823031538294,
          1.2181715914800106,
          1.2378608798061927,
          1.257550168132374,
          1.2772394564585552,
          1.2969287447847364,
          1.3166180331109185,
          1.3363073214370997,
          1.3559966097632818,
          1.375685898089463,
          1.3953751864156443,
          1.4150644747418255,
          1.4347537630680076,
          1.4544430513941888,
          1.474132339720371,
          1.4938216280465522,
          1.5135109163727343,
          1.5332002046989146,
          1.5528894930250967,
          1.572578781351278,
          1.59226806967746,
          1.6119573580036413,
          1.6316466463298234,
          1.6513359346560037,
          1.6710252229821858,
          1.690714511308367,
          1.7104037996345491,
          1.7300930879607304,
          1.7497823762869125,
          1.7694716646130937,
          1.789160952939275,
          1.8088502412654561,
          1.8285395295916382,
          1.8482288179178195,
          1.8679181062440016,
          1.8876073945701828,
          1.907296682896364,
          1.9269859712225452,
          1.9466752595487273,
          1.9663645478749086,
          1.9860538362010907,
          2.005743124527272,
          2.025432412853454,
          2.0451217011796343,
          2.0648109895058164,
          2.0845002778319976,
          2.1041895661581798,
          2.123878854484361,
          2.143568142810543,
          2.1632574311367243,
          2.1829467194629055,
          2.2026360077890867,
          2.222325296115269,
          2.24201458444145,
          2.261703872767632,
          2.2813931610938134,
          2.3010824494199946,
          2.320771737746176,
          2.340461026072358,
          2.360150314398539,
          2.3798396027247213,
          2.3995288910509025,
          2.4192181793770846,
          2.438907467703265,
          2.458596756029447,
          2.4782860443556283,
          2.4979753326818104,
          2.5176646210079916,
          2.5373539093341737,
          2.557043197660354,
          2.576732485986536,
          2.5964217743127174,
          2.6161110626388995,
          2.6358003509650807,
          2.655489639291263,
          2.675178927617444,
          2.6948682159436252,
          2.7145575042698065,
          2.7342467925959886,
          2.75393608092217,
          2.773625369248352,
          2.793314657574533,
          2.8130039459007143,
          2.8326932342268956,
          2.8523825225530777,
          2.872071810879259,
          2.891761099205441,
          2.911450387531622,
          2.9311396758578043,
          2.9508289641839847,
          2.9705182525101668,
          2.990207540836348,
          3.00989682916253,
          3.0295861174887113,
          3.0492754058148934,
          3.0689646941410746,
          3.088653982467256,
          3.108343270793437,
          3.128032559119619,
          3.1477218474458004,
          3.1674111357719825,
          3.1871004240981637,
          3.206789712424345,
          3.226479000750526,
          3.2461682890767083,
          3.2658575774028895,
          3.2855468657290716,
          3.305236154055253,
          3.324925442381435,
          3.3446147307076153,
          3.3643040190337974,
          3.3839933073599786,
          3.4036825956861607,
          3.423371884012342,
          3.443061172338524,
          3.4627504606647044,
          3.4824397489908865,
          3.5021290373170677,
          3.521818325643249,
          3.541507613969431,
          3.561196902295613,
          3.5808861906217953,
          3.6005754789479756,
          3.6202647672741577,
          3.639954055600338,
          3.65964334392652,
          3.6793326322527022,
          3.6990219205788843,
          3.7187112089050647,
          3.738400497231247,
          3.758089785557429,
          3.7777790738836092,
          3.7974683622097896,
          3.8171576505359734,
          3.8368469388621538,
          3.856536227188336,
          3.876225515514516,
          3.8959148038407,
          3.9156040921668804,
          3.9352933804930608,
          3.954982668819243,
          3.974671957145425,
          3.994361245471607,
          4.014050533797787,
          4.0337398221239695,
          4.053429110450152,
          4.073118398776332,
          4.092807687102514,
          4.112496975428694,
          4.132186263754878,
          4.151875552081059,
          4.171564840407239,
          4.191254128733421,
          4.210943417059603,
          4.230632705385785,
          4.250321993711966,
          4.270011282038148,
          4.28970057036433,
          4.30938985869051,
          4.329079147016692,
          4.348768435342873,
          4.3684577236690565,
          4.388147011995237,
          4.407836300321419,
          4.427525588647599,
          4.447214876973781,
          4.4669041652999635,
          4.486593453626144,
          4.506282741952326,
          4.525972030278508,
          4.54566131860469,
          4.5653506069308705,
          4.585039895257051,
          4.604729183583235,
          4.624418471909415,
          4.644107760235597,
          4.6637970485617775,
          4.683486336887961,
          4.703175625214142,
          4.722864913540322,
          4.742554201866504,
          4.762243490192686,
          4.781932778518868,
          4.801622066845049,
          4.821311355171229,
          4.841000643497413,
          4.860689931823593,
          4.880379220149775,
          4.900068508475956,
          4.9197577968021395,
          4.93944708512832,
          4.9591363734545,
          4.978825661780682,
          4.998514950106864,
          5.0182042384330465,
          5.037893526759227,
          5.057582815085409,
          5.077272103411591,
          5.096961391737771,
          5.1166506800639535,
          5.136339968390134,
          5.156029256716318,
          5.175718545042498,
          5.19540783336868,
          5.2150971216948605,
          5.234786410021043,
          5.254475698347225,
          5.274164986673405,
          5.293854274999587,
          5.313543563325769,
          5.33323285165195
         ],
         "xaxis": "x",
         "y": [
          0.004018457567952691,
          0.004012701707432515,
          0.003995481500454635,
          0.0039669446828258115,
          0.003927335092732412,
          0.003876989215676868,
          0.0038163314429234315,
          0.0037458681379557972,
          0.003666180628246679,
          0.0035779172595159507,
          0.0034817846661490673,
          0.003378538424204871,
          0.0032689732622171964,
          0.003153913009662337,
          0.00303420046351803,
          0.0029106873498883786,
          0.0027842245504329077,
          0.0026556527526347983,
          0.002525793669177439,
          0.0023954419553442715,
          0.0022653579349398516,
          0.0021362612253106473,
          0.0020088253311955073,
          0.001883673255927345,
          0.0017613741574860706,
          0.0016424410565763952,
          0.0015273295847273982,
          0.0014164377427751769,
          0.0013101066243123923,
          0.0012086220450077355,
          0.0011122170072708328,
          0.0010210749206390674,
          0.0009353334914881278,
          0.000855089191141705,
          0.000780402209035287,
          0.0007113017970773105,
          0.0006477919125057573,
          0.0005898570690855141,
          0.0005374683101368079,
          0.0004905892213266243,
          0.00044918190609671897,
          0.0004132128517643113,
          0.0003826586194629931,
          0.00035751129597656625,
          0.0003377836499873767,
          0.0003235139391933603,
          0.00031477031807984775,
          0.00031165479885543354,
          0.00031430672022550503,
          0.0003229056803872381,
          0.00033767389204250765,
          0.0003588779185423206,
          0.00038682975173834935,
          0.0004218871939929254,
          0.00046445350937543694,
          0.000514976312643345,
          0.0005739456694557247,
          0.0006418913876610187,
          0.0007193794876683552,
          0.0008070078500337691,
          0.0009054010505869601,
          0.0010152044077335926,
          0.0011370772829488274,
          0.001271685693791232,
          0.0014196943187712923,
          0.0015817579947596757,
          0.0017585128298647304,
          0.0019505670772940766,
          0.0021584919379925064,
          0.0023828124810899133,
          0.0026239988906031995,
          0.002882458263575739,
          0.0031585271980480558,
          0.0034524654180826363,
          0.0037644506867001407,
          0.00409457525528455,
          0.004442844089141512,
          0.004809175092950983,
          0.005193401536511298,
          0.005595276850296583,
          0.006014481922034363,
          0.006450634980088269,
          0.006903304097487293,
          0.0073720222928215255,
          0.007856305142020242,
          0.00835567074957404,
          0.008869661860605999,
          0.009397869828066625,
          0.009939960084086801,
          0.010495698703128246,
          0.011064979589002403,
          0.011647851770036745,
          0.012244546248499997,
          0.012855501823539036,
          0.013481389292774815,
          0.014123133437509285,
          0.014781932211007737,
          0.01545927257894342,
          0.016156942505793647,
          0.016877038640265254,
          0.017621969325748436,
          0.018394452646939487,
          0.019197509319283313,
          0.020034450331529466,
          0.02090885936088889,
          0.02182457009217728,
          0.022785638683903178,
          0.02379631173238035,
          0.02486099018649739,
          0.025984189757752105,
          0.027170498449763606,
          0.0284245318962211,
          0.029750887244039726,
          0.031154096347774485,
          0.032638579051044135,
          0.03420859732040142,
          0.035868210966928646,
          0.037621235641674994,
          0.03947120372431542,
          0.0414213286421518,
          0.043474473061349606,
          0.04563312128713594,
          0.04789935609794225,
          0.05027484012379604,
          0.05276080176538455,
          0.05535802554088433,
          0.058066846646486335,
          0.06088714942689009,
          0.06381836937687345,
          0.06685949823681848,
          0.07000909170569727,
          0.07326527927569483,
          0.0766257756938885,
          0.08008789357797066,
          0.08364855675391322,
          0.08730431394202998,
          0.09105135249172128,
          0.09488551195133696,
          0.09880229735460559,
          0.10279689220513182,
          0.10686417124149146,
          0.11099871316329385,
          0.11519481358910896,
          0.1194464985964658,
          0.1237475392586402,
          0.128091467639549,
          0.13247159473426331,
          0.13688103084658515,
          0.14131270887576042,
          0.14575941094143752,
          0.15021379870999993,
          0.15466844769777705,
          0.15911588571952195,
          0.16354863552681637,
          0.1679592615442242,
          0.1723404204650636,
          0.17668491531805794,
          0.18098575246547466,
          0.1852362008474908,
          0.18942985265114928,
          0.19356068445994593,
          0.1976231178360768,
          0.20161207820541374,
          0.20552305085866243,
          0.20935213285338822,
          0.2130960796025983,
          0.21675234496737647,
          0.22031911373397634,
          0.22379532544927203,
          0.22718068871121264,
          0.23047568516087516,
          0.23368156259707884,
          0.23680031682991728,
          0.2398346621020405,
          0.24278799013163177,
          0.24566431806404299,
          0.24846822585488906,
          0.25120478384088313,
          0.2538794714805644,
          0.256498088460114,
          0.25906665955461644,
          0.2615913348076128,
          0.2640782867371297,
          0.26653360639052265,
          0.2689632001499595,
          0.27137268923223656,
          0.2737673138286827,
          0.2761518437916274,
          0.2785304976926228,
          0.2809068719544844,
          0.28328388159527645,
          0.28566371391962947,
          0.2880477962541045,
          0.29043677855254263,
          0.2928305313991901,
          0.2952281596173698,
          0.29762803135596555,
          0.3000278221819294,
          0.3024245733619661,
          0.304814763178459,
          0.3071943898016844,
          0.30955906394068694,
          0.3119041092268531,
          0.3142246680549541,
          0.31651581042321736,
          0.3187726431832165,
          0.3209904170371272,
          0.32316462860833495,
          0.32529111496402435,
          0.32736613808633463,
          0.32938645697144187,
          0.33134938528115476,
          0.333252832775422,
          0.33509532911082346,
          0.3368760289924147,
          0.33859469810550324,
          0.34025167972005016,
          0.34184784234240384,
          0.3433845092751314,
          0.34486337142361256,
          0.3462863851453479,
          0.34765565736241766,
          0.3489733205375996,
          0.3502414004395211,
          0.351461679882382,
          0.35263556181320505,
          0.3537639352279858,
          0.35484704742325024,
          0.35588438602916667,
          0.3568745741246132,
          0.3578152815056636,
          0.35870315487135307,
          0.35953376931090253,
          0.36030160303325276,
          0.3610000367831123,
          0.36162137884930223,
          0.36215691600390265,
          0.3625969901280167,
          0.36293109969602294,
          0.3631480247188891,
          0.363235973202335,
          0.3631827466703349,
          0.36297592185068045,
          0.36260304522784775,
          0.36205183684829306,
          0.36131039952189115,
          0.36036742940593314,
          0.35921242388811575,
          0.3578358827035749,
          0.3562294983271766,
          0.3543863318731027,
          0.35230097100421776,
          0.3499696666971788,
          0.34739044611734377,
          0.3445631993207466,
          0.34148973800791466,
          0.33817382509467847,
          0.33462117442627987,
          0.33083942053082743,
          0.3268380588742544,
          0.3226283576295998,
          0.3182232424974056,
          0.31363715660093777,
          0.30888589792036275,
          0.30398643711593254,
          0.2989567189147488,
          0.2938154504935688,
          0.2885818804775593,
          0.2832755722897409,
          0.27791617562739346,
          0.2725231998108652,
          0.26711579264935925,
          0.2617125283011015,
          0.2563312073767493,
          0.25098867225111754,
          0.24570064021617663,
          0.2404815567356867,
          0.2353444706570477,
          0.230300932807749,
          0.2253609189610953,
          0.2205327777076746,
          0.21582320332403673,
          0.21123723329676156,
          0.20677826974643043,
          0.20244812360926956,
          0.198247080080956,
          0.19417398351290152,
          0.19022633968095323,
          0.1864004331235694,
          0.18269145707370266,
          0.17909365338744587,
          0.17560045980334718,
          0.1722046618486561,
          0.1688985467409602,
          0.16567405671320662,
          0.16252293931358125,
          0.15943689239494507,
          0.15640770170677132,
          0.15342736923037234,
          0.15048823064999337,
          0.14758306062203186,
          0.14470516478611767,
          0.14184845774891566,
          0.13900752655829757,
          0.13617767946626125,
          0.13335498004825644,
          0.1305362669995809,
          0.1277191601618893,
          0.12490205354100034,
          0.12208409625810242,
          0.1192651625280073,
          0.11644581187879934,
          0.11362724091647458,
          0.11081122799602527,
          0.10800007218776408,
          0.10519652792594,
          0.10240373669803277,
          0.09962515708005204,
          0.09686449434880877,
          0.09412563080976746,
          0.09141255787230428,
          0.08872931078665203,
          0.08607990683214811,
          0.0834682876181765,
          0.08089826603075144,
          0.07837347823207187,
          0.07589734100031253,
          0.07347301458465323,
          0.07110337114796951,
          0.06879096877801338,
          0.06653803096824722,
          0.0643464314021045,
          0.062217683819369075,
          0.06015293670011194,
          0.058152972469479494,
          0.05621821090448462,
          0.05434871641060139,
          0.05254420882994732,
          0.050804077442720585,
          0.0491273978278367,
          0.047512951256003674,
          0.045959246297475734,
          0.0444645423363428,
          0.043026874692524794,
          0.04164408106098623,
          0.04031382898461981,
          0.039033644082593674,
          0.03780093875974638,
          0.03661304112509699,
          0.035467223849144025,
          0.03436073269091223,
          0.033290814427336377,
          0.032254743920252925,
          0.031249850060715394,
          0.0302735403372396,
          0.02932332378450543,
          0.028396832082485765,
          0.027491838593268446,
          0.026606275144168735,
          0.02573824639109043,
          0.02488604162531701,
          0.024048143919634092,
          0.02322323654540687,
          0.022410206630285746,
          0.021608146065837774,
          0.020816349714722307,
          0.02003431100714508,
          0.019261715055287596,
          0.0184984294512998,
          0.01774449294837754,
          0.01700010225462281,
          0.016265597195092987,
          0.015541444518114593,
          0.014828220637117553,
          0.014126593608658667,
          0.013437304650812353,
          0.012761149503743286,
          0.012098959926216932,
          0.011451585608377411,
          0.01081987676277132,
          0.010204667632893022,
          0.009606761132111228,
          0.009026914796441668,
          0.008465828203008927,
          0.007924131972988926,
          0.007402378444120536,
          0.006901034064289009,
          0.006420473524932715,
          0.005960975621775379,
          0.005522720801224741,
          0.0051057903242148995,
          0.004710166955713796,
          0.004335737067889981,
          0.00398229402824705,
          0.0036495427310140756,
          0.0033371051207476223,
          0.0030445265513952763,
          0.002771282821846212,
          0.0025167877300396953,
          0.0022804009917391298,
          0.0020614363767894597,
          0.001859169924692349,
          0.001672848112278202,
          0.0015016958587216204,
          0.0013449242667395525,
          0.0012017380131315143,
          0.0010713423164923723,
          0.0009529494245927815,
          0.0008457845782583917,
          0.0007490914222942417,
          0.0006621368468463897,
          0.0005842152543587501,
          0.0005146522578024868,
          0.0004528078250043249,
          0.0003980788915953981,
          0.00034990147130206927,
          0.00030775229699785215,
          0.00027115002916119413,
          0.00023965607019648972,
          0.00021287502356295813,
          0.00019045483592809018,
          0.00017208665874996902,
          0.00015750446294162418,
          0.0001464844367392849,
          0.00013884419275191968,
          0.00013444180558448598,
          0.0001331746965762418,
          0.0001349783772527446,
          0.0001398250582258341,
          0.00014772212565428362,
          0.0001587104831538296,
          0.00017286275336250506,
          0.0001902813303547293,
          0.0002110962718680241,
          0.0002354630189525984,
          0.0002635599302481499,
          0.0002955856186814511,
          0.0003317560799844225,
          0.00037230160504958765,
          0.0004174634717324655,
          0.0004674904162147683,
          0.0005226348893622694,
          0.0005831491095243562,
          0.0006492809297759598,
          0.0007212695445204132,
          0.0007993410674552405,
          0.0008837040199357928,
          0.0009745447755267971,
          0.0010720230127751482,
          0.0011762672337374354,
          0.0012873704103298787,
          0.00140538582392965,
          0.0015303231656659073,
          0.0016621449653444588,
          0.0018007634158465654,
          0.001946037657062243,
          0.0020977715789516497,
          0.0022557121972125106,
          0.0024195486473631237,
          0.0025889118339790496,
          0.0027633747615463077,
          0.00294245356216382,
          0.003125609223428447,
          0.0033122500075850087,
          0.0035017345407595346,
          0.003693375539158884,
          0.0038864441278604767,
          0.004080174697549277,
          0.004273770235585627,
          0.004466408060352563,
          0.004657245882140419,
          0.004845428110014009,
          0.0050300923222473,
          0.005210375818004246,
          0.005385422169921307,
          0.0055543877009715924,
          0.00571644781426216,
          0.005870803110979104,
          0.006016685239257984,
          0.006153362424986991,
          0.0062801446441124575,
          0.006396388404562814,
          0.006501501114117948,
          0.006594945018126278,
          0.006676240697661394,
          0.006744970124317129,
          0.006800779272229161,
          0.006843380291019734,
          0.006872553245194663,
          0.0068881474261560955,
          0.006890082242571068,
          0.006878347693553199,
          0.006853004427217391,
          0.006814183384932225,
          0.0067620850293169735,
          0.006696978152007737,
          0.006619198255733219,
          0.006529145504550906,
          0.006427282236411064,
          0.006314130033696865
         ],
         "yaxis": "y"
        },
        {
         "legendgroup": "Lasso",
         "marker": {
          "color": "rgb(31, 119, 180)",
          "symbol": "line-ns-open"
         },
         "mode": "markers",
         "name": "Lasso",
         "showlegend": false,
         "type": "scatter",
         "x": [
          -0.2988645822136683,
          0.3408157190759778,
          0,
          -5.0775858518346,
          -0.011546218132248353,
          2.50475330358318,
          0,
          0,
          -1.2254666741348454,
          0,
          0,
          0,
          0,
          0,
          0,
          0.8911508709272506,
          0,
          0,
          0,
          0,
          0,
          0,
          0.48261306316596353,
          0,
          0,
          0,
          0,
          0,
          0,
          0.29259736827072497,
          0,
          0,
          0,
          0,
          0,
          0,
          0,
          0,
          0,
          0,
          0,
          0,
          0,
          0,
          0,
          0,
          0,
          0,
          0,
          0,
          0,
          0,
          0,
          0,
          0,
          0,
          0,
          0,
          0,
          0,
          -0.8137493295508568,
          0,
          0,
          0,
          0,
          0,
          0,
          0,
          0,
          0,
          0,
          0,
          0,
          0,
          0,
          0,
          0,
          0,
          0,
          0,
          0,
          0,
          0,
          0,
          0,
          0,
          0,
          0,
          0,
          0,
          0,
          0,
          0.857715591775868,
          0,
          0,
          1.1721102608593408,
          0,
          0,
          0.2887092608544712,
          0,
          0,
          0,
          0,
          0,
          0,
          0,
          0.20926544012577397,
          0,
          0,
          0,
          0,
          0,
          0,
          1.5557826281399485,
          0,
          0,
          5.60868688487343,
          0,
          0,
          0,
          0,
          0,
          0,
          0,
          0,
          0,
          0,
          0,
          0,
          0,
          0,
          -0.5834694165847317,
          0,
          0,
          0,
          0,
          0,
          0,
          0,
          0,
          0,
          0,
          0,
          0,
          0,
          0,
          0,
          0,
          0.5677323661704804,
          0,
          1.6083497158913294,
          1.1672531907630226,
          0,
          -0.6403255347633285,
          0,
          0,
          0,
          0,
          0,
          0,
          0,
          0,
          0,
          0,
          0,
          0,
          0,
          0,
          0,
          0,
          0,
          0,
          0,
          0,
          0,
          0,
          0,
          0,
          -0.40210406095102963,
          0,
          0,
          0,
          0,
          0,
          0,
          0,
          0,
          0,
          0,
          0,
          0,
          0,
          0,
          0,
          0,
          0,
          0,
          0,
          0,
          0,
          0,
          0,
          0,
          0.7072730612261542,
          1.6226804361881382,
          0,
          0,
          0,
          0.4051983255690641,
          0,
          0,
          0,
          0,
          0,
          0,
          1.224714232790628,
          0,
          0,
          -1.1811727255510334,
          -0.003019012500058569,
          0,
          0,
          0,
          0,
          0,
          0,
          0,
          0,
          0,
          0,
          0,
          0,
          0,
          0,
          0,
          0,
          0,
          0,
          0,
          0,
          0,
          0,
          0,
          0,
          0,
          0.19289042452120514,
          0,
          0,
          0,
          0.953787565634395,
          0,
          0,
          0,
          0,
          0,
          0,
          0,
          0,
          0,
          0,
          0,
          0,
          0,
          0,
          6.58090326308205,
          0,
          0,
          0,
          0,
          0
         ],
         "xaxis": "x",
         "y": [
          "Lasso",
          "Lasso",
          "Lasso",
          "Lasso",
          "Lasso",
          "Lasso",
          "Lasso",
          "Lasso",
          "Lasso",
          "Lasso",
          "Lasso",
          "Lasso",
          "Lasso",
          "Lasso",
          "Lasso",
          "Lasso",
          "Lasso",
          "Lasso",
          "Lasso",
          "Lasso",
          "Lasso",
          "Lasso",
          "Lasso",
          "Lasso",
          "Lasso",
          "Lasso",
          "Lasso",
          "Lasso",
          "Lasso",
          "Lasso",
          "Lasso",
          "Lasso",
          "Lasso",
          "Lasso",
          "Lasso",
          "Lasso",
          "Lasso",
          "Lasso",
          "Lasso",
          "Lasso",
          "Lasso",
          "Lasso",
          "Lasso",
          "Lasso",
          "Lasso",
          "Lasso",
          "Lasso",
          "Lasso",
          "Lasso",
          "Lasso",
          "Lasso",
          "Lasso",
          "Lasso",
          "Lasso",
          "Lasso",
          "Lasso",
          "Lasso",
          "Lasso",
          "Lasso",
          "Lasso",
          "Lasso",
          "Lasso",
          "Lasso",
          "Lasso",
          "Lasso",
          "Lasso",
          "Lasso",
          "Lasso",
          "Lasso",
          "Lasso",
          "Lasso",
          "Lasso",
          "Lasso",
          "Lasso",
          "Lasso",
          "Lasso",
          "Lasso",
          "Lasso",
          "Lasso",
          "Lasso",
          "Lasso",
          "Lasso",
          "Lasso",
          "Lasso",
          "Lasso",
          "Lasso",
          "Lasso",
          "Lasso",
          "Lasso",
          "Lasso",
          "Lasso",
          "Lasso",
          "Lasso",
          "Lasso",
          "Lasso",
          "Lasso",
          "Lasso",
          "Lasso",
          "Lasso",
          "Lasso",
          "Lasso",
          "Lasso",
          "Lasso",
          "Lasso",
          "Lasso",
          "Lasso",
          "Lasso",
          "Lasso",
          "Lasso",
          "Lasso",
          "Lasso",
          "Lasso",
          "Lasso",
          "Lasso",
          "Lasso",
          "Lasso",
          "Lasso",
          "Lasso",
          "Lasso",
          "Lasso",
          "Lasso",
          "Lasso",
          "Lasso",
          "Lasso",
          "Lasso",
          "Lasso",
          "Lasso",
          "Lasso",
          "Lasso",
          "Lasso",
          "Lasso",
          "Lasso",
          "Lasso",
          "Lasso",
          "Lasso",
          "Lasso",
          "Lasso",
          "Lasso",
          "Lasso",
          "Lasso",
          "Lasso",
          "Lasso",
          "Lasso",
          "Lasso",
          "Lasso",
          "Lasso",
          "Lasso",
          "Lasso",
          "Lasso",
          "Lasso",
          "Lasso",
          "Lasso",
          "Lasso",
          "Lasso",
          "Lasso",
          "Lasso",
          "Lasso",
          "Lasso",
          "Lasso",
          "Lasso",
          "Lasso",
          "Lasso",
          "Lasso",
          "Lasso",
          "Lasso",
          "Lasso",
          "Lasso",
          "Lasso",
          "Lasso",
          "Lasso",
          "Lasso",
          "Lasso",
          "Lasso",
          "Lasso",
          "Lasso",
          "Lasso",
          "Lasso",
          "Lasso",
          "Lasso",
          "Lasso",
          "Lasso",
          "Lasso",
          "Lasso",
          "Lasso",
          "Lasso",
          "Lasso",
          "Lasso",
          "Lasso",
          "Lasso",
          "Lasso",
          "Lasso",
          "Lasso",
          "Lasso",
          "Lasso",
          "Lasso",
          "Lasso",
          "Lasso",
          "Lasso",
          "Lasso",
          "Lasso",
          "Lasso",
          "Lasso",
          "Lasso",
          "Lasso",
          "Lasso",
          "Lasso",
          "Lasso",
          "Lasso",
          "Lasso",
          "Lasso",
          "Lasso",
          "Lasso",
          "Lasso",
          "Lasso",
          "Lasso",
          "Lasso",
          "Lasso",
          "Lasso",
          "Lasso",
          "Lasso",
          "Lasso",
          "Lasso",
          "Lasso",
          "Lasso",
          "Lasso",
          "Lasso",
          "Lasso",
          "Lasso",
          "Lasso",
          "Lasso",
          "Lasso",
          "Lasso",
          "Lasso",
          "Lasso",
          "Lasso",
          "Lasso",
          "Lasso",
          "Lasso",
          "Lasso",
          "Lasso",
          "Lasso",
          "Lasso",
          "Lasso",
          "Lasso",
          "Lasso",
          "Lasso",
          "Lasso",
          "Lasso",
          "Lasso",
          "Lasso",
          "Lasso",
          "Lasso",
          "Lasso",
          "Lasso",
          "Lasso",
          "Lasso",
          "Lasso",
          "Lasso",
          "Lasso",
          "Lasso",
          "Lasso",
          "Lasso",
          "Lasso",
          "Lasso",
          "Lasso",
          "Lasso",
          "Lasso",
          "Lasso",
          "Lasso",
          "Lasso"
         ],
         "yaxis": "y2"
        },
        {
         "legendgroup": "Ridge",
         "marker": {
          "color": "rgb(255, 127, 14)",
          "symbol": "line-ns-open"
         },
         "mode": "markers",
         "name": "Ridge",
         "showlegend": false,
         "type": "scatter",
         "x": [
          -1.1129087993451756,
          0.8294144662533005,
          -0.5787984166641863,
          -4.491722023112633,
          -0.32314439645005455,
          2.55284477850727,
          0.6441174358209545,
          0.14095520188850647,
          -0.7850726377095079,
          0.7655534592397895,
          0.35668345877111163,
          -1.5694262616057766,
          0.26227557067195745,
          -0.25740342390756044,
          -0.7824098482842771,
          2.5934921160920803,
          0.5606042947987543,
          -0.45173420352269883,
          -1.2515177116237777,
          -1.256699618979678,
          -0.8399631100452938,
          -0.9115025384574977,
          2.424044813835149,
          0.5895441677218894,
          -1.0812932141466856,
          -1.7078041853217465,
          -0.1499268417109021,
          0.8871041754356641,
          0.6283527413633657,
          1.838178463211789,
          0.5053018276986413,
          1.8475439808285687,
          1.166041725122654,
          -0.2943188274365415,
          -0.8460284506775244,
          -1.1743906199074035,
          0.3875825329008064,
          1.5379256032546311,
          0.7316435087966177,
          -1.8849743338031006,
          -0.38039062781692334,
          -0.08497089850915203,
          1.2408957059769583,
          -0.6753846928418555,
          0.9156462926384432,
          1.3807542463331486,
          -1.8741582993187393,
          -0.30360139530910635,
          -1.042495473341164,
          1.417991869998942,
          -1.7072056935386686,
          1.5472728948675274,
          -0.1227210004053525,
          -1.5950573585055365,
          0.15378752892533948,
          -1.5158020234453644,
          0.3575736927386995,
          0.030330024714697368,
          0.5305137448731897,
          0.5063646604902403,
          -1.3044749851606834,
          -0.9238000638359023,
          -0.8593459950760469,
          -0.8880271347940234,
          -0.6393546630438718,
          -0.21638696058565512,
          0.5305137448731897,
          0.379233638116057,
          -0.9978701583674365,
          0.24931731321947223,
          0.05756227228096078,
          -1.2397454075266032,
          1.2780601949512143,
          -0.10863399808952054,
          -0.21077934012562927,
          -0.29120046811220957,
          -1.8319505334687087,
          -0.049184438276729456,
          1.331981022834703,
          0.38011871476710857,
          -0.5547483724496609,
          -0.47739919910570927,
          -0.01885776832642565,
          2.083607641950537,
          0.5019017353092031,
          1.1648262126906384,
          -0.3326741058271649,
          -0.5674857997056224,
          -0.21335053062709197,
          -0.37947358391750374,
          1.566919870354289,
          -1.252227865051891,
          1.4733934612815118,
          0.29503024327076344,
          -0.39116971003033674,
          1.9506134740656513,
          -1.303957248557789,
          -0.26461410270484037,
          1.1745371841277077,
          0.7332049553667082,
          0.40787226982273206,
          -0.07004096082378566,
          0.964107992029871,
          -0.7510364354349439,
          -0.550702216453831,
          -0.38039062781692334,
          0.5946382945523594,
          1.1556929985030082,
          0.24728461617852499,
          -1.5282662275837333,
          0.8294023660847143,
          -1.0524652240917245,
          0.16304731435786834,
          1.4641369891508154,
          0.15378752892533948,
          1.6818403861388154,
          5.352922139978132,
          0.18684346159247137,
          0.48893787080154943,
          -0.4506482465363275,
          1.389175653431114,
          0.858007667568736,
          0.30880283581316803,
          0.9417726671755917,
          0.5053018276986413,
          0.9156462926384432,
          0.27970006587236246,
          1.046388259836048,
          -1.3612332448925857,
          0.6049897975118408,
          -0.0654331427105454,
          -1.010899622585712,
          0.9579782613824226,
          0.725254378088972,
          -1.3691288925157399,
          1.3807542463331486,
          0.7257446567853505,
          1.6015116018524738,
          -0.13594760851279175,
          0.33530494141202993,
          -1.4934173404771822,
          0.6746094015059423,
          -0.3710643489748804,
          -1.3037552248842899,
          -0.5547483724496609,
          1.1401731485444713,
          0.7316435087966177,
          -0.7704485369412656,
          1.3090641217710992,
          0.5606042947987543,
          1.5022066465150292,
          2.004386612161218,
          -0.15732058294754425,
          -1.1880424085186658,
          0.6165824461464857,
          0.8794436105112443,
          0.18350594168408804,
          -0.6227415537366953,
          0.5190881755161514,
          -0.8512030334431031,
          -1.5624517801768434,
          1.7557378683622877,
          0.47218821530979277,
          -1.7470268311648771,
          -0.4438949512008504,
          -0.8351537643914084,
          0.35668345877111163,
          0.714599433692902,
          0.5244451833779441,
          -0.8487825870093803,
          1.653849861479638,
          -0.0397159499033346,
          -0.6578821407405266,
          0.3870083521742647,
          -1.0429267048069575,
          0.39607691232942444,
          0.3256760080350283,
          -1.0696500851664723,
          -2.498700474833488,
          -0.9746776732691356,
          0.379233638116057,
          -0.570987075150232,
          0.26227557067195745,
          -0.24695538881775614,
          -1.1473221196669303,
          -0.049184438276729456,
          0.23989386642108917,
          0.31849973235516205,
          -1.062969714795758,
          0.6701186728271241,
          0.5128595234322155,
          0.6320329944543267,
          -1.1731659078567338,
          0.03952824119743181,
          -1.2699522862309158,
          0.856571680748086,
          -0.8977872724625975,
          -0.9708116225942955,
          0.19182873460436056,
          0.2336292575061869,
          2.269289902502885,
          -1.2140561129117442,
          0.3471374217527803,
          0.5502602614322686,
          1.2058020229634845,
          -0.0015168394811801988,
          -0.7817080683037941,
          0.0034856782101159167,
          2.0420153760896227,
          0.1869271089993575,
          -0.12300009092941451,
          0.368143250942817,
          -0.4003860901626439,
          -0.19947199021441694,
          -1.1465289568914838,
          1.4463457173646934,
          0.5128595234322155,
          0.15378752892533948,
          -2.3860029596238714,
          -2.498700474833488,
          -1.158228330706665,
          1.4479555874952161,
          -1.8625735900026759,
          -1.2420327374696447,
          -0.04068580996695814,
          0.4388487477205431,
          -0.1454890137237449,
          -0.3416944929344692,
          0.33628752777562243,
          -0.5362284339622325,
          -0.3035575716149574,
          -0.20179091740061325,
          -0.38342993420766974,
          0.2984948984457401,
          -0.16419004276167953,
          -0.32853661451035787,
          -0.13789561006516693,
          1.1217152075846952,
          -0.19947199021441694,
          0.6320329944543267,
          1.644825182046553,
          0.517589442715638,
          0.3595335301023531,
          -0.5868463926732644,
          -0.21638696058565512,
          0.6037975663443774,
          -1.7078041853217465,
          -0.6879302509236632,
          0.649573889916438,
          2.803638279276967,
          1.2247078451686795,
          -0.11110506202544836,
          -0.43781037857885907,
          -0.06382234426582083,
          -1.442881563503808,
          -0.3996679623842611,
          -0.4139565225914455,
          -0.7817080683037941,
          -0.7649194839949696,
          -0.2980471339636057,
          -0.5362284339622325,
          -1.3567671205440002,
          -1.2381446354942645,
          -1.559734913180344,
          4.945017934913417,
          -1.09947213320977,
          0.6634165306117643,
          0.5923170445509921,
          0.6701186728271241,
          -0.8396674041662306
         ],
         "xaxis": "x",
         "y": [
          "Ridge",
          "Ridge",
          "Ridge",
          "Ridge",
          "Ridge",
          "Ridge",
          "Ridge",
          "Ridge",
          "Ridge",
          "Ridge",
          "Ridge",
          "Ridge",
          "Ridge",
          "Ridge",
          "Ridge",
          "Ridge",
          "Ridge",
          "Ridge",
          "Ridge",
          "Ridge",
          "Ridge",
          "Ridge",
          "Ridge",
          "Ridge",
          "Ridge",
          "Ridge",
          "Ridge",
          "Ridge",
          "Ridge",
          "Ridge",
          "Ridge",
          "Ridge",
          "Ridge",
          "Ridge",
          "Ridge",
          "Ridge",
          "Ridge",
          "Ridge",
          "Ridge",
          "Ridge",
          "Ridge",
          "Ridge",
          "Ridge",
          "Ridge",
          "Ridge",
          "Ridge",
          "Ridge",
          "Ridge",
          "Ridge",
          "Ridge",
          "Ridge",
          "Ridge",
          "Ridge",
          "Ridge",
          "Ridge",
          "Ridge",
          "Ridge",
          "Ridge",
          "Ridge",
          "Ridge",
          "Ridge",
          "Ridge",
          "Ridge",
          "Ridge",
          "Ridge",
          "Ridge",
          "Ridge",
          "Ridge",
          "Ridge",
          "Ridge",
          "Ridge",
          "Ridge",
          "Ridge",
          "Ridge",
          "Ridge",
          "Ridge",
          "Ridge",
          "Ridge",
          "Ridge",
          "Ridge",
          "Ridge",
          "Ridge",
          "Ridge",
          "Ridge",
          "Ridge",
          "Ridge",
          "Ridge",
          "Ridge",
          "Ridge",
          "Ridge",
          "Ridge",
          "Ridge",
          "Ridge",
          "Ridge",
          "Ridge",
          "Ridge",
          "Ridge",
          "Ridge",
          "Ridge",
          "Ridge",
          "Ridge",
          "Ridge",
          "Ridge",
          "Ridge",
          "Ridge",
          "Ridge",
          "Ridge",
          "Ridge",
          "Ridge",
          "Ridge",
          "Ridge",
          "Ridge",
          "Ridge",
          "Ridge",
          "Ridge",
          "Ridge",
          "Ridge",
          "Ridge",
          "Ridge",
          "Ridge",
          "Ridge",
          "Ridge",
          "Ridge",
          "Ridge",
          "Ridge",
          "Ridge",
          "Ridge",
          "Ridge",
          "Ridge",
          "Ridge",
          "Ridge",
          "Ridge",
          "Ridge",
          "Ridge",
          "Ridge",
          "Ridge",
          "Ridge",
          "Ridge",
          "Ridge",
          "Ridge",
          "Ridge",
          "Ridge",
          "Ridge",
          "Ridge",
          "Ridge",
          "Ridge",
          "Ridge",
          "Ridge",
          "Ridge",
          "Ridge",
          "Ridge",
          "Ridge",
          "Ridge",
          "Ridge",
          "Ridge",
          "Ridge",
          "Ridge",
          "Ridge",
          "Ridge",
          "Ridge",
          "Ridge",
          "Ridge",
          "Ridge",
          "Ridge",
          "Ridge",
          "Ridge",
          "Ridge",
          "Ridge",
          "Ridge",
          "Ridge",
          "Ridge",
          "Ridge",
          "Ridge",
          "Ridge",
          "Ridge",
          "Ridge",
          "Ridge",
          "Ridge",
          "Ridge",
          "Ridge",
          "Ridge",
          "Ridge",
          "Ridge",
          "Ridge",
          "Ridge",
          "Ridge",
          "Ridge",
          "Ridge",
          "Ridge",
          "Ridge",
          "Ridge",
          "Ridge",
          "Ridge",
          "Ridge",
          "Ridge",
          "Ridge",
          "Ridge",
          "Ridge",
          "Ridge",
          "Ridge",
          "Ridge",
          "Ridge",
          "Ridge",
          "Ridge",
          "Ridge",
          "Ridge",
          "Ridge",
          "Ridge",
          "Ridge",
          "Ridge",
          "Ridge",
          "Ridge",
          "Ridge",
          "Ridge",
          "Ridge",
          "Ridge",
          "Ridge",
          "Ridge",
          "Ridge",
          "Ridge",
          "Ridge",
          "Ridge",
          "Ridge",
          "Ridge",
          "Ridge",
          "Ridge",
          "Ridge",
          "Ridge",
          "Ridge",
          "Ridge",
          "Ridge",
          "Ridge",
          "Ridge",
          "Ridge",
          "Ridge",
          "Ridge",
          "Ridge",
          "Ridge",
          "Ridge",
          "Ridge",
          "Ridge",
          "Ridge",
          "Ridge",
          "Ridge",
          "Ridge",
          "Ridge",
          "Ridge",
          "Ridge",
          "Ridge",
          "Ridge",
          "Ridge",
          "Ridge",
          "Ridge",
          "Ridge",
          "Ridge",
          "Ridge",
          "Ridge",
          "Ridge",
          "Ridge",
          "Ridge",
          "Ridge",
          "Ridge",
          "Ridge",
          "Ridge",
          "Ridge",
          "Ridge",
          "Ridge",
          "Ridge",
          "Ridge",
          "Ridge"
         ],
         "yaxis": "y2"
        }
       ],
       "layout": {
        "barmode": "overlay",
        "hovermode": "closest",
        "legend": {
         "traceorder": "reversed"
        },
        "template": {
         "data": {
          "bar": [
           {
            "error_x": {
             "color": "#2a3f5f"
            },
            "error_y": {
             "color": "#2a3f5f"
            },
            "marker": {
             "line": {
              "color": "#E5ECF6",
              "width": 0.5
             },
             "pattern": {
              "fillmode": "overlay",
              "size": 10,
              "solidity": 0.2
             }
            },
            "type": "bar"
           }
          ],
          "barpolar": [
           {
            "marker": {
             "line": {
              "color": "#E5ECF6",
              "width": 0.5
             },
             "pattern": {
              "fillmode": "overlay",
              "size": 10,
              "solidity": 0.2
             }
            },
            "type": "barpolar"
           }
          ],
          "carpet": [
           {
            "aaxis": {
             "endlinecolor": "#2a3f5f",
             "gridcolor": "white",
             "linecolor": "white",
             "minorgridcolor": "white",
             "startlinecolor": "#2a3f5f"
            },
            "baxis": {
             "endlinecolor": "#2a3f5f",
             "gridcolor": "white",
             "linecolor": "white",
             "minorgridcolor": "white",
             "startlinecolor": "#2a3f5f"
            },
            "type": "carpet"
           }
          ],
          "choropleth": [
           {
            "colorbar": {
             "outlinewidth": 0,
             "ticks": ""
            },
            "type": "choropleth"
           }
          ],
          "contour": [
           {
            "colorbar": {
             "outlinewidth": 0,
             "ticks": ""
            },
            "colorscale": [
             [
              0,
              "#0d0887"
             ],
             [
              0.1111111111111111,
              "#46039f"
             ],
             [
              0.2222222222222222,
              "#7201a8"
             ],
             [
              0.3333333333333333,
              "#9c179e"
             ],
             [
              0.4444444444444444,
              "#bd3786"
             ],
             [
              0.5555555555555556,
              "#d8576b"
             ],
             [
              0.6666666666666666,
              "#ed7953"
             ],
             [
              0.7777777777777778,
              "#fb9f3a"
             ],
             [
              0.8888888888888888,
              "#fdca26"
             ],
             [
              1,
              "#f0f921"
             ]
            ],
            "type": "contour"
           }
          ],
          "contourcarpet": [
           {
            "colorbar": {
             "outlinewidth": 0,
             "ticks": ""
            },
            "type": "contourcarpet"
           }
          ],
          "heatmap": [
           {
            "colorbar": {
             "outlinewidth": 0,
             "ticks": ""
            },
            "colorscale": [
             [
              0,
              "#0d0887"
             ],
             [
              0.1111111111111111,
              "#46039f"
             ],
             [
              0.2222222222222222,
              "#7201a8"
             ],
             [
              0.3333333333333333,
              "#9c179e"
             ],
             [
              0.4444444444444444,
              "#bd3786"
             ],
             [
              0.5555555555555556,
              "#d8576b"
             ],
             [
              0.6666666666666666,
              "#ed7953"
             ],
             [
              0.7777777777777778,
              "#fb9f3a"
             ],
             [
              0.8888888888888888,
              "#fdca26"
             ],
             [
              1,
              "#f0f921"
             ]
            ],
            "type": "heatmap"
           }
          ],
          "heatmapgl": [
           {
            "colorbar": {
             "outlinewidth": 0,
             "ticks": ""
            },
            "colorscale": [
             [
              0,
              "#0d0887"
             ],
             [
              0.1111111111111111,
              "#46039f"
             ],
             [
              0.2222222222222222,
              "#7201a8"
             ],
             [
              0.3333333333333333,
              "#9c179e"
             ],
             [
              0.4444444444444444,
              "#bd3786"
             ],
             [
              0.5555555555555556,
              "#d8576b"
             ],
             [
              0.6666666666666666,
              "#ed7953"
             ],
             [
              0.7777777777777778,
              "#fb9f3a"
             ],
             [
              0.8888888888888888,
              "#fdca26"
             ],
             [
              1,
              "#f0f921"
             ]
            ],
            "type": "heatmapgl"
           }
          ],
          "histogram": [
           {
            "marker": {
             "pattern": {
              "fillmode": "overlay",
              "size": 10,
              "solidity": 0.2
             }
            },
            "type": "histogram"
           }
          ],
          "histogram2d": [
           {
            "colorbar": {
             "outlinewidth": 0,
             "ticks": ""
            },
            "colorscale": [
             [
              0,
              "#0d0887"
             ],
             [
              0.1111111111111111,
              "#46039f"
             ],
             [
              0.2222222222222222,
              "#7201a8"
             ],
             [
              0.3333333333333333,
              "#9c179e"
             ],
             [
              0.4444444444444444,
              "#bd3786"
             ],
             [
              0.5555555555555556,
              "#d8576b"
             ],
             [
              0.6666666666666666,
              "#ed7953"
             ],
             [
              0.7777777777777778,
              "#fb9f3a"
             ],
             [
              0.8888888888888888,
              "#fdca26"
             ],
             [
              1,
              "#f0f921"
             ]
            ],
            "type": "histogram2d"
           }
          ],
          "histogram2dcontour": [
           {
            "colorbar": {
             "outlinewidth": 0,
             "ticks": ""
            },
            "colorscale": [
             [
              0,
              "#0d0887"
             ],
             [
              0.1111111111111111,
              "#46039f"
             ],
             [
              0.2222222222222222,
              "#7201a8"
             ],
             [
              0.3333333333333333,
              "#9c179e"
             ],
             [
              0.4444444444444444,
              "#bd3786"
             ],
             [
              0.5555555555555556,
              "#d8576b"
             ],
             [
              0.6666666666666666,
              "#ed7953"
             ],
             [
              0.7777777777777778,
              "#fb9f3a"
             ],
             [
              0.8888888888888888,
              "#fdca26"
             ],
             [
              1,
              "#f0f921"
             ]
            ],
            "type": "histogram2dcontour"
           }
          ],
          "mesh3d": [
           {
            "colorbar": {
             "outlinewidth": 0,
             "ticks": ""
            },
            "type": "mesh3d"
           }
          ],
          "parcoords": [
           {
            "line": {
             "colorbar": {
              "outlinewidth": 0,
              "ticks": ""
             }
            },
            "type": "parcoords"
           }
          ],
          "pie": [
           {
            "automargin": true,
            "type": "pie"
           }
          ],
          "scatter": [
           {
            "marker": {
             "colorbar": {
              "outlinewidth": 0,
              "ticks": ""
             }
            },
            "type": "scatter"
           }
          ],
          "scatter3d": [
           {
            "line": {
             "colorbar": {
              "outlinewidth": 0,
              "ticks": ""
             }
            },
            "marker": {
             "colorbar": {
              "outlinewidth": 0,
              "ticks": ""
             }
            },
            "type": "scatter3d"
           }
          ],
          "scattercarpet": [
           {
            "marker": {
             "colorbar": {
              "outlinewidth": 0,
              "ticks": ""
             }
            },
            "type": "scattercarpet"
           }
          ],
          "scattergeo": [
           {
            "marker": {
             "colorbar": {
              "outlinewidth": 0,
              "ticks": ""
             }
            },
            "type": "scattergeo"
           }
          ],
          "scattergl": [
           {
            "marker": {
             "colorbar": {
              "outlinewidth": 0,
              "ticks": ""
             }
            },
            "type": "scattergl"
           }
          ],
          "scattermapbox": [
           {
            "marker": {
             "colorbar": {
              "outlinewidth": 0,
              "ticks": ""
             }
            },
            "type": "scattermapbox"
           }
          ],
          "scatterpolar": [
           {
            "marker": {
             "colorbar": {
              "outlinewidth": 0,
              "ticks": ""
             }
            },
            "type": "scatterpolar"
           }
          ],
          "scatterpolargl": [
           {
            "marker": {
             "colorbar": {
              "outlinewidth": 0,
              "ticks": ""
             }
            },
            "type": "scatterpolargl"
           }
          ],
          "scatterternary": [
           {
            "marker": {
             "colorbar": {
              "outlinewidth": 0,
              "ticks": ""
             }
            },
            "type": "scatterternary"
           }
          ],
          "surface": [
           {
            "colorbar": {
             "outlinewidth": 0,
             "ticks": ""
            },
            "colorscale": [
             [
              0,
              "#0d0887"
             ],
             [
              0.1111111111111111,
              "#46039f"
             ],
             [
              0.2222222222222222,
              "#7201a8"
             ],
             [
              0.3333333333333333,
              "#9c179e"
             ],
             [
              0.4444444444444444,
              "#bd3786"
             ],
             [
              0.5555555555555556,
              "#d8576b"
             ],
             [
              0.6666666666666666,
              "#ed7953"
             ],
             [
              0.7777777777777778,
              "#fb9f3a"
             ],
             [
              0.8888888888888888,
              "#fdca26"
             ],
             [
              1,
              "#f0f921"
             ]
            ],
            "type": "surface"
           }
          ],
          "table": [
           {
            "cells": {
             "fill": {
              "color": "#EBF0F8"
             },
             "line": {
              "color": "white"
             }
            },
            "header": {
             "fill": {
              "color": "#C8D4E3"
             },
             "line": {
              "color": "white"
             }
            },
            "type": "table"
           }
          ]
         },
         "layout": {
          "annotationdefaults": {
           "arrowcolor": "#2a3f5f",
           "arrowhead": 0,
           "arrowwidth": 1
          },
          "autotypenumbers": "strict",
          "coloraxis": {
           "colorbar": {
            "outlinewidth": 0,
            "ticks": ""
           }
          },
          "colorscale": {
           "diverging": [
            [
             0,
             "#8e0152"
            ],
            [
             0.1,
             "#c51b7d"
            ],
            [
             0.2,
             "#de77ae"
            ],
            [
             0.3,
             "#f1b6da"
            ],
            [
             0.4,
             "#fde0ef"
            ],
            [
             0.5,
             "#f7f7f7"
            ],
            [
             0.6,
             "#e6f5d0"
            ],
            [
             0.7,
             "#b8e186"
            ],
            [
             0.8,
             "#7fbc41"
            ],
            [
             0.9,
             "#4d9221"
            ],
            [
             1,
             "#276419"
            ]
           ],
           "sequential": [
            [
             0,
             "#0d0887"
            ],
            [
             0.1111111111111111,
             "#46039f"
            ],
            [
             0.2222222222222222,
             "#7201a8"
            ],
            [
             0.3333333333333333,
             "#9c179e"
            ],
            [
             0.4444444444444444,
             "#bd3786"
            ],
            [
             0.5555555555555556,
             "#d8576b"
            ],
            [
             0.6666666666666666,
             "#ed7953"
            ],
            [
             0.7777777777777778,
             "#fb9f3a"
            ],
            [
             0.8888888888888888,
             "#fdca26"
            ],
            [
             1,
             "#f0f921"
            ]
           ],
           "sequentialminus": [
            [
             0,
             "#0d0887"
            ],
            [
             0.1111111111111111,
             "#46039f"
            ],
            [
             0.2222222222222222,
             "#7201a8"
            ],
            [
             0.3333333333333333,
             "#9c179e"
            ],
            [
             0.4444444444444444,
             "#bd3786"
            ],
            [
             0.5555555555555556,
             "#d8576b"
            ],
            [
             0.6666666666666666,
             "#ed7953"
            ],
            [
             0.7777777777777778,
             "#fb9f3a"
            ],
            [
             0.8888888888888888,
             "#fdca26"
            ],
            [
             1,
             "#f0f921"
            ]
           ]
          },
          "colorway": [
           "#636efa",
           "#EF553B",
           "#00cc96",
           "#ab63fa",
           "#FFA15A",
           "#19d3f3",
           "#FF6692",
           "#B6E880",
           "#FF97FF",
           "#FECB52"
          ],
          "font": {
           "color": "#2a3f5f"
          },
          "geo": {
           "bgcolor": "white",
           "lakecolor": "white",
           "landcolor": "#E5ECF6",
           "showlakes": true,
           "showland": true,
           "subunitcolor": "white"
          },
          "hoverlabel": {
           "align": "left"
          },
          "hovermode": "closest",
          "mapbox": {
           "style": "light"
          },
          "paper_bgcolor": "white",
          "plot_bgcolor": "#E5ECF6",
          "polar": {
           "angularaxis": {
            "gridcolor": "white",
            "linecolor": "white",
            "ticks": ""
           },
           "bgcolor": "#E5ECF6",
           "radialaxis": {
            "gridcolor": "white",
            "linecolor": "white",
            "ticks": ""
           }
          },
          "scene": {
           "xaxis": {
            "backgroundcolor": "#E5ECF6",
            "gridcolor": "white",
            "gridwidth": 2,
            "linecolor": "white",
            "showbackground": true,
            "ticks": "",
            "zerolinecolor": "white"
           },
           "yaxis": {
            "backgroundcolor": "#E5ECF6",
            "gridcolor": "white",
            "gridwidth": 2,
            "linecolor": "white",
            "showbackground": true,
            "ticks": "",
            "zerolinecolor": "white"
           },
           "zaxis": {
            "backgroundcolor": "#E5ECF6",
            "gridcolor": "white",
            "gridwidth": 2,
            "linecolor": "white",
            "showbackground": true,
            "ticks": "",
            "zerolinecolor": "white"
           }
          },
          "shapedefaults": {
           "line": {
            "color": "#2a3f5f"
           }
          },
          "ternary": {
           "aaxis": {
            "gridcolor": "white",
            "linecolor": "white",
            "ticks": ""
           },
           "baxis": {
            "gridcolor": "white",
            "linecolor": "white",
            "ticks": ""
           },
           "bgcolor": "#E5ECF6",
           "caxis": {
            "gridcolor": "white",
            "linecolor": "white",
            "ticks": ""
           }
          },
          "title": {
           "x": 0.05
          },
          "xaxis": {
           "automargin": true,
           "gridcolor": "white",
           "linecolor": "white",
           "ticks": "",
           "title": {
            "standoff": 15
           },
           "zerolinecolor": "white",
           "zerolinewidth": 2
          },
          "yaxis": {
           "automargin": true,
           "gridcolor": "white",
           "linecolor": "white",
           "ticks": "",
           "title": {
            "standoff": 15
           },
           "zerolinecolor": "white",
           "zerolinewidth": 2
          }
         }
        },
        "xaxis": {
         "anchor": "y2",
         "domain": [
          0,
          1
         ],
         "zeroline": false
        },
        "yaxis": {
         "anchor": "free",
         "domain": [
          0.35,
          1
         ],
         "position": 0
        },
        "yaxis2": {
         "anchor": "x",
         "domain": [
          0,
          0.25
         ],
         "dtick": 1,
         "showticklabels": false
        }
       }
      },
      "text/html": [
       "<div>                            <div id=\"2f2aab45-637e-4e54-b97d-35547af96aef\" class=\"plotly-graph-div\" style=\"height:525px; width:100%;\"></div>            <script type=\"text/javascript\">                require([\"plotly\"], function(Plotly) {                    window.PLOTLYENV=window.PLOTLYENV || {};                                    if (document.getElementById(\"2f2aab45-637e-4e54-b97d-35547af96aef\")) {                    Plotly.newPlot(                        \"2f2aab45-637e-4e54-b97d-35547af96aef\",                        [{\"autobinx\":false,\"histnorm\":\"probability density\",\"legendgroup\":\"Lasso\",\"marker\":{\"color\":\"rgb(31, 119, 180)\"},\"name\":\"Lasso\",\"opacity\":0.7,\"x\":[-0.2988645822136683,0.3408157190759778,0.0,-5.0775858518346,-0.011546218132248353,2.50475330358318,0.0,0.0,-1.2254666741348454,0.0,0.0,-0.0,-0.0,-0.0,-0.0,0.8911508709272506,0.0,-0.0,-0.0,-0.0,-0.0,-0.0,0.48261306316596353,0.0,-0.0,-0.0,-0.0,0.0,0.0,0.29259736827072497,0.0,0.0,0.0,-0.0,-0.0,-0.0,0.0,0.0,0.0,-0.0,-0.0,-0.0,0.0,-0.0,0.0,0.0,-0.0,0.0,-0.0,0.0,-0.0,0.0,-0.0,-0.0,0.0,-0.0,0.0,-0.0,0.0,0.0,-0.8137493295508568,-0.0,-0.0,-0.0,-0.0,-0.0,0.0,0.0,-0.0,0.0,0.0,-0.0,0.0,0.0,-0.0,-0.0,-0.0,-0.0,0.0,0.0,-0.0,-0.0,-0.0,0.0,0.0,0.0,-0.0,-0.0,-0.0,-0.0,0.0,-0.0,0.857715591775868,-0.0,-0.0,1.1721102608593408,-0.0,-0.0,0.2887092608544712,0.0,0.0,-0.0,0.0,-0.0,-0.0,-0.0,0.20926544012577397,0.0,0.0,-0.0,0.0,-0.0,-0.0,1.5557826281399485,0.0,0.0,5.60868688487343,-0.0,0.0,-0.0,0.0,0.0,0.0,0.0,0.0,0.0,0.0,0.0,-0.0,0.0,-0.0,-0.5834694165847317,0.0,0.0,-0.0,0.0,-0.0,0.0,-0.0,0.0,-0.0,0.0,-0.0,-0.0,-0.0,0.0,0.0,-0.0,0.5677323661704804,0.0,1.6083497158913294,1.1672531907630226,-0.0,-0.6403255347633285,0.0,0.0,0.0,-0.0,0.0,-0.0,-0.0,0.0,0.0,-0.0,-0.0,-0.0,0.0,0.0,0.0,-0.0,0.0,0.0,-0.0,0.0,-0.0,0.0,0.0,-0.0,-0.40210406095102963,-0.0,0.0,-0.0,-0.0,-0.0,-0.0,-0.0,-0.0,0.0,-0.0,0.0,0.0,0.0,-0.0,0.0,-0.0,0.0,-0.0,-0.0,0.0,0.0,0.0,-0.0,0.0,0.7072730612261542,1.6226804361881382,0.0,-0.0,-0.0,0.4051983255690641,0.0,-0.0,0.0,-0.0,-0.0,-0.0,1.224714232790628,0.0,0.0,-1.1811727255510334,-0.003019012500058569,-0.0,0.0,-0.0,-0.0,0.0,0.0,-0.0,-0.0,0.0,-0.0,-0.0,-0.0,-0.0,0.0,-0.0,-0.0,0.0,0.0,-0.0,0.0,0.0,0.0,0.0,-0.0,-0.0,0.19289042452120514,-0.0,-0.0,0.0,0.953787565634395,0.0,-0.0,-0.0,-0.0,-0.0,-0.0,-0.0,-0.0,-0.0,-0.0,-0.0,-0.0,-0.0,-0.0,6.58090326308205,-0.0,0.0,0.0,0.0,-0.0],\"xaxis\":\"x\",\"xbins\":{\"end\":6.58090326308205,\"size\":0.1,\"start\":-5.0775858518346},\"yaxis\":\"y\",\"type\":\"histogram\"},{\"autobinx\":false,\"histnorm\":\"probability density\",\"legendgroup\":\"Ridge\",\"marker\":{\"color\":\"rgb(255, 127, 14)\"},\"name\":\"Ridge\",\"opacity\":0.7,\"x\":[-1.1129087993451756,0.8294144662533005,-0.5787984166641863,-4.491722023112633,-0.32314439645005455,2.55284477850727,0.6441174358209545,0.14095520188850647,-0.7850726377095079,0.7655534592397895,0.35668345877111163,-1.5694262616057766,0.26227557067195745,-0.25740342390756044,-0.7824098482842771,2.5934921160920803,0.5606042947987543,-0.45173420352269883,-1.2515177116237777,-1.256699618979678,-0.8399631100452938,-0.9115025384574977,2.424044813835149,0.5895441677218894,-1.0812932141466856,-1.7078041853217465,-0.1499268417109021,0.8871041754356641,0.6283527413633657,1.838178463211789,0.5053018276986413,1.8475439808285687,1.166041725122654,-0.2943188274365415,-0.8460284506775244,-1.1743906199074035,0.3875825329008064,1.5379256032546311,0.7316435087966177,-1.8849743338031006,-0.38039062781692334,-0.08497089850915203,1.2408957059769583,-0.6753846928418555,0.9156462926384432,1.3807542463331486,-1.8741582993187393,-0.30360139530910635,-1.042495473341164,1.417991869998942,-1.7072056935386686,1.5472728948675274,-0.1227210004053525,-1.5950573585055365,0.15378752892533948,-1.5158020234453644,0.3575736927386995,0.030330024714697368,0.5305137448731897,0.5063646604902403,-1.3044749851606834,-0.9238000638359023,-0.8593459950760469,-0.8880271347940234,-0.6393546630438718,-0.21638696058565512,0.5305137448731897,0.379233638116057,-0.9978701583674365,0.24931731321947223,0.05756227228096078,-1.2397454075266032,1.2780601949512143,-0.10863399808952054,-0.21077934012562927,-0.29120046811220957,-1.8319505334687087,-0.049184438276729456,1.331981022834703,0.38011871476710857,-0.5547483724496609,-0.47739919910570927,-0.01885776832642565,2.083607641950537,0.5019017353092031,1.1648262126906384,-0.3326741058271649,-0.5674857997056224,-0.21335053062709197,-0.37947358391750374,1.566919870354289,-1.252227865051891,1.4733934612815118,0.29503024327076344,-0.39116971003033674,1.9506134740656513,-1.303957248557789,-0.26461410270484037,1.1745371841277077,0.7332049553667082,0.40787226982273206,-0.07004096082378566,0.964107992029871,-0.7510364354349439,-0.550702216453831,-0.38039062781692334,0.5946382945523594,1.1556929985030082,0.24728461617852499,-1.5282662275837333,0.8294023660847143,-1.0524652240917245,0.16304731435786834,1.4641369891508154,0.15378752892533948,1.6818403861388154,5.352922139978132,0.18684346159247137,0.48893787080154943,-0.4506482465363275,1.389175653431114,0.858007667568736,0.30880283581316803,0.9417726671755917,0.5053018276986413,0.9156462926384432,0.27970006587236246,1.046388259836048,-1.3612332448925857,0.6049897975118408,-0.0654331427105454,-1.010899622585712,0.9579782613824226,0.725254378088972,-1.3691288925157399,1.3807542463331486,0.7257446567853505,1.6015116018524738,-0.13594760851279175,0.33530494141202993,-1.4934173404771822,0.6746094015059423,-0.3710643489748804,-1.3037552248842899,-0.5547483724496609,1.1401731485444713,0.7316435087966177,-0.7704485369412656,1.3090641217710992,0.5606042947987543,1.5022066465150292,2.004386612161218,-0.15732058294754425,-1.1880424085186658,0.6165824461464857,0.8794436105112443,0.18350594168408804,-0.6227415537366953,0.5190881755161514,-0.8512030334431031,-1.5624517801768434,1.7557378683622877,0.47218821530979277,-1.7470268311648771,-0.4438949512008504,-0.8351537643914084,0.35668345877111163,0.714599433692902,0.5244451833779441,-0.8487825870093803,1.653849861479638,-0.0397159499033346,-0.6578821407405266,0.3870083521742647,-1.0429267048069575,0.39607691232942444,0.3256760080350283,-1.0696500851664723,-2.498700474833488,-0.9746776732691356,0.379233638116057,-0.570987075150232,0.26227557067195745,-0.24695538881775614,-1.1473221196669303,-0.049184438276729456,0.23989386642108917,0.31849973235516205,-1.062969714795758,0.6701186728271241,0.5128595234322155,0.6320329944543267,-1.1731659078567338,0.03952824119743181,-1.2699522862309158,0.856571680748086,-0.8977872724625975,-0.9708116225942955,0.19182873460436056,0.2336292575061869,2.269289902502885,-1.2140561129117442,0.3471374217527803,0.5502602614322686,1.2058020229634845,-0.0015168394811801988,-0.7817080683037941,0.0034856782101159167,2.0420153760896227,0.1869271089993575,-0.12300009092941451,0.368143250942817,-0.4003860901626439,-0.19947199021441694,-1.1465289568914838,1.4463457173646934,0.5128595234322155,0.15378752892533948,-2.3860029596238714,-2.498700474833488,-1.158228330706665,1.4479555874952161,-1.8625735900026759,-1.2420327374696447,-0.04068580996695814,0.4388487477205431,-0.1454890137237449,-0.3416944929344692,0.33628752777562243,-0.5362284339622325,-0.3035575716149574,-0.20179091740061325,-0.38342993420766974,0.2984948984457401,-0.16419004276167953,-0.32853661451035787,-0.13789561006516693,1.1217152075846952,-0.19947199021441694,0.6320329944543267,1.644825182046553,0.517589442715638,0.3595335301023531,-0.5868463926732644,-0.21638696058565512,0.6037975663443774,-1.7078041853217465,-0.6879302509236632,0.649573889916438,2.803638279276967,1.2247078451686795,-0.11110506202544836,-0.43781037857885907,-0.06382234426582083,-1.442881563503808,-0.3996679623842611,-0.4139565225914455,-0.7817080683037941,-0.7649194839949696,-0.2980471339636057,-0.5362284339622325,-1.3567671205440002,-1.2381446354942645,-1.559734913180344,4.945017934913417,-1.09947213320977,0.6634165306117643,0.5923170445509921,0.6701186728271241,-0.8396674041662306],\"xaxis\":\"x\",\"xbins\":{\"end\":5.352922139978132,\"size\":0.1,\"start\":-4.491722023112633},\"yaxis\":\"y\",\"type\":\"histogram\"},{\"legendgroup\":\"Lasso\",\"marker\":{\"color\":\"rgb(31, 119, 180)\"},\"mode\":\"lines\",\"name\":\"Lasso\",\"showlegend\":false,\"x\":[-5.0775858518346,-5.054268873604767,-5.030951895374933,-5.007634917145101,-4.984317938915267,-4.961000960685434,-4.9376839824556,-4.914367004225767,-4.891050025995934,-4.867733047766101,-4.844416069536267,-4.821099091306434,-4.7977821130766,-4.774465134846768,-4.751148156616934,-4.727831178387101,-4.704514200157267,-4.681197221927434,-4.657880243697601,-4.634563265467768,-4.611246287237934,-4.587929309008101,-4.564612330778267,-4.541295352548435,-4.517978374318601,-4.494661396088768,-4.471344417858934,-4.448027439629101,-4.424710461399268,-4.401393483169435,-4.378076504939601,-4.354759526709768,-4.331442548479934,-4.308125570250101,-4.284808592020268,-4.261491613790435,-4.238174635560601,-4.214857657330768,-4.191540679100935,-4.168223700871102,-4.144906722641268,-4.121589744411435,-4.098272766181601,-4.074955787951769,-4.0516388097219345,-4.028321831492102,-4.005004853262268,-3.981687875032435,-3.9583708968026015,-3.9350539185727684,-3.9117369403429354,-3.888419962113102,-3.8651029838832685,-3.8417860056534354,-3.8184690274236024,-3.795152049193769,-3.7718350709639354,-3.748518092734102,-3.725201114504269,-3.7018841362744355,-3.6785671580446024,-3.655250179814769,-3.6319332015849355,-3.608616223355102,-3.585299245125269,-3.561982266895436,-3.5386652886656025,-3.515348310435769,-3.4920313322059355,-3.4687143539761025,-3.445397375746269,-3.422080397516436,-3.3987634192866025,-3.3754464410567695,-3.352129462826936,-3.328812484597103,-3.3054955063672695,-3.282178528137436,-3.2588615499076026,-3.2355445716777695,-3.2122275934479365,-3.188910615218103,-3.1655936369882696,-3.142276658758436,-3.118959680528603,-3.0956427022987696,-3.0723257240689366,-3.049008745839103,-3.0256917676092696,-3.0023747893794366,-2.979057811149603,-2.95574083291977,-2.9324238546899366,-2.9091068764601036,-2.88578989823027,-2.8624729200004366,-2.839155941770603,-2.81583896354077,-2.7925219853109366,-2.7692050070811036,-2.74588802885127,-2.722571050621437,-2.6992540723916036,-2.67593709416177,-2.652620115931937,-2.6293031377021037,-2.6059861594722706,-2.582669181242437,-2.559352203012604,-2.5360352247827707,-2.512718246552937,-2.4894012683231037,-2.4660842900932707,-2.442767311863437,-2.419450333633604,-2.3961333554037707,-2.3728163771739377,-2.3494993989441038,-2.3261824207142707,-2.3028654424844373,-2.2795484642546042,-2.256231486024771,-2.2329145077949377,-2.2095975295651047,-2.186280551335271,-2.1629635731054377,-2.1396465948756043,-2.1163296166457712,-2.0930126384159378,-2.0696956601861047,-2.0463786819562713,-2.0230617037264382,-1.9997447254966043,-1.9764277472667713,-1.9531107690369378,-1.9297937908071048,-1.9064768125772713,-1.8831598343474383,-1.8598428561176048,-1.8365258778877718,-1.8132088996579379,-1.7898919214281048,-1.7665749431982718,-1.7432579649684383,-1.7199409867386053,-1.6966240085087718,-1.6733070302789388,-1.6499900520491049,-1.6266730738192718,-1.6033560955894384,-1.5800391173596053,-1.5567221391297719,-1.5334051608999388,-1.5100881826701054,-1.4867712044402723,-1.4634542262104384,-1.4401372479806054,-1.416820269750772,-1.3935032915209389,-1.3701863132911054,-1.3468693350612724,-1.3235523568314393,-1.3002353786016054,-1.2769184003717724,-1.253601422141939,-1.230284443912106,-1.2069674656822724,-1.1836504874524394,-1.160333509222606,-1.137016530992773,-1.113699552762939,-1.090382574533106,-1.067065596303273,-1.0437486180734394,-1.020431639843606,-0.9971146616137725,-0.973797683383939,-0.9504807051541064,-0.927163726924273,-0.9038467486944395,-0.880529770464606,-0.8572127922347725,-0.83389581400494,-0.8105788357751065,-0.787261857545273,-0.7639448793154395,-0.7406279010856069,-0.7173109228557735,-0.69399394462594,-0.6706769663961065,-0.647359988166273,-0.6240430099364405,-0.6007260317066061,-0.5774090534767735,-0.55409207524694,-0.5307750970171075,-0.5074581187872731,-0.4841411405574396,-0.46082416232760703,-0.43750718409777356,-0.4141902058679401,-0.3908732276381066,-0.367556249408274,-0.34423927117844055,-0.3209222929486071,-0.2976053147187736,-0.27428833648894013,-0.25097135825910755,-0.22765438002927407,-0.2043374017994406,-0.18102042356960713,-0.15770344533977365,-0.13438646710994107,-0.1110694888801067,-0.08775251065027412,-0.06443553242044064,-0.04111855419060806,-0.017801575960773697,0.005515402269058889,0.028832380498892363,0.052149358728725836,0.07546633695855931,0.09878331518839278,0.12210029341822537,0.14541727164805884,0.16873424987789143,0.1920512281077258,0.21536820633755926,0.23868518456739185,0.2620021627972253,0.2853191410270588,0.30863611925689227,0.33195309748672486,0.35527007571655833,0.3785870539463927,0.4019040321762253,0.42522101040605875,0.44853798863589134,0.4718549668657257,0.4951719450955583,0.5184889233253918,0.5418059015552252,0.5651228797850578,0.5884398580148922,0.6117568362447248,0.6350738144745582,0.6583907927043908,0.6817077709342252,0.7050247491640578,0.7283417273938912,0.7516587056237247,0.7749756838535582,0.7982926620833917,0.8216096403132243,0.8449266185430577,0.8682435967728912,0.8915605750027247,0.9148775532325581,0.9381945314623907,0.9615115096922251,0.9848284879220577,1.0081454661518912,1.0314624443817237,1.0547794226115572,1.0780964008413916,1.1014133790712242,1.1247303573010576,1.1480473355308902,1.1713643137607246,1.1946812919905572,1.2179982702203906,1.2413152484502232,1.2646322266800576,1.287949204909891,1.3112661831397237,1.3345831613695571,1.3579001395993906,1.381217117829224,1.4045340960590567,1.4278510742888901,1.4511680525187245,1.474485030748557,1.4978020089783906,1.5211189872082231,1.5444359654380566,1.56775294366789,1.5910699218977236,1.614386900127557,1.6377038783573896,1.661020856587224,1.6843378348170566,1.70765481304689,1.7309717912767226,1.754288769506557,1.7776057477363905,1.800922725966223,1.8242397041960565,1.84755668242589,1.8708736606557235,1.894190638885556,1.9175076171153895,1.940824595345223,1.9641415735750565,1.98745855180489,2.0107755300347225,2.034092508264556,2.0574094864943895,2.080726464724223,2.1040434429540555,2.127360421183889,2.1506773994137234,2.173994377643556,2.1973113558733894,2.220628334103222,2.2439453123330564,2.267262290562889,2.2905792687927224,2.313896247022556,2.3372132252523894,2.360530203482223,2.3838471817120555,2.407164159941889,2.4304811381717215,2.453798116401556,2.4771150946313893,2.500432072861222,2.5237490510910554,2.547066029320889,2.5703830075507224,2.593699985780555,2.6170169640103884,2.640333942240222,2.6636509204700554,2.686967898699889,2.7102848769297214,2.733601855159556,2.7569188333893884,2.780235811619222,2.8035527898490544,2.826869768078889,2.8501867463087223,2.873503724538555,2.8968207027683883,2.920137680998221,2.9434546592280544,2.966771637457887,2.9900886156877213,3.0134055939175557,3.0367225721473883,3.060039550377221,3.0833565286070552,3.106673506836888,3.129990485066722,3.153307463296553,3.1766244415263873,3.1999414197562217,3.2232583979860543,3.2465753762158887,3.2698923544457212,3.293209332675554,3.316526310905388,3.3398432891352208,3.363160267365055,3.3864772455948877,3.4097942238247203,3.4331112020545547,3.4564281802843873,3.47974515851422,3.503062136744054,3.526379114973887,3.549696093203721,3.5730130714335555,3.5963300496633863,3.6196470278932207,3.6429640061230533,3.6662809843528876,3.68959796258272,3.712914940812553,3.736231919042387,3.7595488972722215,3.782865875502054,3.8061828537318867,3.8294998319617193,3.8528168101915536,3.876133788421388,3.8994507666512206,3.922767744881053,3.9460847231108858,3.96940170134072,3.9927186795705545,4.016035657800385,4.03935263603022,4.062669614260054,4.085986592489887,4.109303570719721,4.132620548949552,4.155937527179386,4.1792545054092205,4.202571483639053,4.225888461868886,4.24920544009872,4.272522418328553,4.295839396558387,4.31915637478822,4.342473353018052,4.3657903312478865,4.389107309477719,4.4124242877075535,4.435741265937386,4.459058244167219,4.482375222397053,4.505692200626886,4.52900917885672,4.5523261570865525,4.575643135316385,4.5989601135462195,4.622277091776052,4.645594070005886,4.668911048235719,4.692228026465552,4.715545004695386,4.73886198292522,4.762178961155053,4.7854959393848855,4.808812917614718,4.832129895844552,4.855446874074387,4.878763852304218,4.902080830534052,4.9253978087638846,4.948714786993719,4.972031765223553,4.995348743453384,5.0186657216832185,5.041982699913053,5.065299678142885,5.088616656372718,5.111933634602551,5.135250612832385,5.158567591062219,5.181884569292052,5.2052015475218845,5.228518525751719,5.251835503981551,5.275152482211386,5.298469460441218,5.321786438671051,5.345103416900885,5.368420395130718,5.391737373360552,5.415054351590383,5.438371329820217,5.461688308050052,5.485005286279884,5.508322264509719,5.531639242739551,5.554956220969384,5.578273199199218,5.601590177429051,5.624907155658883,5.648224133888718,5.67154111211855,5.694858090348385,5.718175068578219,5.74149204680805,5.764809025037884,5.788126003267717,5.811442981497551,5.834759959727386,5.858076937957216,5.881393916187051,5.904710894416883,5.928027872646718,5.95134485087655,5.974661829106383,5.997978807336217,6.021295785566052,6.044612763795884,6.067929742025717,6.091246720255549,6.114563698485384,6.137880676715218,6.161197654945051,6.184514633174883,6.207831611404716,6.23114858963455,6.254465567864385,6.277782546094215,6.30109952432405,6.324416502553884,6.347733480783717,6.371050459013551,6.394367437243382,6.417684415473216,6.441001393703051,6.464318371932883,6.487635350162716,6.51095232839255,6.534269306622383,6.557586284852217],\"xaxis\":\"x\",\"y\":[0.006616081736722875,0.006580119927529637,0.006473403081428295,0.0062993738828217745,0.006063564685837939,0.005773305490885266,0.0054373458303686095,0.005065417751983033,0.0046677702744351126,0.004254706179480353,0.0038361498918527306,0.0034212708456284914,0.0030181807094342285,0.002633715839020408,0.002273309078339483,0.0019409482267942703,0.0016392126995643849,0.0013693755303778063,0.0011315551102886903,0.0009248999407728124,0.0007477900584304824,0.0005980403908663194,0.0004730937823548937,0.0003701944114013902,0.00028653545649948034,0.0002193778501660345,0.000166139567829298,0.00012445698352755863,9.222132531933085e-05,6.759418589819749e-05,4.900644716664106e-05,3.514495481761157e-05,2.493094004376305e-05,1.7493641143500693e-05,1.214192837283174e-05,8.336063494206584e-06,5.661092555065647e-06,3.802816686979963e-06,2.5268323052583157e-06,1.6607847353946941e-06,1.079732471675789e-06,6.94360287891495e-07,4.416919465528927e-07,2.77920115187502e-07,1.729762093275745e-07,1.0649241211200398e-07,6.485102532501275e-08,3.906437890304425e-08,2.327613646180319e-08,1.3718504175147181e-08,7.997762789656214e-09,4.612072996147417e-09,2.6308114284919975e-09,1.4843939014402109e-09,8.284656324411353e-10,4.573679486974666e-10,2.497599800007706e-10,1.3491053640266258e-10,7.208332002970071e-11,3.809689558514374e-11,1.9916374687939757e-11,1.0299043267898388e-11,5.268043730412113e-12,2.6654329016011684e-12,1.3339883328950525e-12,6.603926063806031e-13,3.233838056299196e-13,1.5663911723506707e-13,7.504954790389508e-14,3.5568195137342145e-14,1.6674064218804084e-14,7.731913842901897e-15,3.5464875379324964e-15,1.6090731020045931e-15,7.221361247767582e-16,3.2057426542472983e-16,1.4076883946912664e-16,6.114554837049215e-17,2.627709564943078e-17,1.1183854383638101e-17,4.743569988956414e-18,2.078881800840711e-18,1.1209006121392232e-18,1.1129536521806332e-18,2.053715183292453e-18,4.7006014092127466e-18,1.113937155945891e-17,2.6317474826924275e-17,6.15856933155569e-17,1.4259341680592324e-16,3.2660760505083083e-16,7.400276318064123e-16,1.6586802503632854e-15,3.677651088045257e-15,8.066252151840045e-15,1.750116020407071e-14,3.756263308287221e-14,7.975165877807894e-14,1.6750134540807466e-13,3.480103199339613e-13,7.15256090872012e-13,1.4542095672772044e-12,2.9247502945366265e-12,5.818986172967084e-12,1.145257030567087e-11,2.229749581787284e-11,4.294445279712048e-11,8.181939945386193e-11,1.542070072005604e-10,2.875086475457374e-10,5.302700179342624e-10,9.674821615541222e-10,1.7461798400221235e-09,3.11770816548989e-09,5.506590940214423e-09,9.6212481439292e-09,1.6629593806577866e-08,2.8433732678178708e-08,4.8093735079837274e-08,8.047220922563225e-08,1.3320070536640095e-07,2.1810755565077897e-07,3.532961407373796e-07,5.661239067247666e-07,8.974059625400086e-07,1.4072514755061637e-06,2.1830327628226762e-06,3.3500791809407883e-06,5.08576978901005e-06,7.6377545832659e-06,1.134704282327343e-05,1.6676632384987e-05,2.42461858515372e-05,3.487295501367378e-05,4.961868529149791e-05,6.984157214497316e-05,9.725148348986814e-05,0.0001339656176603784,0.0001825605770447709,0.00024611558064603054,0.00032824033196790454,0.00043308005883875426,0.0005652896390665527,0.0007299687291079407,0.0009325506281669785,0.001178639411109861,0.0014737927578310553,0.0018232519002111158,0.00223162507368064,0.0027025365177443038,0.0032382589788493518,0.0038393532477856126,0.004504342829516548,0.005229454677693758,0.006008457360798602,0.006832625540406139,0.0076908539557386715,0.00856993526717635,0.0094550045332918,0.010330139581679483,0.011179092222818212,0.011986111532946953,0.012736808787187795,0.013419005486543135,0.014023502481469073,0.01454471024026659,0.014981088112836213,0.01533535369163623,0.015614441201408626,0.015829208914541905,0.015993918230926805,0.01612552950575321,0.016242880283236637,0.016365828926784183,0.01651445980467458,0.016708454795805888,0.016966740025439214,0.01730751691280114,0.017748783475279813,0.018309445959907265,0.019011112444037363,0.019880648575612878,0.02095355973956023,0.02227824129997421,0.023921105948141688,0.025972550759826893,0.028553662443255207,0.03182347425545537,0.035986480659887375,0.041299987227141226,0.04808072861100625,0.05671003646367435,0.06763669691833203,0.08137652390487918,0.09850761435966464,0.1196602708218952,0.1455007016820195,0.17670786053051138,0.21394317566265134,0.2578134473257947,0.30882783494375843,0.36735058087030603,0.4335518630141846,0.5073598607283679,0.5884176702817905,0.6760490292813948,0.7692368235254592,0.8666179956785925,0.9664977258923927,1.06688462443025,1.165547226033757,1.2600904110851545,1.3480486436638086,1.4269912803501903,1.4946338417512908,1.5489482124848257,1.5882643705894048,1.6113565163449706,1.617507379886312,1.6065459733965501,1.578855988459432,1.5353542418886192,1.4774408322503707,1.4069247660072979,1.325930547542597,1.2367924442690004,1.1419437390272835,1.0438082381504374,0.9447006549373178,0.8467413353906341,0.7517892815766102,0.6613957287080307,0.5767788196743846,0.4988183537224427,0.42806829066495855,0.3647837522121622,0.3089587151416616,0.26037043000377325,0.21862677953838716,0.18321324173994952,0.1535367574786197,0.12896453260830737,0.10885654740004888,0.09259123420319162,0.07958436852766711,0.06930167047875907,0.061265922812357446,0.05505958480079721,0.05032393524458346,0.04675573809299432,0.044102317874070894,0.04215578642988204,0.04074700097244314,0.039739675007132894,0.03902492145660806,0.038516389157152976,0.03814606280328702,0.03786073161719714,0.03761909012705366,0.037389410593927086,0.03714771553342302,0.03687637552592105,0.036563058156493765,0.03619995581602613,0.0357832219267144,0.03531254683226243,0.03479080691255909,0.03422372471775069,0.03361948536929849,0.032988266065480394,0.03234165148163575,0.031691927535071954,0.03105126789180085,0.030430849528138345,0.02983995302553768,0.02928511746013721,0.028769426537744888,0.028292000580298807,0.027847757692668687,0.027427487695818653,0.027018256092056155,0.02660412523204171,0.026167149353495622,0.025688572772044442,0.02515013942833267,0.024535409712532045,0.02383097844135282,0.02302749628784714,0.022120414874430352,0.021110401075379693,0.020003395985982757,0.01881032523140521,0.017546496528659243,0.016230744778097713,0.014884402243819605,0.013530180293969076,0.01219104941830073,0.010889196482516593,0.009645123878440003,0.008476936412358442,0.007399840752003681,0.006425861337718543,0.005563757915796011,0.0048191148862136105,0.004194562520960711,0.003690085241507534,0.0033033724022611607,0.0030301717726631755,0.0028646141328794762,0.0027994878555529304,0.002826453711339039,0.002936201127185073,0.003118556618425995,0.003362562225003794,0.0036565459229913645,0.003988206897246145,0.0043447363222171185,0.004712989287419045,0.005079716367929111,0.0054318549235406665,0.005756871474675755,0.00604313843300881,0.006280321967980669,0.006459753604842083,0.006574756764227547,0.00662090105264905,0.006596161557415769,0.006500967237546454,0.0063381310243579144,0.006112663565080335,0.005831481700567589,0.005503030842991815,0.005136846633847989,0.004743085067211052,0.004332051390216119,0.0039137565726859195,0.0034975262785434153,0.0030916816045389074,0.0027033040545586585,0.002338090025261526,0.0020002931951213685,0.0016927472318322052,0.0014169565991690202,0.001173240200664487,0.000960911198464474,0.0007784764745952502,0.0006238406084270505,0.0004945015929022317,0.00038772843267054175,0.00030071389999349903,0.00023069875659283408,0.00017506644009726506,0.00013140940320166997,9.756990457769149e-05,7.165907738034534e-05,5.205859451521594e-05,3.7409298096543185e-05,2.659087171876089e-05,1.8696119888850832e-05,1.3002782195976174e-05,8.945136779529297e-06,6.087003867298225e-06,4.097189619898929e-06,2.7279376763218954e-06,1.7965889259213034e-06,1.170385376701522e-06,7.541798928509908e-07,4.807141503845993e-07,3.0308521911364606e-07,1.8902032353575148e-07,1.1660525991337068e-07,7.115307516469583e-08,4.29472244564797e-08,2.5641440731984805e-08,1.5143129598538048e-08,8.846159160335306e-09,5.111634031724612e-09,2.921666568185226e-09,1.6518379667101267e-09,9.237833562188909e-10,5.110209757742236e-10,2.7962323622074214e-10,1.5134701735770058e-10,8.10291260226934e-11,4.291189436876218e-11,2.247990189160495e-11,1.1650325009463893e-11,5.9759614822439655e-12,3.0398432503714695e-12,1.5460994670757567e-12,8.127816038841467e-13,4.947938925555056e-13,4.3896693301032586e-13,6.181034794271554e-13,1.1191258813402089e-12,2.18079729092989e-12,4.295361399199424e-12,8.411951614779492e-12,1.6315068011214344e-11,3.1309133531653404e-11,5.94358119966358e-11,1.116087037603864e-10,2.0730769358702629e-10,3.808895381180649e-10,6.922271838438563e-10,1.2444119437835473e-09,2.212817464547164e-09,3.8921798980556e-09,6.771831053373118e-09,1.1654273829232888e-08,1.9839476835732528e-08,3.3407279256393626e-08,5.564394251628217e-08,9.167703801768074e-08,1.4940638142424205e-07,2.4084831685900694e-07,3.8404664721981295e-07,6.057455530017962e-07,9.450665353194172e-07,1.4584798381831853e-06,2.226406025772028e-06,3.361818027614401e-06,5.021227849016191e-06,7.418422263080758e-06,1.0841242663296077e-05,1.567156884941843e-05,2.24084480056848e-05,3.169399436589962e-05,4.434126392290284e-05,6.136278388393317e-05,8.399780443377975e-05,0.00011373567482864287,0.00015233208177881563,0.00020181430183820992,0.0002644712066335208,0.0003428236288834413,0.0004395709598061311,0.0005575106048541857,0.000699428246213833,0.0008679587712600922,0.0010654201854717392,0.0012936257175808802,0.0015536824420176371,0.0018457878088439167,0.0021690381435912056,0.0025212650878392215,0.0028989167365791615,0.0032969995912240316,0.00370909519867617,0.004127461452490033,0.004543223141659462,0.004946649789739067,0.005327511654163068,0.005675497611498567,0.0059806722684142425,0.006233944727938827,0.006427518622528582,0.00655529273111849,0.006613183907803408,0.006599349058798219,0.006514290116860181,0.006360834730803059,0.006143994881642708,0.005870714937578767,0.005549528867027871,0.005190152664129525,0.004803041935858018,0.004398945753924885,0.00398848628039353,0.0035817896055596976,0.003188187196899305,0.0028160000201539965,0.002472409510939776,0.002163411897922029,0.0018938455793443229,0.0016674758715936808,0.001487117849738004,0.0013547763712658885,0.0012717827255759712,0.001238909538512432,0.0012564493135414523,0.0013242469455821964,0.0014416822731699846,0.001607604775681279,0.0018202283969601426,0.0020769997144296356,0.002374456832896322,0.0027080990789866695,0.0030722885037872006,0.003460203181757731,0.0038638592835563237,0.004274214029758174,0.004681355214592187,0.005074775512782781,0.005443721885210403,0.0057776028143239795,0.006066429588919613,0.006301263125384017,0.006474635423858675,0.006580915062723843],\"yaxis\":\"y\",\"type\":\"scatter\"},{\"legendgroup\":\"Ridge\",\"marker\":{\"color\":\"rgb(255, 127, 14)\"},\"mode\":\"lines\",\"name\":\"Ridge\",\"showlegend\":false,\"x\":[-4.491722023112633,-4.472032734786452,-4.45234344646027,-4.432654158134088,-4.412964869807907,-4.393275581481725,-4.373586293155544,-4.353897004829363,-4.3342077165031805,-4.314518428176999,-4.294829139850818,-4.275139851524636,-4.255450563198455,-4.235761274872273,-4.216071986546091,-4.19638269821991,-4.176693409893728,-4.157004121567547,-4.137314833241366,-4.1176255449151835,-4.097936256589002,-4.078246968262821,-4.058557679936639,-4.038868391610458,-4.0191791032842765,-3.999489814958095,-3.979800526631913,-3.9601112383057315,-3.94042194997955,-3.9207326616533686,-3.901043373327187,-3.8813540850010053,-3.861664796674824,-3.8419755083486424,-3.8222862200224608,-3.8025969316962795,-3.782907643370098,-3.763218355043916,-3.743529066717735,-3.7238397783915533,-3.7041504900653717,-3.6844612017391905,-3.664771913413009,-3.645082625086827,-3.625393336760646,-3.6057040484344642,-3.5860147601082826,-3.566325471782101,-3.5466361834559192,-3.526946895129738,-3.5072576068035564,-3.4875683184773747,-3.4678790301511935,-3.448189741825012,-3.42850045349883,-3.408811165172649,-3.3891218768464673,-3.3694325885202856,-3.3497433001941044,-3.3300540118679227,-3.310364723541741,-3.29067543521556,-3.270986146889378,-3.2512968585631965,-3.2316075702370153,-3.2119182819108336,-3.192228993584652,-3.1725397052584707,-3.1528504169322886,-3.1331611286061074,-3.113471840279926,-3.093782551953744,-3.074093263627563,-3.054403975301381,-3.0347146869751995,-3.0150253986490183,-2.9953361103228366,-2.975646821996655,-2.9559575336704738,-2.936268245344292,-2.9165789570181104,-2.896889668691929,-2.8772003803657475,-2.857511092039566,-2.8378218037133847,-2.818132515387203,-2.7984432270610213,-2.77875393873484,-2.7590646504086584,-2.739375362082477,-2.7196860737562956,-2.6999967854301135,-2.6803074971039322,-2.660618208777751,-2.640928920451569,-2.6212396321253877,-2.601550343799206,-2.5818610554730244,-2.562171767146843,-2.5424824788206615,-2.52279319049448,-2.5031039021682986,-2.483414613842117,-2.4637253255159353,-2.4440360371897536,-2.4243467488635724,-2.4046574605373907,-2.3849681722112095,-2.365278883885028,-2.345589595558846,-2.325900307232665,-2.3062110189064833,-2.2865217305803016,-2.26683244225412,-2.2471431539279387,-2.227453865601757,-2.2077645772755754,-2.188075288949394,-2.1683860006232125,-2.148696712297031,-2.1290074239708496,-2.109318135644668,-2.0896288473184863,-2.0699395589923046,-2.0502502706661234,-2.0305609823399418,-2.01087169401376,-1.9911824056875789,-1.9714931173613972,-1.9518038290352155,-1.9321145407090343,-1.9124252523828527,-1.892735964056671,-1.8730466757304898,-1.853357387404308,-1.8336680990781264,-1.8139788107519448,-1.7942895224257636,-1.774600234099582,-1.7549109457734002,-1.735221657447219,-1.7155323691210373,-1.6958430807948557,-1.6761537924686745,-1.6564645041424928,-1.6367752158163111,-1.6170859274901295,-1.5973966391639483,-1.5777073508377666,-1.558018062511585,-1.5383287741854037,-1.518639485859222,-1.4989501975330404,-1.4792609092068592,-1.4595716208806775,-1.4398823325544958,-1.4201930442283146,-1.400503755902133,-1.3808144675759513,-1.3611251792497696,-1.3414358909235884,-1.3217466025974067,-1.302057314271225,-1.2823680259450438,-1.2626787376188622,-1.2429894492926805,-1.2233001609664993,-1.2036108726403176,-1.183921584314136,-1.1642322959879543,-1.144543007661773,-1.1248537193355914,-1.1051644310094098,-1.0854751426832285,-1.0657858543570469,-1.0460965660308652,-1.026407277704684,-1.0067179893785023,-0.9870287010523207,-0.9673394127261394,-0.9476501243999578,-0.9279608360737761,-0.9082715477475944,-0.8885822594214132,-0.8688929710952316,-0.8492036827690499,-0.8295143944428687,-0.809825106116687,-0.7901358177905053,-0.7704465294643241,-0.7507572411381425,-0.7310679528119608,-0.7113786644857791,-0.6916893761595979,-0.6720000878334162,-0.6523107995072346,-0.6326215111810534,-0.6129322228548717,-0.59324293452869,-0.5735536462025088,-0.5538643578763272,-0.5341750695501455,-0.5144857812239643,-0.4947964928977826,-0.47510720457160094,-0.45541791624541883,-0.4357286279192376,-0.4160393395930564,-0.3963500512668743,-0.37666076294069306,-0.35697147461451184,-0.33728218628832973,-0.3175928979621485,-0.2979036096359664,-0.2782143213097861,-0.25852503298360396,-0.23883574465742274,-0.21914645633124064,-0.19945716800505942,-0.1797678796788773,-0.16007859135269698,-0.14038930302651487,-0.12070001470033365,-0.10101072637415154,-0.08132143804797032,-0.06163214972178821,-0.04194286139560699,-0.02225357306942577,-0.0025642847432445492,0.01712500358293756,0.03681429190911878,0.05650358023530089,0.07619286856148211,0.09588215688766422,0.11557144521384455,0.13526073354002666,0.15495002186620788,0.17463931019238998,0.1943285985185712,0.2140178868447533,0.23370717517093365,0.25339646349711575,0.273085751823297,0.2927750401494791,0.3124643284756603,0.3321536168018424,0.35184290512802363,0.37153219345420485,0.39122148178038607,0.4109107701065682,0.4306000584327494,0.4502893467589315,0.46997863508511273,0.48966792341129395,0.5093572117374752,0.5290465000636573,0.5487357883898385,0.5684250767160206,0.5881143650422018,0.6078036533683839,0.6274929416945643,0.6471822300207464,0.6668715183469276,0.6865608066731097,0.7062500949992909,0.725939383325473,0.7456286716516534,0.7653179599778355,0.7850072483040167,0.8046965366301988,0.82438582495638,0.8440751132825621,0.8637644016087433,0.8834536899349246,0.9031429782611058,0.9228322665872879,0.9425215549134691,0.9622108432396512,0.9819001315658324,1.0015894198920137,1.0212787082181949,1.040967996544377,1.0606572848705582,1.0803465731967403,1.1000358615229215,1.1197251498491037,1.139414438175284,1.159103726501466,1.1787930148276473,1.1984823031538294,1.2181715914800106,1.2378608798061927,1.257550168132374,1.2772394564585552,1.2969287447847364,1.3166180331109185,1.3363073214370997,1.3559966097632818,1.375685898089463,1.3953751864156443,1.4150644747418255,1.4347537630680076,1.4544430513941888,1.474132339720371,1.4938216280465522,1.5135109163727343,1.5332002046989146,1.5528894930250967,1.572578781351278,1.59226806967746,1.6119573580036413,1.6316466463298234,1.6513359346560037,1.6710252229821858,1.690714511308367,1.7104037996345491,1.7300930879607304,1.7497823762869125,1.7694716646130937,1.789160952939275,1.8088502412654561,1.8285395295916382,1.8482288179178195,1.8679181062440016,1.8876073945701828,1.907296682896364,1.9269859712225452,1.9466752595487273,1.9663645478749086,1.9860538362010907,2.005743124527272,2.025432412853454,2.0451217011796343,2.0648109895058164,2.0845002778319976,2.1041895661581798,2.123878854484361,2.143568142810543,2.1632574311367243,2.1829467194629055,2.2026360077890867,2.222325296115269,2.24201458444145,2.261703872767632,2.2813931610938134,2.3010824494199946,2.320771737746176,2.340461026072358,2.360150314398539,2.3798396027247213,2.3995288910509025,2.4192181793770846,2.438907467703265,2.458596756029447,2.4782860443556283,2.4979753326818104,2.5176646210079916,2.5373539093341737,2.557043197660354,2.576732485986536,2.5964217743127174,2.6161110626388995,2.6358003509650807,2.655489639291263,2.675178927617444,2.6948682159436252,2.7145575042698065,2.7342467925959886,2.75393608092217,2.773625369248352,2.793314657574533,2.8130039459007143,2.8326932342268956,2.8523825225530777,2.872071810879259,2.891761099205441,2.911450387531622,2.9311396758578043,2.9508289641839847,2.9705182525101668,2.990207540836348,3.00989682916253,3.0295861174887113,3.0492754058148934,3.0689646941410746,3.088653982467256,3.108343270793437,3.128032559119619,3.1477218474458004,3.1674111357719825,3.1871004240981637,3.206789712424345,3.226479000750526,3.2461682890767083,3.2658575774028895,3.2855468657290716,3.305236154055253,3.324925442381435,3.3446147307076153,3.3643040190337974,3.3839933073599786,3.4036825956861607,3.423371884012342,3.443061172338524,3.4627504606647044,3.4824397489908865,3.5021290373170677,3.521818325643249,3.541507613969431,3.561196902295613,3.5808861906217953,3.6005754789479756,3.6202647672741577,3.639954055600338,3.65964334392652,3.6793326322527022,3.6990219205788843,3.7187112089050647,3.738400497231247,3.758089785557429,3.7777790738836092,3.7974683622097896,3.8171576505359734,3.8368469388621538,3.856536227188336,3.876225515514516,3.8959148038407,3.9156040921668804,3.9352933804930608,3.954982668819243,3.974671957145425,3.994361245471607,4.014050533797787,4.0337398221239695,4.053429110450152,4.073118398776332,4.092807687102514,4.112496975428694,4.132186263754878,4.151875552081059,4.171564840407239,4.191254128733421,4.210943417059603,4.230632705385785,4.250321993711966,4.270011282038148,4.28970057036433,4.30938985869051,4.329079147016692,4.348768435342873,4.3684577236690565,4.388147011995237,4.407836300321419,4.427525588647599,4.447214876973781,4.4669041652999635,4.486593453626144,4.506282741952326,4.525972030278508,4.54566131860469,4.5653506069308705,4.585039895257051,4.604729183583235,4.624418471909415,4.644107760235597,4.6637970485617775,4.683486336887961,4.703175625214142,4.722864913540322,4.742554201866504,4.762243490192686,4.781932778518868,4.801622066845049,4.821311355171229,4.841000643497413,4.860689931823593,4.880379220149775,4.900068508475956,4.9197577968021395,4.93944708512832,4.9591363734545,4.978825661780682,4.998514950106864,5.0182042384330465,5.037893526759227,5.057582815085409,5.077272103411591,5.096961391737771,5.1166506800639535,5.136339968390134,5.156029256716318,5.175718545042498,5.19540783336868,5.2150971216948605,5.234786410021043,5.254475698347225,5.274164986673405,5.293854274999587,5.313543563325769,5.33323285165195],\"xaxis\":\"x\",\"y\":[0.004018457567952691,0.004012701707432515,0.003995481500454635,0.0039669446828258115,0.003927335092732412,0.003876989215676868,0.0038163314429234315,0.0037458681379557972,0.003666180628246679,0.0035779172595159507,0.0034817846661490673,0.003378538424204871,0.0032689732622171964,0.003153913009662337,0.00303420046351803,0.0029106873498883786,0.0027842245504329077,0.0026556527526347983,0.002525793669177439,0.0023954419553442715,0.0022653579349398516,0.0021362612253106473,0.0020088253311955073,0.001883673255927345,0.0017613741574860706,0.0016424410565763952,0.0015273295847273982,0.0014164377427751769,0.0013101066243123923,0.0012086220450077355,0.0011122170072708328,0.0010210749206390674,0.0009353334914881278,0.000855089191141705,0.000780402209035287,0.0007113017970773105,0.0006477919125057573,0.0005898570690855141,0.0005374683101368079,0.0004905892213266243,0.00044918190609671897,0.0004132128517643113,0.0003826586194629931,0.00035751129597656625,0.0003377836499873767,0.0003235139391933603,0.00031477031807984775,0.00031165479885543354,0.00031430672022550503,0.0003229056803872381,0.00033767389204250765,0.0003588779185423206,0.00038682975173834935,0.0004218871939929254,0.00046445350937543694,0.000514976312643345,0.0005739456694557247,0.0006418913876610187,0.0007193794876683552,0.0008070078500337691,0.0009054010505869601,0.0010152044077335926,0.0011370772829488274,0.001271685693791232,0.0014196943187712923,0.0015817579947596757,0.0017585128298647304,0.0019505670772940766,0.0021584919379925064,0.0023828124810899133,0.0026239988906031995,0.002882458263575739,0.0031585271980480558,0.0034524654180826363,0.0037644506867001407,0.00409457525528455,0.004442844089141512,0.004809175092950983,0.005193401536511298,0.005595276850296583,0.006014481922034363,0.006450634980088269,0.006903304097487293,0.0073720222928215255,0.007856305142020242,0.00835567074957404,0.008869661860605999,0.009397869828066625,0.009939960084086801,0.010495698703128246,0.011064979589002403,0.011647851770036745,0.012244546248499997,0.012855501823539036,0.013481389292774815,0.014123133437509285,0.014781932211007737,0.01545927257894342,0.016156942505793647,0.016877038640265254,0.017621969325748436,0.018394452646939487,0.019197509319283313,0.020034450331529466,0.02090885936088889,0.02182457009217728,0.022785638683903178,0.02379631173238035,0.02486099018649739,0.025984189757752105,0.027170498449763606,0.0284245318962211,0.029750887244039726,0.031154096347774485,0.032638579051044135,0.03420859732040142,0.035868210966928646,0.037621235641674994,0.03947120372431542,0.0414213286421518,0.043474473061349606,0.04563312128713594,0.04789935609794225,0.05027484012379604,0.05276080176538455,0.05535802554088433,0.058066846646486335,0.06088714942689009,0.06381836937687345,0.06685949823681848,0.07000909170569727,0.07326527927569483,0.0766257756938885,0.08008789357797066,0.08364855675391322,0.08730431394202998,0.09105135249172128,0.09488551195133696,0.09880229735460559,0.10279689220513182,0.10686417124149146,0.11099871316329385,0.11519481358910896,0.1194464985964658,0.1237475392586402,0.128091467639549,0.13247159473426331,0.13688103084658515,0.14131270887576042,0.14575941094143752,0.15021379870999993,0.15466844769777705,0.15911588571952195,0.16354863552681637,0.1679592615442242,0.1723404204650636,0.17668491531805794,0.18098575246547466,0.1852362008474908,0.18942985265114928,0.19356068445994593,0.1976231178360768,0.20161207820541374,0.20552305085866243,0.20935213285338822,0.2130960796025983,0.21675234496737647,0.22031911373397634,0.22379532544927203,0.22718068871121264,0.23047568516087516,0.23368156259707884,0.23680031682991728,0.2398346621020405,0.24278799013163177,0.24566431806404299,0.24846822585488906,0.25120478384088313,0.2538794714805644,0.256498088460114,0.25906665955461644,0.2615913348076128,0.2640782867371297,0.26653360639052265,0.2689632001499595,0.27137268923223656,0.2737673138286827,0.2761518437916274,0.2785304976926228,0.2809068719544844,0.28328388159527645,0.28566371391962947,0.2880477962541045,0.29043677855254263,0.2928305313991901,0.2952281596173698,0.29762803135596555,0.3000278221819294,0.3024245733619661,0.304814763178459,0.3071943898016844,0.30955906394068694,0.3119041092268531,0.3142246680549541,0.31651581042321736,0.3187726431832165,0.3209904170371272,0.32316462860833495,0.32529111496402435,0.32736613808633463,0.32938645697144187,0.33134938528115476,0.333252832775422,0.33509532911082346,0.3368760289924147,0.33859469810550324,0.34025167972005016,0.34184784234240384,0.3433845092751314,0.34486337142361256,0.3462863851453479,0.34765565736241766,0.3489733205375996,0.3502414004395211,0.351461679882382,0.35263556181320505,0.3537639352279858,0.35484704742325024,0.35588438602916667,0.3568745741246132,0.3578152815056636,0.35870315487135307,0.35953376931090253,0.36030160303325276,0.3610000367831123,0.36162137884930223,0.36215691600390265,0.3625969901280167,0.36293109969602294,0.3631480247188891,0.363235973202335,0.3631827466703349,0.36297592185068045,0.36260304522784775,0.36205183684829306,0.36131039952189115,0.36036742940593314,0.35921242388811575,0.3578358827035749,0.3562294983271766,0.3543863318731027,0.35230097100421776,0.3499696666971788,0.34739044611734377,0.3445631993207466,0.34148973800791466,0.33817382509467847,0.33462117442627987,0.33083942053082743,0.3268380588742544,0.3226283576295998,0.3182232424974056,0.31363715660093777,0.30888589792036275,0.30398643711593254,0.2989567189147488,0.2938154504935688,0.2885818804775593,0.2832755722897409,0.27791617562739346,0.2725231998108652,0.26711579264935925,0.2617125283011015,0.2563312073767493,0.25098867225111754,0.24570064021617663,0.2404815567356867,0.2353444706570477,0.230300932807749,0.2253609189610953,0.2205327777076746,0.21582320332403673,0.21123723329676156,0.20677826974643043,0.20244812360926956,0.198247080080956,0.19417398351290152,0.19022633968095323,0.1864004331235694,0.18269145707370266,0.17909365338744587,0.17560045980334718,0.1722046618486561,0.1688985467409602,0.16567405671320662,0.16252293931358125,0.15943689239494507,0.15640770170677132,0.15342736923037234,0.15048823064999337,0.14758306062203186,0.14470516478611767,0.14184845774891566,0.13900752655829757,0.13617767946626125,0.13335498004825644,0.1305362669995809,0.1277191601618893,0.12490205354100034,0.12208409625810242,0.1192651625280073,0.11644581187879934,0.11362724091647458,0.11081122799602527,0.10800007218776408,0.10519652792594,0.10240373669803277,0.09962515708005204,0.09686449434880877,0.09412563080976746,0.09141255787230428,0.08872931078665203,0.08607990683214811,0.0834682876181765,0.08089826603075144,0.07837347823207187,0.07589734100031253,0.07347301458465323,0.07110337114796951,0.06879096877801338,0.06653803096824722,0.0643464314021045,0.062217683819369075,0.06015293670011194,0.058152972469479494,0.05621821090448462,0.05434871641060139,0.05254420882994732,0.050804077442720585,0.0491273978278367,0.047512951256003674,0.045959246297475734,0.0444645423363428,0.043026874692524794,0.04164408106098623,0.04031382898461981,0.039033644082593674,0.03780093875974638,0.03661304112509699,0.035467223849144025,0.03436073269091223,0.033290814427336377,0.032254743920252925,0.031249850060715394,0.0302735403372396,0.02932332378450543,0.028396832082485765,0.027491838593268446,0.026606275144168735,0.02573824639109043,0.02488604162531701,0.024048143919634092,0.02322323654540687,0.022410206630285746,0.021608146065837774,0.020816349714722307,0.02003431100714508,0.019261715055287596,0.0184984294512998,0.01774449294837754,0.01700010225462281,0.016265597195092987,0.015541444518114593,0.014828220637117553,0.014126593608658667,0.013437304650812353,0.012761149503743286,0.012098959926216932,0.011451585608377411,0.01081987676277132,0.010204667632893022,0.009606761132111228,0.009026914796441668,0.008465828203008927,0.007924131972988926,0.007402378444120536,0.006901034064289009,0.006420473524932715,0.005960975621775379,0.005522720801224741,0.0051057903242148995,0.004710166955713796,0.004335737067889981,0.00398229402824705,0.0036495427310140756,0.0033371051207476223,0.0030445265513952763,0.002771282821846212,0.0025167877300396953,0.0022804009917391298,0.0020614363767894597,0.001859169924692349,0.001672848112278202,0.0015016958587216204,0.0013449242667395525,0.0012017380131315143,0.0010713423164923723,0.0009529494245927815,0.0008457845782583917,0.0007490914222942417,0.0006621368468463897,0.0005842152543587501,0.0005146522578024868,0.0004528078250043249,0.0003980788915953981,0.00034990147130206927,0.00030775229699785215,0.00027115002916119413,0.00023965607019648972,0.00021287502356295813,0.00019045483592809018,0.00017208665874996902,0.00015750446294162418,0.0001464844367392849,0.00013884419275191968,0.00013444180558448598,0.0001331746965762418,0.0001349783772527446,0.0001398250582258341,0.00014772212565428362,0.0001587104831538296,0.00017286275336250506,0.0001902813303547293,0.0002110962718680241,0.0002354630189525984,0.0002635599302481499,0.0002955856186814511,0.0003317560799844225,0.00037230160504958765,0.0004174634717324655,0.0004674904162147683,0.0005226348893622694,0.0005831491095243562,0.0006492809297759598,0.0007212695445204132,0.0007993410674552405,0.0008837040199357928,0.0009745447755267971,0.0010720230127751482,0.0011762672337374354,0.0012873704103298787,0.00140538582392965,0.0015303231656659073,0.0016621449653444588,0.0018007634158465654,0.001946037657062243,0.0020977715789516497,0.0022557121972125106,0.0024195486473631237,0.0025889118339790496,0.0027633747615463077,0.00294245356216382,0.003125609223428447,0.0033122500075850087,0.0035017345407595346,0.003693375539158884,0.0038864441278604767,0.004080174697549277,0.004273770235585627,0.004466408060352563,0.004657245882140419,0.004845428110014009,0.0050300923222473,0.005210375818004246,0.005385422169921307,0.0055543877009715924,0.00571644781426216,0.005870803110979104,0.006016685239257984,0.006153362424986991,0.0062801446441124575,0.006396388404562814,0.006501501114117948,0.006594945018126278,0.006676240697661394,0.006744970124317129,0.006800779272229161,0.006843380291019734,0.006872553245194663,0.0068881474261560955,0.006890082242571068,0.006878347693553199,0.006853004427217391,0.006814183384932225,0.0067620850293169735,0.006696978152007737,0.006619198255733219,0.006529145504550906,0.006427282236411064,0.006314130033696865],\"yaxis\":\"y\",\"type\":\"scatter\"},{\"legendgroup\":\"Lasso\",\"marker\":{\"color\":\"rgb(31, 119, 180)\",\"symbol\":\"line-ns-open\"},\"mode\":\"markers\",\"name\":\"Lasso\",\"showlegend\":false,\"x\":[-0.2988645822136683,0.3408157190759778,0.0,-5.0775858518346,-0.011546218132248353,2.50475330358318,0.0,0.0,-1.2254666741348454,0.0,0.0,-0.0,-0.0,-0.0,-0.0,0.8911508709272506,0.0,-0.0,-0.0,-0.0,-0.0,-0.0,0.48261306316596353,0.0,-0.0,-0.0,-0.0,0.0,0.0,0.29259736827072497,0.0,0.0,0.0,-0.0,-0.0,-0.0,0.0,0.0,0.0,-0.0,-0.0,-0.0,0.0,-0.0,0.0,0.0,-0.0,0.0,-0.0,0.0,-0.0,0.0,-0.0,-0.0,0.0,-0.0,0.0,-0.0,0.0,0.0,-0.8137493295508568,-0.0,-0.0,-0.0,-0.0,-0.0,0.0,0.0,-0.0,0.0,0.0,-0.0,0.0,0.0,-0.0,-0.0,-0.0,-0.0,0.0,0.0,-0.0,-0.0,-0.0,0.0,0.0,0.0,-0.0,-0.0,-0.0,-0.0,0.0,-0.0,0.857715591775868,-0.0,-0.0,1.1721102608593408,-0.0,-0.0,0.2887092608544712,0.0,0.0,-0.0,0.0,-0.0,-0.0,-0.0,0.20926544012577397,0.0,0.0,-0.0,0.0,-0.0,-0.0,1.5557826281399485,0.0,0.0,5.60868688487343,-0.0,0.0,-0.0,0.0,0.0,0.0,0.0,0.0,0.0,0.0,0.0,-0.0,0.0,-0.0,-0.5834694165847317,0.0,0.0,-0.0,0.0,-0.0,0.0,-0.0,0.0,-0.0,0.0,-0.0,-0.0,-0.0,0.0,0.0,-0.0,0.5677323661704804,0.0,1.6083497158913294,1.1672531907630226,-0.0,-0.6403255347633285,0.0,0.0,0.0,-0.0,0.0,-0.0,-0.0,0.0,0.0,-0.0,-0.0,-0.0,0.0,0.0,0.0,-0.0,0.0,0.0,-0.0,0.0,-0.0,0.0,0.0,-0.0,-0.40210406095102963,-0.0,0.0,-0.0,-0.0,-0.0,-0.0,-0.0,-0.0,0.0,-0.0,0.0,0.0,0.0,-0.0,0.0,-0.0,0.0,-0.0,-0.0,0.0,0.0,0.0,-0.0,0.0,0.7072730612261542,1.6226804361881382,0.0,-0.0,-0.0,0.4051983255690641,0.0,-0.0,0.0,-0.0,-0.0,-0.0,1.224714232790628,0.0,0.0,-1.1811727255510334,-0.003019012500058569,-0.0,0.0,-0.0,-0.0,0.0,0.0,-0.0,-0.0,0.0,-0.0,-0.0,-0.0,-0.0,0.0,-0.0,-0.0,0.0,0.0,-0.0,0.0,0.0,0.0,0.0,-0.0,-0.0,0.19289042452120514,-0.0,-0.0,0.0,0.953787565634395,0.0,-0.0,-0.0,-0.0,-0.0,-0.0,-0.0,-0.0,-0.0,-0.0,-0.0,-0.0,-0.0,-0.0,6.58090326308205,-0.0,0.0,0.0,0.0,-0.0],\"xaxis\":\"x\",\"y\":[\"Lasso\",\"Lasso\",\"Lasso\",\"Lasso\",\"Lasso\",\"Lasso\",\"Lasso\",\"Lasso\",\"Lasso\",\"Lasso\",\"Lasso\",\"Lasso\",\"Lasso\",\"Lasso\",\"Lasso\",\"Lasso\",\"Lasso\",\"Lasso\",\"Lasso\",\"Lasso\",\"Lasso\",\"Lasso\",\"Lasso\",\"Lasso\",\"Lasso\",\"Lasso\",\"Lasso\",\"Lasso\",\"Lasso\",\"Lasso\",\"Lasso\",\"Lasso\",\"Lasso\",\"Lasso\",\"Lasso\",\"Lasso\",\"Lasso\",\"Lasso\",\"Lasso\",\"Lasso\",\"Lasso\",\"Lasso\",\"Lasso\",\"Lasso\",\"Lasso\",\"Lasso\",\"Lasso\",\"Lasso\",\"Lasso\",\"Lasso\",\"Lasso\",\"Lasso\",\"Lasso\",\"Lasso\",\"Lasso\",\"Lasso\",\"Lasso\",\"Lasso\",\"Lasso\",\"Lasso\",\"Lasso\",\"Lasso\",\"Lasso\",\"Lasso\",\"Lasso\",\"Lasso\",\"Lasso\",\"Lasso\",\"Lasso\",\"Lasso\",\"Lasso\",\"Lasso\",\"Lasso\",\"Lasso\",\"Lasso\",\"Lasso\",\"Lasso\",\"Lasso\",\"Lasso\",\"Lasso\",\"Lasso\",\"Lasso\",\"Lasso\",\"Lasso\",\"Lasso\",\"Lasso\",\"Lasso\",\"Lasso\",\"Lasso\",\"Lasso\",\"Lasso\",\"Lasso\",\"Lasso\",\"Lasso\",\"Lasso\",\"Lasso\",\"Lasso\",\"Lasso\",\"Lasso\",\"Lasso\",\"Lasso\",\"Lasso\",\"Lasso\",\"Lasso\",\"Lasso\",\"Lasso\",\"Lasso\",\"Lasso\",\"Lasso\",\"Lasso\",\"Lasso\",\"Lasso\",\"Lasso\",\"Lasso\",\"Lasso\",\"Lasso\",\"Lasso\",\"Lasso\",\"Lasso\",\"Lasso\",\"Lasso\",\"Lasso\",\"Lasso\",\"Lasso\",\"Lasso\",\"Lasso\",\"Lasso\",\"Lasso\",\"Lasso\",\"Lasso\",\"Lasso\",\"Lasso\",\"Lasso\",\"Lasso\",\"Lasso\",\"Lasso\",\"Lasso\",\"Lasso\",\"Lasso\",\"Lasso\",\"Lasso\",\"Lasso\",\"Lasso\",\"Lasso\",\"Lasso\",\"Lasso\",\"Lasso\",\"Lasso\",\"Lasso\",\"Lasso\",\"Lasso\",\"Lasso\",\"Lasso\",\"Lasso\",\"Lasso\",\"Lasso\",\"Lasso\",\"Lasso\",\"Lasso\",\"Lasso\",\"Lasso\",\"Lasso\",\"Lasso\",\"Lasso\",\"Lasso\",\"Lasso\",\"Lasso\",\"Lasso\",\"Lasso\",\"Lasso\",\"Lasso\",\"Lasso\",\"Lasso\",\"Lasso\",\"Lasso\",\"Lasso\",\"Lasso\",\"Lasso\",\"Lasso\",\"Lasso\",\"Lasso\",\"Lasso\",\"Lasso\",\"Lasso\",\"Lasso\",\"Lasso\",\"Lasso\",\"Lasso\",\"Lasso\",\"Lasso\",\"Lasso\",\"Lasso\",\"Lasso\",\"Lasso\",\"Lasso\",\"Lasso\",\"Lasso\",\"Lasso\",\"Lasso\",\"Lasso\",\"Lasso\",\"Lasso\",\"Lasso\",\"Lasso\",\"Lasso\",\"Lasso\",\"Lasso\",\"Lasso\",\"Lasso\",\"Lasso\",\"Lasso\",\"Lasso\",\"Lasso\",\"Lasso\",\"Lasso\",\"Lasso\",\"Lasso\",\"Lasso\",\"Lasso\",\"Lasso\",\"Lasso\",\"Lasso\",\"Lasso\",\"Lasso\",\"Lasso\",\"Lasso\",\"Lasso\",\"Lasso\",\"Lasso\",\"Lasso\",\"Lasso\",\"Lasso\",\"Lasso\",\"Lasso\",\"Lasso\",\"Lasso\",\"Lasso\",\"Lasso\",\"Lasso\",\"Lasso\",\"Lasso\",\"Lasso\",\"Lasso\",\"Lasso\",\"Lasso\",\"Lasso\",\"Lasso\",\"Lasso\",\"Lasso\",\"Lasso\",\"Lasso\",\"Lasso\",\"Lasso\",\"Lasso\",\"Lasso\",\"Lasso\",\"Lasso\",\"Lasso\",\"Lasso\",\"Lasso\",\"Lasso\",\"Lasso\",\"Lasso\",\"Lasso\",\"Lasso\",\"Lasso\",\"Lasso\",\"Lasso\",\"Lasso\",\"Lasso\"],\"yaxis\":\"y2\",\"type\":\"scatter\"},{\"legendgroup\":\"Ridge\",\"marker\":{\"color\":\"rgb(255, 127, 14)\",\"symbol\":\"line-ns-open\"},\"mode\":\"markers\",\"name\":\"Ridge\",\"showlegend\":false,\"x\":[-1.1129087993451756,0.8294144662533005,-0.5787984166641863,-4.491722023112633,-0.32314439645005455,2.55284477850727,0.6441174358209545,0.14095520188850647,-0.7850726377095079,0.7655534592397895,0.35668345877111163,-1.5694262616057766,0.26227557067195745,-0.25740342390756044,-0.7824098482842771,2.5934921160920803,0.5606042947987543,-0.45173420352269883,-1.2515177116237777,-1.256699618979678,-0.8399631100452938,-0.9115025384574977,2.424044813835149,0.5895441677218894,-1.0812932141466856,-1.7078041853217465,-0.1499268417109021,0.8871041754356641,0.6283527413633657,1.838178463211789,0.5053018276986413,1.8475439808285687,1.166041725122654,-0.2943188274365415,-0.8460284506775244,-1.1743906199074035,0.3875825329008064,1.5379256032546311,0.7316435087966177,-1.8849743338031006,-0.38039062781692334,-0.08497089850915203,1.2408957059769583,-0.6753846928418555,0.9156462926384432,1.3807542463331486,-1.8741582993187393,-0.30360139530910635,-1.042495473341164,1.417991869998942,-1.7072056935386686,1.5472728948675274,-0.1227210004053525,-1.5950573585055365,0.15378752892533948,-1.5158020234453644,0.3575736927386995,0.030330024714697368,0.5305137448731897,0.5063646604902403,-1.3044749851606834,-0.9238000638359023,-0.8593459950760469,-0.8880271347940234,-0.6393546630438718,-0.21638696058565512,0.5305137448731897,0.379233638116057,-0.9978701583674365,0.24931731321947223,0.05756227228096078,-1.2397454075266032,1.2780601949512143,-0.10863399808952054,-0.21077934012562927,-0.29120046811220957,-1.8319505334687087,-0.049184438276729456,1.331981022834703,0.38011871476710857,-0.5547483724496609,-0.47739919910570927,-0.01885776832642565,2.083607641950537,0.5019017353092031,1.1648262126906384,-0.3326741058271649,-0.5674857997056224,-0.21335053062709197,-0.37947358391750374,1.566919870354289,-1.252227865051891,1.4733934612815118,0.29503024327076344,-0.39116971003033674,1.9506134740656513,-1.303957248557789,-0.26461410270484037,1.1745371841277077,0.7332049553667082,0.40787226982273206,-0.07004096082378566,0.964107992029871,-0.7510364354349439,-0.550702216453831,-0.38039062781692334,0.5946382945523594,1.1556929985030082,0.24728461617852499,-1.5282662275837333,0.8294023660847143,-1.0524652240917245,0.16304731435786834,1.4641369891508154,0.15378752892533948,1.6818403861388154,5.352922139978132,0.18684346159247137,0.48893787080154943,-0.4506482465363275,1.389175653431114,0.858007667568736,0.30880283581316803,0.9417726671755917,0.5053018276986413,0.9156462926384432,0.27970006587236246,1.046388259836048,-1.3612332448925857,0.6049897975118408,-0.0654331427105454,-1.010899622585712,0.9579782613824226,0.725254378088972,-1.3691288925157399,1.3807542463331486,0.7257446567853505,1.6015116018524738,-0.13594760851279175,0.33530494141202993,-1.4934173404771822,0.6746094015059423,-0.3710643489748804,-1.3037552248842899,-0.5547483724496609,1.1401731485444713,0.7316435087966177,-0.7704485369412656,1.3090641217710992,0.5606042947987543,1.5022066465150292,2.004386612161218,-0.15732058294754425,-1.1880424085186658,0.6165824461464857,0.8794436105112443,0.18350594168408804,-0.6227415537366953,0.5190881755161514,-0.8512030334431031,-1.5624517801768434,1.7557378683622877,0.47218821530979277,-1.7470268311648771,-0.4438949512008504,-0.8351537643914084,0.35668345877111163,0.714599433692902,0.5244451833779441,-0.8487825870093803,1.653849861479638,-0.0397159499033346,-0.6578821407405266,0.3870083521742647,-1.0429267048069575,0.39607691232942444,0.3256760080350283,-1.0696500851664723,-2.498700474833488,-0.9746776732691356,0.379233638116057,-0.570987075150232,0.26227557067195745,-0.24695538881775614,-1.1473221196669303,-0.049184438276729456,0.23989386642108917,0.31849973235516205,-1.062969714795758,0.6701186728271241,0.5128595234322155,0.6320329944543267,-1.1731659078567338,0.03952824119743181,-1.2699522862309158,0.856571680748086,-0.8977872724625975,-0.9708116225942955,0.19182873460436056,0.2336292575061869,2.269289902502885,-1.2140561129117442,0.3471374217527803,0.5502602614322686,1.2058020229634845,-0.0015168394811801988,-0.7817080683037941,0.0034856782101159167,2.0420153760896227,0.1869271089993575,-0.12300009092941451,0.368143250942817,-0.4003860901626439,-0.19947199021441694,-1.1465289568914838,1.4463457173646934,0.5128595234322155,0.15378752892533948,-2.3860029596238714,-2.498700474833488,-1.158228330706665,1.4479555874952161,-1.8625735900026759,-1.2420327374696447,-0.04068580996695814,0.4388487477205431,-0.1454890137237449,-0.3416944929344692,0.33628752777562243,-0.5362284339622325,-0.3035575716149574,-0.20179091740061325,-0.38342993420766974,0.2984948984457401,-0.16419004276167953,-0.32853661451035787,-0.13789561006516693,1.1217152075846952,-0.19947199021441694,0.6320329944543267,1.644825182046553,0.517589442715638,0.3595335301023531,-0.5868463926732644,-0.21638696058565512,0.6037975663443774,-1.7078041853217465,-0.6879302509236632,0.649573889916438,2.803638279276967,1.2247078451686795,-0.11110506202544836,-0.43781037857885907,-0.06382234426582083,-1.442881563503808,-0.3996679623842611,-0.4139565225914455,-0.7817080683037941,-0.7649194839949696,-0.2980471339636057,-0.5362284339622325,-1.3567671205440002,-1.2381446354942645,-1.559734913180344,4.945017934913417,-1.09947213320977,0.6634165306117643,0.5923170445509921,0.6701186728271241,-0.8396674041662306],\"xaxis\":\"x\",\"y\":[\"Ridge\",\"Ridge\",\"Ridge\",\"Ridge\",\"Ridge\",\"Ridge\",\"Ridge\",\"Ridge\",\"Ridge\",\"Ridge\",\"Ridge\",\"Ridge\",\"Ridge\",\"Ridge\",\"Ridge\",\"Ridge\",\"Ridge\",\"Ridge\",\"Ridge\",\"Ridge\",\"Ridge\",\"Ridge\",\"Ridge\",\"Ridge\",\"Ridge\",\"Ridge\",\"Ridge\",\"Ridge\",\"Ridge\",\"Ridge\",\"Ridge\",\"Ridge\",\"Ridge\",\"Ridge\",\"Ridge\",\"Ridge\",\"Ridge\",\"Ridge\",\"Ridge\",\"Ridge\",\"Ridge\",\"Ridge\",\"Ridge\",\"Ridge\",\"Ridge\",\"Ridge\",\"Ridge\",\"Ridge\",\"Ridge\",\"Ridge\",\"Ridge\",\"Ridge\",\"Ridge\",\"Ridge\",\"Ridge\",\"Ridge\",\"Ridge\",\"Ridge\",\"Ridge\",\"Ridge\",\"Ridge\",\"Ridge\",\"Ridge\",\"Ridge\",\"Ridge\",\"Ridge\",\"Ridge\",\"Ridge\",\"Ridge\",\"Ridge\",\"Ridge\",\"Ridge\",\"Ridge\",\"Ridge\",\"Ridge\",\"Ridge\",\"Ridge\",\"Ridge\",\"Ridge\",\"Ridge\",\"Ridge\",\"Ridge\",\"Ridge\",\"Ridge\",\"Ridge\",\"Ridge\",\"Ridge\",\"Ridge\",\"Ridge\",\"Ridge\",\"Ridge\",\"Ridge\",\"Ridge\",\"Ridge\",\"Ridge\",\"Ridge\",\"Ridge\",\"Ridge\",\"Ridge\",\"Ridge\",\"Ridge\",\"Ridge\",\"Ridge\",\"Ridge\",\"Ridge\",\"Ridge\",\"Ridge\",\"Ridge\",\"Ridge\",\"Ridge\",\"Ridge\",\"Ridge\",\"Ridge\",\"Ridge\",\"Ridge\",\"Ridge\",\"Ridge\",\"Ridge\",\"Ridge\",\"Ridge\",\"Ridge\",\"Ridge\",\"Ridge\",\"Ridge\",\"Ridge\",\"Ridge\",\"Ridge\",\"Ridge\",\"Ridge\",\"Ridge\",\"Ridge\",\"Ridge\",\"Ridge\",\"Ridge\",\"Ridge\",\"Ridge\",\"Ridge\",\"Ridge\",\"Ridge\",\"Ridge\",\"Ridge\",\"Ridge\",\"Ridge\",\"Ridge\",\"Ridge\",\"Ridge\",\"Ridge\",\"Ridge\",\"Ridge\",\"Ridge\",\"Ridge\",\"Ridge\",\"Ridge\",\"Ridge\",\"Ridge\",\"Ridge\",\"Ridge\",\"Ridge\",\"Ridge\",\"Ridge\",\"Ridge\",\"Ridge\",\"Ridge\",\"Ridge\",\"Ridge\",\"Ridge\",\"Ridge\",\"Ridge\",\"Ridge\",\"Ridge\",\"Ridge\",\"Ridge\",\"Ridge\",\"Ridge\",\"Ridge\",\"Ridge\",\"Ridge\",\"Ridge\",\"Ridge\",\"Ridge\",\"Ridge\",\"Ridge\",\"Ridge\",\"Ridge\",\"Ridge\",\"Ridge\",\"Ridge\",\"Ridge\",\"Ridge\",\"Ridge\",\"Ridge\",\"Ridge\",\"Ridge\",\"Ridge\",\"Ridge\",\"Ridge\",\"Ridge\",\"Ridge\",\"Ridge\",\"Ridge\",\"Ridge\",\"Ridge\",\"Ridge\",\"Ridge\",\"Ridge\",\"Ridge\",\"Ridge\",\"Ridge\",\"Ridge\",\"Ridge\",\"Ridge\",\"Ridge\",\"Ridge\",\"Ridge\",\"Ridge\",\"Ridge\",\"Ridge\",\"Ridge\",\"Ridge\",\"Ridge\",\"Ridge\",\"Ridge\",\"Ridge\",\"Ridge\",\"Ridge\",\"Ridge\",\"Ridge\",\"Ridge\",\"Ridge\",\"Ridge\",\"Ridge\",\"Ridge\",\"Ridge\",\"Ridge\",\"Ridge\",\"Ridge\",\"Ridge\",\"Ridge\",\"Ridge\",\"Ridge\",\"Ridge\",\"Ridge\",\"Ridge\",\"Ridge\",\"Ridge\",\"Ridge\",\"Ridge\",\"Ridge\",\"Ridge\",\"Ridge\",\"Ridge\",\"Ridge\",\"Ridge\",\"Ridge\",\"Ridge\",\"Ridge\",\"Ridge\",\"Ridge\",\"Ridge\",\"Ridge\",\"Ridge\",\"Ridge\",\"Ridge\",\"Ridge\",\"Ridge\",\"Ridge\",\"Ridge\",\"Ridge\",\"Ridge\",\"Ridge\"],\"yaxis\":\"y2\",\"type\":\"scatter\"}],                        {\"barmode\":\"overlay\",\"hovermode\":\"closest\",\"legend\":{\"traceorder\":\"reversed\"},\"xaxis\":{\"anchor\":\"y2\",\"domain\":[0.0,1.0],\"zeroline\":false},\"yaxis\":{\"anchor\":\"free\",\"domain\":[0.35,1],\"position\":0.0},\"yaxis2\":{\"anchor\":\"x\",\"domain\":[0,0.25],\"dtick\":1,\"showticklabels\":false},\"template\":{\"data\":{\"bar\":[{\"error_x\":{\"color\":\"#2a3f5f\"},\"error_y\":{\"color\":\"#2a3f5f\"},\"marker\":{\"line\":{\"color\":\"#E5ECF6\",\"width\":0.5},\"pattern\":{\"fillmode\":\"overlay\",\"size\":10,\"solidity\":0.2}},\"type\":\"bar\"}],\"barpolar\":[{\"marker\":{\"line\":{\"color\":\"#E5ECF6\",\"width\":0.5},\"pattern\":{\"fillmode\":\"overlay\",\"size\":10,\"solidity\":0.2}},\"type\":\"barpolar\"}],\"carpet\":[{\"aaxis\":{\"endlinecolor\":\"#2a3f5f\",\"gridcolor\":\"white\",\"linecolor\":\"white\",\"minorgridcolor\":\"white\",\"startlinecolor\":\"#2a3f5f\"},\"baxis\":{\"endlinecolor\":\"#2a3f5f\",\"gridcolor\":\"white\",\"linecolor\":\"white\",\"minorgridcolor\":\"white\",\"startlinecolor\":\"#2a3f5f\"},\"type\":\"carpet\"}],\"choropleth\":[{\"colorbar\":{\"outlinewidth\":0,\"ticks\":\"\"},\"type\":\"choropleth\"}],\"contour\":[{\"colorbar\":{\"outlinewidth\":0,\"ticks\":\"\"},\"colorscale\":[[0.0,\"#0d0887\"],[0.1111111111111111,\"#46039f\"],[0.2222222222222222,\"#7201a8\"],[0.3333333333333333,\"#9c179e\"],[0.4444444444444444,\"#bd3786\"],[0.5555555555555556,\"#d8576b\"],[0.6666666666666666,\"#ed7953\"],[0.7777777777777778,\"#fb9f3a\"],[0.8888888888888888,\"#fdca26\"],[1.0,\"#f0f921\"]],\"type\":\"contour\"}],\"contourcarpet\":[{\"colorbar\":{\"outlinewidth\":0,\"ticks\":\"\"},\"type\":\"contourcarpet\"}],\"heatmap\":[{\"colorbar\":{\"outlinewidth\":0,\"ticks\":\"\"},\"colorscale\":[[0.0,\"#0d0887\"],[0.1111111111111111,\"#46039f\"],[0.2222222222222222,\"#7201a8\"],[0.3333333333333333,\"#9c179e\"],[0.4444444444444444,\"#bd3786\"],[0.5555555555555556,\"#d8576b\"],[0.6666666666666666,\"#ed7953\"],[0.7777777777777778,\"#fb9f3a\"],[0.8888888888888888,\"#fdca26\"],[1.0,\"#f0f921\"]],\"type\":\"heatmap\"}],\"heatmapgl\":[{\"colorbar\":{\"outlinewidth\":0,\"ticks\":\"\"},\"colorscale\":[[0.0,\"#0d0887\"],[0.1111111111111111,\"#46039f\"],[0.2222222222222222,\"#7201a8\"],[0.3333333333333333,\"#9c179e\"],[0.4444444444444444,\"#bd3786\"],[0.5555555555555556,\"#d8576b\"],[0.6666666666666666,\"#ed7953\"],[0.7777777777777778,\"#fb9f3a\"],[0.8888888888888888,\"#fdca26\"],[1.0,\"#f0f921\"]],\"type\":\"heatmapgl\"}],\"histogram\":[{\"marker\":{\"pattern\":{\"fillmode\":\"overlay\",\"size\":10,\"solidity\":0.2}},\"type\":\"histogram\"}],\"histogram2d\":[{\"colorbar\":{\"outlinewidth\":0,\"ticks\":\"\"},\"colorscale\":[[0.0,\"#0d0887\"],[0.1111111111111111,\"#46039f\"],[0.2222222222222222,\"#7201a8\"],[0.3333333333333333,\"#9c179e\"],[0.4444444444444444,\"#bd3786\"],[0.5555555555555556,\"#d8576b\"],[0.6666666666666666,\"#ed7953\"],[0.7777777777777778,\"#fb9f3a\"],[0.8888888888888888,\"#fdca26\"],[1.0,\"#f0f921\"]],\"type\":\"histogram2d\"}],\"histogram2dcontour\":[{\"colorbar\":{\"outlinewidth\":0,\"ticks\":\"\"},\"colorscale\":[[0.0,\"#0d0887\"],[0.1111111111111111,\"#46039f\"],[0.2222222222222222,\"#7201a8\"],[0.3333333333333333,\"#9c179e\"],[0.4444444444444444,\"#bd3786\"],[0.5555555555555556,\"#d8576b\"],[0.6666666666666666,\"#ed7953\"],[0.7777777777777778,\"#fb9f3a\"],[0.8888888888888888,\"#fdca26\"],[1.0,\"#f0f921\"]],\"type\":\"histogram2dcontour\"}],\"mesh3d\":[{\"colorbar\":{\"outlinewidth\":0,\"ticks\":\"\"},\"type\":\"mesh3d\"}],\"parcoords\":[{\"line\":{\"colorbar\":{\"outlinewidth\":0,\"ticks\":\"\"}},\"type\":\"parcoords\"}],\"pie\":[{\"automargin\":true,\"type\":\"pie\"}],\"scatter\":[{\"marker\":{\"colorbar\":{\"outlinewidth\":0,\"ticks\":\"\"}},\"type\":\"scatter\"}],\"scatter3d\":[{\"line\":{\"colorbar\":{\"outlinewidth\":0,\"ticks\":\"\"}},\"marker\":{\"colorbar\":{\"outlinewidth\":0,\"ticks\":\"\"}},\"type\":\"scatter3d\"}],\"scattercarpet\":[{\"marker\":{\"colorbar\":{\"outlinewidth\":0,\"ticks\":\"\"}},\"type\":\"scattercarpet\"}],\"scattergeo\":[{\"marker\":{\"colorbar\":{\"outlinewidth\":0,\"ticks\":\"\"}},\"type\":\"scattergeo\"}],\"scattergl\":[{\"marker\":{\"colorbar\":{\"outlinewidth\":0,\"ticks\":\"\"}},\"type\":\"scattergl\"}],\"scattermapbox\":[{\"marker\":{\"colorbar\":{\"outlinewidth\":0,\"ticks\":\"\"}},\"type\":\"scattermapbox\"}],\"scatterpolar\":[{\"marker\":{\"colorbar\":{\"outlinewidth\":0,\"ticks\":\"\"}},\"type\":\"scatterpolar\"}],\"scatterpolargl\":[{\"marker\":{\"colorbar\":{\"outlinewidth\":0,\"ticks\":\"\"}},\"type\":\"scatterpolargl\"}],\"scatterternary\":[{\"marker\":{\"colorbar\":{\"outlinewidth\":0,\"ticks\":\"\"}},\"type\":\"scatterternary\"}],\"surface\":[{\"colorbar\":{\"outlinewidth\":0,\"ticks\":\"\"},\"colorscale\":[[0.0,\"#0d0887\"],[0.1111111111111111,\"#46039f\"],[0.2222222222222222,\"#7201a8\"],[0.3333333333333333,\"#9c179e\"],[0.4444444444444444,\"#bd3786\"],[0.5555555555555556,\"#d8576b\"],[0.6666666666666666,\"#ed7953\"],[0.7777777777777778,\"#fb9f3a\"],[0.8888888888888888,\"#fdca26\"],[1.0,\"#f0f921\"]],\"type\":\"surface\"}],\"table\":[{\"cells\":{\"fill\":{\"color\":\"#EBF0F8\"},\"line\":{\"color\":\"white\"}},\"header\":{\"fill\":{\"color\":\"#C8D4E3\"},\"line\":{\"color\":\"white\"}},\"type\":\"table\"}]},\"layout\":{\"annotationdefaults\":{\"arrowcolor\":\"#2a3f5f\",\"arrowhead\":0,\"arrowwidth\":1},\"autotypenumbers\":\"strict\",\"coloraxis\":{\"colorbar\":{\"outlinewidth\":0,\"ticks\":\"\"}},\"colorscale\":{\"diverging\":[[0,\"#8e0152\"],[0.1,\"#c51b7d\"],[0.2,\"#de77ae\"],[0.3,\"#f1b6da\"],[0.4,\"#fde0ef\"],[0.5,\"#f7f7f7\"],[0.6,\"#e6f5d0\"],[0.7,\"#b8e186\"],[0.8,\"#7fbc41\"],[0.9,\"#4d9221\"],[1,\"#276419\"]],\"sequential\":[[0.0,\"#0d0887\"],[0.1111111111111111,\"#46039f\"],[0.2222222222222222,\"#7201a8\"],[0.3333333333333333,\"#9c179e\"],[0.4444444444444444,\"#bd3786\"],[0.5555555555555556,\"#d8576b\"],[0.6666666666666666,\"#ed7953\"],[0.7777777777777778,\"#fb9f3a\"],[0.8888888888888888,\"#fdca26\"],[1.0,\"#f0f921\"]],\"sequentialminus\":[[0.0,\"#0d0887\"],[0.1111111111111111,\"#46039f\"],[0.2222222222222222,\"#7201a8\"],[0.3333333333333333,\"#9c179e\"],[0.4444444444444444,\"#bd3786\"],[0.5555555555555556,\"#d8576b\"],[0.6666666666666666,\"#ed7953\"],[0.7777777777777778,\"#fb9f3a\"],[0.8888888888888888,\"#fdca26\"],[1.0,\"#f0f921\"]]},\"colorway\":[\"#636efa\",\"#EF553B\",\"#00cc96\",\"#ab63fa\",\"#FFA15A\",\"#19d3f3\",\"#FF6692\",\"#B6E880\",\"#FF97FF\",\"#FECB52\"],\"font\":{\"color\":\"#2a3f5f\"},\"geo\":{\"bgcolor\":\"white\",\"lakecolor\":\"white\",\"landcolor\":\"#E5ECF6\",\"showlakes\":true,\"showland\":true,\"subunitcolor\":\"white\"},\"hoverlabel\":{\"align\":\"left\"},\"hovermode\":\"closest\",\"mapbox\":{\"style\":\"light\"},\"paper_bgcolor\":\"white\",\"plot_bgcolor\":\"#E5ECF6\",\"polar\":{\"angularaxis\":{\"gridcolor\":\"white\",\"linecolor\":\"white\",\"ticks\":\"\"},\"bgcolor\":\"#E5ECF6\",\"radialaxis\":{\"gridcolor\":\"white\",\"linecolor\":\"white\",\"ticks\":\"\"}},\"scene\":{\"xaxis\":{\"backgroundcolor\":\"#E5ECF6\",\"gridcolor\":\"white\",\"gridwidth\":2,\"linecolor\":\"white\",\"showbackground\":true,\"ticks\":\"\",\"zerolinecolor\":\"white\"},\"yaxis\":{\"backgroundcolor\":\"#E5ECF6\",\"gridcolor\":\"white\",\"gridwidth\":2,\"linecolor\":\"white\",\"showbackground\":true,\"ticks\":\"\",\"zerolinecolor\":\"white\"},\"zaxis\":{\"backgroundcolor\":\"#E5ECF6\",\"gridcolor\":\"white\",\"gridwidth\":2,\"linecolor\":\"white\",\"showbackground\":true,\"ticks\":\"\",\"zerolinecolor\":\"white\"}},\"shapedefaults\":{\"line\":{\"color\":\"#2a3f5f\"}},\"ternary\":{\"aaxis\":{\"gridcolor\":\"white\",\"linecolor\":\"white\",\"ticks\":\"\"},\"baxis\":{\"gridcolor\":\"white\",\"linecolor\":\"white\",\"ticks\":\"\"},\"bgcolor\":\"#E5ECF6\",\"caxis\":{\"gridcolor\":\"white\",\"linecolor\":\"white\",\"ticks\":\"\"}},\"title\":{\"x\":0.05},\"xaxis\":{\"automargin\":true,\"gridcolor\":\"white\",\"linecolor\":\"white\",\"ticks\":\"\",\"title\":{\"standoff\":15},\"zerolinecolor\":\"white\",\"zerolinewidth\":2},\"yaxis\":{\"automargin\":true,\"gridcolor\":\"white\",\"linecolor\":\"white\",\"ticks\":\"\",\"title\":{\"standoff\":15},\"zerolinecolor\":\"white\",\"zerolinewidth\":2}}}},                        {\"responsive\": true}                    ).then(function(){\n",
       "                            \n",
       "var gd = document.getElementById('2f2aab45-637e-4e54-b97d-35547af96aef');\n",
       "var x = new MutationObserver(function (mutations, observer) {{\n",
       "        var display = window.getComputedStyle(gd).display;\n",
       "        if (!display || display === 'none') {{\n",
       "            console.log([gd, 'removed!']);\n",
       "            Plotly.purge(gd);\n",
       "            observer.disconnect();\n",
       "        }}\n",
       "}});\n",
       "\n",
       "// Listen for the removal of the full notebook cells\n",
       "var notebookContainer = gd.closest('#notebook-container');\n",
       "if (notebookContainer) {{\n",
       "    x.observe(notebookContainer, {childList: true});\n",
       "}}\n",
       "\n",
       "// Listen for the clearing of the current output cell\n",
       "var outputEl = gd.closest('.output');\n",
       "if (outputEl) {{\n",
       "    x.observe(outputEl, {childList: true});\n",
       "}}\n",
       "\n",
       "                        })                };                });            </script>        </div>"
      ]
     },
     "metadata": {},
     "output_type": "display_data"
    }
   ],
   "source": [
    "ff.create_distplot([\n",
    "    models['LassoCV'][\"LinearModel\"].coef_, \n",
    "    models['RidgeCV'][\"LinearModel\"].coef_],\n",
    "    [\"Lasso\", \"Ridge\"], bin_size=0.1)"
   ]
  },
  {
   "cell_type": "markdown",
   "metadata": {},
   "source": [
    "Here we get the names of all the features in the model."
   ]
  },
  {
   "cell_type": "code",
   "execution_count": 46,
   "metadata": {},
   "outputs": [
    {
     "name": "stdout",
     "output_type": "stream",
     "text": [
      "['cylinders' 'displacement' 'horsepower' 'weight' 'acceleration'\n",
      " 'model_year' 'x0_europe' 'x0_japan' 'x0_usa' '10' '100' '100ls' '111'\n",
      " '1131' '12' '1200' '1200d' '124' '128' '12tl' '1300' '144ea' '1500' '18i'\n",
      " '1900' '200' '2000' '2002' '200sx' '210' '225' '2300' '240d' '244dl'\n",
      " '245' '280s' '300d' '304' '310' '320i' '340' '350' '4000' '411' '4w'\n",
      " '500' '5000' '504' '505s' '510' '610' '626' '710' '810' '88' '99gle'\n",
      " '99le' 'accord' 'air' 'ambassador' 'amc' 'aries' 'aspen' 'audi' 'auto'\n",
      " 'beetle' 'bel' 'benz' 'bmw' 'brougham' 'buick' 'c10' 'cadillac' 'camaro'\n",
      " 'capri' 'caprice' 'carina' 'carlo' 'catalina' 'cavalier' 'celica'\n",
      " 'century' 'challenger' 'champ' 'chevelle' 'chevette' 'chevroelt'\n",
      " 'chevrolet' 'chevy' 'chrysler' 'ciera' 'citation' 'civic' 'classic'\n",
      " 'cobra' 'colt' 'concord' 'concours' 'corolla' 'corona' 'coronet' 'cougar'\n",
      " 'country' 'coupe' 'cressida' 'cuda' 'custom' 'cutlass' 'cvcc' 'd100'\n",
      " 'd200' 'dart' 'dasher' 'datsun' 'delta' 'deluxe' 'diesel' 'diplomat' 'dl'\n",
      " 'dodge' 'door' 'dpl' 'duster' 'eldorado' 'electra' 'escort' 'estate'\n",
      " 'f250' 'fairmont' 'fiat' 'firebird' 'ford' 'fox' 'fury' 'futura'\n",
      " 'galaxie' 'ghia' 'gl' 'glc' 'gran' 'granada' 'grand' 'gremlin' 'gs' 'gt'\n",
      " 'gtl' 'gx' 'hardtop' 'hatchback' 'hi' 'honda' 'horizon' 'hornet' 'ii'\n",
      " 'iii' 'impala' 'isuzu' 'j2000' 'jetta' 'landau' 'lebaron' 'lecar'\n",
      " 'lesabre' 'liftback' 'limited' 'lj' 'ls' 'ltd' 'luxus' 'lx' 'lynx'\n",
      " 'magnum' 'malibu' 'man' 'mark' 'marquis' 'matador' 'maverick' 'maxda'\n",
      " 'mazda' 'mercedes' 'mercury' 'model' 'monaco' 'monarch' 'monte' 'monza'\n",
      " 'mpg' 'mustang' 'new' 'newport' 'nissan' 'nova' 'oldsmobile' 'omega'\n",
      " 'omni' 'opel' 'pacer' 'peugeot' 'phoenix' 'pickup' 'pinto' 'pl510'\n",
      " 'plymouth' 'pontiac' 'prelude' 'premier' 'prix' 'rabbit' 'rampage'\n",
      " 'ranger' 'rebel' 'regal' 'regis' 'reliant' 'renault' 'royal' 'royale'\n",
      " 'rx' 'rx3' 'saab' 'safari' 'salon' 'sapporo' 'satellite' 'se' 'sebring'\n",
      " 'sedan' 'seville' 'sj' 'skyhawk' 'skylark' 'special' 'spirit' 'sport'\n",
      " 'sportabout' 'squire' 'sst' 'st' 'stanza' 'strada' 'subaru' 'suburb'\n",
      " 'sunbird' 'super' 'sw' 'sx' 'tc' 'tc3' 'tercel' 'torino' 'town' 'toyota'\n",
      " 'toyouta' 'turbo' 'type' 'v6' 'v8' 'valiant' 'vega' 'ventura' 'volare'\n",
      " 'volkswagen' 'volvo' 'vw' 'wagon' 'x1' 'xe' 'yorker' 'zephyr']\n"
     ]
    }
   ],
   "source": [
    "ct = models['LassoCV']['SelectColumns']\n",
    "feature_names = (\n",
    "    quantitative_features +\n",
    "    list(ct.named_transformers_['origin_encoder'].get_feature_names())+\n",
    "    list(ct.named_transformers_['text'].get_feature_names())\n",
    ")\n",
    "feature_names = np.array(feature_names)\n",
    "print(feature_names)"
   ]
  },
  {
   "cell_type": "markdown",
   "metadata": {},
   "source": [
    "Finally, we select the features that had non-zero coefficients (parameters).  Not surprisingly, many of these features are likely good predictors of the fuel economy of a car."
   ]
  },
  {
   "cell_type": "code",
   "execution_count": 47,
   "metadata": {},
   "outputs": [
    {
     "data": {
      "text/plain": [
       "array(['cylinders', 'displacement', 'weight', 'acceleration',\n",
       "       'model_year', 'x0_usa', '1200', '1500', '210', 'amc', 'civic',\n",
       "       'colt', 'corolla', 'custom', 'datsun', 'diesel', 'ford',\n",
       "       'hatchback', 'honda', 'horizon', 'ii', 'maxda', 'plymouth',\n",
       "       'pontiac', 'rabbit', 'renault', 'rx', 'rx3', 'sw', 'tercel', 'vw'],\n",
       "      dtype='<U12')"
      ]
     },
     "execution_count": 47,
     "metadata": {},
     "output_type": "execute_result"
    }
   ],
   "source": [
    "kept = ~np.isclose(models['LassoCV'][\"LinearModel\"].coef_, 0)\n",
    "feature_names[kept]"
   ]
  }
 ],
 "metadata": {
  "kernelspec": {
   "display_name": "Python 3",
   "language": "python",
   "name": "python3"
  },
  "language_info": {
   "codemirror_mode": {
    "name": "ipython",
    "version": 3
   },
   "file_extension": ".py",
   "mimetype": "text/x-python",
   "name": "python",
   "nbconvert_exporter": "python",
   "pygments_lexer": "ipython3",
   "version": "3.8.6"
  }
 },
 "nbformat": 4,
 "nbformat_minor": 4
}
