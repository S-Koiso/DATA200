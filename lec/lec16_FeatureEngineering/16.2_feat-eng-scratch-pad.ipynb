{
 "cells": [
  {
   "cell_type": "code",
   "execution_count": 1,
   "id": "bf5b92ec",
   "metadata": {},
   "outputs": [],
   "source": [
    "import numpy as np\n",
    "import pandas as pd\n",
    "import matplotlib.pyplot as plt"
   ]
  },
  {
   "cell_type": "code",
   "execution_count": 2,
   "id": "78a5eae8",
   "metadata": {},
   "outputs": [
    {
     "data": {
      "text/html": [
       "<div>\n",
       "<style scoped>\n",
       "    .dataframe tbody tr th:only-of-type {\n",
       "        vertical-align: middle;\n",
       "    }\n",
       "\n",
       "    .dataframe tbody tr th {\n",
       "        vertical-align: top;\n",
       "    }\n",
       "\n",
       "    .dataframe thead th {\n",
       "        text-align: right;\n",
       "    }\n",
       "</style>\n",
       "<table border=\"1\" class=\"dataframe\">\n",
       "  <thead>\n",
       "    <tr style=\"text-align: right;\">\n",
       "      <th></th>\n",
       "      <th>Unnamed: 0</th>\n",
       "      <th>day</th>\n",
       "      <th>hour</th>\n",
       "      <th>osm_way_id</th>\n",
       "      <th>speed_mph_mean</th>\n",
       "      <th>speed_mph_stddev</th>\n",
       "      <th>Latitude</th>\n",
       "      <th>Longitude</th>\n",
       "    </tr>\n",
       "  </thead>\n",
       "  <tbody>\n",
       "    <tr>\n",
       "      <th>0</th>\n",
       "      <td>0</td>\n",
       "      <td>4</td>\n",
       "      <td>11</td>\n",
       "      <td>515486318</td>\n",
       "      <td>10.127</td>\n",
       "      <td>8.503</td>\n",
       "      <td>37.779522</td>\n",
       "      <td>-122.406901</td>\n",
       "    </tr>\n",
       "    <tr>\n",
       "      <th>1</th>\n",
       "      <td>1</td>\n",
       "      <td>1</td>\n",
       "      <td>12</td>\n",
       "      <td>515486318</td>\n",
       "      <td>11.217</td>\n",
       "      <td>9.453</td>\n",
       "      <td>37.779522</td>\n",
       "      <td>-122.406901</td>\n",
       "    </tr>\n",
       "    <tr>\n",
       "      <th>2</th>\n",
       "      <td>2</td>\n",
       "      <td>2</td>\n",
       "      <td>23</td>\n",
       "      <td>515486318</td>\n",
       "      <td>12.924</td>\n",
       "      <td>11.087</td>\n",
       "      <td>37.779522</td>\n",
       "      <td>-122.406901</td>\n",
       "    </tr>\n",
       "    <tr>\n",
       "      <th>3</th>\n",
       "      <td>3</td>\n",
       "      <td>1</td>\n",
       "      <td>0</td>\n",
       "      <td>515486318</td>\n",
       "      <td>13.827</td>\n",
       "      <td>9.969</td>\n",
       "      <td>37.779522</td>\n",
       "      <td>-122.406901</td>\n",
       "    </tr>\n",
       "    <tr>\n",
       "      <th>4</th>\n",
       "      <td>4</td>\n",
       "      <td>5</td>\n",
       "      <td>1</td>\n",
       "      <td>515486318</td>\n",
       "      <td>14.770</td>\n",
       "      <td>12.378</td>\n",
       "      <td>37.779522</td>\n",
       "      <td>-122.406901</td>\n",
       "    </tr>\n",
       "  </tbody>\n",
       "</table>\n",
       "</div>"
      ],
      "text/plain": [
       "   Unnamed: 0  day  hour  osm_way_id  speed_mph_mean  speed_mph_stddev  \\\n",
       "0           0    4    11   515486318          10.127             8.503   \n",
       "1           1    1    12   515486318          11.217             9.453   \n",
       "2           2    2    23   515486318          12.924            11.087   \n",
       "3           3    1     0   515486318          13.827             9.969   \n",
       "4           4    5     1   515486318          14.770            12.378   \n",
       "\n",
       "    Latitude   Longitude  \n",
       "0  37.779522 -122.406901  \n",
       "1  37.779522 -122.406901  \n",
       "2  37.779522 -122.406901  \n",
       "3  37.779522 -122.406901  \n",
       "4  37.779522 -122.406901  "
      ]
     },
     "execution_count": 2,
     "metadata": {},
     "output_type": "execute_result"
    }
   ],
   "source": [
    "df = pd.read_csv(\"./data/movement-speeds.csv\")\n",
    "df.head()"
   ]
  },
  {
   "cell_type": "code",
   "execution_count": 3,
   "id": "3476040f",
   "metadata": {},
   "outputs": [
    {
     "data": {
      "text/html": [
       "<div>\n",
       "<style scoped>\n",
       "    .dataframe tbody tr th:only-of-type {\n",
       "        vertical-align: middle;\n",
       "    }\n",
       "\n",
       "    .dataframe tbody tr th {\n",
       "        vertical-align: top;\n",
       "    }\n",
       "\n",
       "    .dataframe thead th {\n",
       "        text-align: right;\n",
       "    }\n",
       "</style>\n",
       "<table border=\"1\" class=\"dataframe\">\n",
       "  <thead>\n",
       "    <tr style=\"text-align: right;\">\n",
       "      <th></th>\n",
       "      <th>Unnamed: 0</th>\n",
       "      <th>day</th>\n",
       "      <th>hour</th>\n",
       "      <th>osm_way_id</th>\n",
       "      <th>speed_mph_mean</th>\n",
       "      <th>speed_mph_stddev</th>\n",
       "      <th>Latitude</th>\n",
       "      <th>Longitude</th>\n",
       "      <th>time</th>\n",
       "    </tr>\n",
       "  </thead>\n",
       "  <tbody>\n",
       "    <tr>\n",
       "      <th>116977</th>\n",
       "      <td>116977</td>\n",
       "      <td>1</td>\n",
       "      <td>0</td>\n",
       "      <td>598020854</td>\n",
       "      <td>17.064</td>\n",
       "      <td>9.101</td>\n",
       "      <td>37.798169</td>\n",
       "      <td>-122.404337</td>\n",
       "      <td>0</td>\n",
       "    </tr>\n",
       "    <tr>\n",
       "      <th>121508</th>\n",
       "      <td>121508</td>\n",
       "      <td>1</td>\n",
       "      <td>0</td>\n",
       "      <td>620535183</td>\n",
       "      <td>30.618</td>\n",
       "      <td>5.563</td>\n",
       "      <td>37.893175</td>\n",
       "      <td>-122.530579</td>\n",
       "      <td>0</td>\n",
       "    </tr>\n",
       "    <tr>\n",
       "      <th>28117</th>\n",
       "      <td>28117</td>\n",
       "      <td>1</td>\n",
       "      <td>0</td>\n",
       "      <td>184255666</td>\n",
       "      <td>8.885</td>\n",
       "      <td>9.945</td>\n",
       "      <td>37.711521</td>\n",
       "      <td>-122.455590</td>\n",
       "      <td>0</td>\n",
       "    </tr>\n",
       "    <tr>\n",
       "      <th>121273</th>\n",
       "      <td>121273</td>\n",
       "      <td>1</td>\n",
       "      <td>0</td>\n",
       "      <td>513702094</td>\n",
       "      <td>59.773</td>\n",
       "      <td>6.543</td>\n",
       "      <td>37.732805</td>\n",
       "      <td>-122.404772</td>\n",
       "      <td>0</td>\n",
       "    </tr>\n",
       "    <tr>\n",
       "      <th>121178</th>\n",
       "      <td>121178</td>\n",
       "      <td>1</td>\n",
       "      <td>0</td>\n",
       "      <td>394558807</td>\n",
       "      <td>10.600</td>\n",
       "      <td>6.313</td>\n",
       "      <td>37.773167</td>\n",
       "      <td>-122.407792</td>\n",
       "      <td>0</td>\n",
       "    </tr>\n",
       "  </tbody>\n",
       "</table>\n",
       "</div>"
      ],
      "text/plain": [
       "        Unnamed: 0  day  hour  osm_way_id  speed_mph_mean  speed_mph_stddev  \\\n",
       "116977      116977    1     0   598020854          17.064             9.101   \n",
       "121508      121508    1     0   620535183          30.618             5.563   \n",
       "28117        28117    1     0   184255666           8.885             9.945   \n",
       "121273      121273    1     0   513702094          59.773             6.543   \n",
       "121178      121178    1     0   394558807          10.600             6.313   \n",
       "\n",
       "         Latitude   Longitude  time  \n",
       "116977  37.798169 -122.404337     0  \n",
       "121508  37.893175 -122.530579     0  \n",
       "28117   37.711521 -122.455590     0  \n",
       "121273  37.732805 -122.404772     0  \n",
       "121178  37.773167 -122.407792     0  "
      ]
     },
     "execution_count": 3,
     "metadata": {},
     "output_type": "execute_result"
    }
   ],
   "source": [
    "df[\"time\"]= (df[\"day\"]-1) *24 + df[\"hour\"]\n",
    "df = df.sort_values(by = \"time\")\n",
    "df.head()"
   ]
  },
  {
   "cell_type": "code",
   "execution_count": 4,
   "id": "5fc7de52",
   "metadata": {},
   "outputs": [
    {
     "data": {
      "text/plain": [
       "[<matplotlib.lines.Line2D at 0x1c0e8f24b20>]"
      ]
     },
     "execution_count": 4,
     "metadata": {},
     "output_type": "execute_result"
    },
    {
     "data": {
      "image/png": "[encoded data removed]",
      "text/plain": [
       "<Figure size 432x288 with 1 Axes>"
      ]
     },
     "metadata": {
      "needs_background": "light"
     },
     "output_type": "display_data"
    }
   ],
   "source": [
    "time = df.groupby(by = [\"time\"]).agg(\"mean\").reset_index()\n",
    "plt.plot(time[\"time\"], time[\"speed_mph_mean\"])"
   ]
  },
  {
   "cell_type": "code",
   "execution_count": 5,
   "id": "455d2f40",
   "metadata": {},
   "outputs": [],
   "source": [
    "X = df[[\"time\"]]\n",
    "Y = df[[\"speed_mph_mean\"]]"
   ]
  },
  {
   "cell_type": "code",
   "execution_count": 6,
   "id": "a384f4d2",
   "metadata": {},
   "outputs": [],
   "source": [
    "from numpy.linalg import inv"
   ]
  },
  {
   "cell_type": "code",
   "execution_count": 7,
   "id": "0ae47ad9",
   "metadata": {},
   "outputs": [
    {
     "data": {
      "text/html": [
       "<div>\n",
       "<style scoped>\n",
       "    .dataframe tbody tr th:only-of-type {\n",
       "        vertical-align: middle;\n",
       "    }\n",
       "\n",
       "    .dataframe tbody tr th {\n",
       "        vertical-align: top;\n",
       "    }\n",
       "\n",
       "    .dataframe thead th {\n",
       "        text-align: right;\n",
       "    }\n",
       "</style>\n",
       "<table border=\"1\" class=\"dataframe\">\n",
       "  <thead>\n",
       "    <tr style=\"text-align: right;\">\n",
       "      <th></th>\n",
       "      <th>speed_mph_mean</th>\n",
       "    </tr>\n",
       "  </thead>\n",
       "  <tbody>\n",
       "    <tr>\n",
       "      <th>0</th>\n",
       "      <td>0.216202</td>\n",
       "    </tr>\n",
       "  </tbody>\n",
       "</table>\n",
       "</div>"
      ],
      "text/plain": [
       "   speed_mph_mean\n",
       "0        0.216202"
      ]
     },
     "execution_count": 7,
     "metadata": {},
     "output_type": "execute_result"
    }
   ],
   "source": [
    "theta = inv(X.T @ X)@ X.T @Y\n",
    "theta"
   ]
  },
  {
   "cell_type": "code",
   "execution_count": 8,
   "id": "106d2d8e",
   "metadata": {},
   "outputs": [],
   "source": [
    "df[\"Yhat\"] = X @ theta.to_numpy()"
   ]
  },
  {
   "cell_type": "code",
   "execution_count": 9,
   "id": "56728789",
   "metadata": {},
   "outputs": [
    {
     "data": {
      "text/html": [
       "<div>\n",
       "<style scoped>\n",
       "    .dataframe tbody tr th:only-of-type {\n",
       "        vertical-align: middle;\n",
       "    }\n",
       "\n",
       "    .dataframe tbody tr th {\n",
       "        vertical-align: top;\n",
       "    }\n",
       "\n",
       "    .dataframe thead th {\n",
       "        text-align: right;\n",
       "    }\n",
       "</style>\n",
       "<table border=\"1\" class=\"dataframe\">\n",
       "  <thead>\n",
       "    <tr style=\"text-align: right;\">\n",
       "      <th></th>\n",
       "      <th>Unnamed: 0</th>\n",
       "      <th>day</th>\n",
       "      <th>hour</th>\n",
       "      <th>osm_way_id</th>\n",
       "      <th>speed_mph_mean</th>\n",
       "      <th>speed_mph_stddev</th>\n",
       "      <th>Latitude</th>\n",
       "      <th>Longitude</th>\n",
       "      <th>time</th>\n",
       "      <th>Yhat</th>\n",
       "    </tr>\n",
       "  </thead>\n",
       "  <tbody>\n",
       "    <tr>\n",
       "      <th>116977</th>\n",
       "      <td>116977</td>\n",
       "      <td>1</td>\n",
       "      <td>0</td>\n",
       "      <td>598020854</td>\n",
       "      <td>17.064</td>\n",
       "      <td>9.101</td>\n",
       "      <td>37.798169</td>\n",
       "      <td>-122.404337</td>\n",
       "      <td>0</td>\n",
       "      <td>0.000000</td>\n",
       "    </tr>\n",
       "    <tr>\n",
       "      <th>121508</th>\n",
       "      <td>121508</td>\n",
       "      <td>1</td>\n",
       "      <td>0</td>\n",
       "      <td>620535183</td>\n",
       "      <td>30.618</td>\n",
       "      <td>5.563</td>\n",
       "      <td>37.893175</td>\n",
       "      <td>-122.530579</td>\n",
       "      <td>0</td>\n",
       "      <td>0.000000</td>\n",
       "    </tr>\n",
       "    <tr>\n",
       "      <th>28117</th>\n",
       "      <td>28117</td>\n",
       "      <td>1</td>\n",
       "      <td>0</td>\n",
       "      <td>184255666</td>\n",
       "      <td>8.885</td>\n",
       "      <td>9.945</td>\n",
       "      <td>37.711521</td>\n",
       "      <td>-122.455590</td>\n",
       "      <td>0</td>\n",
       "      <td>0.000000</td>\n",
       "    </tr>\n",
       "    <tr>\n",
       "      <th>121273</th>\n",
       "      <td>121273</td>\n",
       "      <td>1</td>\n",
       "      <td>0</td>\n",
       "      <td>513702094</td>\n",
       "      <td>59.773</td>\n",
       "      <td>6.543</td>\n",
       "      <td>37.732805</td>\n",
       "      <td>-122.404772</td>\n",
       "      <td>0</td>\n",
       "      <td>0.000000</td>\n",
       "    </tr>\n",
       "    <tr>\n",
       "      <th>121178</th>\n",
       "      <td>121178</td>\n",
       "      <td>1</td>\n",
       "      <td>0</td>\n",
       "      <td>394558807</td>\n",
       "      <td>10.600</td>\n",
       "      <td>6.313</td>\n",
       "      <td>37.773167</td>\n",
       "      <td>-122.407792</td>\n",
       "      <td>0</td>\n",
       "      <td>0.000000</td>\n",
       "    </tr>\n",
       "    <tr>\n",
       "      <th>...</th>\n",
       "      <td>...</td>\n",
       "      <td>...</td>\n",
       "      <td>...</td>\n",
       "      <td>...</td>\n",
       "      <td>...</td>\n",
       "      <td>...</td>\n",
       "      <td>...</td>\n",
       "      <td>...</td>\n",
       "      <td>...</td>\n",
       "      <td>...</td>\n",
       "    </tr>\n",
       "    <tr>\n",
       "      <th>13070</th>\n",
       "      <td>13070</td>\n",
       "      <td>7</td>\n",
       "      <td>23</td>\n",
       "      <td>32929983</td>\n",
       "      <td>25.072</td>\n",
       "      <td>4.717</td>\n",
       "      <td>37.767946</td>\n",
       "      <td>-122.425559</td>\n",
       "      <td>167</td>\n",
       "      <td>36.105756</td>\n",
       "    </tr>\n",
       "    <tr>\n",
       "      <th>128232</th>\n",
       "      <td>128232</td>\n",
       "      <td>7</td>\n",
       "      <td>23</td>\n",
       "      <td>158602255</td>\n",
       "      <td>12.814</td>\n",
       "      <td>4.462</td>\n",
       "      <td>37.771837</td>\n",
       "      <td>-122.481757</td>\n",
       "      <td>167</td>\n",
       "      <td>36.105756</td>\n",
       "    </tr>\n",
       "    <tr>\n",
       "      <th>35056</th>\n",
       "      <td>35056</td>\n",
       "      <td>7</td>\n",
       "      <td>23</td>\n",
       "      <td>530592670</td>\n",
       "      <td>18.134</td>\n",
       "      <td>3.869</td>\n",
       "      <td>37.764794</td>\n",
       "      <td>-122.424052</td>\n",
       "      <td>167</td>\n",
       "      <td>36.105756</td>\n",
       "    </tr>\n",
       "    <tr>\n",
       "      <th>17504</th>\n",
       "      <td>17504</td>\n",
       "      <td>7</td>\n",
       "      <td>23</td>\n",
       "      <td>89802405</td>\n",
       "      <td>17.917</td>\n",
       "      <td>4.076</td>\n",
       "      <td>37.757981</td>\n",
       "      <td>-122.476769</td>\n",
       "      <td>167</td>\n",
       "      <td>36.105756</td>\n",
       "    </tr>\n",
       "    <tr>\n",
       "      <th>33498</th>\n",
       "      <td>33498</td>\n",
       "      <td>7</td>\n",
       "      <td>23</td>\n",
       "      <td>86303758</td>\n",
       "      <td>7.418</td>\n",
       "      <td>4.815</td>\n",
       "      <td>37.782963</td>\n",
       "      <td>-122.420317</td>\n",
       "      <td>167</td>\n",
       "      <td>36.105756</td>\n",
       "    </tr>\n",
       "  </tbody>\n",
       "</table>\n",
       "<p>154845 rows × 10 columns</p>\n",
       "</div>"
      ],
      "text/plain": [
       "        Unnamed: 0  day  hour  osm_way_id  speed_mph_mean  speed_mph_stddev  \\\n",
       "116977      116977    1     0   598020854          17.064             9.101   \n",
       "121508      121508    1     0   620535183          30.618             5.563   \n",
       "28117        28117    1     0   184255666           8.885             9.945   \n",
       "121273      121273    1     0   513702094          59.773             6.543   \n",
       "121178      121178    1     0   394558807          10.600             6.313   \n",
       "...            ...  ...   ...         ...             ...               ...   \n",
       "13070        13070    7    23    32929983          25.072             4.717   \n",
       "128232      128232    7    23   158602255          12.814             4.462   \n",
       "35056        35056    7    23   530592670          18.134             3.869   \n",
       "17504        17504    7    23    89802405          17.917             4.076   \n",
       "33498        33498    7    23    86303758           7.418             4.815   \n",
       "\n",
       "         Latitude   Longitude  time       Yhat  \n",
       "116977  37.798169 -122.404337     0   0.000000  \n",
       "121508  37.893175 -122.530579     0   0.000000  \n",
       "28117   37.711521 -122.455590     0   0.000000  \n",
       "121273  37.732805 -122.404772     0   0.000000  \n",
       "121178  37.773167 -122.407792     0   0.000000  \n",
       "...           ...         ...   ...        ...  \n",
       "13070   37.767946 -122.425559   167  36.105756  \n",
       "128232  37.771837 -122.481757   167  36.105756  \n",
       "35056   37.764794 -122.424052   167  36.105756  \n",
       "17504   37.757981 -122.476769   167  36.105756  \n",
       "33498   37.782963 -122.420317   167  36.105756  \n",
       "\n",
       "[154845 rows x 10 columns]"
      ]
     },
     "execution_count": 9,
     "metadata": {},
     "output_type": "execute_result"
    }
   ],
   "source": [
    "df"
   ]
  },
  {
   "cell_type": "code",
   "execution_count": 10,
   "id": "30b3f7a0",
   "metadata": {},
   "outputs": [],
   "source": [
    "# Scatter Plot Y vs. Y^\n",
    "def plot_y_vs_yhat(df, y, yhat):\n",
    "    plt.figure()\n",
    "    Y, Yhat = df[y], df[yhat]\n",
    "    plt.scatter(Yhat, Y, label = \"(yhat, y)\")\n",
    "    cmin = max(Yhat.min(), Y.min())\n",
    "    cmax = min(Yhat.max(), Y.max())\n",
    "    plt.plot([cmin, cmax], [cmin, cmax],\n",
    "            color = \"red\",\n",
    "            label=\"y=yhat\")\n",
    "    plt.legend()"
   ]
  },
  {
   "cell_type": "code",
   "execution_count": 11,
   "id": "78c69881",
   "metadata": {},
   "outputs": [
    {
     "data": {
      "image/png": "[encoded data removed]",
      "text/plain": [
       "<Figure size 432x288 with 1 Axes>"
      ]
     },
     "metadata": {
      "needs_background": "light"
     },
     "output_type": "display_data"
    }
   ],
   "source": [
    "plot_y_vs_yhat(df.sample(frac=0.01),\n",
    "              y=\"speed_mph_mean\",\n",
    "              yhat=\"Yhat\")"
   ]
  },
  {
   "cell_type": "code",
   "execution_count": 12,
   "id": "be0f2b38",
   "metadata": {},
   "outputs": [],
   "source": [
    "#^ bad"
   ]
  },
  {
   "cell_type": "code",
   "execution_count": 13,
   "id": "b6067c19",
   "metadata": {},
   "outputs": [
    {
     "data": {
      "image/png": "[encoded data removed]",
      "text/plain": [
       "<Figure size 432x288 with 1 Axes>"
      ]
     },
     "metadata": {
      "needs_background": "light"
     },
     "output_type": "display_data"
    }
   ],
   "source": [
    "df[\"residuals\"] = df[\"speed_mph_mean\"]-df[\"Yhat\"]\n",
    "_= plt.hist(df.sample(frac=0.01)[\"residuals\"], bins=100)"
   ]
  },
  {
   "cell_type": "code",
   "execution_count": 14,
   "id": "edd368eb",
   "metadata": {},
   "outputs": [],
   "source": [
    "#~ large range"
   ]
  },
  {
   "cell_type": "code",
   "execution_count": 15,
   "id": "1314e7b6",
   "metadata": {},
   "outputs": [
    {
     "data": {
      "text/plain": [
       "345.75991698324754"
      ]
     },
     "execution_count": 15,
     "metadata": {},
     "output_type": "execute_result"
    }
   ],
   "source": [
    "#compute L(e)\n",
    "(df[\"residuals\"] ** 2).mean()"
   ]
  },
  {
   "cell_type": "code",
   "execution_count": 16,
   "id": "b74fed66",
   "metadata": {},
   "outputs": [],
   "source": [
    "# plot prediction\n",
    "def plot_predictions(df, x, y, yhat):\n",
    "    plt.figure()\n",
    "    X, Y, Yhat = df[x], df[y],df[yhat]\n",
    "    plt.plot(X, Y, label=\"groud truth\")\n",
    "    plt.plot(X, Yhat, label=\"prediction\")\n",
    "    plt.legend()"
   ]
  },
  {
   "cell_type": "code",
   "execution_count": 17,
   "id": "a8b84cd7",
   "metadata": {},
   "outputs": [],
   "source": [
    "def plot_predictions_over_time(df, x, y, yhat):\n",
    "    time=df.groupby(by=\"time\").agg(\"mean\").reset_index()\n",
    "    plot_predictions(time, x, y, yhat)"
   ]
  },
  {
   "cell_type": "code",
   "execution_count": 18,
   "id": "466e9377",
   "metadata": {},
   "outputs": [
    {
     "data": {
      "image/png": "[encoded data removed]",
      "text/plain": [
       "<Figure size 432x288 with 1 Axes>"
      ]
     },
     "metadata": {
      "needs_background": "light"
     },
     "output_type": "display_data"
    }
   ],
   "source": [
    "plot_predictions_over_time(df, x=\"time\", y=\"speed_mph_mean\", yhat=\"Yhat\")"
   ]
  },
  {
   "cell_type": "code",
   "execution_count": 19,
   "id": "9c4bafe6",
   "metadata": {},
   "outputs": [],
   "source": [
    "#^need to fix bias"
   ]
  },
  {
   "cell_type": "code",
   "execution_count": 20,
   "id": "9e8d4108",
   "metadata": {},
   "outputs": [],
   "source": [
    "def phi(X):\n",
    "    return np.hstack([X, np.ones((X.shape[0],1))])"
   ]
  },
  {
   "cell_type": "code",
   "execution_count": 21,
   "id": "e3abb517",
   "metadata": {},
   "outputs": [
    {
     "data": {
      "text/plain": [
       "array([[  0.,   1.],\n",
       "       [  0.,   1.],\n",
       "       [  0.,   1.],\n",
       "       ...,\n",
       "       [167.,   1.],\n",
       "       [167.,   1.],\n",
       "       [167.,   1.]])"
      ]
     },
     "execution_count": 21,
     "metadata": {},
     "output_type": "execute_result"
    }
   ],
   "source": [
    "phi(X)"
   ]
  },
  {
   "cell_type": "code",
   "execution_count": 22,
   "id": "0fe11708",
   "metadata": {},
   "outputs": [
    {
     "data": {
      "text/html": [
       "<div>\n",
       "<style scoped>\n",
       "    .dataframe tbody tr th:only-of-type {\n",
       "        vertical-align: middle;\n",
       "    }\n",
       "\n",
       "    .dataframe tbody tr th {\n",
       "        vertical-align: top;\n",
       "    }\n",
       "\n",
       "    .dataframe thead th {\n",
       "        text-align: right;\n",
       "    }\n",
       "</style>\n",
       "<table border=\"1\" class=\"dataframe\">\n",
       "  <thead>\n",
       "    <tr style=\"text-align: right;\">\n",
       "      <th></th>\n",
       "      <th>speed_mph_mean</th>\n",
       "    </tr>\n",
       "  </thead>\n",
       "  <tbody>\n",
       "    <tr>\n",
       "      <th>0</th>\n",
       "      <td>-0.010320</td>\n",
       "    </tr>\n",
       "    <tr>\n",
       "      <th>1</th>\n",
       "      <td>26.047099</td>\n",
       "    </tr>\n",
       "  </tbody>\n",
       "</table>\n",
       "</div>"
      ],
      "text/plain": [
       "   speed_mph_mean\n",
       "0       -0.010320\n",
       "1       26.047099"
      ]
     },
     "execution_count": 22,
     "metadata": {},
     "output_type": "execute_result"
    }
   ],
   "source": [
    "theta2 = inv(phi(X).T @ phi(X))@ phi(X).T @Y\n",
    "theta2"
   ]
  },
  {
   "cell_type": "code",
   "execution_count": 23,
   "id": "b5d0c972",
   "metadata": {},
   "outputs": [
    {
     "data": {
      "text/html": [
       "<div>\n",
       "<style scoped>\n",
       "    .dataframe tbody tr th:only-of-type {\n",
       "        vertical-align: middle;\n",
       "    }\n",
       "\n",
       "    .dataframe tbody tr th {\n",
       "        vertical-align: top;\n",
       "    }\n",
       "\n",
       "    .dataframe thead th {\n",
       "        text-align: right;\n",
       "    }\n",
       "</style>\n",
       "<table border=\"1\" class=\"dataframe\">\n",
       "  <thead>\n",
       "    <tr style=\"text-align: right;\">\n",
       "      <th></th>\n",
       "      <th>Unnamed: 0</th>\n",
       "      <th>day</th>\n",
       "      <th>hour</th>\n",
       "      <th>osm_way_id</th>\n",
       "      <th>speed_mph_mean</th>\n",
       "      <th>speed_mph_stddev</th>\n",
       "      <th>Latitude</th>\n",
       "      <th>Longitude</th>\n",
       "      <th>time</th>\n",
       "      <th>Yhat</th>\n",
       "      <th>residuals</th>\n",
       "      <th>Yhat2</th>\n",
       "    </tr>\n",
       "  </thead>\n",
       "  <tbody>\n",
       "    <tr>\n",
       "      <th>116977</th>\n",
       "      <td>116977</td>\n",
       "      <td>1</td>\n",
       "      <td>0</td>\n",
       "      <td>598020854</td>\n",
       "      <td>17.064</td>\n",
       "      <td>9.101</td>\n",
       "      <td>37.798169</td>\n",
       "      <td>-122.404337</td>\n",
       "      <td>0</td>\n",
       "      <td>0.0</td>\n",
       "      <td>17.064</td>\n",
       "      <td>26.047099</td>\n",
       "    </tr>\n",
       "    <tr>\n",
       "      <th>121508</th>\n",
       "      <td>121508</td>\n",
       "      <td>1</td>\n",
       "      <td>0</td>\n",
       "      <td>620535183</td>\n",
       "      <td>30.618</td>\n",
       "      <td>5.563</td>\n",
       "      <td>37.893175</td>\n",
       "      <td>-122.530579</td>\n",
       "      <td>0</td>\n",
       "      <td>0.0</td>\n",
       "      <td>30.618</td>\n",
       "      <td>26.047099</td>\n",
       "    </tr>\n",
       "    <tr>\n",
       "      <th>28117</th>\n",
       "      <td>28117</td>\n",
       "      <td>1</td>\n",
       "      <td>0</td>\n",
       "      <td>184255666</td>\n",
       "      <td>8.885</td>\n",
       "      <td>9.945</td>\n",
       "      <td>37.711521</td>\n",
       "      <td>-122.455590</td>\n",
       "      <td>0</td>\n",
       "      <td>0.0</td>\n",
       "      <td>8.885</td>\n",
       "      <td>26.047099</td>\n",
       "    </tr>\n",
       "    <tr>\n",
       "      <th>121273</th>\n",
       "      <td>121273</td>\n",
       "      <td>1</td>\n",
       "      <td>0</td>\n",
       "      <td>513702094</td>\n",
       "      <td>59.773</td>\n",
       "      <td>6.543</td>\n",
       "      <td>37.732805</td>\n",
       "      <td>-122.404772</td>\n",
       "      <td>0</td>\n",
       "      <td>0.0</td>\n",
       "      <td>59.773</td>\n",
       "      <td>26.047099</td>\n",
       "    </tr>\n",
       "    <tr>\n",
       "      <th>121178</th>\n",
       "      <td>121178</td>\n",
       "      <td>1</td>\n",
       "      <td>0</td>\n",
       "      <td>394558807</td>\n",
       "      <td>10.600</td>\n",
       "      <td>6.313</td>\n",
       "      <td>37.773167</td>\n",
       "      <td>-122.407792</td>\n",
       "      <td>0</td>\n",
       "      <td>0.0</td>\n",
       "      <td>10.600</td>\n",
       "      <td>26.047099</td>\n",
       "    </tr>\n",
       "  </tbody>\n",
       "</table>\n",
       "</div>"
      ],
      "text/plain": [
       "        Unnamed: 0  day  hour  osm_way_id  speed_mph_mean  speed_mph_stddev  \\\n",
       "116977      116977    1     0   598020854          17.064             9.101   \n",
       "121508      121508    1     0   620535183          30.618             5.563   \n",
       "28117        28117    1     0   184255666           8.885             9.945   \n",
       "121273      121273    1     0   513702094          59.773             6.543   \n",
       "121178      121178    1     0   394558807          10.600             6.313   \n",
       "\n",
       "         Latitude   Longitude  time  Yhat  residuals      Yhat2  \n",
       "116977  37.798169 -122.404337     0   0.0     17.064  26.047099  \n",
       "121508  37.893175 -122.530579     0   0.0     30.618  26.047099  \n",
       "28117   37.711521 -122.455590     0   0.0      8.885  26.047099  \n",
       "121273  37.732805 -122.404772     0   0.0     59.773  26.047099  \n",
       "121178  37.773167 -122.407792     0   0.0     10.600  26.047099  "
      ]
     },
     "execution_count": 23,
     "metadata": {},
     "output_type": "execute_result"
    }
   ],
   "source": [
    "df[\"Yhat2\"] = phi(X)@theta2.to_numpy()\n",
    "df.head()"
   ]
  },
  {
   "cell_type": "code",
   "execution_count": 24,
   "id": "a35fa0c1",
   "metadata": {},
   "outputs": [
    {
     "data": {
      "image/png": "[encoded data removed]",
      "text/plain": [
       "<Figure size 432x288 with 1 Axes>"
      ]
     },
     "metadata": {
      "needs_background": "light"
     },
     "output_type": "display_data"
    }
   ],
   "source": [
    "plot_y_vs_yhat(df.sample(frac=0.01),\n",
    "              y=\"speed_mph_mean\",\n",
    "              yhat=\"Yhat2\")"
   ]
  },
  {
   "cell_type": "code",
   "execution_count": 25,
   "id": "ea258ac3",
   "metadata": {},
   "outputs": [
    {
     "data": {
      "image/png": "[encoded data removed]",
      "text/plain": [
       "<Figure size 432x288 with 1 Axes>"
      ]
     },
     "metadata": {
      "needs_background": "light"
     },
     "output_type": "display_data"
    }
   ],
   "source": [
    "df[\"residuals2\"]=df[\"speed_mph_mean\"]-df[\"Yhat2\"]\n",
    "_= plt.hist(df.sample(frac=0.01)[\"residuals2\"], bins=100)"
   ]
  },
  {
   "cell_type": "code",
   "execution_count": 26,
   "id": "e6c21979",
   "metadata": {},
   "outputs": [
    {
     "data": {
      "text/plain": [
       "186.94520321966797"
      ]
     },
     "execution_count": 26,
     "metadata": {},
     "output_type": "execute_result"
    }
   ],
   "source": [
    "#compute L(e)\n",
    "(df[\"residuals2\"] ** 2).mean()"
   ]
  },
  {
   "cell_type": "code",
   "execution_count": 27,
   "id": "bbfd8aea",
   "metadata": {},
   "outputs": [
    {
     "data": {
      "image/png": "[encoded data removed]",
      "text/plain": [
       "<Figure size 432x288 with 1 Axes>"
      ]
     },
     "metadata": {
      "needs_background": "light"
     },
     "output_type": "display_data"
    }
   ],
   "source": [
    "plot_predictions_over_time(df, x=\"time\", y=\"speed_mph_mean\", yhat=\"Yhat2\")"
   ]
  }
 ],
 "metadata": {
  "kernelspec": {
   "display_name": "Python 3 (ipykernel)",
   "language": "python",
   "name": "python3"
  },
  "language_info": {
   "codemirror_mode": {
    "name": "ipython",
    "version": 3
   },
   "file_extension": ".py",
   "mimetype": "text/x-python",
   "name": "python",
   "nbconvert_exporter": "python",
   "pygments_lexer": "ipython3",
   "version": "3.8.6"
  }
 },
 "nbformat": 4,
 "nbformat_minor": 5
}
