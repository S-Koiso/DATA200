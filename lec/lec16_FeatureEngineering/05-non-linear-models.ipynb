{
 "cells": [
  {
   "cell_type": "code",
   "execution_count": 1,
   "id": "a1b7d91f",
   "metadata": {
    "scrolled": true
   },
   "outputs": [],
   "source": [
    "import numpy as np\n",
    "import pandas as pd\n",
    "import matplotlib.pyplot as plt"
   ]
  },
  {
   "cell_type": "code",
   "execution_count": 2,
   "id": "3a836ca7",
   "metadata": {},
   "outputs": [],
   "source": [
    "# if you've lost the associated utils file for this lecture, use the code in Appendix A, below\n",
    "from utils import evaluate_and_plot"
   ]
  },
  {
   "cell_type": "markdown",
   "id": "5f58d3f6",
   "metadata": {},
   "source": [
    "# Modeling Non-linear Relationships"
   ]
  },
  {
   "cell_type": "markdown",
   "id": "75c508e6",
   "metadata": {},
   "source": [
    "Notebook by Joseph E. Gonzalez, Alvin Wan\n",
    "\n",
    "In this notebook, we will use basic feature transformations (feature engineering) to model non-linear relationships using linear models.\n",
    "\n",
    "**What does it mean to be a _Linear Model_?**\n",
    "\n",
    "Linear models are **linear combinations** of features.  These models are therefore linear in the **parameters** but not necessarily the underlying data.  We can encode non-linearity in our data through the use of feature functions:\n",
    "\n",
    "\n",
    "$$\n",
    "f_\\theta\\left( x \\right) = \\phi(x)^T \\theta = \\sum_{j=0}^{p} \\phi(x)_j \\theta_j\n",
    "$$\n",
    "\n",
    "where $\\phi$ is an *arbitrary function* from $x\\in \\mathbb{R}^d$ to $\\phi(x) \\in \\mathbb{R}^{p+1}$. We could also denote these as a collection of separate feature $\\phi_j$ feature functions from $x\\in \\mathbb{R}^d$ to $\\phi_j(x) \\in \\mathbb{R}$:\n",
    "\n",
    "$$\n",
    "\\phi(x) = \\left[\\phi_0(x), \\phi_1(x), \\ldots, \\phi_p(x) \\right]\n",
    "$$\n",
    "\n",
    "\n",
    "We often refer to these $\\phi_j$ as **feature functions** and their design plays a critical role in both how we capture prior knowledge and our ability to fit complicated data"
   ]
  },
  {
   "cell_type": "markdown",
   "id": "8bfbd98f",
   "metadata": {},
   "source": [
    "# 1. Load Uber Movement Speeds Dataset\n",
    "\n",
    "To enable easy visualization of the model fitting process we will use a simple traffic speeds dataset, provided by Uber at https://movement.uber.com/cities/san_francisco/downloads/speeds?lang=en-US"
   ]
  },
  {
   "cell_type": "code",
   "execution_count": 5,
   "id": "5286eb9d",
   "metadata": {},
   "outputs": [
    {
     "data": {
      "text/html": [
       "<div>\n",
       "<style scoped>\n",
       "    .dataframe tbody tr th:only-of-type {\n",
       "        vertical-align: middle;\n",
       "    }\n",
       "\n",
       "    .dataframe tbody tr th {\n",
       "        vertical-align: top;\n",
       "    }\n",
       "\n",
       "    .dataframe thead th {\n",
       "        text-align: right;\n",
       "    }\n",
       "</style>\n",
       "<table border=\"1\" class=\"dataframe\">\n",
       "  <thead>\n",
       "    <tr style=\"text-align: right;\">\n",
       "      <th></th>\n",
       "      <th>Unnamed: 0</th>\n",
       "      <th>day</th>\n",
       "      <th>hour</th>\n",
       "      <th>osm_way_id</th>\n",
       "      <th>speed_mph_mean</th>\n",
       "      <th>speed_mph_stddev</th>\n",
       "      <th>Latitude</th>\n",
       "      <th>Longitude</th>\n",
       "      <th>time</th>\n",
       "    </tr>\n",
       "  </thead>\n",
       "  <tbody>\n",
       "    <tr>\n",
       "      <th>0</th>\n",
       "      <td>0</td>\n",
       "      <td>4</td>\n",
       "      <td>11</td>\n",
       "      <td>515486318</td>\n",
       "      <td>10.127</td>\n",
       "      <td>8.503</td>\n",
       "      <td>37.779522</td>\n",
       "      <td>-122.406901</td>\n",
       "      <td>83</td>\n",
       "    </tr>\n",
       "    <tr>\n",
       "      <th>1</th>\n",
       "      <td>1</td>\n",
       "      <td>1</td>\n",
       "      <td>12</td>\n",
       "      <td>515486318</td>\n",
       "      <td>11.217</td>\n",
       "      <td>9.453</td>\n",
       "      <td>37.779522</td>\n",
       "      <td>-122.406901</td>\n",
       "      <td>12</td>\n",
       "    </tr>\n",
       "    <tr>\n",
       "      <th>2</th>\n",
       "      <td>2</td>\n",
       "      <td>2</td>\n",
       "      <td>23</td>\n",
       "      <td>515486318</td>\n",
       "      <td>12.924</td>\n",
       "      <td>11.087</td>\n",
       "      <td>37.779522</td>\n",
       "      <td>-122.406901</td>\n",
       "      <td>47</td>\n",
       "    </tr>\n",
       "    <tr>\n",
       "      <th>3</th>\n",
       "      <td>3</td>\n",
       "      <td>1</td>\n",
       "      <td>0</td>\n",
       "      <td>515486318</td>\n",
       "      <td>13.827</td>\n",
       "      <td>9.969</td>\n",
       "      <td>37.779522</td>\n",
       "      <td>-122.406901</td>\n",
       "      <td>0</td>\n",
       "    </tr>\n",
       "    <tr>\n",
       "      <th>4</th>\n",
       "      <td>4</td>\n",
       "      <td>5</td>\n",
       "      <td>1</td>\n",
       "      <td>515486318</td>\n",
       "      <td>14.770</td>\n",
       "      <td>12.378</td>\n",
       "      <td>37.779522</td>\n",
       "      <td>-122.406901</td>\n",
       "      <td>97</td>\n",
       "    </tr>\n",
       "  </tbody>\n",
       "</table>\n",
       "</div>"
      ],
      "text/plain": [
       "   Unnamed: 0  day  hour  osm_way_id  speed_mph_mean  speed_mph_stddev  \\\n",
       "0           0    4    11   515486318          10.127             8.503   \n",
       "1           1    1    12   515486318          11.217             9.453   \n",
       "2           2    2    23   515486318          12.924            11.087   \n",
       "3           3    1     0   515486318          13.827             9.969   \n",
       "4           4    5     1   515486318          14.770            12.378   \n",
       "\n",
       "    Latitude   Longitude  time  \n",
       "0  37.779522 -122.406901    83  \n",
       "1  37.779522 -122.406901    12  \n",
       "2  37.779522 -122.406901    47  \n",
       "3  37.779522 -122.406901     0  \n",
       "4  37.779522 -122.406901    97  "
      ]
     },
     "execution_count": 5,
     "metadata": {},
     "output_type": "execute_result"
    }
   ],
   "source": [
    "df = pd.read_csv(\"data/movement-speeds.csv\") # load dataset\n",
    "df['time'] = (df['day'] - 1) * 24 + df['hour'] # compute absolute time reference\n",
    "df.head()"
   ]
  },
  {
   "cell_type": "markdown",
   "id": "22ccf798",
   "metadata": {},
   "source": [
    "# 2. Fit Biased OLS Model\n",
    "\n",
    "We'll expand the data features we're allowed to use. Instead of just taking in time, our OLS model will now take in time and location."
   ]
  },
  {
   "cell_type": "code",
   "execution_count": 6,
   "id": "8338e9d4",
   "metadata": {},
   "outputs": [],
   "source": [
    "from sklearn.linear_model import LinearRegression"
   ]
  },
  {
   "cell_type": "code",
   "execution_count": 7,
   "id": "a08971e5",
   "metadata": {},
   "outputs": [],
   "source": [
    "X, Y = df[['Latitude', 'Longitude', 'time']], df[[\"speed_mph_mean\"]] # extract data, labels"
   ]
  },
  {
   "cell_type": "code",
   "execution_count": 8,
   "id": "a9e35b4d",
   "metadata": {},
   "outputs": [],
   "source": [
    "model = LinearRegression(fit_intercept=True)\n",
    "model.fit(X, Y)\n",
    "df['Yhat'] = model.predict(X)"
   ]
  },
  {
   "cell_type": "code",
   "execution_count": 9,
   "id": "63c8de2d",
   "metadata": {},
   "outputs": [
    {
     "name": "stdout",
     "output_type": "stream",
     "text": [
      "Mean Squared Error: 166.6503801641257\n",
      "Mean Absolute Error: 9.005150471839318\n",
      "Root Mean Squared Error: 12.90931369841657\n"
     ]
    },
    {
     "data": {
      "image/png": "[encoded data removed]",
      "text/plain": [
       "<Figure size 432x288 with 1 Axes>"
      ]
     },
     "metadata": {
      "needs_background": "light"
     },
     "output_type": "display_data"
    },
    {
     "data": {
      "image/png": "[encoded data removed]",
      "text/plain": [
       "<Figure size 432x288 with 1 Axes>"
      ]
     },
     "metadata": {
      "needs_background": "light"
     },
     "output_type": "display_data"
    }
   ],
   "source": [
    "evaluate_and_plot(df, x='time', y='speed_mph_mean', yhat='Yhat')"
   ]
  },
  {
   "cell_type": "markdown",
   "id": "1de528f2",
   "metadata": {},
   "source": [
    "Let's see our results so far.\n",
    "\n",
    "\n",
    "||MSE|MAE|RMSE|\n",
    "|---|---|---|---|\n",
    "|**OLS**|346|14.0|18.6|\n",
    "|**Biased OLS**|187|9.9|13.7|\n",
    "|**Biased OLS + Location**|167|9.0|12.9|\n",
    "\n",
    "Examining the above data we see that there is some **periodic** structure as well as some **curvature**. Can we fit this data with a linear model?"
   ]
  },
  {
   "cell_type": "markdown",
   "id": "e7849bc3",
   "metadata": {},
   "source": [
    "# 3. Polynomial Features\n",
    "\n",
    "There is some curvature.  We can introduce polynomial terms to try to improve the fit of our model."
   ]
  },
  {
   "cell_type": "code",
   "execution_count": 10,
   "id": "4d470b02",
   "metadata": {},
   "outputs": [],
   "source": [
    "def phi_curved(X):\n",
    "    return np.hstack([\n",
    "        X,\n",
    "        X * X,\n",
    "        np.expand_dims(np.prod(X, axis=1), 1),\n",
    "        X ** 3,\n",
    "    ])"
   ]
  },
  {
   "cell_type": "markdown",
   "id": "2597460d",
   "metadata": {},
   "source": [
    "Can you guess the new number of features?"
   ]
  },
  {
   "cell_type": "code",
   "execution_count": 11,
   "id": "88fc066f",
   "metadata": {},
   "outputs": [
    {
     "data": {
      "text/plain": [
       "(154845, 10)"
      ]
     },
     "execution_count": 11,
     "metadata": {},
     "output_type": "execute_result"
    }
   ],
   "source": [
    "curvedX = phi_curved(X)\n",
    "curvedX.shape"
   ]
  },
  {
   "cell_type": "code",
   "execution_count": 12,
   "id": "d7c2ebf4",
   "metadata": {},
   "outputs": [],
   "source": [
    "curved = LinearRegression()\n",
    "curved.fit(curvedX, Y)\n",
    "df['Yhat_curved'] = curved.predict(curvedX)"
   ]
  },
  {
   "cell_type": "code",
   "execution_count": 13,
   "id": "413eb796",
   "metadata": {
    "scrolled": true
   },
   "outputs": [
    {
     "name": "stdout",
     "output_type": "stream",
     "text": [
      "Mean Squared Error: 140.59489474347146\n",
      "Mean Absolute Error: 8.534636640524724\n",
      "Root Mean Squared Error: 11.857271808619023\n"
     ]
    },
    {
     "data": {
      "image/png": "[encoded data removed]",
      "text/plain": [
       "<Figure size 432x288 with 1 Axes>"
      ]
     },
     "metadata": {
      "needs_background": "light"
     },
     "output_type": "display_data"
    },
    {
     "data": {
      "image/png": "[encoded data removed]",
      "text/plain": [
       "<Figure size 432x288 with 1 Axes>"
      ]
     },
     "metadata": {
      "needs_background": "light"
     },
     "output_type": "display_data"
    }
   ],
   "source": [
    "evaluate_and_plot(df, x='time', y='speed_mph_mean', yhat='Yhat_curved')"
   ]
  },
  {
   "cell_type": "markdown",
   "id": "80836cd9",
   "metadata": {},
   "source": [
    "Looking at our results so far, we see that higher-order polynomial terms actually improved our best error by 16%.\n",
    "\n",
    "||MSE|MAE|RMSE|\n",
    "|---|---|---|---|\n",
    "|**OLS**|346|14.0|18.6|\n",
    "|**Biased OLS**|187|9.9|13.7|\n",
    "|**Biased OLS + Location**|167|9.0|12.9|\n",
    "|**Biased OLS + Location + Poly**|141|8.5|11.9|"
   ]
  },
  {
   "cell_type": "markdown",
   "id": "285b8ffb",
   "metadata": {},
   "source": [
    "# 4. Sinusoidal Features\n",
    "\n",
    "In the following, we will add a few different sine functions at different frequencies and offsets.\n",
    "\n",
    "$$\n",
    "\\sin\\left(2 \\pi * \\textbf{frequency}X + \\textbf{phase}\\right)\n",
    "$$\n",
    "\n",
    "Note that for this to remain a linear model, we cannot make the frequency or phase of the sine function a model parameter.  In fact, these are actually **hyperparameters** of the model that would need to be tuned using either domain knowledge or other search procedures. "
   ]
  },
  {
   "cell_type": "code",
   "execution_count": 14,
   "id": "46025cd7",
   "metadata": {},
   "outputs": [],
   "source": [
    "def phi_periodic(X):\n",
    "    return np.hstack([\n",
    "        X,\n",
    "        np.sin(X),\n",
    "        np.sin(0.26*X),\n",
    "        np.sin(X - 6),\n",
    "        np.sin(0.26 * X - 6),\n",
    "    ]) "
   ]
  },
  {
   "cell_type": "code",
   "execution_count": 15,
   "id": "6b8dce3c",
   "metadata": {},
   "outputs": [
    {
     "data": {
      "text/plain": [
       "(154845, 15)"
      ]
     },
     "execution_count": 15,
     "metadata": {},
     "output_type": "execute_result"
    }
   ],
   "source": [
    "phi_periodic(X).shape"
   ]
  },
  {
   "cell_type": "markdown",
   "id": "e5fb4ea3",
   "metadata": {},
   "source": [
    "Let's combine all the features we have so far."
   ]
  },
  {
   "cell_type": "code",
   "execution_count": 16,
   "id": "4c6f12ca",
   "metadata": {},
   "outputs": [],
   "source": [
    "def phi_curved_and_periodic(X):\n",
    "    return np.hstack([phi_curved(X), phi_periodic(X)])"
   ]
  },
  {
   "cell_type": "code",
   "execution_count": 17,
   "id": "4a0d158b",
   "metadata": {},
   "outputs": [
    {
     "data": {
      "text/plain": [
       "(154845, 25)"
      ]
     },
     "execution_count": 17,
     "metadata": {},
     "output_type": "execute_result"
    }
   ],
   "source": [
    "crazyX = phi_curved_and_periodic(X)\n",
    "crazyX.shape"
   ]
  },
  {
   "cell_type": "markdown",
   "id": "b874242a",
   "metadata": {},
   "source": [
    "Notice that to make predictions I need to actually apply the $\\Phi$ feature function to my data."
   ]
  },
  {
   "cell_type": "code",
   "execution_count": 18,
   "id": "fba84e59",
   "metadata": {},
   "outputs": [],
   "source": [
    "crazy = LinearRegression()\n",
    "crazy.fit(crazyX, Y)\n",
    "df['Yhat_crazy'] = crazy.predict(crazyX)"
   ]
  },
  {
   "cell_type": "code",
   "execution_count": 19,
   "id": "aa329423",
   "metadata": {
    "scrolled": true
   },
   "outputs": [
    {
     "name": "stdout",
     "output_type": "stream",
     "text": [
      "Mean Squared Error: 132.3527387429235\n",
      "Mean Absolute Error: 8.287973945343285\n",
      "Root Mean Squared Error: 11.504466034672078\n"
     ]
    },
    {
     "data": {
      "image/png": "[encoded data removed]",
      "text/plain": [
       "<Figure size 432x288 with 1 Axes>"
      ]
     },
     "metadata": {
      "needs_background": "light"
     },
     "output_type": "display_data"
    },
    {
     "data": {
      "image/png": "[encoded data removed]",
      "text/plain": [
       "<Figure size 432x288 with 1 Axes>"
      ]
     },
     "metadata": {
      "needs_background": "light"
     },
     "output_type": "display_data"
    }
   ],
   "source": [
    "evaluate_and_plot(df, x='time', y='speed_mph_mean', yhat='Yhat_crazy')"
   ]
  },
  {
   "cell_type": "markdown",
   "id": "f19e5866",
   "metadata": {},
   "source": [
    "Looking at our final table of results, our sinusoidal features improved our best error by 6%. Compared with our original OLS result, we've improved our error by 62%, reducing from 346 MSE by over 2x to 132 MSE.\n",
    "\n",
    "||MSE|MAE|RMSE|\n",
    "|---|---|---|---|\n",
    "|**OLS**|346|14.0|18.6|\n",
    "|**Biased OLS**|187|9.9|13.7|\n",
    "|**Biased OLS + Location**|167|9.0|12.9|\n",
    "|**Biased OLS + Location + Poly**|141|8.5|11.9|\n",
    "|**Biased OLS + Location + Poly + Sin**|132|8.3|11.5|"
   ]
  },
  {
   "cell_type": "markdown",
   "id": "3c04b990",
   "metadata": {},
   "source": [
    "## Success!\n",
    "\n",
    "Using non-linear feature functions, we're now able to model non-linear relationships."
   ]
  },
  {
   "cell_type": "markdown",
   "id": "c2f94fcc",
   "metadata": {},
   "source": [
    "# Appendix A"
   ]
  },
  {
   "cell_type": "code",
   "execution_count": 20,
   "id": "18cc10a4",
   "metadata": {},
   "outputs": [],
   "source": [
    "import matplotlib.pyplot as plt\n",
    "import numpy as np\n",
    "from sklearn.metrics import mean_squared_error, mean_absolute_error\n",
    "\n",
    "def plot_y_vs_yhat(df, y, yhat):\n",
    "    plt.figure()\n",
    "    Y, Yhat = df[y], df[yhat]\n",
    "    plt.scatter(Yhat, Y, label='(yhat, y)')\n",
    "    cmin, cmax = max(Yhat.min(), Y.min()), min(Yhat.max(), Y.max())\n",
    "    plt.plot([cmin, cmax], [cmin, cmax], color='red', label='y=yhat')\n",
    "    plt.legend()\n",
    "\n",
    "def plot_predictions(df, x, y, yhat):\n",
    "    plt.figure()\n",
    "    X, Y, Yhat = df[x], df[y], df[yhat]\n",
    "    plt.plot(X, Y, label='ground truth')\n",
    "    plt.plot(X, Yhat, label='prediction')\n",
    "    plt.legend()\n",
    "\n",
    "def plot_predictions_over_time(df, x, y, yhat):\n",
    "    time = df.groupby(by='time').agg('mean').reset_index()\n",
    "    plot_predictions(time, x, y, yhat)\n",
    "\n",
    "def evaluate(df, y, yhat):\n",
    "    \"\"\"Compute and print error metrics\"\"\"\n",
    "    Y, Yhat = df[y], df[yhat]\n",
    "    metrics = {\n",
    "        'MSE': mean_squared_error(Y, Yhat),\n",
    "        'MAE': mean_absolute_error(Y, Yhat),\n",
    "        'RMSE': np.sqrt(mean_squared_error(Y, Yhat)),\n",
    "    }\n",
    "    print(\"Mean Squared Error:\", metrics['MSE'])\n",
    "    print(\"Mean Absolute Error:\", metrics['MAE'])\n",
    "    print(\"Root Mean Squared Error:\", metrics['RMSE'])\n",
    "    return metrics\n",
    "\n",
    "def evaluate_and_plot(df, x, y, yhat):\n",
    "    \"\"\"Report error metrics and also visualize\"\"\"\n",
    "    evaluate(df, y, yhat)\n",
    "    plot_y_vs_yhat(df.sample(frac=0.01), y, yhat)\n",
    "    plot_predictions_over_time(df, x, y, yhat)"
   ]
  },
  {
   "cell_type": "markdown",
   "id": "816b3386",
   "metadata": {},
   "source": [
    "# Appendix B\n",
    "\n",
    "**Practice: Repeating this on Toy Dataset**\n",
    "\n",
    "Let's consider a toy example, where all of your samples lie along a parabola.\n",
    "\n",
    "$$y = x^2$$\n",
    "\n",
    "Now, add $\\sigma$, where $\\sigma$ is noise distributed uniformly between 0 and 1.\n",
    "\n",
    "$$y = x^2 + \\sigma$$"
   ]
  },
  {
   "cell_type": "code",
   "execution_count": 21,
   "id": "8a10bc56",
   "metadata": {},
   "outputs": [],
   "source": [
    "# create toy dataset\n",
    "x = np.random.random((100,)) * 10\n",
    "y = x ** 2\n",
    "\n",
    "# add noise\n",
    "sigma = np.random.random((100,)) * 10\n",
    "y = y + sigma"
   ]
  },
  {
   "cell_type": "code",
   "execution_count": 23,
   "id": "34d99667",
   "metadata": {},
   "outputs": [
    {
     "data": {
      "application/vnd.plotly.v1+json": {
       "config": {
        "plotlyServerURL": "https://plot.ly"
       },
       "data": [
        {
         "mode": "markers",
         "type": "scatter",
         "x": [
          5.300502119259215,
          9.951753465397935,
          6.043832466761199,
          5.569283332370492,
          2.9146160949590607,
          9.271603435884433,
          5.914531903300732,
          1.5132283739447516,
          9.92808742201014,
          4.125092394649583,
          3.192652978750503,
          2.1070683590704373,
          6.698205793534146,
          8.636097960763747,
          3.1645927098130167,
          4.900215996198379,
          4.009116180850924,
          1.439008126138176,
          7.97301741496239,
          1.5278916617709615,
          5.855761923290135,
          3.9903789881688976,
          5.265105618813287,
          2.3149587253110604,
          5.594743261559545,
          7.892445553547395,
          7.969217048079767,
          1.2246458733046073,
          9.2138433554845,
          2.4179808113957546,
          8.961727675569174,
          7.403248714950471,
          5.981446438226966,
          0.5673604947507149,
          9.811408364315584,
          0.5411359020217588,
          0.05769997328642362,
          2.4020855376790373,
          3.006713702268783,
          5.234226949932383,
          8.81095976686752,
          8.727064479357715,
          8.518464675394435,
          0.9364277788085218,
          9.182517929345254,
          4.662879176580791,
          9.251311180643517,
          5.817647999406624,
          0.6267114800274942,
          5.714478298040837,
          3.1688021070152352,
          9.45365015461519,
          3.915256393748987,
          2.390833762993098,
          9.725698857079427,
          0.7013649944682865,
          2.135732903426135,
          6.312098492551637,
          7.412054967495286,
          6.305199513414962,
          9.839043682598309,
          2.0502187948799233,
          8.981897850880053,
          7.528917293354224,
          0.0930315162780071,
          8.051684747227682,
          3.899953024895498,
          1.1957317355153674,
          9.702953445163393,
          2.4836942546809837,
          3.86931572134545,
          9.477656398103875,
          1.4387976714050354,
          5.163125306230536,
          1.3223066714107312,
          8.55122753313175,
          0.8041219641725139,
          4.790129527894875,
          5.121544108141597,
          3.8047620069820267,
          9.13021060644997,
          9.4185062308658,
          7.394451206243139,
          4.984229163316671,
          5.996968381566318,
          4.823645235873811,
          6.574440443010213,
          6.002110965557241,
          5.066390527751601,
          9.003994025077295,
          3.0193055919108924,
          6.934877536703922,
          6.631583148359862,
          4.74008282704208,
          0.2656732283992136,
          5.891119429210148,
          6.5755788183670525,
          4.927374767503029,
          8.505652330920872,
          2.614691815279808
         ],
         "y": [
          36.40648422305408,
          101.62842576964123,
          39.51000645590002,
          38.452275601584276,
          11.07909795692975,
          91.25220510390531,
          37.54610574294629,
          9.291969119651553,
          101.24246639253028,
          26.49898264500493,
          15.14472699820687,
          12.752136551096399,
          45.09903082099812,
          84.26794252103642,
          14.585732843010334,
          24.58548684811182,
          18.580825504894253,
          11.211712014708432,
          69.02889785063361,
          12.321992048779368,
          40.41751267652832,
          22.48874185196278,
          31.54799654163937,
          11.797553752256682,
          34.08039150373516,
          66.31837574759712,
          67.46594220333454,
          6.226141537761359,
          90.66850789842738,
          12.471246844696882,
          86.34898435397974,
          64.00807460863088,
          36.21554008887356,
          6.887291460223721,
          104.78353742477874,
          7.299560515827862,
          5.573761706043327,
          11.542876203701582,
          15.812648243940524,
          35.09637068099378,
          82.63223901160322,
          83.83048590068374,
          72.59191358227604,
          2.4348463452403384,
          92.31251491398136,
          31.6989316058672,
          91.42710910139644,
          42.75841098524397,
          4.077576263869404,
          42.09644424892092,
          12.242331575793504,
          98.03560118441725,
          22.202455205851578,
          12.941358926623273,
          99.09746361425343,
          1.728239054564521,
          11.243857873206151,
          45.501123121378825,
          55.38285658167975,
          42.87767331698,
          99.93445749696824,
          10.657975198816153,
          89.87858412868059,
          64.68760822652374,
          4.646474456028441,
          66.34927522543161,
          19.512668893513663,
          3.4523910481733564,
          95.37645933918094,
          14.068127042773124,
          21.692504374662,
          92.77248874202051,
          6.097395601022472,
          28.444339872298276,
          7.760809950424362,
          81.78550873232825,
          7.636303201585125,
          23.727809660823148,
          26.968743554717594,
          20.037728696182405,
          87.19538915315647,
          90.1970700202685,
          58.422962898505595,
          27.672645023228092,
          41.04569566880031,
          29.135448188082258,
          48.31751168687508,
          36.33591990037749,
          34.77075409746998,
          91.0069349785999,
          15.667504664370503,
          49.053439407474855,
          51.950716079160486,
          29.05092481580914,
          8.92408850144773,
          40.078839167866725,
          52.710442104186605,
          30.3012451937313,
          76.43888125468798,
          11.151570367038163
         ]
        }
       ],
       "layout": {
        "template": {
         "data": {
          "bar": [
           {
            "error_x": {
             "color": "#2a3f5f"
            },
            "error_y": {
             "color": "#2a3f5f"
            },
            "marker": {
             "line": {
              "color": "#E5ECF6",
              "width": 0.5
             },
             "pattern": {
              "fillmode": "overlay",
              "size": 10,
              "solidity": 0.2
             }
            },
            "type": "bar"
           }
          ],
          "barpolar": [
           {
            "marker": {
             "line": {
              "color": "#E5ECF6",
              "width": 0.5
             },
             "pattern": {
              "fillmode": "overlay",
              "size": 10,
              "solidity": 0.2
             }
            },
            "type": "barpolar"
           }
          ],
          "carpet": [
           {
            "aaxis": {
             "endlinecolor": "#2a3f5f",
             "gridcolor": "white",
             "linecolor": "white",
             "minorgridcolor": "white",
             "startlinecolor": "#2a3f5f"
            },
            "baxis": {
             "endlinecolor": "#2a3f5f",
             "gridcolor": "white",
             "linecolor": "white",
             "minorgridcolor": "white",
             "startlinecolor": "#2a3f5f"
            },
            "type": "carpet"
           }
          ],
          "choropleth": [
           {
            "colorbar": {
             "outlinewidth": 0,
             "ticks": ""
            },
            "type": "choropleth"
           }
          ],
          "contour": [
           {
            "colorbar": {
             "outlinewidth": 0,
             "ticks": ""
            },
            "colorscale": [
             [
              0,
              "#0d0887"
             ],
             [
              0.1111111111111111,
              "#46039f"
             ],
             [
              0.2222222222222222,
              "#7201a8"
             ],
             [
              0.3333333333333333,
              "#9c179e"
             ],
             [
              0.4444444444444444,
              "#bd3786"
             ],
             [
              0.5555555555555556,
              "#d8576b"
             ],
             [
              0.6666666666666666,
              "#ed7953"
             ],
             [
              0.7777777777777778,
              "#fb9f3a"
             ],
             [
              0.8888888888888888,
              "#fdca26"
             ],
             [
              1,
              "#f0f921"
             ]
            ],
            "type": "contour"
           }
          ],
          "contourcarpet": [
           {
            "colorbar": {
             "outlinewidth": 0,
             "ticks": ""
            },
            "type": "contourcarpet"
           }
          ],
          "heatmap": [
           {
            "colorbar": {
             "outlinewidth": 0,
             "ticks": ""
            },
            "colorscale": [
             [
              0,
              "#0d0887"
             ],
             [
              0.1111111111111111,
              "#46039f"
             ],
             [
              0.2222222222222222,
              "#7201a8"
             ],
             [
              0.3333333333333333,
              "#9c179e"
             ],
             [
              0.4444444444444444,
              "#bd3786"
             ],
             [
              0.5555555555555556,
              "#d8576b"
             ],
             [
              0.6666666666666666,
              "#ed7953"
             ],
             [
              0.7777777777777778,
              "#fb9f3a"
             ],
             [
              0.8888888888888888,
              "#fdca26"
             ],
             [
              1,
              "#f0f921"
             ]
            ],
            "type": "heatmap"
           }
          ],
          "heatmapgl": [
           {
            "colorbar": {
             "outlinewidth": 0,
             "ticks": ""
            },
            "colorscale": [
             [
              0,
              "#0d0887"
             ],
             [
              0.1111111111111111,
              "#46039f"
             ],
             [
              0.2222222222222222,
              "#7201a8"
             ],
             [
              0.3333333333333333,
              "#9c179e"
             ],
             [
              0.4444444444444444,
              "#bd3786"
             ],
             [
              0.5555555555555556,
              "#d8576b"
             ],
             [
              0.6666666666666666,
              "#ed7953"
             ],
             [
              0.7777777777777778,
              "#fb9f3a"
             ],
             [
              0.8888888888888888,
              "#fdca26"
             ],
             [
              1,
              "#f0f921"
             ]
            ],
            "type": "heatmapgl"
           }
          ],
          "histogram": [
           {
            "marker": {
             "pattern": {
              "fillmode": "overlay",
              "size": 10,
              "solidity": 0.2
             }
            },
            "type": "histogram"
           }
          ],
          "histogram2d": [
           {
            "colorbar": {
             "outlinewidth": 0,
             "ticks": ""
            },
            "colorscale": [
             [
              0,
              "#0d0887"
             ],
             [
              0.1111111111111111,
              "#46039f"
             ],
             [
              0.2222222222222222,
              "#7201a8"
             ],
             [
              0.3333333333333333,
              "#9c179e"
             ],
             [
              0.4444444444444444,
              "#bd3786"
             ],
             [
              0.5555555555555556,
              "#d8576b"
             ],
             [
              0.6666666666666666,
              "#ed7953"
             ],
             [
              0.7777777777777778,
              "#fb9f3a"
             ],
             [
              0.8888888888888888,
              "#fdca26"
             ],
             [
              1,
              "#f0f921"
             ]
            ],
            "type": "histogram2d"
           }
          ],
          "histogram2dcontour": [
           {
            "colorbar": {
             "outlinewidth": 0,
             "ticks": ""
            },
            "colorscale": [
             [
              0,
              "#0d0887"
             ],
             [
              0.1111111111111111,
              "#46039f"
             ],
             [
              0.2222222222222222,
              "#7201a8"
             ],
             [
              0.3333333333333333,
              "#9c179e"
             ],
             [
              0.4444444444444444,
              "#bd3786"
             ],
             [
              0.5555555555555556,
              "#d8576b"
             ],
             [
              0.6666666666666666,
              "#ed7953"
             ],
             [
              0.7777777777777778,
              "#fb9f3a"
             ],
             [
              0.8888888888888888,
              "#fdca26"
             ],
             [
              1,
              "#f0f921"
             ]
            ],
            "type": "histogram2dcontour"
           }
          ],
          "mesh3d": [
           {
            "colorbar": {
             "outlinewidth": 0,
             "ticks": ""
            },
            "type": "mesh3d"
           }
          ],
          "parcoords": [
           {
            "line": {
             "colorbar": {
              "outlinewidth": 0,
              "ticks": ""
             }
            },
            "type": "parcoords"
           }
          ],
          "pie": [
           {
            "automargin": true,
            "type": "pie"
           }
          ],
          "scatter": [
           {
            "marker": {
             "colorbar": {
              "outlinewidth": 0,
              "ticks": ""
             }
            },
            "type": "scatter"
           }
          ],
          "scatter3d": [
           {
            "line": {
             "colorbar": {
              "outlinewidth": 0,
              "ticks": ""
             }
            },
            "marker": {
             "colorbar": {
              "outlinewidth": 0,
              "ticks": ""
             }
            },
            "type": "scatter3d"
           }
          ],
          "scattercarpet": [
           {
            "marker": {
             "colorbar": {
              "outlinewidth": 0,
              "ticks": ""
             }
            },
            "type": "scattercarpet"
           }
          ],
          "scattergeo": [
           {
            "marker": {
             "colorbar": {
              "outlinewidth": 0,
              "ticks": ""
             }
            },
            "type": "scattergeo"
           }
          ],
          "scattergl": [
           {
            "marker": {
             "colorbar": {
              "outlinewidth": 0,
              "ticks": ""
             }
            },
            "type": "scattergl"
           }
          ],
          "scattermapbox": [
           {
            "marker": {
             "colorbar": {
              "outlinewidth": 0,
              "ticks": ""
             }
            },
            "type": "scattermapbox"
           }
          ],
          "scatterpolar": [
           {
            "marker": {
             "colorbar": {
              "outlinewidth": 0,
              "ticks": ""
             }
            },
            "type": "scatterpolar"
           }
          ],
          "scatterpolargl": [
           {
            "marker": {
             "colorbar": {
              "outlinewidth": 0,
              "ticks": ""
             }
            },
            "type": "scatterpolargl"
           }
          ],
          "scatterternary": [
           {
            "marker": {
             "colorbar": {
              "outlinewidth": 0,
              "ticks": ""
             }
            },
            "type": "scatterternary"
           }
          ],
          "surface": [
           {
            "colorbar": {
             "outlinewidth": 0,
             "ticks": ""
            },
            "colorscale": [
             [
              0,
              "#0d0887"
             ],
             [
              0.1111111111111111,
              "#46039f"
             ],
             [
              0.2222222222222222,
              "#7201a8"
             ],
             [
              0.3333333333333333,
              "#9c179e"
             ],
             [
              0.4444444444444444,
              "#bd3786"
             ],
             [
              0.5555555555555556,
              "#d8576b"
             ],
             [
              0.6666666666666666,
              "#ed7953"
             ],
             [
              0.7777777777777778,
              "#fb9f3a"
             ],
             [
              0.8888888888888888,
              "#fdca26"
             ],
             [
              1,
              "#f0f921"
             ]
            ],
            "type": "surface"
           }
          ],
          "table": [
           {
            "cells": {
             "fill": {
              "color": "#EBF0F8"
             },
             "line": {
              "color": "white"
             }
            },
            "header": {
             "fill": {
              "color": "#C8D4E3"
             },
             "line": {
              "color": "white"
             }
            },
            "type": "table"
           }
          ]
         },
         "layout": {
          "annotationdefaults": {
           "arrowcolor": "#2a3f5f",
           "arrowhead": 0,
           "arrowwidth": 1
          },
          "autotypenumbers": "strict",
          "coloraxis": {
           "colorbar": {
            "outlinewidth": 0,
            "ticks": ""
           }
          },
          "colorscale": {
           "diverging": [
            [
             0,
             "#8e0152"
            ],
            [
             0.1,
             "#c51b7d"
            ],
            [
             0.2,
             "#de77ae"
            ],
            [
             0.3,
             "#f1b6da"
            ],
            [
             0.4,
             "#fde0ef"
            ],
            [
             0.5,
             "#f7f7f7"
            ],
            [
             0.6,
             "#e6f5d0"
            ],
            [
             0.7,
             "#b8e186"
            ],
            [
             0.8,
             "#7fbc41"
            ],
            [
             0.9,
             "#4d9221"
            ],
            [
             1,
             "#276419"
            ]
           ],
           "sequential": [
            [
             0,
             "#0d0887"
            ],
            [
             0.1111111111111111,
             "#46039f"
            ],
            [
             0.2222222222222222,
             "#7201a8"
            ],
            [
             0.3333333333333333,
             "#9c179e"
            ],
            [
             0.4444444444444444,
             "#bd3786"
            ],
            [
             0.5555555555555556,
             "#d8576b"
            ],
            [
             0.6666666666666666,
             "#ed7953"
            ],
            [
             0.7777777777777778,
             "#fb9f3a"
            ],
            [
             0.8888888888888888,
             "#fdca26"
            ],
            [
             1,
             "#f0f921"
            ]
           ],
           "sequentialminus": [
            [
             0,
             "#0d0887"
            ],
            [
             0.1111111111111111,
             "#46039f"
            ],
            [
             0.2222222222222222,
             "#7201a8"
            ],
            [
             0.3333333333333333,
             "#9c179e"
            ],
            [
             0.4444444444444444,
             "#bd3786"
            ],
            [
             0.5555555555555556,
             "#d8576b"
            ],
            [
             0.6666666666666666,
             "#ed7953"
            ],
            [
             0.7777777777777778,
             "#fb9f3a"
            ],
            [
             0.8888888888888888,
             "#fdca26"
            ],
            [
             1,
             "#f0f921"
            ]
           ]
          },
          "colorway": [
           "#636efa",
           "#EF553B",
           "#00cc96",
           "#ab63fa",
           "#FFA15A",
           "#19d3f3",
           "#FF6692",
           "#B6E880",
           "#FF97FF",
           "#FECB52"
          ],
          "font": {
           "color": "#2a3f5f"
          },
          "geo": {
           "bgcolor": "white",
           "lakecolor": "white",
           "landcolor": "#E5ECF6",
           "showlakes": true,
           "showland": true,
           "subunitcolor": "white"
          },
          "hoverlabel": {
           "align": "left"
          },
          "hovermode": "closest",
          "mapbox": {
           "style": "light"
          },
          "paper_bgcolor": "white",
          "plot_bgcolor": "#E5ECF6",
          "polar": {
           "angularaxis": {
            "gridcolor": "white",
            "linecolor": "white",
            "ticks": ""
           },
           "bgcolor": "#E5ECF6",
           "radialaxis": {
            "gridcolor": "white",
            "linecolor": "white",
            "ticks": ""
           }
          },
          "scene": {
           "xaxis": {
            "backgroundcolor": "#E5ECF6",
            "gridcolor": "white",
            "gridwidth": 2,
            "linecolor": "white",
            "showbackground": true,
            "ticks": "",
            "zerolinecolor": "white"
           },
           "yaxis": {
            "backgroundcolor": "#E5ECF6",
            "gridcolor": "white",
            "gridwidth": 2,
            "linecolor": "white",
            "showbackground": true,
            "ticks": "",
            "zerolinecolor": "white"
           },
           "zaxis": {
            "backgroundcolor": "#E5ECF6",
            "gridcolor": "white",
            "gridwidth": 2,
            "linecolor": "white",
            "showbackground": true,
            "ticks": "",
            "zerolinecolor": "white"
           }
          },
          "shapedefaults": {
           "line": {
            "color": "#2a3f5f"
           }
          },
          "ternary": {
           "aaxis": {
            "gridcolor": "white",
            "linecolor": "white",
            "ticks": ""
           },
           "baxis": {
            "gridcolor": "white",
            "linecolor": "white",
            "ticks": ""
           },
           "bgcolor": "#E5ECF6",
           "caxis": {
            "gridcolor": "white",
            "linecolor": "white",
            "ticks": ""
           }
          },
          "title": {
           "x": 0.05
          },
          "xaxis": {
           "automargin": true,
           "gridcolor": "white",
           "linecolor": "white",
           "ticks": "",
           "title": {
            "standoff": 15
           },
           "zerolinecolor": "white",
           "zerolinewidth": 2
          },
          "yaxis": {
           "automargin": true,
           "gridcolor": "white",
           "linecolor": "white",
           "ticks": "",
           "title": {
            "standoff": 15
           },
           "zerolinecolor": "white",
           "zerolinewidth": 2
          }
         }
        }
       }
      }
     },
     "metadata": {},
     "output_type": "display_data"
    }
   ],
   "source": [
    "import plotly.graph_objects as go\n",
    "# plot\n",
    "fig = go.Figure()\n",
    "fig.add_trace(go.Scatter(x=x, y=y, mode='markers'))"
   ]
  },
  {
   "cell_type": "code",
   "execution_count": 24,
   "id": "7fdc366c",
   "metadata": {},
   "outputs": [],
   "source": [
    "toy = LinearRegression(fit_intercept=True)\n",
    "toy.fit(x[:, None], y[:, None])\n",
    "yhat = toy.predict(x[:, None])"
   ]
  },
  {
   "cell_type": "code",
   "execution_count": 26,
   "id": "e8035e5d",
   "metadata": {},
   "outputs": [
    {
     "name": "stdout",
     "output_type": "stream",
     "text": [
      "Mean Squared Error: 70.62495132028631\n",
      "Mean Absolute Error: 7.304896333687139\n",
      "Root Mean Squared Error: 8.403865260717017\n"
     ]
    }
   ],
   "source": [
    "print(\"Mean Squared Error:\", mean_squared_error(y, yhat))\n",
    "print(\"Mean Absolute Error:\", mean_absolute_error(y, yhat))\n",
    "print(\"Root Mean Squared Error:\", np.sqrt(mean_squared_error(y, yhat)))"
   ]
  },
  {
   "cell_type": "code",
   "execution_count": 27,
   "id": "ebf059c5",
   "metadata": {},
   "outputs": [
    {
     "data": {
      "application/vnd.plotly.v1+json": {
       "config": {
        "plotlyServerURL": "https://plot.ly"
       },
       "data": [
        {
         "mode": "markers",
         "type": "scatter",
         "x": [
          5.300502119259215,
          9.951753465397935,
          6.043832466761199,
          5.569283332370492,
          2.9146160949590607,
          9.271603435884433,
          5.914531903300732,
          1.5132283739447516,
          9.92808742201014,
          4.125092394649583,
          3.192652978750503,
          2.1070683590704373,
          6.698205793534146,
          8.636097960763747,
          3.1645927098130167,
          4.900215996198379,
          4.009116180850924,
          1.439008126138176,
          7.97301741496239,
          1.5278916617709615,
          5.855761923290135,
          3.9903789881688976,
          5.265105618813287,
          2.3149587253110604,
          5.594743261559545,
          7.892445553547395,
          7.969217048079767,
          1.2246458733046073,
          9.2138433554845,
          2.4179808113957546,
          8.961727675569174,
          7.403248714950471,
          5.981446438226966,
          0.5673604947507149,
          9.811408364315584,
          0.5411359020217588,
          0.05769997328642362,
          2.4020855376790373,
          3.006713702268783,
          5.234226949932383,
          8.81095976686752,
          8.727064479357715,
          8.518464675394435,
          0.9364277788085218,
          9.182517929345254,
          4.662879176580791,
          9.251311180643517,
          5.817647999406624,
          0.6267114800274942,
          5.714478298040837,
          3.1688021070152352,
          9.45365015461519,
          3.915256393748987,
          2.390833762993098,
          9.725698857079427,
          0.7013649944682865,
          2.135732903426135,
          6.312098492551637,
          7.412054967495286,
          6.305199513414962,
          9.839043682598309,
          2.0502187948799233,
          8.981897850880053,
          7.528917293354224,
          0.0930315162780071,
          8.051684747227682,
          3.899953024895498,
          1.1957317355153674,
          9.702953445163393,
          2.4836942546809837,
          3.86931572134545,
          9.477656398103875,
          1.4387976714050354,
          5.163125306230536,
          1.3223066714107312,
          8.55122753313175,
          0.8041219641725139,
          4.790129527894875,
          5.121544108141597,
          3.8047620069820267,
          9.13021060644997,
          9.4185062308658,
          7.394451206243139,
          4.984229163316671,
          5.996968381566318,
          4.823645235873811,
          6.574440443010213,
          6.002110965557241,
          5.066390527751601,
          9.003994025077295,
          3.0193055919108924,
          6.934877536703922,
          6.631583148359862,
          4.74008282704208,
          0.2656732283992136,
          5.891119429210148,
          6.5755788183670525,
          4.927374767503029,
          8.505652330920872,
          2.614691815279808
         ],
         "y": [
          36.40648422305408,
          101.62842576964123,
          39.51000645590002,
          38.452275601584276,
          11.07909795692975,
          91.25220510390531,
          37.54610574294629,
          9.291969119651553,
          101.24246639253028,
          26.49898264500493,
          15.14472699820687,
          12.752136551096399,
          45.09903082099812,
          84.26794252103642,
          14.585732843010334,
          24.58548684811182,
          18.580825504894253,
          11.211712014708432,
          69.02889785063361,
          12.321992048779368,
          40.41751267652832,
          22.48874185196278,
          31.54799654163937,
          11.797553752256682,
          34.08039150373516,
          66.31837574759712,
          67.46594220333454,
          6.226141537761359,
          90.66850789842738,
          12.471246844696882,
          86.34898435397974,
          64.00807460863088,
          36.21554008887356,
          6.887291460223721,
          104.78353742477874,
          7.299560515827862,
          5.573761706043327,
          11.542876203701582,
          15.812648243940524,
          35.09637068099378,
          82.63223901160322,
          83.83048590068374,
          72.59191358227604,
          2.4348463452403384,
          92.31251491398136,
          31.6989316058672,
          91.42710910139644,
          42.75841098524397,
          4.077576263869404,
          42.09644424892092,
          12.242331575793504,
          98.03560118441725,
          22.202455205851578,
          12.941358926623273,
          99.09746361425343,
          1.728239054564521,
          11.243857873206151,
          45.501123121378825,
          55.38285658167975,
          42.87767331698,
          99.93445749696824,
          10.657975198816153,
          89.87858412868059,
          64.68760822652374,
          4.646474456028441,
          66.34927522543161,
          19.512668893513663,
          3.4523910481733564,
          95.37645933918094,
          14.068127042773124,
          21.692504374662,
          92.77248874202051,
          6.097395601022472,
          28.444339872298276,
          7.760809950424362,
          81.78550873232825,
          7.636303201585125,
          23.727809660823148,
          26.968743554717594,
          20.037728696182405,
          87.19538915315647,
          90.1970700202685,
          58.422962898505595,
          27.672645023228092,
          41.04569566880031,
          29.135448188082258,
          48.31751168687508,
          36.33591990037749,
          34.77075409746998,
          91.0069349785999,
          15.667504664370503,
          49.053439407474855,
          51.950716079160486,
          29.05092481580914,
          8.92408850144773,
          40.078839167866725,
          52.710442104186605,
          30.3012451937313,
          76.43888125468798,
          11.151570367038163
         ]
        },
        {
         "type": "scatter",
         "x": [
          5.300502119259215,
          9.951753465397935,
          6.043832466761199,
          5.569283332370492,
          2.9146160949590607,
          9.271603435884433,
          5.914531903300732,
          1.5132283739447516,
          9.92808742201014,
          4.125092394649583,
          3.192652978750503,
          2.1070683590704373,
          6.698205793534146,
          8.636097960763747,
          3.1645927098130167,
          4.900215996198379,
          4.009116180850924,
          1.439008126138176,
          7.97301741496239,
          1.5278916617709615,
          5.855761923290135,
          3.9903789881688976,
          5.265105618813287,
          2.3149587253110604,
          5.594743261559545,
          7.892445553547395,
          7.969217048079767,
          1.2246458733046073,
          9.2138433554845,
          2.4179808113957546,
          8.961727675569174,
          7.403248714950471,
          5.981446438226966,
          0.5673604947507149,
          9.811408364315584,
          0.5411359020217588,
          0.05769997328642362,
          2.4020855376790373,
          3.006713702268783,
          5.234226949932383,
          8.81095976686752,
          8.727064479357715,
          8.518464675394435,
          0.9364277788085218,
          9.182517929345254,
          4.662879176580791,
          9.251311180643517,
          5.817647999406624,
          0.6267114800274942,
          5.714478298040837,
          3.1688021070152352,
          9.45365015461519,
          3.915256393748987,
          2.390833762993098,
          9.725698857079427,
          0.7013649944682865,
          2.135732903426135,
          6.312098492551637,
          7.412054967495286,
          6.305199513414962,
          9.839043682598309,
          2.0502187948799233,
          8.981897850880053,
          7.528917293354224,
          0.0930315162780071,
          8.051684747227682,
          3.899953024895498,
          1.1957317355153674,
          9.702953445163393,
          2.4836942546809837,
          3.86931572134545,
          9.477656398103875,
          1.4387976714050354,
          5.163125306230536,
          1.3223066714107312,
          8.55122753313175,
          0.8041219641725139,
          4.790129527894875,
          5.121544108141597,
          3.8047620069820267,
          9.13021060644997,
          9.4185062308658,
          7.394451206243139,
          4.984229163316671,
          5.996968381566318,
          4.823645235873811,
          6.574440443010213,
          6.002110965557241,
          5.066390527751601,
          9.003994025077295,
          3.0193055919108924,
          6.934877536703922,
          6.631583148359862,
          4.74008282704208,
          0.2656732283992136,
          5.891119429210148,
          6.5755788183670525,
          4.927374767503029,
          8.505652330920872,
          2.614691815279808
         ],
         "y": [
          41.967170305852086,
          89.90699663729445,
          49.62857690683456,
          44.73746236680594,
          17.37616174930147,
          82.8967811344769,
          48.29589327063454,
          2.9322456998680657,
          89.66307388929995,
          29.85237928023855,
          20.241850771624975,
          9.052875104087459,
          56.3731153776411,
          76.34671109036756,
          19.952637327850667,
          37.841474703881815,
          28.657027936196158,
          2.1672675197321656,
          69.51242847610632,
          3.083378248836855,
          47.6901589368946,
          28.463906194052328,
          41.60234330386105,
          11.195573339870606,
          44.99987445613482,
          68.68198506292838,
          69.47325860228302,
          -0.0421355866790023,
          82.30145570112622,
          12.257408219919217,
          79.70293306471616,
          63.639898592220646,
          48.985572443976984,
          -6.816688186212974,
          88.46047842710527,
          -7.086981560507323,
          -12.069691102788058,
          12.093577756940096,
          18.325399485859123,
          41.284080988339106,
          78.14898836862652,
          77.28429084661767,
          75.13428053099061,
          -3.012760987774989,
          81.97858871821838,
          35.395275806466934,
          82.68763157025685,
          47.29732381451357,
          -6.204965508802555,
          46.23396748348051,
          19.996023022541614,
          84.7731123474539,
          27.68962764790418,
          11.97760721821351,
          87.57708198471221,
          -5.435521707341591,
          9.348316733880885,
          52.39355900088893,
          63.7306634609005,
          52.32245214446179,
          88.74531196124394,
          8.466934239684612,
          79.9108243674042,
          64.93514784358534,
          -11.705533608602215,
          70.32324216173669,
          27.531897869286368,
          -0.34014974265237896,
          87.34264806232335,
          12.934707902154237,
          27.21612327398907,
          85.02054149244589,
          2.1650983909092822,
          40.55124584414155,
          0.9644412143111882,
          75.4719629293741,
          -4.3764193464134,
          36.706828179932295,
          40.12267398966805,
          26.55077676283973,
          81.43946412811331,
          84.41088861973603,
          63.54922384510577,
          38.70738719526952,
          49.145555040624394,
          37.05227010519385,
          55.097482441809106,
          49.198558966895625,
          39.55421340375526,
          80.13856668334773,
          18.455182410432432,
          58.8124594209463,
          55.68644467298269,
          36.191003519255474,
          -9.92613854247141,
          48.054584027515745,
          55.109215524552994,
          38.12139653197247,
          75.00222540791687,
          14.28488226118208
         ]
        }
       ],
       "layout": {
        "template": {
         "data": {
          "bar": [
           {
            "error_x": {
             "color": "#2a3f5f"
            },
            "error_y": {
             "color": "#2a3f5f"
            },
            "marker": {
             "line": {
              "color": "#E5ECF6",
              "width": 0.5
             },
             "pattern": {
              "fillmode": "overlay",
              "size": 10,
              "solidity": 0.2
             }
            },
            "type": "bar"
           }
          ],
          "barpolar": [
           {
            "marker": {
             "line": {
              "color": "#E5ECF6",
              "width": 0.5
             },
             "pattern": {
              "fillmode": "overlay",
              "size": 10,
              "solidity": 0.2
             }
            },
            "type": "barpolar"
           }
          ],
          "carpet": [
           {
            "aaxis": {
             "endlinecolor": "#2a3f5f",
             "gridcolor": "white",
             "linecolor": "white",
             "minorgridcolor": "white",
             "startlinecolor": "#2a3f5f"
            },
            "baxis": {
             "endlinecolor": "#2a3f5f",
             "gridcolor": "white",
             "linecolor": "white",
             "minorgridcolor": "white",
             "startlinecolor": "#2a3f5f"
            },
            "type": "carpet"
           }
          ],
          "choropleth": [
           {
            "colorbar": {
             "outlinewidth": 0,
             "ticks": ""
            },
            "type": "choropleth"
           }
          ],
          "contour": [
           {
            "colorbar": {
             "outlinewidth": 0,
             "ticks": ""
            },
            "colorscale": [
             [
              0,
              "#0d0887"
             ],
             [
              0.1111111111111111,
              "#46039f"
             ],
             [
              0.2222222222222222,
              "#7201a8"
             ],
             [
              0.3333333333333333,
              "#9c179e"
             ],
             [
              0.4444444444444444,
              "#bd3786"
             ],
             [
              0.5555555555555556,
              "#d8576b"
             ],
             [
              0.6666666666666666,
              "#ed7953"
             ],
             [
              0.7777777777777778,
              "#fb9f3a"
             ],
             [
              0.8888888888888888,
              "#fdca26"
             ],
             [
              1,
              "#f0f921"
             ]
            ],
            "type": "contour"
           }
          ],
          "contourcarpet": [
           {
            "colorbar": {
             "outlinewidth": 0,
             "ticks": ""
            },
            "type": "contourcarpet"
           }
          ],
          "heatmap": [
           {
            "colorbar": {
             "outlinewidth": 0,
             "ticks": ""
            },
            "colorscale": [
             [
              0,
              "#0d0887"
             ],
             [
              0.1111111111111111,
              "#46039f"
             ],
             [
              0.2222222222222222,
              "#7201a8"
             ],
             [
              0.3333333333333333,
              "#9c179e"
             ],
             [
              0.4444444444444444,
              "#bd3786"
             ],
             [
              0.5555555555555556,
              "#d8576b"
             ],
             [
              0.6666666666666666,
              "#ed7953"
             ],
             [
              0.7777777777777778,
              "#fb9f3a"
             ],
             [
              0.8888888888888888,
              "#fdca26"
             ],
             [
              1,
              "#f0f921"
             ]
            ],
            "type": "heatmap"
           }
          ],
          "heatmapgl": [
           {
            "colorbar": {
             "outlinewidth": 0,
             "ticks": ""
            },
            "colorscale": [
             [
              0,
              "#0d0887"
             ],
             [
              0.1111111111111111,
              "#46039f"
             ],
             [
              0.2222222222222222,
              "#7201a8"
             ],
             [
              0.3333333333333333,
              "#9c179e"
             ],
             [
              0.4444444444444444,
              "#bd3786"
             ],
             [
              0.5555555555555556,
              "#d8576b"
             ],
             [
              0.6666666666666666,
              "#ed7953"
             ],
             [
              0.7777777777777778,
              "#fb9f3a"
             ],
             [
              0.8888888888888888,
              "#fdca26"
             ],
             [
              1,
              "#f0f921"
             ]
            ],
            "type": "heatmapgl"
           }
          ],
          "histogram": [
           {
            "marker": {
             "pattern": {
              "fillmode": "overlay",
              "size": 10,
              "solidity": 0.2
             }
            },
            "type": "histogram"
           }
          ],
          "histogram2d": [
           {
            "colorbar": {
             "outlinewidth": 0,
             "ticks": ""
            },
            "colorscale": [
             [
              0,
              "#0d0887"
             ],
             [
              0.1111111111111111,
              "#46039f"
             ],
             [
              0.2222222222222222,
              "#7201a8"
             ],
             [
              0.3333333333333333,
              "#9c179e"
             ],
             [
              0.4444444444444444,
              "#bd3786"
             ],
             [
              0.5555555555555556,
              "#d8576b"
             ],
             [
              0.6666666666666666,
              "#ed7953"
             ],
             [
              0.7777777777777778,
              "#fb9f3a"
             ],
             [
              0.8888888888888888,
              "#fdca26"
             ],
             [
              1,
              "#f0f921"
             ]
            ],
            "type": "histogram2d"
           }
          ],
          "histogram2dcontour": [
           {
            "colorbar": {
             "outlinewidth": 0,
             "ticks": ""
            },
            "colorscale": [
             [
              0,
              "#0d0887"
             ],
             [
              0.1111111111111111,
              "#46039f"
             ],
             [
              0.2222222222222222,
              "#7201a8"
             ],
             [
              0.3333333333333333,
              "#9c179e"
             ],
             [
              0.4444444444444444,
              "#bd3786"
             ],
             [
              0.5555555555555556,
              "#d8576b"
             ],
             [
              0.6666666666666666,
              "#ed7953"
             ],
             [
              0.7777777777777778,
              "#fb9f3a"
             ],
             [
              0.8888888888888888,
              "#fdca26"
             ],
             [
              1,
              "#f0f921"
             ]
            ],
            "type": "histogram2dcontour"
           }
          ],
          "mesh3d": [
           {
            "colorbar": {
             "outlinewidth": 0,
             "ticks": ""
            },
            "type": "mesh3d"
           }
          ],
          "parcoords": [
           {
            "line": {
             "colorbar": {
              "outlinewidth": 0,
              "ticks": ""
             }
            },
            "type": "parcoords"
           }
          ],
          "pie": [
           {
            "automargin": true,
            "type": "pie"
           }
          ],
          "scatter": [
           {
            "marker": {
             "colorbar": {
              "outlinewidth": 0,
              "ticks": ""
             }
            },
            "type": "scatter"
           }
          ],
          "scatter3d": [
           {
            "line": {
             "colorbar": {
              "outlinewidth": 0,
              "ticks": ""
             }
            },
            "marker": {
             "colorbar": {
              "outlinewidth": 0,
              "ticks": ""
             }
            },
            "type": "scatter3d"
           }
          ],
          "scattercarpet": [
           {
            "marker": {
             "colorbar": {
              "outlinewidth": 0,
              "ticks": ""
             }
            },
            "type": "scattercarpet"
           }
          ],
          "scattergeo": [
           {
            "marker": {
             "colorbar": {
              "outlinewidth": 0,
              "ticks": ""
             }
            },
            "type": "scattergeo"
           }
          ],
          "scattergl": [
           {
            "marker": {
             "colorbar": {
              "outlinewidth": 0,
              "ticks": ""
             }
            },
            "type": "scattergl"
           }
          ],
          "scattermapbox": [
           {
            "marker": {
             "colorbar": {
              "outlinewidth": 0,
              "ticks": ""
             }
            },
            "type": "scattermapbox"
           }
          ],
          "scatterpolar": [
           {
            "marker": {
             "colorbar": {
              "outlinewidth": 0,
              "ticks": ""
             }
            },
            "type": "scatterpolar"
           }
          ],
          "scatterpolargl": [
           {
            "marker": {
             "colorbar": {
              "outlinewidth": 0,
              "ticks": ""
             }
            },
            "type": "scatterpolargl"
           }
          ],
          "scatterternary": [
           {
            "marker": {
             "colorbar": {
              "outlinewidth": 0,
              "ticks": ""
             }
            },
            "type": "scatterternary"
           }
          ],
          "surface": [
           {
            "colorbar": {
             "outlinewidth": 0,
             "ticks": ""
            },
            "colorscale": [
             [
              0,
              "#0d0887"
             ],
             [
              0.1111111111111111,
              "#46039f"
             ],
             [
              0.2222222222222222,
              "#7201a8"
             ],
             [
              0.3333333333333333,
              "#9c179e"
             ],
             [
              0.4444444444444444,
              "#bd3786"
             ],
             [
              0.5555555555555556,
              "#d8576b"
             ],
             [
              0.6666666666666666,
              "#ed7953"
             ],
             [
              0.7777777777777778,
              "#fb9f3a"
             ],
             [
              0.8888888888888888,
              "#fdca26"
             ],
             [
              1,
              "#f0f921"
             ]
            ],
            "type": "surface"
           }
          ],
          "table": [
           {
            "cells": {
             "fill": {
              "color": "#EBF0F8"
             },
             "line": {
              "color": "white"
             }
            },
            "header": {
             "fill": {
              "color": "#C8D4E3"
             },
             "line": {
              "color": "white"
             }
            },
            "type": "table"
           }
          ]
         },
         "layout": {
          "annotationdefaults": {
           "arrowcolor": "#2a3f5f",
           "arrowhead": 0,
           "arrowwidth": 1
          },
          "autotypenumbers": "strict",
          "coloraxis": {
           "colorbar": {
            "outlinewidth": 0,
            "ticks": ""
           }
          },
          "colorscale": {
           "diverging": [
            [
             0,
             "#8e0152"
            ],
            [
             0.1,
             "#c51b7d"
            ],
            [
             0.2,
             "#de77ae"
            ],
            [
             0.3,
             "#f1b6da"
            ],
            [
             0.4,
             "#fde0ef"
            ],
            [
             0.5,
             "#f7f7f7"
            ],
            [
             0.6,
             "#e6f5d0"
            ],
            [
             0.7,
             "#b8e186"
            ],
            [
             0.8,
             "#7fbc41"
            ],
            [
             0.9,
             "#4d9221"
            ],
            [
             1,
             "#276419"
            ]
           ],
           "sequential": [
            [
             0,
             "#0d0887"
            ],
            [
             0.1111111111111111,
             "#46039f"
            ],
            [
             0.2222222222222222,
             "#7201a8"
            ],
            [
             0.3333333333333333,
             "#9c179e"
            ],
            [
             0.4444444444444444,
             "#bd3786"
            ],
            [
             0.5555555555555556,
             "#d8576b"
            ],
            [
             0.6666666666666666,
             "#ed7953"
            ],
            [
             0.7777777777777778,
             "#fb9f3a"
            ],
            [
             0.8888888888888888,
             "#fdca26"
            ],
            [
             1,
             "#f0f921"
            ]
           ],
           "sequentialminus": [
            [
             0,
             "#0d0887"
            ],
            [
             0.1111111111111111,
             "#46039f"
            ],
            [
             0.2222222222222222,
             "#7201a8"
            ],
            [
             0.3333333333333333,
             "#9c179e"
            ],
            [
             0.4444444444444444,
             "#bd3786"
            ],
            [
             0.5555555555555556,
             "#d8576b"
            ],
            [
             0.6666666666666666,
             "#ed7953"
            ],
            [
             0.7777777777777778,
             "#fb9f3a"
            ],
            [
             0.8888888888888888,
             "#fdca26"
            ],
            [
             1,
             "#f0f921"
            ]
           ]
          },
          "colorway": [
           "#636efa",
           "#EF553B",
           "#00cc96",
           "#ab63fa",
           "#FFA15A",
           "#19d3f3",
           "#FF6692",
           "#B6E880",
           "#FF97FF",
           "#FECB52"
          ],
          "font": {
           "color": "#2a3f5f"
          },
          "geo": {
           "bgcolor": "white",
           "lakecolor": "white",
           "landcolor": "#E5ECF6",
           "showlakes": true,
           "showland": true,
           "subunitcolor": "white"
          },
          "hoverlabel": {
           "align": "left"
          },
          "hovermode": "closest",
          "mapbox": {
           "style": "light"
          },
          "paper_bgcolor": "white",
          "plot_bgcolor": "#E5ECF6",
          "polar": {
           "angularaxis": {
            "gridcolor": "white",
            "linecolor": "white",
            "ticks": ""
           },
           "bgcolor": "#E5ECF6",
           "radialaxis": {
            "gridcolor": "white",
            "linecolor": "white",
            "ticks": ""
           }
          },
          "scene": {
           "xaxis": {
            "backgroundcolor": "#E5ECF6",
            "gridcolor": "white",
            "gridwidth": 2,
            "linecolor": "white",
            "showbackground": true,
            "ticks": "",
            "zerolinecolor": "white"
           },
           "yaxis": {
            "backgroundcolor": "#E5ECF6",
            "gridcolor": "white",
            "gridwidth": 2,
            "linecolor": "white",
            "showbackground": true,
            "ticks": "",
            "zerolinecolor": "white"
           },
           "zaxis": {
            "backgroundcolor": "#E5ECF6",
            "gridcolor": "white",
            "gridwidth": 2,
            "linecolor": "white",
            "showbackground": true,
            "ticks": "",
            "zerolinecolor": "white"
           }
          },
          "shapedefaults": {
           "line": {
            "color": "#2a3f5f"
           }
          },
          "ternary": {
           "aaxis": {
            "gridcolor": "white",
            "linecolor": "white",
            "ticks": ""
           },
           "baxis": {
            "gridcolor": "white",
            "linecolor": "white",
            "ticks": ""
           },
           "bgcolor": "#E5ECF6",
           "caxis": {
            "gridcolor": "white",
            "linecolor": "white",
            "ticks": ""
           }
          },
          "title": {
           "x": 0.05
          },
          "xaxis": {
           "automargin": true,
           "gridcolor": "white",
           "linecolor": "white",
           "ticks": "",
           "title": {
            "standoff": 15
           },
           "zerolinecolor": "white",
           "zerolinewidth": 2
          },
          "yaxis": {
           "automargin": true,
           "gridcolor": "white",
           "linecolor": "white",
           "ticks": "",
           "title": {
            "standoff": 15
           },
           "zerolinecolor": "white",
           "zerolinewidth": 2
          }
         }
        }
       }
      }
     },
     "metadata": {},
     "output_type": "display_data"
    }
   ],
   "source": [
    "fig = go.Figure()\n",
    "fig.add_trace(go.Scatter(x=x, y=y, mode='markers'))\n",
    "fig.add_trace(go.Scatter(x=x, y=yhat[:, 0]))"
   ]
  },
  {
   "cell_type": "markdown",
   "id": "29e481e8",
   "metadata": {},
   "source": [
    "There is still some curvature.  We can introduce additional polynomial terms to try to improve the fit of our model."
   ]
  },
  {
   "cell_type": "code",
   "execution_count": 28,
   "id": "6b587f74",
   "metadata": {},
   "outputs": [],
   "source": [
    "def phi_curved(X):\n",
    "    return np.hstack([\n",
    "        X,\n",
    "        X ** 2,\n",
    "    ])"
   ]
  },
  {
   "cell_type": "markdown",
   "id": "2b6a5a70",
   "metadata": {},
   "source": [
    "Can you guess the new number of features?"
   ]
  },
  {
   "cell_type": "code",
   "execution_count": 29,
   "id": "8b998610",
   "metadata": {},
   "outputs": [
    {
     "data": {
      "text/plain": [
       "(100, 2)"
      ]
     },
     "execution_count": 29,
     "metadata": {},
     "output_type": "execute_result"
    }
   ],
   "source": [
    "phi_curved(x[:, None]).shape"
   ]
  },
  {
   "cell_type": "code",
   "execution_count": 30,
   "id": "152e33d3",
   "metadata": {},
   "outputs": [
    {
     "data": {
      "text/plain": [
       "array([[  16.08269334,   -2.4041847 ,   16.08269334,    0.55845099,\n",
       "          23.11888243,   -2.07165755, -138.06463738]])"
      ]
     },
     "execution_count": 30,
     "metadata": {},
     "output_type": "execute_result"
    }
   ],
   "source": [
    "crazy_model = LinearRegression()\n",
    "crazy_model.fit(phi_curved_and_periodic(x[:, None]), y[:, None])\n",
    "crazy_model.coef_"
   ]
  },
  {
   "cell_type": "code",
   "execution_count": 31,
   "id": "1c151e19",
   "metadata": {
    "scrolled": false
   },
   "outputs": [
    {
     "name": "stdout",
     "output_type": "stream",
     "text": [
      "Mean Squared Error: 7.193706299826485\n",
      "Mean Absolute Error: 2.2120749357744973\n",
      "Root Mean Squared Error: 2.682108554817736\n"
     ]
    }
   ],
   "source": [
    "yhat2 = crazy_model.predict(phi_curved_and_periodic(x[:, None]))\n",
    "print(\"Mean Squared Error:\", mean_squared_error(y, yhat2))\n",
    "print(\"Mean Absolute Error:\", mean_absolute_error(y, yhat2))\n",
    "print(\"Root Mean Squared Error:\", np.sqrt(mean_squared_error(y, yhat2)))"
   ]
  },
  {
   "cell_type": "code",
   "execution_count": 32,
   "id": "924d6416",
   "metadata": {},
   "outputs": [
    {
     "data": {
      "application/vnd.plotly.v1+json": {
       "config": {
        "plotlyServerURL": "https://plot.ly"
       },
       "data": [
        {
         "mode": "markers",
         "type": "scatter",
         "x": [
          5.300502119259215,
          9.951753465397935,
          6.043832466761199,
          5.569283332370492,
          2.9146160949590607,
          9.271603435884433,
          5.914531903300732,
          1.5132283739447516,
          9.92808742201014,
          4.125092394649583,
          3.192652978750503,
          2.1070683590704373,
          6.698205793534146,
          8.636097960763747,
          3.1645927098130167,
          4.900215996198379,
          4.009116180850924,
          1.439008126138176,
          7.97301741496239,
          1.5278916617709615,
          5.855761923290135,
          3.9903789881688976,
          5.265105618813287,
          2.3149587253110604,
          5.594743261559545,
          7.892445553547395,
          7.969217048079767,
          1.2246458733046073,
          9.2138433554845,
          2.4179808113957546,
          8.961727675569174,
          7.403248714950471,
          5.981446438226966,
          0.5673604947507149,
          9.811408364315584,
          0.5411359020217588,
          0.05769997328642362,
          2.4020855376790373,
          3.006713702268783,
          5.234226949932383,
          8.81095976686752,
          8.727064479357715,
          8.518464675394435,
          0.9364277788085218,
          9.182517929345254,
          4.662879176580791,
          9.251311180643517,
          5.817647999406624,
          0.6267114800274942,
          5.714478298040837,
          3.1688021070152352,
          9.45365015461519,
          3.915256393748987,
          2.390833762993098,
          9.725698857079427,
          0.7013649944682865,
          2.135732903426135,
          6.312098492551637,
          7.412054967495286,
          6.305199513414962,
          9.839043682598309,
          2.0502187948799233,
          8.981897850880053,
          7.528917293354224,
          0.0930315162780071,
          8.051684747227682,
          3.899953024895498,
          1.1957317355153674,
          9.702953445163393,
          2.4836942546809837,
          3.86931572134545,
          9.477656398103875,
          1.4387976714050354,
          5.163125306230536,
          1.3223066714107312,
          8.55122753313175,
          0.8041219641725139,
          4.790129527894875,
          5.121544108141597,
          3.8047620069820267,
          9.13021060644997,
          9.4185062308658,
          7.394451206243139,
          4.984229163316671,
          5.996968381566318,
          4.823645235873811,
          6.574440443010213,
          6.002110965557241,
          5.066390527751601,
          9.003994025077295,
          3.0193055919108924,
          6.934877536703922,
          6.631583148359862,
          4.74008282704208,
          0.2656732283992136,
          5.891119429210148,
          6.5755788183670525,
          4.927374767503029,
          8.505652330920872,
          2.614691815279808
         ],
         "y": [
          36.40648422305408,
          101.62842576964123,
          39.51000645590002,
          38.452275601584276,
          11.07909795692975,
          91.25220510390531,
          37.54610574294629,
          9.291969119651553,
          101.24246639253028,
          26.49898264500493,
          15.14472699820687,
          12.752136551096399,
          45.09903082099812,
          84.26794252103642,
          14.585732843010334,
          24.58548684811182,
          18.580825504894253,
          11.211712014708432,
          69.02889785063361,
          12.321992048779368,
          40.41751267652832,
          22.48874185196278,
          31.54799654163937,
          11.797553752256682,
          34.08039150373516,
          66.31837574759712,
          67.46594220333454,
          6.226141537761359,
          90.66850789842738,
          12.471246844696882,
          86.34898435397974,
          64.00807460863088,
          36.21554008887356,
          6.887291460223721,
          104.78353742477874,
          7.299560515827862,
          5.573761706043327,
          11.542876203701582,
          15.812648243940524,
          35.09637068099378,
          82.63223901160322,
          83.83048590068374,
          72.59191358227604,
          2.4348463452403384,
          92.31251491398136,
          31.6989316058672,
          91.42710910139644,
          42.75841098524397,
          4.077576263869404,
          42.09644424892092,
          12.242331575793504,
          98.03560118441725,
          22.202455205851578,
          12.941358926623273,
          99.09746361425343,
          1.728239054564521,
          11.243857873206151,
          45.501123121378825,
          55.38285658167975,
          42.87767331698,
          99.93445749696824,
          10.657975198816153,
          89.87858412868059,
          64.68760822652374,
          4.646474456028441,
          66.34927522543161,
          19.512668893513663,
          3.4523910481733564,
          95.37645933918094,
          14.068127042773124,
          21.692504374662,
          92.77248874202051,
          6.097395601022472,
          28.444339872298276,
          7.760809950424362,
          81.78550873232825,
          7.636303201585125,
          23.727809660823148,
          26.968743554717594,
          20.037728696182405,
          87.19538915315647,
          90.1970700202685,
          58.422962898505595,
          27.672645023228092,
          41.04569566880031,
          29.135448188082258,
          48.31751168687508,
          36.33591990037749,
          34.77075409746998,
          91.0069349785999,
          15.667504664370503,
          49.053439407474855,
          51.950716079160486,
          29.05092481580914,
          8.92408850144773,
          40.078839167866725,
          52.710442104186605,
          30.3012451937313,
          76.43888125468798,
          11.151570367038163
         ]
        },
        {
         "mode": "markers",
         "type": "scatter",
         "x": [
          5.300502119259215,
          9.951753465397935,
          6.043832466761199,
          5.569283332370492,
          2.9146160949590607,
          9.271603435884433,
          5.914531903300732,
          1.5132283739447516,
          9.92808742201014,
          4.125092394649583,
          3.192652978750503,
          2.1070683590704373,
          6.698205793534146,
          8.636097960763747,
          3.1645927098130167,
          4.900215996198379,
          4.009116180850924,
          1.439008126138176,
          7.97301741496239,
          1.5278916617709615,
          5.855761923290135,
          3.9903789881688976,
          5.265105618813287,
          2.3149587253110604,
          5.594743261559545,
          7.892445553547395,
          7.969217048079767,
          1.2246458733046073,
          9.2138433554845,
          2.4179808113957546,
          8.961727675569174,
          7.403248714950471,
          5.981446438226966,
          0.5673604947507149,
          9.811408364315584,
          0.5411359020217588,
          0.05769997328642362,
          2.4020855376790373,
          3.006713702268783,
          5.234226949932383,
          8.81095976686752,
          8.727064479357715,
          8.518464675394435,
          0.9364277788085218,
          9.182517929345254,
          4.662879176580791,
          9.251311180643517,
          5.817647999406624,
          0.6267114800274942,
          5.714478298040837,
          3.1688021070152352,
          9.45365015461519,
          3.915256393748987,
          2.390833762993098,
          9.725698857079427,
          0.7013649944682865,
          2.135732903426135,
          6.312098492551637,
          7.412054967495286,
          6.305199513414962,
          9.839043682598309,
          2.0502187948799233,
          8.981897850880053,
          7.528917293354224,
          0.0930315162780071,
          8.051684747227682,
          3.899953024895498,
          1.1957317355153674,
          9.702953445163393,
          2.4836942546809837,
          3.86931572134545,
          9.477656398103875,
          1.4387976714050354,
          5.163125306230536,
          1.3223066714107312,
          8.55122753313175,
          0.8041219641725139,
          4.790129527894875,
          5.121544108141597,
          3.8047620069820267,
          9.13021060644997,
          9.4185062308658,
          7.394451206243139,
          4.984229163316671,
          5.996968381566318,
          4.823645235873811,
          6.574440443010213,
          6.002110965557241,
          5.066390527751601,
          9.003994025077295,
          3.0193055919108924,
          6.934877536703922,
          6.631583148359862,
          4.74008282704208,
          0.2656732283992136,
          5.891119429210148,
          6.5755788183670525,
          4.927374767503029,
          8.505652330920872,
          2.614691815279808
         ],
         "y": [
          33.02143518450529,
          102.44443055485249,
          40.94985278244426,
          35.733747080164406,
          14.336304968305654,
          91.57818638080602,
          39.46999385843236,
          8.132664307077299,
          102.09450089561764,
          22.725060473188584,
          16.049106192247564,
          10.244594007656517,
          49.1912515070311,
          80.5019036444706,
          15.86985388896035,
          29.255904240757268,
          21.823952551431155,
          7.919015655415748,
          68.92147472393124,
          8.176097031320722,
          38.81238560060024,
          21.68017119736932,
          32.675877605285024,
          11.164313108309763,
          35.99917712134884,
          67.55272718432516,
          68.85664659510924,
          7.356329752964612,
          90.5945719300235,
          11.655232624825196,
          86.2328984334783,
          59.55003223129254,
          40.230085395234696,
          5.987780459634607,
          100.33496176617915,
          5.938798761961834,
          4.986796792400121,
          11.577981866515032,
          14.887778790111952,
          32.37652350722741,
          83.58720345235396,
          82.10821510910498,
          78.42439665311346,
          6.706827144262732,
          90.05833289308737,
          27.15793282717008,
          91.23341253783552,
          38.39079733797012,
          6.099003283011413,
          37.26843543659848,
          15.896655119842336,
          94.62801750108078,
          21.10877056092756,
          11.523629758693446,
          99.00809512531062,
          6.2403322325312445,
          10.36574419229116,
          44.172037385980445,
          59.68874394601468,
          44.08651568365224,
          100.75672273752316,
          10.00967903675081,
          86.58517429847188,
          61.54940511296014,
          5.06332417320521,
          70.26897860398755,
          20.993366036903808,
          7.286117919993998,
          98.65137550021299,
          11.980390667841611,
          20.763345331459305,
          95.02376281699868,
          7.91842429652489,
          31.694502475791637,
          7.603127817450805,
          79.00279765057093,
          6.439289879823079,
          28.27121236836406,
          31.30024409351627,
          20.28315826494,
          89.15889724339999,
          94.04579298693936,
          59.4116725196142,
          30.021451527812758,
          40.40815570530195,
          28.56883601117481,
          47.53193327339949,
          40.46729937297762,
          30.782395442240357,
          86.97053440890612,
          14.964423621338284,
          52.49838300872406,
          48.29207170370741,
          27.830243174203467,
          5.416346741165846,
          39.20691381847901,
          47.54697671333052,
          29.502022103364325,
          78.19829050882831,
          12.656090082840024
         ]
        }
       ],
       "layout": {
        "template": {
         "data": {
          "bar": [
           {
            "error_x": {
             "color": "#2a3f5f"
            },
            "error_y": {
             "color": "#2a3f5f"
            },
            "marker": {
             "line": {
              "color": "#E5ECF6",
              "width": 0.5
             },
             "pattern": {
              "fillmode": "overlay",
              "size": 10,
              "solidity": 0.2
             }
            },
            "type": "bar"
           }
          ],
          "barpolar": [
           {
            "marker": {
             "line": {
              "color": "#E5ECF6",
              "width": 0.5
             },
             "pattern": {
              "fillmode": "overlay",
              "size": 10,
              "solidity": 0.2
             }
            },
            "type": "barpolar"
           }
          ],
          "carpet": [
           {
            "aaxis": {
             "endlinecolor": "#2a3f5f",
             "gridcolor": "white",
             "linecolor": "white",
             "minorgridcolor": "white",
             "startlinecolor": "#2a3f5f"
            },
            "baxis": {
             "endlinecolor": "#2a3f5f",
             "gridcolor": "white",
             "linecolor": "white",
             "minorgridcolor": "white",
             "startlinecolor": "#2a3f5f"
            },
            "type": "carpet"
           }
          ],
          "choropleth": [
           {
            "colorbar": {
             "outlinewidth": 0,
             "ticks": ""
            },
            "type": "choropleth"
           }
          ],
          "contour": [
           {
            "colorbar": {
             "outlinewidth": 0,
             "ticks": ""
            },
            "colorscale": [
             [
              0,
              "#0d0887"
             ],
             [
              0.1111111111111111,
              "#46039f"
             ],
             [
              0.2222222222222222,
              "#7201a8"
             ],
             [
              0.3333333333333333,
              "#9c179e"
             ],
             [
              0.4444444444444444,
              "#bd3786"
             ],
             [
              0.5555555555555556,
              "#d8576b"
             ],
             [
              0.6666666666666666,
              "#ed7953"
             ],
             [
              0.7777777777777778,
              "#fb9f3a"
             ],
             [
              0.8888888888888888,
              "#fdca26"
             ],
             [
              1,
              "#f0f921"
             ]
            ],
            "type": "contour"
           }
          ],
          "contourcarpet": [
           {
            "colorbar": {
             "outlinewidth": 0,
             "ticks": ""
            },
            "type": "contourcarpet"
           }
          ],
          "heatmap": [
           {
            "colorbar": {
             "outlinewidth": 0,
             "ticks": ""
            },
            "colorscale": [
             [
              0,
              "#0d0887"
             ],
             [
              0.1111111111111111,
              "#46039f"
             ],
             [
              0.2222222222222222,
              "#7201a8"
             ],
             [
              0.3333333333333333,
              "#9c179e"
             ],
             [
              0.4444444444444444,
              "#bd3786"
             ],
             [
              0.5555555555555556,
              "#d8576b"
             ],
             [
              0.6666666666666666,
              "#ed7953"
             ],
             [
              0.7777777777777778,
              "#fb9f3a"
             ],
             [
              0.8888888888888888,
              "#fdca26"
             ],
             [
              1,
              "#f0f921"
             ]
            ],
            "type": "heatmap"
           }
          ],
          "heatmapgl": [
           {
            "colorbar": {
             "outlinewidth": 0,
             "ticks": ""
            },
            "colorscale": [
             [
              0,
              "#0d0887"
             ],
             [
              0.1111111111111111,
              "#46039f"
             ],
             [
              0.2222222222222222,
              "#7201a8"
             ],
             [
              0.3333333333333333,
              "#9c179e"
             ],
             [
              0.4444444444444444,
              "#bd3786"
             ],
             [
              0.5555555555555556,
              "#d8576b"
             ],
             [
              0.6666666666666666,
              "#ed7953"
             ],
             [
              0.7777777777777778,
              "#fb9f3a"
             ],
             [
              0.8888888888888888,
              "#fdca26"
             ],
             [
              1,
              "#f0f921"
             ]
            ],
            "type": "heatmapgl"
           }
          ],
          "histogram": [
           {
            "marker": {
             "pattern": {
              "fillmode": "overlay",
              "size": 10,
              "solidity": 0.2
             }
            },
            "type": "histogram"
           }
          ],
          "histogram2d": [
           {
            "colorbar": {
             "outlinewidth": 0,
             "ticks": ""
            },
            "colorscale": [
             [
              0,
              "#0d0887"
             ],
             [
              0.1111111111111111,
              "#46039f"
             ],
             [
              0.2222222222222222,
              "#7201a8"
             ],
             [
              0.3333333333333333,
              "#9c179e"
             ],
             [
              0.4444444444444444,
              "#bd3786"
             ],
             [
              0.5555555555555556,
              "#d8576b"
             ],
             [
              0.6666666666666666,
              "#ed7953"
             ],
             [
              0.7777777777777778,
              "#fb9f3a"
             ],
             [
              0.8888888888888888,
              "#fdca26"
             ],
             [
              1,
              "#f0f921"
             ]
            ],
            "type": "histogram2d"
           }
          ],
          "histogram2dcontour": [
           {
            "colorbar": {
             "outlinewidth": 0,
             "ticks": ""
            },
            "colorscale": [
             [
              0,
              "#0d0887"
             ],
             [
              0.1111111111111111,
              "#46039f"
             ],
             [
              0.2222222222222222,
              "#7201a8"
             ],
             [
              0.3333333333333333,
              "#9c179e"
             ],
             [
              0.4444444444444444,
              "#bd3786"
             ],
             [
              0.5555555555555556,
              "#d8576b"
             ],
             [
              0.6666666666666666,
              "#ed7953"
             ],
             [
              0.7777777777777778,
              "#fb9f3a"
             ],
             [
              0.8888888888888888,
              "#fdca26"
             ],
             [
              1,
              "#f0f921"
             ]
            ],
            "type": "histogram2dcontour"
           }
          ],
          "mesh3d": [
           {
            "colorbar": {
             "outlinewidth": 0,
             "ticks": ""
            },
            "type": "mesh3d"
           }
          ],
          "parcoords": [
           {
            "line": {
             "colorbar": {
              "outlinewidth": 0,
              "ticks": ""
             }
            },
            "type": "parcoords"
           }
          ],
          "pie": [
           {
            "automargin": true,
            "type": "pie"
           }
          ],
          "scatter": [
           {
            "marker": {
             "colorbar": {
              "outlinewidth": 0,
              "ticks": ""
             }
            },
            "type": "scatter"
           }
          ],
          "scatter3d": [
           {
            "line": {
             "colorbar": {
              "outlinewidth": 0,
              "ticks": ""
             }
            },
            "marker": {
             "colorbar": {
              "outlinewidth": 0,
              "ticks": ""
             }
            },
            "type": "scatter3d"
           }
          ],
          "scattercarpet": [
           {
            "marker": {
             "colorbar": {
              "outlinewidth": 0,
              "ticks": ""
             }
            },
            "type": "scattercarpet"
           }
          ],
          "scattergeo": [
           {
            "marker": {
             "colorbar": {
              "outlinewidth": 0,
              "ticks": ""
             }
            },
            "type": "scattergeo"
           }
          ],
          "scattergl": [
           {
            "marker": {
             "colorbar": {
              "outlinewidth": 0,
              "ticks": ""
             }
            },
            "type": "scattergl"
           }
          ],
          "scattermapbox": [
           {
            "marker": {
             "colorbar": {
              "outlinewidth": 0,
              "ticks": ""
             }
            },
            "type": "scattermapbox"
           }
          ],
          "scatterpolar": [
           {
            "marker": {
             "colorbar": {
              "outlinewidth": 0,
              "ticks": ""
             }
            },
            "type": "scatterpolar"
           }
          ],
          "scatterpolargl": [
           {
            "marker": {
             "colorbar": {
              "outlinewidth": 0,
              "ticks": ""
             }
            },
            "type": "scatterpolargl"
           }
          ],
          "scatterternary": [
           {
            "marker": {
             "colorbar": {
              "outlinewidth": 0,
              "ticks": ""
             }
            },
            "type": "scatterternary"
           }
          ],
          "surface": [
           {
            "colorbar": {
             "outlinewidth": 0,
             "ticks": ""
            },
            "colorscale": [
             [
              0,
              "#0d0887"
             ],
             [
              0.1111111111111111,
              "#46039f"
             ],
             [
              0.2222222222222222,
              "#7201a8"
             ],
             [
              0.3333333333333333,
              "#9c179e"
             ],
             [
              0.4444444444444444,
              "#bd3786"
             ],
             [
              0.5555555555555556,
              "#d8576b"
             ],
             [
              0.6666666666666666,
              "#ed7953"
             ],
             [
              0.7777777777777778,
              "#fb9f3a"
             ],
             [
              0.8888888888888888,
              "#fdca26"
             ],
             [
              1,
              "#f0f921"
             ]
            ],
            "type": "surface"
           }
          ],
          "table": [
           {
            "cells": {
             "fill": {
              "color": "#EBF0F8"
             },
             "line": {
              "color": "white"
             }
            },
            "header": {
             "fill": {
              "color": "#C8D4E3"
             },
             "line": {
              "color": "white"
             }
            },
            "type": "table"
           }
          ]
         },
         "layout": {
          "annotationdefaults": {
           "arrowcolor": "#2a3f5f",
           "arrowhead": 0,
           "arrowwidth": 1
          },
          "autotypenumbers": "strict",
          "coloraxis": {
           "colorbar": {
            "outlinewidth": 0,
            "ticks": ""
           }
          },
          "colorscale": {
           "diverging": [
            [
             0,
             "#8e0152"
            ],
            [
             0.1,
             "#c51b7d"
            ],
            [
             0.2,
             "#de77ae"
            ],
            [
             0.3,
             "#f1b6da"
            ],
            [
             0.4,
             "#fde0ef"
            ],
            [
             0.5,
             "#f7f7f7"
            ],
            [
             0.6,
             "#e6f5d0"
            ],
            [
             0.7,
             "#b8e186"
            ],
            [
             0.8,
             "#7fbc41"
            ],
            [
             0.9,
             "#4d9221"
            ],
            [
             1,
             "#276419"
            ]
           ],
           "sequential": [
            [
             0,
             "#0d0887"
            ],
            [
             0.1111111111111111,
             "#46039f"
            ],
            [
             0.2222222222222222,
             "#7201a8"
            ],
            [
             0.3333333333333333,
             "#9c179e"
            ],
            [
             0.4444444444444444,
             "#bd3786"
            ],
            [
             0.5555555555555556,
             "#d8576b"
            ],
            [
             0.6666666666666666,
             "#ed7953"
            ],
            [
             0.7777777777777778,
             "#fb9f3a"
            ],
            [
             0.8888888888888888,
             "#fdca26"
            ],
            [
             1,
             "#f0f921"
            ]
           ],
           "sequentialminus": [
            [
             0,
             "#0d0887"
            ],
            [
             0.1111111111111111,
             "#46039f"
            ],
            [
             0.2222222222222222,
             "#7201a8"
            ],
            [
             0.3333333333333333,
             "#9c179e"
            ],
            [
             0.4444444444444444,
             "#bd3786"
            ],
            [
             0.5555555555555556,
             "#d8576b"
            ],
            [
             0.6666666666666666,
             "#ed7953"
            ],
            [
             0.7777777777777778,
             "#fb9f3a"
            ],
            [
             0.8888888888888888,
             "#fdca26"
            ],
            [
             1,
             "#f0f921"
            ]
           ]
          },
          "colorway": [
           "#636efa",
           "#EF553B",
           "#00cc96",
           "#ab63fa",
           "#FFA15A",
           "#19d3f3",
           "#FF6692",
           "#B6E880",
           "#FF97FF",
           "#FECB52"
          ],
          "font": {
           "color": "#2a3f5f"
          },
          "geo": {
           "bgcolor": "white",
           "lakecolor": "white",
           "landcolor": "#E5ECF6",
           "showlakes": true,
           "showland": true,
           "subunitcolor": "white"
          },
          "hoverlabel": {
           "align": "left"
          },
          "hovermode": "closest",
          "mapbox": {
           "style": "light"
          },
          "paper_bgcolor": "white",
          "plot_bgcolor": "#E5ECF6",
          "polar": {
           "angularaxis": {
            "gridcolor": "white",
            "linecolor": "white",
            "ticks": ""
           },
           "bgcolor": "#E5ECF6",
           "radialaxis": {
            "gridcolor": "white",
            "linecolor": "white",
            "ticks": ""
           }
          },
          "scene": {
           "xaxis": {
            "backgroundcolor": "#E5ECF6",
            "gridcolor": "white",
            "gridwidth": 2,
            "linecolor": "white",
            "showbackground": true,
            "ticks": "",
            "zerolinecolor": "white"
           },
           "yaxis": {
            "backgroundcolor": "#E5ECF6",
            "gridcolor": "white",
            "gridwidth": 2,
            "linecolor": "white",
            "showbackground": true,
            "ticks": "",
            "zerolinecolor": "white"
           },
           "zaxis": {
            "backgroundcolor": "#E5ECF6",
            "gridcolor": "white",
            "gridwidth": 2,
            "linecolor": "white",
            "showbackground": true,
            "ticks": "",
            "zerolinecolor": "white"
           }
          },
          "shapedefaults": {
           "line": {
            "color": "#2a3f5f"
           }
          },
          "ternary": {
           "aaxis": {
            "gridcolor": "white",
            "linecolor": "white",
            "ticks": ""
           },
           "baxis": {
            "gridcolor": "white",
            "linecolor": "white",
            "ticks": ""
           },
           "bgcolor": "#E5ECF6",
           "caxis": {
            "gridcolor": "white",
            "linecolor": "white",
            "ticks": ""
           }
          },
          "title": {
           "x": 0.05
          },
          "xaxis": {
           "automargin": true,
           "gridcolor": "white",
           "linecolor": "white",
           "ticks": "",
           "title": {
            "standoff": 15
           },
           "zerolinecolor": "white",
           "zerolinewidth": 2
          },
          "yaxis": {
           "automargin": true,
           "gridcolor": "white",
           "linecolor": "white",
           "ticks": "",
           "title": {
            "standoff": 15
           },
           "zerolinecolor": "white",
           "zerolinewidth": 2
          }
         }
        }
       }
      }
     },
     "metadata": {},
     "output_type": "display_data"
    }
   ],
   "source": [
    "fig = go.Figure()\n",
    "fig.add_trace(go.Scatter(x=x, y=y, mode='markers'))\n",
    "fig.add_trace(go.Scatter(x=x, y=yhat2[:, 0], mode='markers'))"
   ]
  }
 ],
 "metadata": {
  "kernelspec": {
   "display_name": "Python 3 (ipykernel)",
   "language": "python",
   "name": "python3"
  },
  "language_info": {
   "codemirror_mode": {
    "name": "ipython",
    "version": 3
   },
   "file_extension": ".py",
   "mimetype": "text/x-python",
   "name": "python",
   "nbconvert_exporter": "python",
   "pygments_lexer": "ipython3",
   "version": "3.8.6"
  }
 },
 "nbformat": 4,
 "nbformat_minor": 5
}
